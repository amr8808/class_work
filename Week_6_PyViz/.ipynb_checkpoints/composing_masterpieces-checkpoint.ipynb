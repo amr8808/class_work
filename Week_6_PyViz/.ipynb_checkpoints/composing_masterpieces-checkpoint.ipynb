{
 "cells": [
  {
   "cell_type": "markdown",
   "metadata": {},
   "source": [
    "# Composing Masterpieces"
   ]
  },
  {
   "cell_type": "markdown",
   "metadata": {},
   "source": [
    "You've been offered the opportunity to interview with REMAX, an international real estate company. The interview is for a Data Analyst role, which requires both development and visualization skills. All applicants are required to present a portfolio upon interview. You currently do not have a portfolio, so use the provided state loan data to come up with some snazzy visualizations to showcase in the interview."
   ]
  },
  {
   "cell_type": "code",
   "execution_count": 5,
   "metadata": {},
   "outputs": [],
   "source": [
    "import pandas as pd\n",
    "import hvplot.pandas\n",
    "from pathlib import Path"
   ]
  },
  {
   "cell_type": "markdown",
   "metadata": {},
   "source": [
    "### Prep the data"
   ]
  },
  {
   "cell_type": "code",
   "execution_count": 7,
   "metadata": {},
   "outputs": [
    {
     "data": {
      "text/html": [
       "<div>\n",
       "<style scoped>\n",
       "    .dataframe tbody tr th:only-of-type {\n",
       "        vertical-align: middle;\n",
       "    }\n",
       "\n",
       "    .dataframe tbody tr th {\n",
       "        vertical-align: top;\n",
       "    }\n",
       "\n",
       "    .dataframe thead th {\n",
       "        text-align: right;\n",
       "    }\n",
       "</style>\n",
       "<table border=\"1\" class=\"dataframe\">\n",
       "  <thead>\n",
       "    <tr style=\"text-align: right;\">\n",
       "      <th></th>\n",
       "      <th>Total Active Loans</th>\n",
       "      <th>Total Average Loan Amount</th>\n",
       "      <th>2015 - 2016</th>\n",
       "      <th>2010 - 2014</th>\n",
       "      <th>Self Help Loan</th>\n",
       "      <th>Leveraged Loan</th>\n",
       "      <th>State Code</th>\n",
       "    </tr>\n",
       "  </thead>\n",
       "  <tbody>\n",
       "    <tr>\n",
       "      <th>0</th>\n",
       "      <td>1024</td>\n",
       "      <td>67473.63</td>\n",
       "      <td>89588.61</td>\n",
       "      <td>100856.59</td>\n",
       "      <td>0</td>\n",
       "      <td>138</td>\n",
       "      <td>AL</td>\n",
       "    </tr>\n",
       "    <tr>\n",
       "      <th>1</th>\n",
       "      <td>1615</td>\n",
       "      <td>52129.24</td>\n",
       "      <td>81938.03</td>\n",
       "      <td>83731.25</td>\n",
       "      <td>0</td>\n",
       "      <td>145</td>\n",
       "      <td>AL</td>\n",
       "    </tr>\n",
       "    <tr>\n",
       "      <th>2</th>\n",
       "      <td>1266</td>\n",
       "      <td>63129.38</td>\n",
       "      <td>101548.55</td>\n",
       "      <td>88090.94</td>\n",
       "      <td>0</td>\n",
       "      <td>107</td>\n",
       "      <td>AL</td>\n",
       "    </tr>\n",
       "    <tr>\n",
       "      <th>3</th>\n",
       "      <td>1215</td>\n",
       "      <td>61669.00</td>\n",
       "      <td>89444.25</td>\n",
       "      <td>87758.19</td>\n",
       "      <td>2</td>\n",
       "      <td>132</td>\n",
       "      <td>AL</td>\n",
       "    </tr>\n",
       "    <tr>\n",
       "      <th>4</th>\n",
       "      <td>669</td>\n",
       "      <td>62028.67</td>\n",
       "      <td>118792.55</td>\n",
       "      <td>91825.06</td>\n",
       "      <td>0</td>\n",
       "      <td>40</td>\n",
       "      <td>AL</td>\n",
       "    </tr>\n",
       "  </tbody>\n",
       "</table>\n",
       "</div>"
      ],
      "text/plain": [
       "   Total Active Loans  Total Average Loan Amount  2015 - 2016  2010 - 2014  \\\n",
       "0                1024                   67473.63     89588.61    100856.59   \n",
       "1                1615                   52129.24     81938.03     83731.25   \n",
       "2                1266                   63129.38    101548.55     88090.94   \n",
       "3                1215                   61669.00     89444.25     87758.19   \n",
       "4                 669                   62028.67    118792.55     91825.06   \n",
       "\n",
       "   Self Help Loan  Leveraged Loan State Code  \n",
       "0               0             138         AL  \n",
       "1               0             145         AL  \n",
       "2               0             107         AL  \n",
       "3               2             132         AL  \n",
       "4               0              40         AL  "
      ]
     },
     "execution_count": 7,
     "metadata": {},
     "output_type": "execute_result"
    }
   ],
   "source": [
    "# Read in loan data\n",
    "loan_data = pd.read_csv('state_loan_data.csv')\n",
    "loan_data.head()\n"
   ]
  },
  {
   "cell_type": "code",
   "execution_count": 8,
   "metadata": {},
   "outputs": [
    {
     "data": {
      "text/html": [
       "<div>\n",
       "<style scoped>\n",
       "    .dataframe tbody tr th:only-of-type {\n",
       "        vertical-align: middle;\n",
       "    }\n",
       "\n",
       "    .dataframe tbody tr th {\n",
       "        vertical-align: top;\n",
       "    }\n",
       "\n",
       "    .dataframe thead th {\n",
       "        text-align: right;\n",
       "    }\n",
       "</style>\n",
       "<table border=\"1\" class=\"dataframe\">\n",
       "  <thead>\n",
       "    <tr style=\"text-align: right;\">\n",
       "      <th></th>\n",
       "      <th>Total Active Loans</th>\n",
       "      <th>Total Average Loan Amount</th>\n",
       "      <th>2015 - 2016</th>\n",
       "      <th>2010 - 2014</th>\n",
       "      <th>Self Help Loan</th>\n",
       "      <th>Leveraged Loan</th>\n",
       "    </tr>\n",
       "    <tr>\n",
       "      <th>State Code</th>\n",
       "      <th></th>\n",
       "      <th></th>\n",
       "      <th></th>\n",
       "      <th></th>\n",
       "      <th></th>\n",
       "      <th></th>\n",
       "    </tr>\n",
       "  </thead>\n",
       "  <tbody>\n",
       "    <tr>\n",
       "      <th>AK</th>\n",
       "      <td>897</td>\n",
       "      <td>148811.39</td>\n",
       "      <td>189583.49</td>\n",
       "      <td>172371.39</td>\n",
       "      <td>96</td>\n",
       "      <td>450</td>\n",
       "    </tr>\n",
       "    <tr>\n",
       "      <th>AL</th>\n",
       "      <td>7455</td>\n",
       "      <td>435054.53</td>\n",
       "      <td>686066.79</td>\n",
       "      <td>648663.44</td>\n",
       "      <td>18</td>\n",
       "      <td>605</td>\n",
       "    </tr>\n",
       "    <tr>\n",
       "      <th>AR</th>\n",
       "      <td>6186</td>\n",
       "      <td>263212.27</td>\n",
       "      <td>355445.70</td>\n",
       "      <td>351562.42</td>\n",
       "      <td>861</td>\n",
       "      <td>567</td>\n",
       "    </tr>\n",
       "    <tr>\n",
       "      <th>AZ</th>\n",
       "      <td>3982</td>\n",
       "      <td>597591.94</td>\n",
       "      <td>507532.91</td>\n",
       "      <td>599688.64</td>\n",
       "      <td>1718</td>\n",
       "      <td>1057</td>\n",
       "    </tr>\n",
       "    <tr>\n",
       "      <th>CA</th>\n",
       "      <td>8875</td>\n",
       "      <td>2805653.85</td>\n",
       "      <td>3008866.40</td>\n",
       "      <td>2881741.23</td>\n",
       "      <td>4134</td>\n",
       "      <td>2231</td>\n",
       "    </tr>\n",
       "  </tbody>\n",
       "</table>\n",
       "</div>"
      ],
      "text/plain": [
       "            Total Active Loans  Total Average Loan Amount  2015 - 2016  \\\n",
       "State Code                                                               \n",
       "AK                         897                  148811.39    189583.49   \n",
       "AL                        7455                  435054.53    686066.79   \n",
       "AR                        6186                  263212.27    355445.70   \n",
       "AZ                        3982                  597591.94    507532.91   \n",
       "CA                        8875                 2805653.85   3008866.40   \n",
       "\n",
       "            2010 - 2014  Self Help Loan  Leveraged Loan  \n",
       "State Code                                               \n",
       "AK            172371.39              96             450  \n",
       "AL            648663.44              18             605  \n",
       "AR            351562.42             861             567  \n",
       "AZ            599688.64            1718            1057  \n",
       "CA           2881741.23            4134            2231  "
      ]
     },
     "execution_count": 8,
     "metadata": {},
     "output_type": "execute_result"
    }
   ],
   "source": [
    "# Group data by state for state-level analysis\n",
    "loan_data = loan_data.groupby('State Code').sum()\n",
    "loan_data.head()"
   ]
  },
  {
   "cell_type": "markdown",
   "metadata": {},
   "source": [
    "### Plot Total Average Loan Amount"
   ]
  },
  {
   "cell_type": "code",
   "execution_count": 13,
   "metadata": {},
   "outputs": [
    {
     "data": {},
     "metadata": {},
     "output_type": "display_data"
    },
    {
     "data": {
      "application/vnd.holoviews_exec.v0+json": "",
      "text/html": [
       "<div id='1002'>\n",
       "\n",
       "\n",
       "\n",
       "\n",
       "\n",
       "  <div class=\"bk-root\" id=\"98438a5f-60ee-471e-9a98-05ec7c0280b9\" data-root-id=\"1002\"></div>\n",
       "</div>\n",
       "<script type=\"application/javascript\">(function(root) {\n",
       "  function embed_document(root) {\n",
       "    var docs_json = {\"f8cdf6aa-bedd-4cf5-9d12-4a36e293f5e0\":{\"defs\":[{\"extends\":null,\"module\":null,\"name\":\"ReactiveHTML1\",\"overrides\":[],\"properties\":[]},{\"extends\":null,\"module\":null,\"name\":\"FlexBox1\",\"overrides\":[],\"properties\":[{\"default\":\"flex-start\",\"kind\":null,\"name\":\"align_content\"},{\"default\":\"flex-start\",\"kind\":null,\"name\":\"align_items\"},{\"default\":\"row\",\"kind\":null,\"name\":\"flex_direction\"},{\"default\":\"wrap\",\"kind\":null,\"name\":\"flex_wrap\"},{\"default\":\"flex-start\",\"kind\":null,\"name\":\"justify_content\"}]},{\"extends\":null,\"module\":null,\"name\":\"TemplateActions1\",\"overrides\":[],\"properties\":[{\"default\":0,\"kind\":null,\"name\":\"open_modal\"},{\"default\":0,\"kind\":null,\"name\":\"close_modal\"}]},{\"extends\":null,\"module\":null,\"name\":\"MaterialTemplateActions1\",\"overrides\":[],\"properties\":[{\"default\":0,\"kind\":null,\"name\":\"open_modal\"},{\"default\":0,\"kind\":null,\"name\":\"close_modal\"}]}],\"roots\":{\"references\":[{\"attributes\":{\"children\":[{\"id\":\"1003\"},{\"id\":\"1007\"},{\"id\":\"1071\"}],\"margin\":[0,0,0,0],\"name\":\"Row01626\",\"tags\":[\"embedded\"]},\"id\":\"1002\",\"type\":\"Row\"},{\"attributes\":{},\"id\":\"1024\",\"type\":\"PanTool\"},{\"attributes\":{},\"id\":\"1027\",\"type\":\"ResetTool\"},{\"attributes\":{},\"id\":\"1025\",\"type\":\"WheelZoomTool\"},{\"attributes\":{},\"id\":\"1050\",\"type\":\"BasicTickFormatter\"},{\"attributes\":{},\"id\":\"1020\",\"type\":\"BasicTicker\"},{\"attributes\":{\"below\":[{\"id\":\"1016\"}],\"center\":[{\"id\":\"1018\"},{\"id\":\"1022\"}],\"height\":300,\"left\":[{\"id\":\"1019\"}],\"margin\":[5,5,5,5],\"min_border_bottom\":10,\"min_border_left\":10,\"min_border_right\":10,\"min_border_top\":10,\"renderers\":[{\"id\":\"1042\"}],\"sizing_mode\":\"fixed\",\"title\":{\"id\":\"1008\"},\"toolbar\":{\"id\":\"1029\"},\"width\":700,\"x_range\":{\"id\":\"1004\"},\"x_scale\":{\"id\":\"1012\"},\"y_range\":{\"id\":\"1005\"},\"y_scale\":{\"id\":\"1014\"}},\"id\":\"1007\",\"subtype\":\"Figure\",\"type\":\"Plot\"},{\"attributes\":{\"margin\":[5,5,5,5],\"name\":\"HSpacer01630\",\"sizing_mode\":\"stretch_width\"},\"id\":\"1003\",\"type\":\"Spacer\"},{\"attributes\":{\"overlay\":{\"id\":\"1028\"}},\"id\":\"1026\",\"type\":\"BoxZoomTool\"},{\"attributes\":{\"axis\":{\"id\":\"1016\"},\"grid_line_color\":null,\"ticker\":null},\"id\":\"1018\",\"type\":\"Grid\"},{\"attributes\":{\"line_alpha\":0.1,\"line_color\":\"#30a2da\",\"line_width\":2,\"x\":{\"field\":\"State Code\"},\"y\":{\"field\":\"Total Average Loan Amount\"}},\"id\":\"1040\",\"type\":\"Line\"},{\"attributes\":{\"text\":\"Total Average Loan Amount\",\"text_color\":\"black\",\"text_font_size\":\"12pt\"},\"id\":\"1008\",\"type\":\"Title\"},{\"attributes\":{\"axis_label\":\"State Code\",\"formatter\":{\"id\":\"1047\"},\"major_label_policy\":{\"id\":\"1045\"},\"ticker\":{\"id\":\"1017\"}},\"id\":\"1016\",\"type\":\"CategoricalAxis\"},{\"attributes\":{},\"id\":\"1012\",\"type\":\"CategoricalScale\"},{\"attributes\":{},\"id\":\"1060\",\"type\":\"UnionRenderers\"},{\"attributes\":{},\"id\":\"1014\",\"type\":\"LinearScale\"},{\"attributes\":{\"source\":{\"id\":\"1036\"}},\"id\":\"1043\",\"type\":\"CDSView\"},{\"attributes\":{\"line_color\":\"#30a2da\",\"line_width\":2,\"x\":{\"field\":\"State Code\"},\"y\":{\"field\":\"Total Average Loan Amount\"}},\"id\":\"1039\",\"type\":\"Line\"},{\"attributes\":{},\"id\":\"1017\",\"type\":\"CategoricalTicker\"},{\"attributes\":{\"line_color\":\"#30a2da\",\"line_width\":2,\"x\":{\"field\":\"State Code\"},\"y\":{\"field\":\"Total Average Loan Amount\"}},\"id\":\"1044\",\"type\":\"Line\"},{\"attributes\":{\"axis_label\":\"\",\"formatter\":{\"id\":\"1050\"},\"major_label_policy\":{\"id\":\"1048\"},\"ticker\":{\"id\":\"1020\"}},\"id\":\"1019\",\"type\":\"LinearAxis\"},{\"attributes\":{\"data_source\":{\"id\":\"1036\"},\"glyph\":{\"id\":\"1039\"},\"hover_glyph\":null,\"muted_glyph\":{\"id\":\"1041\"},\"nonselection_glyph\":{\"id\":\"1040\"},\"selection_glyph\":{\"id\":\"1044\"},\"view\":{\"id\":\"1043\"}},\"id\":\"1042\",\"type\":\"GlyphRenderer\"},{\"attributes\":{\"data\":{\"State Code\":[\"AK\",\"AL\",\"AR\",\"AZ\",\"CA\",\"CO\",\"CT\",\"DE\",\"FL\",\"GA\",\"GU\",\"HI\",\"IA\",\"ID\",\"IL\",\"IN\",\"KS\",\"KY\",\"LA\",\"MA\",\"MD\",\"ME\",\"MI\",\"MN\",\"MO\",\"MP\",\"MS\",\"MT\",\"NC\",\"ND\",\"NE\",\"NH\",\"NJ\",\"NM\",\"NV\",\"NY\",\"OH\",\"OK\",\"OR\",\"PA\",\"PR\",\"RI\",\"SC\",\"SD\",\"TN\",\"TX\",\"UT\",\"VA\",\"VI\",\"VT\",\"WA\",\"WI\",\"WV\",\"WY\"],\"State_Code\":[\"AK\",\"AL\",\"AR\",\"AZ\",\"CA\",\"CO\",\"CT\",\"DE\",\"FL\",\"GA\",\"GU\",\"HI\",\"IA\",\"ID\",\"IL\",\"IN\",\"KS\",\"KY\",\"LA\",\"MA\",\"MD\",\"ME\",\"MI\",\"MN\",\"MO\",\"MP\",\"MS\",\"MT\",\"NC\",\"ND\",\"NE\",\"NH\",\"NJ\",\"NM\",\"NV\",\"NY\",\"OH\",\"OK\",\"OR\",\"PA\",\"PR\",\"RI\",\"SC\",\"SD\",\"TN\",\"TX\",\"UT\",\"VA\",\"VI\",\"VT\",\"WA\",\"WI\",\"WV\",\"WY\"],\"Total Average Loan Amount\":{\"__ndarray__\":\"7FG4HlsqAkHrUbgeuo0aQUjhehSxEBBBFa5H4a88IkHOzMzsymdFQfYoXA/s+SFBH4XrUdBmIEFSuB6F+3QAQfYoXE887TdBwvUo3Ky1MEEAAAAAaEMGQa5H4XpvlhRBH4XrUQ3cEkGamZmZNUkJQVS4HgX9tylBwvUoXOn3JEEUrkfhNLYTQXsUrkerWx1B4XoUrmLYHEEpXI/CdRMxQShcj0JNKyhBFK5H4VpYCUFcj8K1NEMxQcP1KNwVEilBmZmZGceBIUEAAAAAAB3lQK5H4Xr2bQdBPQrXowy5+UCamZnZk9ExQR+F61Hs6PJAw/UoXPHkC0HC9ShcPz0OQRSuR6EWtzJBwvUoXLdjC0HsUbgehqwXQeJ6FC4aeTBBo3A9yvuhNUFmZmZm8vkVQbgehWtB1iJBXI/CdS94OUEAAAAAwFTsQJDC9Sg+VxVBMzMzM2lIIEGuR+F6WFL1QPYoXI9MiSRBT7geRTOMQ0GQwvUo5lAiQUjhepReNClBAAAAAFBM90DsUbgeYUP5QJDC9ShPozNBAAAAAFBfJUEAAAAACL4IQQAAAAAwJPlA\",\"dtype\":\"float64\",\"order\":\"little\",\"shape\":[54]},\"Total_Average_Loan_Amount\":{\"__ndarray__\":\"7FG4HlsqAkHrUbgeuo0aQUjhehSxEBBBFa5H4a88IkHOzMzsymdFQfYoXA/s+SFBH4XrUdBmIEFSuB6F+3QAQfYoXE887TdBwvUo3Ky1MEEAAAAAaEMGQa5H4XpvlhRBH4XrUQ3cEkGamZmZNUkJQVS4HgX9tylBwvUoXOn3JEEUrkfhNLYTQXsUrkerWx1B4XoUrmLYHEEpXI/CdRMxQShcj0JNKyhBFK5H4VpYCUFcj8K1NEMxQcP1KNwVEilBmZmZGceBIUEAAAAAAB3lQK5H4Xr2bQdBPQrXowy5+UCamZnZk9ExQR+F61Hs6PJAw/UoXPHkC0HC9ShcPz0OQRSuR6EWtzJBwvUoXLdjC0HsUbgehqwXQeJ6FC4aeTBBo3A9yvuhNUFmZmZm8vkVQbgehWtB1iJBXI/CdS94OUEAAAAAwFTsQJDC9Sg+VxVBMzMzM2lIIEGuR+F6WFL1QPYoXI9MiSRBT7geRTOMQ0GQwvUo5lAiQUjhepReNClBAAAAAFBM90DsUbgeYUP5QJDC9ShPozNBAAAAAFBfJUEAAAAACL4IQQAAAAAwJPlA\",\"dtype\":\"float64\",\"order\":\"little\",\"shape\":[54]}},\"selected\":{\"id\":\"1037\"},\"selection_policy\":{\"id\":\"1060\"}},\"id\":\"1036\",\"type\":\"ColumnDataSource\"},{\"attributes\":{\"active_multi\":null,\"tools\":[{\"id\":\"1006\"},{\"id\":\"1023\"},{\"id\":\"1024\"},{\"id\":\"1025\"},{\"id\":\"1026\"},{\"id\":\"1027\"}]},\"id\":\"1029\",\"type\":\"Toolbar\"},{\"attributes\":{},\"id\":\"1048\",\"type\":\"AllLabels\"},{\"attributes\":{\"axis\":{\"id\":\"1019\"},\"dimension\":1,\"grid_line_color\":null,\"ticker\":null},\"id\":\"1022\",\"type\":\"Grid\"},{\"attributes\":{},\"id\":\"1037\",\"type\":\"Selection\"},{\"attributes\":{},\"id\":\"1047\",\"type\":\"CategoricalTickFormatter\"},{\"attributes\":{\"bottom_units\":\"screen\",\"fill_alpha\":0.5,\"fill_color\":\"lightgrey\",\"left_units\":\"screen\",\"level\":\"overlay\",\"line_alpha\":1.0,\"line_color\":\"black\",\"line_dash\":[4,4],\"line_width\":2,\"right_units\":\"screen\",\"syncable\":false,\"top_units\":\"screen\"},\"id\":\"1028\",\"type\":\"BoxAnnotation\"},{\"attributes\":{},\"id\":\"1045\",\"type\":\"AllLabels\"},{\"attributes\":{\"end\":3081895.235000001,\"reset_end\":3081895.235000001,\"reset_start\":-233001.38500000007,\"start\":-233001.38500000007,\"tags\":[[[\"Total Average Loan Amount\",\"Total Average Loan Amount\",null]]]},\"id\":\"1005\",\"type\":\"Range1d\"},{\"attributes\":{\"line_alpha\":0.2,\"line_color\":\"#30a2da\",\"line_width\":2,\"x\":{\"field\":\"State Code\"},\"y\":{\"field\":\"Total Average Loan Amount\"}},\"id\":\"1041\",\"type\":\"Line\"},{\"attributes\":{\"callback\":null,\"renderers\":[{\"id\":\"1042\"}],\"tags\":[\"hv_created\"],\"tooltips\":[[\"State Code\",\"@{State_Code}\"],[\"Total Average Loan Amount\",\"@{Total_Average_Loan_Amount}\"]]},\"id\":\"1006\",\"type\":\"HoverTool\"},{\"attributes\":{\"margin\":[5,5,5,5],\"name\":\"HSpacer01631\",\"sizing_mode\":\"stretch_width\"},\"id\":\"1071\",\"type\":\"Spacer\"},{\"attributes\":{},\"id\":\"1023\",\"type\":\"SaveTool\"},{\"attributes\":{\"factors\":[\"AK\",\"AL\",\"AR\",\"AZ\",\"CA\",\"CO\",\"CT\",\"DE\",\"FL\",\"GA\",\"GU\",\"HI\",\"IA\",\"ID\",\"IL\",\"IN\",\"KS\",\"KY\",\"LA\",\"MA\",\"MD\",\"ME\",\"MI\",\"MN\",\"MO\",\"MP\",\"MS\",\"MT\",\"NC\",\"ND\",\"NE\",\"NH\",\"NJ\",\"NM\",\"NV\",\"NY\",\"OH\",\"OK\",\"OR\",\"PA\",\"PR\",\"RI\",\"SC\",\"SD\",\"TN\",\"TX\",\"UT\",\"VA\",\"VI\",\"VT\",\"WA\",\"WI\",\"WV\",\"WY\"],\"tags\":[[[\"State Code\",\"State Code\",null]]]},\"id\":\"1004\",\"type\":\"FactorRange\"}],\"root_ids\":[\"1002\"]},\"title\":\"Bokeh Application\",\"version\":\"2.3.2\"}};\n",
       "    var render_items = [{\"docid\":\"f8cdf6aa-bedd-4cf5-9d12-4a36e293f5e0\",\"root_ids\":[\"1002\"],\"roots\":{\"1002\":\"98438a5f-60ee-471e-9a98-05ec7c0280b9\"}}];\n",
       "    root.Bokeh.embed.embed_items_notebook(docs_json, render_items);\n",
       "  }\n",
       "  if (root.Bokeh !== undefined && root.Bokeh.Panel !== undefined) {\n",
       "    embed_document(root);\n",
       "  } else {\n",
       "    var attempts = 0;\n",
       "    var timer = setInterval(function(root) {\n",
       "      if (root.Bokeh !== undefined && root.Bokeh.Panel !== undefined) {\n",
       "        clearInterval(timer);\n",
       "        embed_document(root);\n",
       "      } else if (document.readyState == \"complete\") {\n",
       "        attempts++;\n",
       "        if (attempts > 200) {\n",
       "          clearInterval(timer);\n",
       "          console.log(\"Bokeh: ERROR: Unable to run BokehJS code because BokehJS library is missing\");\n",
       "        }\n",
       "      }\n",
       "    }, 25, root)\n",
       "  }\n",
       "})(window);</script>"
      ],
      "text/plain": [
       ":Curve   [State Code]   (Total Average Loan Amount)"
      ]
     },
     "execution_count": 13,
     "metadata": {
      "application/vnd.holoviews_exec.v0+json": {
       "id": "1002"
      }
     },
     "output_type": "execute_result"
    }
   ],
   "source": [
    "# Slice for Total Average Loan Amount\n",
    "average_loan_amount = loan_data[\"Total Average Loan Amount\"]\n",
    "\n",
    "# Plot Total Average Loan Amount\n",
    "average_loan_amount.hvplot()"
   ]
  },
  {
   "cell_type": "code",
   "execution_count": 14,
   "metadata": {},
   "outputs": [
    {
     "data": {
      "text/plain": [
       "State Code\n",
       "AK     148811.39\n",
       "AL     435054.53\n",
       "AR     263212.27\n",
       "AZ     597591.94\n",
       "CA    2805653.85\n",
       "Name: Total Average Loan Amount, dtype: float64"
      ]
     },
     "execution_count": 14,
     "metadata": {},
     "output_type": "execute_result"
    }
   ],
   "source": [
    "average_loan_amount.head()"
   ]
  },
  {
   "cell_type": "markdown",
   "metadata": {},
   "source": [
    "### Plot Total Average Loan Amount for 2015 - 2016 and 2010 - 2014"
   ]
  },
  {
   "cell_type": "code",
   "execution_count": 21,
   "metadata": {},
   "outputs": [
    {
     "data": {},
     "metadata": {},
     "output_type": "display_data"
    },
    {
     "data": {
      "application/vnd.holoviews_exec.v0+json": "",
      "text/html": [
       "<div id='2143'>\n",
       "\n",
       "\n",
       "\n",
       "\n",
       "\n",
       "  <div class=\"bk-root\" id=\"0cf4bb20-43b4-4779-8b69-3210741a86f3\" data-root-id=\"2143\"></div>\n",
       "</div>\n",
       "<script type=\"application/javascript\">(function(root) {\n",
       "  function embed_document(root) {\n",
       "    var docs_json = {\"56561b2a-0151-482d-97d3-9ed606e31ab8\":{\"defs\":[{\"extends\":null,\"module\":null,\"name\":\"ReactiveHTML1\",\"overrides\":[],\"properties\":[]},{\"extends\":null,\"module\":null,\"name\":\"FlexBox1\",\"overrides\":[],\"properties\":[{\"default\":\"flex-start\",\"kind\":null,\"name\":\"align_content\"},{\"default\":\"flex-start\",\"kind\":null,\"name\":\"align_items\"},{\"default\":\"row\",\"kind\":null,\"name\":\"flex_direction\"},{\"default\":\"wrap\",\"kind\":null,\"name\":\"flex_wrap\"},{\"default\":\"flex-start\",\"kind\":null,\"name\":\"justify_content\"}]},{\"extends\":null,\"module\":null,\"name\":\"TemplateActions1\",\"overrides\":[],\"properties\":[{\"default\":0,\"kind\":null,\"name\":\"open_modal\"},{\"default\":0,\"kind\":null,\"name\":\"close_modal\"}]},{\"extends\":null,\"module\":null,\"name\":\"MaterialTemplateActions1\",\"overrides\":[],\"properties\":[{\"default\":0,\"kind\":null,\"name\":\"open_modal\"},{\"default\":0,\"kind\":null,\"name\":\"close_modal\"}]}],\"roots\":{\"references\":[{\"attributes\":{\"axis_label\":\"\",\"formatter\":{\"id\":\"2184\"},\"major_label_policy\":{\"id\":\"2182\"},\"ticker\":{\"id\":\"2162\"}},\"id\":\"2161\",\"type\":\"LinearAxis\"},{\"attributes\":{\"active_multi\":null,\"tools\":[{\"id\":\"2147\"},{\"id\":\"2148\"},{\"id\":\"2165\"},{\"id\":\"2166\"},{\"id\":\"2167\"},{\"id\":\"2168\"},{\"id\":\"2169\"}]},\"id\":\"2171\",\"type\":\"Toolbar\"},{\"attributes\":{\"axis\":{\"id\":\"2161\"},\"dimension\":1,\"grid_line_color\":null,\"ticker\":null},\"id\":\"2164\",\"type\":\"Grid\"},{\"attributes\":{\"data\":{\"A_2010_hyphen_minus_2014\":{\"__ndarray__\":\"7FG4HpsKBUEVrkfhrssjQeF6FK4pdRVBexSuRxFNIkHXo3CdZvxFQcL1KFw2lSVBUrgehZxAJUEfhetRytYDQRWuRyGWpD1BrUfhupCSMUEAAAAA8M0HQR+F61GBGxpBZ2ZmZoWTFUHsUbgep5wOQexRuB7D5SlBZWZmZtumKEHhehSuMNkYQfYoXA9pNSJBcD0K1wonJUE+CtfjgGY0QSCF61Gd3ilBFK5H4du/EEFnZmZmr5kxQexRuJ5t9iJBXI/CdS42IUEAAAAAQMXaQAAAAADi0xFBH4XrUYovAUFmZmZmgAY3QdejcD16Hv1AehSuRytREEEehetRD5QRQQvXo/BySzRBPgrXo8h5EkEqXI/Cv0cYQWdmZiaJWDJBFa5HYU4PNkEpXI/CqnAcQaRwPQrxaCdBAAAAwKYZP0EAAAAAULzzQFyPwvUgYxhBAAAAgEoSJ0H2KFyPsrr5QChcj0Lu0StBhetROGZ1SEG4HoVrN0YkQXE9ChcITzJBAAAAACA8/EBSuB6FA0IAQZDC9agWEDdBAAAAAJg9KUEAAAAA0JkQQQAAAABISQBB\",\"dtype\":\"float64\",\"order\":\"little\",\"shape\":[54]},\"State_Code\":[\"AK\",\"AL\",\"AR\",\"AZ\",\"CA\",\"CO\",\"CT\",\"DE\",\"FL\",\"GA\",\"GU\",\"HI\",\"IA\",\"ID\",\"IL\",\"IN\",\"KS\",\"KY\",\"LA\",\"MA\",\"MD\",\"ME\",\"MI\",\"MN\",\"MO\",\"MP\",\"MS\",\"MT\",\"NC\",\"ND\",\"NE\",\"NH\",\"NJ\",\"NM\",\"NV\",\"NY\",\"OH\",\"OK\",\"OR\",\"PA\",\"PR\",\"RI\",\"SC\",\"SD\",\"TN\",\"TX\",\"UT\",\"VA\",\"VI\",\"VT\",\"WA\",\"WI\",\"WV\",\"WY\"]},\"selected\":{\"id\":\"2207\"},\"selection_policy\":{\"id\":\"2225\"}},\"id\":\"2206\",\"type\":\"ColumnDataSource\"},{\"attributes\":{\"fill_alpha\":{\"value\":0.1},\"fill_color\":{\"value\":\"#fc4f30\"},\"line_alpha\":{\"value\":0.1},\"top\":{\"field\":\"A_2010_hyphen_minus_2014\"},\"width\":{\"value\":0.8},\"x\":{\"field\":\"State_Code\"}},\"id\":\"2210\",\"type\":\"VBar\"},{\"attributes\":{\"label\":{\"value\":\"2015-2016\"},\"renderers\":[{\"id\":\"2191\"}]},\"id\":\"2204\",\"type\":\"LegendItem\"},{\"attributes\":{\"source\":{\"id\":\"2185\"}},\"id\":\"2192\",\"type\":\"CDSView\"},{\"attributes\":{\"bottom_units\":\"screen\",\"fill_alpha\":0.5,\"fill_color\":\"lightgrey\",\"left_units\":\"screen\",\"level\":\"overlay\",\"line_alpha\":1.0,\"line_color\":\"black\",\"line_dash\":[4,4],\"line_width\":2,\"right_units\":\"screen\",\"syncable\":false,\"top_units\":\"screen\"},\"id\":\"2170\",\"type\":\"BoxAnnotation\"},{\"attributes\":{},\"id\":\"2179\",\"type\":\"AllLabels\"},{\"attributes\":{\"margin\":[5,5,5,5],\"name\":\"HSpacer03788\",\"sizing_mode\":\"stretch_width\"},\"id\":\"2336\",\"type\":\"Spacer\"},{\"attributes\":{},\"id\":\"2182\",\"type\":\"AllLabels\"},{\"attributes\":{\"callback\":null,\"renderers\":[{\"id\":\"2212\"}],\"tags\":[\"hv_created\"],\"tooltips\":[[\"State Code\",\"@{State_Code}\"],[\"2010 - 2014\",\"@{A_2010_hyphen_minus_2014}\"]]},\"id\":\"2148\",\"type\":\"HoverTool\"},{\"attributes\":{\"margin\":[5,5,5,5],\"name\":\"HSpacer03787\",\"sizing_mode\":\"stretch_width\"},\"id\":\"2144\",\"type\":\"Spacer\"},{\"attributes\":{},\"id\":\"2184\",\"type\":\"BasicTickFormatter\"},{\"attributes\":{\"fill_color\":{\"value\":\"#fc4f30\"},\"top\":{\"field\":\"A_2010_hyphen_minus_2014\"},\"width\":{\"value\":0.8},\"x\":{\"field\":\"State_Code\"}},\"id\":\"2209\",\"type\":\"VBar\"},{\"attributes\":{\"factors\":[\"AK\",\"AL\",\"AR\",\"AZ\",\"CA\",\"CO\",\"CT\",\"DE\",\"FL\",\"GA\",\"GU\",\"HI\",\"IA\",\"ID\",\"IL\",\"IN\",\"KS\",\"KY\",\"LA\",\"MA\",\"MD\",\"ME\",\"MI\",\"MN\",\"MO\",\"MP\",\"MS\",\"MT\",\"NC\",\"ND\",\"NE\",\"NH\",\"NJ\",\"NM\",\"NV\",\"NY\",\"OH\",\"OK\",\"OR\",\"PA\",\"PR\",\"RI\",\"SC\",\"SD\",\"TN\",\"TX\",\"UT\",\"VA\",\"VI\",\"VT\",\"WA\",\"WI\",\"WV\",\"WY\"],\"tags\":[[[\"State Code\",\"State Code\",null]]]},\"id\":\"2145\",\"type\":\"FactorRange\"},{\"attributes\":{},\"id\":\"2207\",\"type\":\"Selection\"},{\"attributes\":{},\"id\":\"2165\",\"type\":\"SaveTool\"},{\"attributes\":{\"label\":{\"value\":\"2010 - 2014\"},\"renderers\":[{\"id\":\"2212\"}]},\"id\":\"2226\",\"type\":\"LegendItem\"},{\"attributes\":{\"fill_alpha\":{\"value\":0.1},\"fill_color\":{\"value\":\"#30a2da\"},\"line_alpha\":{\"value\":0.1},\"top\":{\"field\":\"A_2015_hyphen_minus_2016\"},\"width\":{\"value\":0.8},\"x\":{\"field\":\"State_Code\"}},\"id\":\"2189\",\"type\":\"VBar\"},{\"attributes\":{},\"id\":\"2166\",\"type\":\"PanTool\"},{\"attributes\":{},\"id\":\"2162\",\"type\":\"BasicTicker\"},{\"attributes\":{\"overlay\":{\"id\":\"2170\"}},\"id\":\"2168\",\"type\":\"BoxZoomTool\"},{\"attributes\":{},\"id\":\"2181\",\"type\":\"CategoricalTickFormatter\"},{\"attributes\":{},\"id\":\"2167\",\"type\":\"WheelZoomTool\"},{\"attributes\":{},\"id\":\"2186\",\"type\":\"Selection\"},{\"attributes\":{\"children\":[{\"id\":\"2144\"},{\"id\":\"2149\"},{\"id\":\"2336\"}],\"margin\":[0,0,0,0],\"name\":\"Row03783\",\"tags\":[\"embedded\"]},\"id\":\"2143\",\"type\":\"Row\"},{\"attributes\":{\"below\":[{\"id\":\"2158\"}],\"center\":[{\"id\":\"2160\"},{\"id\":\"2164\"}],\"height\":300,\"left\":[{\"id\":\"2161\"}],\"margin\":[5,5,5,5],\"min_border_bottom\":10,\"min_border_left\":10,\"min_border_right\":10,\"min_border_top\":10,\"renderers\":[{\"id\":\"2191\"},{\"id\":\"2212\"}],\"right\":[{\"id\":\"2203\"}],\"sizing_mode\":\"fixed\",\"title\":{\"id\":\"2150\"},\"toolbar\":{\"id\":\"2171\"},\"width\":700,\"x_range\":{\"id\":\"2145\"},\"x_scale\":{\"id\":\"2154\"},\"y_range\":{\"id\":\"2146\"},\"y_scale\":{\"id\":\"2156\"}},\"id\":\"2149\",\"subtype\":\"Figure\",\"type\":\"Plot\"},{\"attributes\":{\"fill_color\":{\"value\":\"#30a2da\"},\"top\":{\"field\":\"A_2015_hyphen_minus_2016\"},\"width\":{\"value\":0.8},\"x\":{\"field\":\"State_Code\"}},\"id\":\"2188\",\"type\":\"VBar\"},{\"attributes\":{\"click_policy\":\"mute\",\"items\":[{\"id\":\"2204\"},{\"id\":\"2226\"}],\"location\":[0,0]},\"id\":\"2203\",\"type\":\"Legend\"},{\"attributes\":{\"source\":{\"id\":\"2206\"}},\"id\":\"2213\",\"type\":\"CDSView\"},{\"attributes\":{\"axis_label\":\"State Code\",\"formatter\":{\"id\":\"2181\"},\"major_label_orientation\":1.1344640137963142,\"major_label_policy\":{\"id\":\"2179\"},\"ticker\":{\"id\":\"2159\"}},\"id\":\"2158\",\"type\":\"CategoricalAxis\"},{\"attributes\":{\"callback\":null,\"renderers\":[{\"id\":\"2191\"}],\"tags\":[\"hv_created\"],\"tooltips\":[[\"State Code\",\"@{State_Code}\"],[\"2015 - 2016\",\"@{A_2015_hyphen_minus_2016}\"]]},\"id\":\"2147\",\"type\":\"HoverTool\"},{\"attributes\":{\"data\":{\"A_2015_hyphen_minus_2016\":{\"__ndarray__\":\"uB6F63skB0FH4XqU5e8kQc3MzMzWsRVBPQrXozP6HkEzMzMzsfRGQYXrUTi+vCdBexSux6iuJUHXo3A9zCQEQWZmZoagoEBBNDMzM0B2L0EAAAAASBwLQRSuR+HIvBtBCtejcJQbFkFwPQrXoewPQUjhehScLSdBNDMzMwPIKkHXo3A9r9IZQfYoXA+1hSJBhetROEEuJkGQwvWoWlUvQXA9CldwzC5BKVyPwhGGEEH2KFwPZtkyQY/C9aivqyRBuB6Fa8CYIkEAAAAAAAAAAHsUrkePoRNBCtejcB8CAkFcj8L16Is4QeF6FK4TYv5AwvUoXBn8D0EAAAAAZCERQcL1KBwDeDJBPgrXoyFsE0HiehSuc7UeQaRwPYpoBTJBo3A9SsR1OUGZmZmZ6O8eQT0K1yMZ+ihBAAAAwMm9PEEAAAAAUPD0QML1KFxsmBpBPgrXoy6qKEHD9Shc8xj8QJmZmRl2wS5BZmZmpndfRkHsUbieBhMmQYbrUThRJjRBAAAAAGBx+0Bcj8L1ToYAQc3MzMz7STdBAAAAAKg6KEEAAAAANF8QQQAAAAAIHwRB\",\"dtype\":\"float64\",\"order\":\"little\",\"shape\":[54]},\"State_Code\":[\"AK\",\"AL\",\"AR\",\"AZ\",\"CA\",\"CO\",\"CT\",\"DE\",\"FL\",\"GA\",\"GU\",\"HI\",\"IA\",\"ID\",\"IL\",\"IN\",\"KS\",\"KY\",\"LA\",\"MA\",\"MD\",\"ME\",\"MI\",\"MN\",\"MO\",\"MP\",\"MS\",\"MT\",\"NC\",\"ND\",\"NE\",\"NH\",\"NJ\",\"NM\",\"NV\",\"NY\",\"OH\",\"OK\",\"OR\",\"PA\",\"PR\",\"RI\",\"SC\",\"SD\",\"TN\",\"TX\",\"UT\",\"VA\",\"VI\",\"VT\",\"WA\",\"WI\",\"WV\",\"WY\"]},\"selected\":{\"id\":\"2186\"},\"selection_policy\":{\"id\":\"2202\"}},\"id\":\"2185\",\"type\":\"ColumnDataSource\"},{\"attributes\":{\"text_color\":\"black\",\"text_font_size\":\"12pt\"},\"id\":\"2150\",\"type\":\"Title\"},{\"attributes\":{},\"id\":\"2169\",\"type\":\"ResetTool\"},{\"attributes\":{\"axis\":{\"id\":\"2158\"},\"grid_line_color\":null,\"ticker\":null},\"id\":\"2160\",\"type\":\"Grid\"},{\"attributes\":{\"data_source\":{\"id\":\"2206\"},\"glyph\":{\"id\":\"2209\"},\"hover_glyph\":null,\"muted_glyph\":{\"id\":\"2211\"},\"nonselection_glyph\":{\"id\":\"2210\"},\"selection_glyph\":{\"id\":\"2227\"},\"view\":{\"id\":\"2213\"}},\"id\":\"2212\",\"type\":\"GlyphRenderer\"},{\"attributes\":{\"end\":3526420.084,\"reset_end\":3526420.084,\"reset_start\":0.0,\"tags\":[[[\"2015 - 2016\",\"2015 - 2016\",null]]]},\"id\":\"2146\",\"type\":\"Range1d\"},{\"attributes\":{},\"id\":\"2154\",\"type\":\"CategoricalScale\"},{\"attributes\":{\"fill_alpha\":{\"value\":0.2},\"fill_color\":{\"value\":\"#fc4f30\"},\"line_alpha\":{\"value\":0.2},\"top\":{\"field\":\"A_2010_hyphen_minus_2014\"},\"width\":{\"value\":0.8},\"x\":{\"field\":\"State_Code\"}},\"id\":\"2211\",\"type\":\"VBar\"},{\"attributes\":{\"fill_alpha\":{\"value\":0.2},\"fill_color\":{\"value\":\"#30a2da\"},\"line_alpha\":{\"value\":0.2},\"top\":{\"field\":\"A_2015_hyphen_minus_2016\"},\"width\":{\"value\":0.8},\"x\":{\"field\":\"State_Code\"}},\"id\":\"2190\",\"type\":\"VBar\"},{\"attributes\":{\"bottom\":{\"value\":0},\"fill_alpha\":{\"value\":1.0},\"fill_color\":{\"value\":\"#fc4f30\"},\"hatch_alpha\":{\"value\":1.0},\"hatch_color\":{\"value\":\"black\"},\"hatch_scale\":{\"value\":12.0},\"hatch_weight\":{\"value\":1.0},\"line_alpha\":{\"value\":1.0},\"line_cap\":{\"value\":\"butt\"},\"line_color\":{\"value\":\"black\"},\"line_dash\":{\"value\":[]},\"line_dash_offset\":{\"value\":0},\"line_join\":{\"value\":\"bevel\"},\"line_width\":{\"value\":1},\"top\":{\"field\":\"A_2010_hyphen_minus_2014\"},\"width\":{\"value\":0.8},\"x\":{\"field\":\"State_Code\"}},\"id\":\"2227\",\"type\":\"VBar\"},{\"attributes\":{},\"id\":\"2156\",\"type\":\"LinearScale\"},{\"attributes\":{\"bottom\":{\"value\":0},\"fill_alpha\":{\"value\":1.0},\"fill_color\":{\"value\":\"#30a2da\"},\"hatch_alpha\":{\"value\":1.0},\"hatch_color\":{\"value\":\"black\"},\"hatch_scale\":{\"value\":12.0},\"hatch_weight\":{\"value\":1.0},\"line_alpha\":{\"value\":1.0},\"line_cap\":{\"value\":\"butt\"},\"line_color\":{\"value\":\"black\"},\"line_dash\":{\"value\":[]},\"line_dash_offset\":{\"value\":0},\"line_join\":{\"value\":\"bevel\"},\"line_width\":{\"value\":1},\"top\":{\"field\":\"A_2015_hyphen_minus_2016\"},\"width\":{\"value\":0.8},\"x\":{\"field\":\"State_Code\"}},\"id\":\"2205\",\"type\":\"VBar\"},{\"attributes\":{},\"id\":\"2225\",\"type\":\"UnionRenderers\"},{\"attributes\":{\"data_source\":{\"id\":\"2185\"},\"glyph\":{\"id\":\"2188\"},\"hover_glyph\":null,\"muted_glyph\":{\"id\":\"2190\"},\"nonselection_glyph\":{\"id\":\"2189\"},\"selection_glyph\":{\"id\":\"2205\"},\"view\":{\"id\":\"2192\"}},\"id\":\"2191\",\"type\":\"GlyphRenderer\"},{\"attributes\":{},\"id\":\"2159\",\"type\":\"CategoricalTicker\"},{\"attributes\":{},\"id\":\"2202\",\"type\":\"UnionRenderers\"}],\"root_ids\":[\"2143\"]},\"title\":\"Bokeh Application\",\"version\":\"2.3.2\"}};\n",
       "    var render_items = [{\"docid\":\"56561b2a-0151-482d-97d3-9ed606e31ab8\",\"root_ids\":[\"2143\"],\"roots\":{\"2143\":\"0cf4bb20-43b4-4779-8b69-3210741a86f3\"}}];\n",
       "    root.Bokeh.embed.embed_items_notebook(docs_json, render_items);\n",
       "  }\n",
       "  if (root.Bokeh !== undefined && root.Bokeh.Panel !== undefined) {\n",
       "    embed_document(root);\n",
       "  } else {\n",
       "    var attempts = 0;\n",
       "    var timer = setInterval(function(root) {\n",
       "      if (root.Bokeh !== undefined && root.Bokeh.Panel !== undefined) {\n",
       "        clearInterval(timer);\n",
       "        embed_document(root);\n",
       "      } else if (document.readyState == \"complete\") {\n",
       "        attempts++;\n",
       "        if (attempts > 200) {\n",
       "          clearInterval(timer);\n",
       "          console.log(\"Bokeh: ERROR: Unable to run BokehJS code because BokehJS library is missing\");\n",
       "        }\n",
       "      }\n",
       "    }, 25, root)\n",
       "  }\n",
       "})(window);</script>"
      ],
      "text/plain": [
       ":Overlay\n",
       "   .Bars.A_2015_hyphen_minus_2016 :Bars   [State Code]   (2015 - 2016)\n",
       "   .Bars.A_2010_hyphen_minus_2014 :Bars   [State Code]   (2010 - 2014)"
      ]
     },
     "execution_count": 21,
     "metadata": {
      "application/vnd.holoviews_exec.v0+json": {
       "id": "2143"
      }
     },
     "output_type": "execute_result"
    }
   ],
   "source": [
    "# Slice data for Total Average Loan Amount by 2015-2016 and 2010-2014 date ranges\n",
    "loan_data_1 = loan_data['2015 - 2016']\n",
    "loan_data_2 = loan_data['2010 - 2014']\n",
    "\n",
    "# Plot data for date ranges\n",
    "loan_data_1.hvplot.bar(label=\"2015-2016\") * loan_data_2.hvplot.bar(\n",
    "    label=\"2010 - 2014\", rot=65\n",
    ")"
   ]
  },
  {
   "cell_type": "code",
   "execution_count": null,
   "metadata": {},
   "outputs": [],
   "source": []
  },
  {
   "cell_type": "markdown",
   "metadata": {},
   "source": [
    "### Compose plots for 2015 - 2016 and 2010 - 2014 using `+` operator"
   ]
  },
  {
   "cell_type": "code",
   "execution_count": 23,
   "metadata": {},
   "outputs": [
    {
     "data": {},
     "metadata": {},
     "output_type": "display_data"
    },
    {
     "data": {
      "application/vnd.holoviews_exec.v0+json": "",
      "text/html": [
       "<div id='2398'>\n",
       "\n",
       "\n",
       "\n",
       "\n",
       "\n",
       "  <div class=\"bk-root\" id=\"d45ec7da-95c3-4a7a-b769-ed7c44312383\" data-root-id=\"2398\"></div>\n",
       "</div>\n",
       "<script type=\"application/javascript\">(function(root) {\n",
       "  function embed_document(root) {\n",
       "    var docs_json = {\"6b6f4033-8383-43cf-a0ab-bb466888d5e4\":{\"defs\":[{\"extends\":null,\"module\":null,\"name\":\"ReactiveHTML1\",\"overrides\":[],\"properties\":[]},{\"extends\":null,\"module\":null,\"name\":\"FlexBox1\",\"overrides\":[],\"properties\":[{\"default\":\"flex-start\",\"kind\":null,\"name\":\"align_content\"},{\"default\":\"flex-start\",\"kind\":null,\"name\":\"align_items\"},{\"default\":\"row\",\"kind\":null,\"name\":\"flex_direction\"},{\"default\":\"wrap\",\"kind\":null,\"name\":\"flex_wrap\"},{\"default\":\"flex-start\",\"kind\":null,\"name\":\"justify_content\"}]},{\"extends\":null,\"module\":null,\"name\":\"TemplateActions1\",\"overrides\":[],\"properties\":[{\"default\":0,\"kind\":null,\"name\":\"open_modal\"},{\"default\":0,\"kind\":null,\"name\":\"close_modal\"}]},{\"extends\":null,\"module\":null,\"name\":\"MaterialTemplateActions1\",\"overrides\":[],\"properties\":[{\"default\":0,\"kind\":null,\"name\":\"open_modal\"},{\"default\":0,\"kind\":null,\"name\":\"close_modal\"}]}],\"roots\":{\"references\":[{\"attributes\":{\"margin\":[5,5,5,5],\"name\":\"HSpacer04254\",\"sizing_mode\":\"stretch_width\"},\"id\":\"2700\",\"type\":\"Spacer\"},{\"attributes\":{\"fill_alpha\":{\"value\":0.2},\"fill_color\":{\"value\":\"#30a2da\"},\"line_alpha\":{\"value\":0.2},\"top\":{\"field\":\"A_2015_hyphen_minus_2016\"},\"width\":{\"value\":0.8},\"x\":{\"field\":\"State_Code\"}},\"id\":\"2437\",\"type\":\"VBar\"},{\"attributes\":{},\"id\":\"2480\",\"type\":\"Selection\"},{\"attributes\":{\"callback\":null,\"renderers\":[{\"id\":\"2438\"}],\"tags\":[\"hv_created\"],\"tooltips\":[[\"State Code\",\"@{State_Code}\"],[\"2015 - 2016\",\"@{A_2015_hyphen_minus_2016}\"]]},\"id\":\"2402\",\"type\":\"HoverTool\"},{\"attributes\":{\"data\":{\"A_2015_hyphen_minus_2016\":{\"__ndarray__\":\"uB6F63skB0FH4XqU5e8kQc3MzMzWsRVBPQrXozP6HkEzMzMzsfRGQYXrUTi+vCdBexSux6iuJUHXo3A9zCQEQWZmZoagoEBBNDMzM0B2L0EAAAAASBwLQRSuR+HIvBtBCtejcJQbFkFwPQrXoewPQUjhehScLSdBNDMzMwPIKkHXo3A9r9IZQfYoXA+1hSJBhetROEEuJkGQwvWoWlUvQXA9CldwzC5BKVyPwhGGEEH2KFwPZtkyQY/C9aivqyRBuB6Fa8CYIkEAAAAAAAAAAHsUrkePoRNBCtejcB8CAkFcj8L16Is4QeF6FK4TYv5AwvUoXBn8D0EAAAAAZCERQcL1KBwDeDJBPgrXoyFsE0HiehSuc7UeQaRwPYpoBTJBo3A9SsR1OUGZmZmZ6O8eQT0K1yMZ+ihBAAAAwMm9PEEAAAAAUPD0QML1KFxsmBpBPgrXoy6qKEHD9Shc8xj8QJmZmRl2wS5BZmZmpndfRkHsUbieBhMmQYbrUThRJjRBAAAAAGBx+0Bcj8L1ToYAQc3MzMz7STdBAAAAAKg6KEEAAAAANF8QQQAAAAAIHwRB\",\"dtype\":\"float64\",\"order\":\"little\",\"shape\":[54]},\"State_Code\":[\"AK\",\"AL\",\"AR\",\"AZ\",\"CA\",\"CO\",\"CT\",\"DE\",\"FL\",\"GA\",\"GU\",\"HI\",\"IA\",\"ID\",\"IL\",\"IN\",\"KS\",\"KY\",\"LA\",\"MA\",\"MD\",\"ME\",\"MI\",\"MN\",\"MO\",\"MP\",\"MS\",\"MT\",\"NC\",\"ND\",\"NE\",\"NH\",\"NJ\",\"NM\",\"NV\",\"NY\",\"OH\",\"OK\",\"OR\",\"PA\",\"PR\",\"RI\",\"SC\",\"SD\",\"TN\",\"TX\",\"UT\",\"VA\",\"VI\",\"VT\",\"WA\",\"WI\",\"WV\",\"WY\"]},\"selected\":{\"id\":\"2433\"},\"selection_policy\":{\"id\":\"2503\"}},\"id\":\"2432\",\"type\":\"ColumnDataSource\"},{\"attributes\":{\"data\":{\"A_2010_hyphen_minus_2014\":{\"__ndarray__\":\"7FG4HpsKBUEVrkfhrssjQeF6FK4pdRVBexSuRxFNIkHXo3CdZvxFQcL1KFw2lSVBUrgehZxAJUEfhetRytYDQRWuRyGWpD1BrUfhupCSMUEAAAAA8M0HQR+F61GBGxpBZ2ZmZoWTFUHsUbgep5wOQexRuB7D5SlBZWZmZtumKEHhehSuMNkYQfYoXA9pNSJBcD0K1wonJUE+CtfjgGY0QSCF61Gd3ilBFK5H4du/EEFnZmZmr5kxQexRuJ5t9iJBXI/CdS42IUEAAAAAQMXaQAAAAADi0xFBH4XrUYovAUFmZmZmgAY3QdejcD16Hv1AehSuRytREEEehetRD5QRQQvXo/BySzRBPgrXo8h5EkEqXI/Cv0cYQWdmZiaJWDJBFa5HYU4PNkEpXI/CqnAcQaRwPQrxaCdBAAAAwKYZP0EAAAAAULzzQFyPwvUgYxhBAAAAgEoSJ0H2KFyPsrr5QChcj0Lu0StBhetROGZ1SEG4HoVrN0YkQXE9ChcITzJBAAAAACA8/EBSuB6FA0IAQZDC9agWEDdBAAAAAJg9KUEAAAAA0JkQQQAAAABISQBB\",\"dtype\":\"float64\",\"order\":\"little\",\"shape\":[54]},\"State_Code\":[\"AK\",\"AL\",\"AR\",\"AZ\",\"CA\",\"CO\",\"CT\",\"DE\",\"FL\",\"GA\",\"GU\",\"HI\",\"IA\",\"ID\",\"IL\",\"IN\",\"KS\",\"KY\",\"LA\",\"MA\",\"MD\",\"ME\",\"MI\",\"MN\",\"MO\",\"MP\",\"MS\",\"MT\",\"NC\",\"ND\",\"NE\",\"NH\",\"NJ\",\"NM\",\"NV\",\"NY\",\"OH\",\"OK\",\"OR\",\"PA\",\"PR\",\"RI\",\"SC\",\"SD\",\"TN\",\"TX\",\"UT\",\"VA\",\"VI\",\"VT\",\"WA\",\"WI\",\"WV\",\"WY\"]},\"selected\":{\"id\":\"2480\"},\"selection_policy\":{\"id\":\"2514\"}},\"id\":\"2479\",\"type\":\"ColumnDataSource\"},{\"attributes\":{\"active_multi\":null,\"tools\":[{\"id\":\"2402\"},{\"id\":\"2419\"},{\"id\":\"2420\"},{\"id\":\"2421\"},{\"id\":\"2422\"},{\"id\":\"2423\"}]},\"id\":\"2425\",\"type\":\"Toolbar\"},{\"attributes\":{\"bottom_units\":\"screen\",\"fill_alpha\":0.5,\"fill_color\":\"lightgrey\",\"left_units\":\"screen\",\"level\":\"overlay\",\"line_alpha\":1.0,\"line_color\":\"black\",\"line_dash\":[4,4],\"line_width\":2,\"right_units\":\"screen\",\"syncable\":false,\"top_units\":\"screen\"},\"id\":\"2424\",\"type\":\"BoxAnnotation\"},{\"attributes\":{},\"id\":\"2443\",\"type\":\"CategoricalTickFormatter\"},{\"attributes\":{},\"id\":\"2493\",\"type\":\"BasicTickFormatter\"},{\"attributes\":{\"bottom_units\":\"screen\",\"fill_alpha\":0.5,\"fill_color\":\"lightgrey\",\"left_units\":\"screen\",\"level\":\"overlay\",\"line_alpha\":1.0,\"line_color\":\"black\",\"line_dash\":[4,4],\"line_width\":2,\"right_units\":\"screen\",\"syncable\":false,\"top_units\":\"screen\"},\"id\":\"2471\",\"type\":\"BoxAnnotation\"},{\"attributes\":{},\"id\":\"2441\",\"type\":\"AllLabels\"},{\"attributes\":{},\"id\":\"2488\",\"type\":\"AllLabels\"},{\"attributes\":{},\"id\":\"2433\",\"type\":\"Selection\"},{\"attributes\":{},\"id\":\"2503\",\"type\":\"UnionRenderers\"},{\"attributes\":{\"toolbar\":{\"id\":\"2517\"},\"toolbar_location\":\"above\"},\"id\":\"2518\",\"type\":\"ToolbarBox\"},{\"attributes\":{\"below\":[{\"id\":\"2412\"}],\"center\":[{\"id\":\"2414\"},{\"id\":\"2418\"}],\"height\":300,\"left\":[{\"id\":\"2415\"}],\"margin\":null,\"min_border_bottom\":10,\"min_border_left\":10,\"min_border_right\":10,\"min_border_top\":10,\"renderers\":[{\"id\":\"2438\"}],\"sizing_mode\":\"fixed\",\"title\":{\"id\":\"2404\"},\"toolbar\":{\"id\":\"2425\"},\"toolbar_location\":null,\"width\":700,\"x_range\":{\"id\":\"2400\"},\"x_scale\":{\"id\":\"2408\"},\"y_range\":{\"id\":\"2401\"},\"y_scale\":{\"id\":\"2410\"}},\"id\":\"2403\",\"subtype\":\"Figure\",\"type\":\"Plot\"},{\"attributes\":{\"source\":{\"id\":\"2432\"}},\"id\":\"2439\",\"type\":\"CDSView\"},{\"attributes\":{\"bottom\":{\"value\":0},\"fill_alpha\":{\"value\":1.0},\"fill_color\":{\"value\":\"#30a2da\"},\"hatch_alpha\":{\"value\":1.0},\"hatch_color\":{\"value\":\"black\"},\"hatch_scale\":{\"value\":12.0},\"hatch_weight\":{\"value\":1.0},\"line_alpha\":{\"value\":1.0},\"line_cap\":{\"value\":\"butt\"},\"line_color\":{\"value\":\"black\"},\"line_dash\":{\"value\":[]},\"line_dash_offset\":{\"value\":0},\"line_join\":{\"value\":\"bevel\"},\"line_width\":{\"value\":1},\"top\":{\"field\":\"A_2010_hyphen_minus_2014\"},\"width\":{\"value\":0.8},\"x\":{\"field\":\"State_Code\"}},\"id\":\"2487\",\"type\":\"VBar\"},{\"attributes\":{\"active_multi\":null,\"tools\":[{\"id\":\"2449\"},{\"id\":\"2466\"},{\"id\":\"2467\"},{\"id\":\"2468\"},{\"id\":\"2469\"},{\"id\":\"2470\"}]},\"id\":\"2472\",\"type\":\"Toolbar\"},{\"attributes\":{\"fill_color\":{\"value\":\"#30a2da\"},\"top\":{\"field\":\"A_2015_hyphen_minus_2016\"},\"width\":{\"value\":0.8},\"x\":{\"field\":\"State_Code\"}},\"id\":\"2435\",\"type\":\"VBar\"},{\"attributes\":{},\"id\":\"2408\",\"type\":\"CategoricalScale\"},{\"attributes\":{\"data_source\":{\"id\":\"2479\"},\"glyph\":{\"id\":\"2482\"},\"hover_glyph\":null,\"muted_glyph\":{\"id\":\"2484\"},\"nonselection_glyph\":{\"id\":\"2483\"},\"selection_glyph\":{\"id\":\"2487\"},\"view\":{\"id\":\"2486\"}},\"id\":\"2485\",\"type\":\"GlyphRenderer\"},{\"attributes\":{\"text\":\"2015-2016\",\"text_color\":\"black\",\"text_font_size\":\"12pt\"},\"id\":\"2404\",\"type\":\"Title\"},{\"attributes\":{\"toolbars\":[{\"id\":\"2425\"},{\"id\":\"2472\"}],\"tools\":[{\"id\":\"2402\"},{\"id\":\"2419\"},{\"id\":\"2420\"},{\"id\":\"2421\"},{\"id\":\"2422\"},{\"id\":\"2423\"},{\"id\":\"2449\"},{\"id\":\"2466\"},{\"id\":\"2467\"},{\"id\":\"2468\"},{\"id\":\"2469\"},{\"id\":\"2470\"}]},\"id\":\"2517\",\"type\":\"ProxyToolbar\"},{\"attributes\":{\"axis_label\":\"State Code\",\"formatter\":{\"id\":\"2443\"},\"major_label_policy\":{\"id\":\"2441\"},\"ticker\":{\"id\":\"2413\"}},\"id\":\"2412\",\"type\":\"CategoricalAxis\"},{\"attributes\":{\"bottom\":{\"value\":0},\"fill_alpha\":{\"value\":1.0},\"fill_color\":{\"value\":\"#30a2da\"},\"hatch_alpha\":{\"value\":1.0},\"hatch_color\":{\"value\":\"black\"},\"hatch_scale\":{\"value\":12.0},\"hatch_weight\":{\"value\":1.0},\"line_alpha\":{\"value\":1.0},\"line_cap\":{\"value\":\"butt\"},\"line_color\":{\"value\":\"black\"},\"line_dash\":{\"value\":[]},\"line_dash_offset\":{\"value\":0},\"line_join\":{\"value\":\"bevel\"},\"line_width\":{\"value\":1},\"top\":{\"field\":\"A_2015_hyphen_minus_2016\"},\"width\":{\"value\":0.8},\"x\":{\"field\":\"State_Code\"}},\"id\":\"2440\",\"type\":\"VBar\"},{\"attributes\":{\"axis\":{\"id\":\"2412\"},\"grid_line_color\":null,\"ticker\":null},\"id\":\"2414\",\"type\":\"Grid\"},{\"attributes\":{},\"id\":\"2467\",\"type\":\"PanTool\"},{\"attributes\":{},\"id\":\"2446\",\"type\":\"BasicTickFormatter\"},{\"attributes\":{\"margin\":[5,5,5,5],\"name\":\"HSpacer04253\",\"sizing_mode\":\"stretch_width\"},\"id\":\"2399\",\"type\":\"Spacer\"},{\"attributes\":{},\"id\":\"2410\",\"type\":\"LinearScale\"},{\"attributes\":{\"fill_alpha\":{\"value\":0.1},\"fill_color\":{\"value\":\"#30a2da\"},\"line_alpha\":{\"value\":0.1},\"top\":{\"field\":\"A_2015_hyphen_minus_2016\"},\"width\":{\"value\":0.8},\"x\":{\"field\":\"State_Code\"}},\"id\":\"2436\",\"type\":\"VBar\"},{\"attributes\":{\"end\":3309753.04,\"reset_end\":3309753.04,\"reset_start\":0.0,\"tags\":[[[\"2015 - 2016\",\"2015 - 2016\",null]]]},\"id\":\"2401\",\"type\":\"Range1d\"},{\"attributes\":{},\"id\":\"2413\",\"type\":\"CategoricalTicker\"},{\"attributes\":{},\"id\":\"2444\",\"type\":\"AllLabels\"},{\"attributes\":{},\"id\":\"2514\",\"type\":\"UnionRenderers\"},{\"attributes\":{\"axis\":{\"id\":\"2415\"},\"dimension\":1,\"grid_line_color\":null,\"ticker\":null},\"id\":\"2418\",\"type\":\"Grid\"},{\"attributes\":{},\"id\":\"2460\",\"type\":\"CategoricalTicker\"},{\"attributes\":{},\"id\":\"2416\",\"type\":\"BasicTicker\"},{\"attributes\":{\"fill_alpha\":{\"value\":0.1},\"fill_color\":{\"value\":\"#30a2da\"},\"line_alpha\":{\"value\":0.1},\"top\":{\"field\":\"A_2010_hyphen_minus_2014\"},\"width\":{\"value\":0.8},\"x\":{\"field\":\"State_Code\"}},\"id\":\"2483\",\"type\":\"VBar\"},{\"attributes\":{\"children\":[{\"id\":\"2399\"},{\"id\":\"2519\"},{\"id\":\"2700\"}],\"margin\":[0,0,0,0],\"name\":\"Row04249\",\"tags\":[\"embedded\"]},\"id\":\"2398\",\"type\":\"Row\"},{\"attributes\":{\"overlay\":{\"id\":\"2471\"}},\"id\":\"2469\",\"type\":\"BoxZoomTool\"},{\"attributes\":{\"axis_label\":\"\",\"formatter\":{\"id\":\"2446\"},\"major_label_policy\":{\"id\":\"2444\"},\"ticker\":{\"id\":\"2416\"}},\"id\":\"2415\",\"type\":\"LinearAxis\"},{\"attributes\":{\"axis\":{\"id\":\"2462\"},\"dimension\":1,\"grid_line_color\":null,\"ticker\":null},\"id\":\"2465\",\"type\":\"Grid\"},{\"attributes\":{},\"id\":\"2455\",\"type\":\"CategoricalScale\"},{\"attributes\":{\"fill_color\":{\"value\":\"#30a2da\"},\"top\":{\"field\":\"A_2010_hyphen_minus_2014\"},\"width\":{\"value\":0.8},\"x\":{\"field\":\"State_Code\"}},\"id\":\"2482\",\"type\":\"VBar\"},{\"attributes\":{},\"id\":\"2491\",\"type\":\"AllLabels\"},{\"attributes\":{\"text\":\"2010 - 2014\",\"text_color\":\"black\",\"text_font_size\":\"12pt\"},\"id\":\"2451\",\"type\":\"Title\"},{\"attributes\":{},\"id\":\"2463\",\"type\":\"BasicTicker\"},{\"attributes\":{},\"id\":\"2466\",\"type\":\"SaveTool\"},{\"attributes\":{\"fill_alpha\":{\"value\":0.2},\"fill_color\":{\"value\":\"#30a2da\"},\"line_alpha\":{\"value\":0.2},\"top\":{\"field\":\"A_2010_hyphen_minus_2014\"},\"width\":{\"value\":0.8},\"x\":{\"field\":\"State_Code\"}},\"id\":\"2484\",\"type\":\"VBar\"},{\"attributes\":{\"callback\":null,\"renderers\":[{\"id\":\"2485\"}],\"tags\":[\"hv_created\"],\"tooltips\":[[\"State Code\",\"@{State_Code}\"],[\"2010 - 2014\",\"@{A_2010_hyphen_minus_2014}\"]]},\"id\":\"2449\",\"type\":\"HoverTool\"},{\"attributes\":{},\"id\":\"2468\",\"type\":\"WheelZoomTool\"},{\"attributes\":{\"data_source\":{\"id\":\"2432\"},\"glyph\":{\"id\":\"2435\"},\"hover_glyph\":null,\"muted_glyph\":{\"id\":\"2437\"},\"nonselection_glyph\":{\"id\":\"2436\"},\"selection_glyph\":{\"id\":\"2440\"},\"view\":{\"id\":\"2439\"}},\"id\":\"2438\",\"type\":\"GlyphRenderer\"},{\"attributes\":{\"source\":{\"id\":\"2479\"}},\"id\":\"2486\",\"type\":\"CDSView\"},{\"attributes\":{},\"id\":\"2470\",\"type\":\"ResetTool\"},{\"attributes\":{\"axis\":{\"id\":\"2459\"},\"grid_line_color\":null,\"ticker\":null},\"id\":\"2461\",\"type\":\"Grid\"},{\"attributes\":{\"below\":[{\"id\":\"2459\"}],\"center\":[{\"id\":\"2461\"},{\"id\":\"2465\"}],\"height\":300,\"left\":[{\"id\":\"2462\"}],\"margin\":null,\"min_border_bottom\":10,\"min_border_left\":10,\"min_border_right\":10,\"min_border_top\":10,\"renderers\":[{\"id\":\"2485\"}],\"sizing_mode\":\"fixed\",\"title\":{\"id\":\"2451\"},\"toolbar\":{\"id\":\"2472\"},\"toolbar_location\":null,\"width\":700,\"x_range\":{\"id\":\"2400\"},\"x_scale\":{\"id\":\"2455\"},\"y_range\":{\"id\":\"2448\"},\"y_scale\":{\"id\":\"2457\"}},\"id\":\"2450\",\"subtype\":\"Figure\",\"type\":\"Plot\"},{\"attributes\":{\"children\":[[{\"id\":\"2403\"},0,0],[{\"id\":\"2450\"},0,1]]},\"id\":\"2516\",\"type\":\"GridBox\"},{\"attributes\":{},\"id\":\"2419\",\"type\":\"SaveTool\"},{\"attributes\":{},\"id\":\"2420\",\"type\":\"PanTool\"},{\"attributes\":{},\"id\":\"2423\",\"type\":\"ResetTool\"},{\"attributes\":{},\"id\":\"2490\",\"type\":\"CategoricalTickFormatter\"},{\"attributes\":{},\"id\":\"2421\",\"type\":\"WheelZoomTool\"},{\"attributes\":{\"axis_label\":\"State Code\",\"formatter\":{\"id\":\"2490\"},\"major_label_orientation\":1.1344640137963142,\"major_label_policy\":{\"id\":\"2488\"},\"ticker\":{\"id\":\"2460\"}},\"id\":\"2459\",\"type\":\"CategoricalAxis\"},{\"attributes\":{\"children\":[{\"id\":\"2518\"},{\"id\":\"2516\"}]},\"id\":\"2519\",\"type\":\"Column\"},{\"attributes\":{\"overlay\":{\"id\":\"2424\"}},\"id\":\"2422\",\"type\":\"BoxZoomTool\"},{\"attributes\":{\"axis_label\":\"\",\"formatter\":{\"id\":\"2493\"},\"major_label_policy\":{\"id\":\"2491\"},\"ticker\":{\"id\":\"2463\"}},\"id\":\"2462\",\"type\":\"LinearAxis\"},{\"attributes\":{\"end\":3523678.784,\"reset_end\":3523678.784,\"reset_start\":0.0,\"tags\":[[[\"2010 - 2014\",\"2010 - 2014\",null]]]},\"id\":\"2448\",\"type\":\"Range1d\"},{\"attributes\":{\"factors\":[\"AK\",\"AL\",\"AR\",\"AZ\",\"CA\",\"CO\",\"CT\",\"DE\",\"FL\",\"GA\",\"GU\",\"HI\",\"IA\",\"ID\",\"IL\",\"IN\",\"KS\",\"KY\",\"LA\",\"MA\",\"MD\",\"ME\",\"MI\",\"MN\",\"MO\",\"MP\",\"MS\",\"MT\",\"NC\",\"ND\",\"NE\",\"NH\",\"NJ\",\"NM\",\"NV\",\"NY\",\"OH\",\"OK\",\"OR\",\"PA\",\"PR\",\"RI\",\"SC\",\"SD\",\"TN\",\"TX\",\"UT\",\"VA\",\"VI\",\"VT\",\"WA\",\"WI\",\"WV\",\"WY\"],\"tags\":[[[\"State Code\",\"State Code\",null]]]},\"id\":\"2400\",\"type\":\"FactorRange\"},{\"attributes\":{},\"id\":\"2457\",\"type\":\"LinearScale\"}],\"root_ids\":[\"2398\"]},\"title\":\"Bokeh Application\",\"version\":\"2.3.2\"}};\n",
       "    var render_items = [{\"docid\":\"6b6f4033-8383-43cf-a0ab-bb466888d5e4\",\"root_ids\":[\"2398\"],\"roots\":{\"2398\":\"d45ec7da-95c3-4a7a-b769-ed7c44312383\"}}];\n",
       "    root.Bokeh.embed.embed_items_notebook(docs_json, render_items);\n",
       "  }\n",
       "  if (root.Bokeh !== undefined && root.Bokeh.Panel !== undefined) {\n",
       "    embed_document(root);\n",
       "  } else {\n",
       "    var attempts = 0;\n",
       "    var timer = setInterval(function(root) {\n",
       "      if (root.Bokeh !== undefined && root.Bokeh.Panel !== undefined) {\n",
       "        clearInterval(timer);\n",
       "        embed_document(root);\n",
       "      } else if (document.readyState == \"complete\") {\n",
       "        attempts++;\n",
       "        if (attempts > 200) {\n",
       "          clearInterval(timer);\n",
       "          console.log(\"Bokeh: ERROR: Unable to run BokehJS code because BokehJS library is missing\");\n",
       "        }\n",
       "      }\n",
       "    }, 25, root)\n",
       "  }\n",
       "})(window);</script>"
      ],
      "text/plain": [
       ":Layout\n",
       "   .Bars.A_2015_hyphen_minus_2016 :Bars   [State Code]   (2015 - 2016)\n",
       "   .Bars.A_2010_hyphen_minus_2014 :Bars   [State Code]   (2010 - 2014)"
      ]
     },
     "execution_count": 23,
     "metadata": {
      "application/vnd.holoviews_exec.v0+json": {
       "id": "2398"
      }
     },
     "output_type": "execute_result"
    }
   ],
   "source": [
    "# Compose plots\n",
    "loan_data_1.hvplot.bar(label=\"2015-2016\") + loan_data_2.hvplot.bar(\n",
    "    label=\"2010 - 2014\", rot=65\n",
    ")"
   ]
  },
  {
   "cell_type": "markdown",
   "metadata": {},
   "source": [
    "### Compose plots for state averages, 2015 - 2016, and 2010 2014 using `+` operator"
   ]
  },
  {
   "cell_type": "code",
   "execution_count": 28,
   "metadata": {},
   "outputs": [
    {
     "data": {},
     "metadata": {},
     "output_type": "display_data"
    },
    {
     "data": {
      "application/vnd.holoviews_exec.v0+json": "",
      "text/html": [
       "<div id='2802'>\n",
       "\n",
       "\n",
       "\n",
       "\n",
       "\n",
       "  <div class=\"bk-root\" id=\"e3c5ca98-ecaf-4a69-82ca-8a595510942b\" data-root-id=\"2802\"></div>\n",
       "</div>\n",
       "<script type=\"application/javascript\">(function(root) {\n",
       "  function embed_document(root) {\n",
       "    var docs_json = {\"f99cc1e0-74ba-4b97-8e3b-4013a99f5c2e\":{\"defs\":[{\"extends\":null,\"module\":null,\"name\":\"ReactiveHTML1\",\"overrides\":[],\"properties\":[]},{\"extends\":null,\"module\":null,\"name\":\"FlexBox1\",\"overrides\":[],\"properties\":[{\"default\":\"flex-start\",\"kind\":null,\"name\":\"align_content\"},{\"default\":\"flex-start\",\"kind\":null,\"name\":\"align_items\"},{\"default\":\"row\",\"kind\":null,\"name\":\"flex_direction\"},{\"default\":\"wrap\",\"kind\":null,\"name\":\"flex_wrap\"},{\"default\":\"flex-start\",\"kind\":null,\"name\":\"justify_content\"}]},{\"extends\":null,\"module\":null,\"name\":\"TemplateActions1\",\"overrides\":[],\"properties\":[{\"default\":0,\"kind\":null,\"name\":\"open_modal\"},{\"default\":0,\"kind\":null,\"name\":\"close_modal\"}]},{\"extends\":null,\"module\":null,\"name\":\"MaterialTemplateActions1\",\"overrides\":[],\"properties\":[{\"default\":0,\"kind\":null,\"name\":\"open_modal\"},{\"default\":0,\"kind\":null,\"name\":\"close_modal\"}]}],\"roots\":{\"references\":[{\"attributes\":{\"data_source\":{\"id\":\"2836\"},\"glyph\":{\"id\":\"2839\"},\"hover_glyph\":null,\"muted_glyph\":{\"id\":\"2841\"},\"nonselection_glyph\":{\"id\":\"2840\"},\"selection_glyph\":{\"id\":\"2844\"},\"view\":{\"id\":\"2843\"}},\"id\":\"2842\",\"type\":\"GlyphRenderer\"},{\"attributes\":{\"axis_label\":\"State Code\",\"formatter\":{\"id\":\"2894\"},\"major_label_policy\":{\"id\":\"2892\"},\"ticker\":{\"id\":\"2864\"}},\"id\":\"2863\",\"type\":\"CategoricalAxis\"},{\"attributes\":{\"axis_label\":\"\",\"formatter\":{\"id\":\"2850\"},\"major_label_policy\":{\"id\":\"2848\"},\"ticker\":{\"id\":\"2820\"}},\"id\":\"2819\",\"type\":\"LinearAxis\"},{\"attributes\":{},\"id\":\"2867\",\"type\":\"BasicTicker\"},{\"attributes\":{},\"id\":\"2820\",\"type\":\"BasicTicker\"},{\"attributes\":{\"axis\":{\"id\":\"2819\"},\"dimension\":1,\"grid_line_color\":null,\"ticker\":null},\"id\":\"2822\",\"type\":\"Grid\"},{\"attributes\":{},\"id\":\"2859\",\"type\":\"CategoricalScale\"},{\"attributes\":{},\"id\":\"2914\",\"type\":\"BasicTicker\"},{\"attributes\":{},\"id\":\"2931\",\"type\":\"Selection\"},{\"attributes\":{\"axis\":{\"id\":\"2863\"},\"grid_line_color\":null,\"ticker\":null},\"id\":\"2865\",\"type\":\"Grid\"},{\"attributes\":{\"axis\":{\"id\":\"2910\"},\"grid_line_color\":null,\"ticker\":null},\"id\":\"2912\",\"type\":\"Grid\"},{\"attributes\":{\"callback\":null,\"renderers\":[{\"id\":\"2889\"}],\"tags\":[\"hv_created\"],\"tooltips\":[[\"State Code\",\"@{State_Code}\"],[\"2015 - 2016\",\"@{A_2015_hyphen_minus_2016}\"]]},\"id\":\"2853\",\"type\":\"HoverTool\"},{\"attributes\":{\"below\":[{\"id\":\"2863\"}],\"center\":[{\"id\":\"2865\"},{\"id\":\"2869\"}],\"height\":300,\"left\":[{\"id\":\"2866\"}],\"margin\":null,\"min_border_bottom\":10,\"min_border_left\":10,\"min_border_right\":10,\"min_border_top\":10,\"renderers\":[{\"id\":\"2889\"}],\"sizing_mode\":\"fixed\",\"title\":{\"id\":\"2855\"},\"toolbar\":{\"id\":\"2876\"},\"toolbar_location\":null,\"width\":700,\"x_range\":{\"id\":\"2804\"},\"x_scale\":{\"id\":\"2859\"},\"y_range\":{\"id\":\"2852\"},\"y_scale\":{\"id\":\"2861\"}},\"id\":\"2854\",\"subtype\":\"Figure\",\"type\":\"Plot\"},{\"attributes\":{},\"id\":\"2861\",\"type\":\"LinearScale\"},{\"attributes\":{},\"id\":\"2911\",\"type\":\"CategoricalTicker\"},{\"attributes\":{\"data\":{\"A_2010_hyphen_minus_2014\":{\"__ndarray__\":\"7FG4HpsKBUEVrkfhrssjQeF6FK4pdRVBexSuRxFNIkHXo3CdZvxFQcL1KFw2lSVBUrgehZxAJUEfhetRytYDQRWuRyGWpD1BrUfhupCSMUEAAAAA8M0HQR+F61GBGxpBZ2ZmZoWTFUHsUbgep5wOQexRuB7D5SlBZWZmZtumKEHhehSuMNkYQfYoXA9pNSJBcD0K1wonJUE+CtfjgGY0QSCF61Gd3ilBFK5H4du/EEFnZmZmr5kxQexRuJ5t9iJBXI/CdS42IUEAAAAAQMXaQAAAAADi0xFBH4XrUYovAUFmZmZmgAY3QdejcD16Hv1AehSuRytREEEehetRD5QRQQvXo/BySzRBPgrXo8h5EkEqXI/Cv0cYQWdmZiaJWDJBFa5HYU4PNkEpXI/CqnAcQaRwPQrxaCdBAAAAwKYZP0EAAAAAULzzQFyPwvUgYxhBAAAAgEoSJ0H2KFyPsrr5QChcj0Lu0StBhetROGZ1SEG4HoVrN0YkQXE9ChcITzJBAAAAACA8/EBSuB6FA0IAQZDC9agWEDdBAAAAAJg9KUEAAAAA0JkQQQAAAABISQBB\",\"dtype\":\"float64\",\"order\":\"little\",\"shape\":[54]},\"State_Code\":[\"AK\",\"AL\",\"AR\",\"AZ\",\"CA\",\"CO\",\"CT\",\"DE\",\"FL\",\"GA\",\"GU\",\"HI\",\"IA\",\"ID\",\"IL\",\"IN\",\"KS\",\"KY\",\"LA\",\"MA\",\"MD\",\"ME\",\"MI\",\"MN\",\"MO\",\"MP\",\"MS\",\"MT\",\"NC\",\"ND\",\"NE\",\"NH\",\"NJ\",\"NM\",\"NV\",\"NY\",\"OH\",\"OK\",\"OR\",\"PA\",\"PR\",\"RI\",\"SC\",\"SD\",\"TN\",\"TX\",\"UT\",\"VA\",\"VI\",\"VT\",\"WA\",\"WI\",\"WV\",\"WY\"]},\"selected\":{\"id\":\"2931\"},\"selection_policy\":{\"id\":\"2976\"}},\"id\":\"2930\",\"type\":\"ColumnDataSource\"},{\"attributes\":{\"line_alpha\":0.2,\"line_color\":\"#30a2da\",\"line_width\":2,\"x\":{\"field\":\"State Code\"},\"y\":{\"field\":\"Total Average Loan Amount\"}},\"id\":\"2841\",\"type\":\"Line\"},{\"attributes\":{\"axis_label\":\"\",\"formatter\":{\"id\":\"2944\"},\"major_label_policy\":{\"id\":\"2942\"},\"ticker\":{\"id\":\"2914\"}},\"id\":\"2913\",\"type\":\"LinearAxis\"},{\"attributes\":{},\"id\":\"2864\",\"type\":\"CategoricalTicker\"},{\"attributes\":{},\"id\":\"2895\",\"type\":\"AllLabels\"},{\"attributes\":{\"line_alpha\":0.1,\"line_color\":\"#30a2da\",\"line_width\":2,\"x\":{\"field\":\"State Code\"},\"y\":{\"field\":\"Total Average Loan Amount\"}},\"id\":\"2840\",\"type\":\"Line\"},{\"attributes\":{\"axis_label\":\"\",\"formatter\":{\"id\":\"2897\"},\"major_label_policy\":{\"id\":\"2895\"},\"ticker\":{\"id\":\"2867\"}},\"id\":\"2866\",\"type\":\"LinearAxis\"},{\"attributes\":{\"axis\":{\"id\":\"2913\"},\"dimension\":1,\"grid_line_color\":null,\"ticker\":null},\"id\":\"2916\",\"type\":\"Grid\"},{\"attributes\":{\"fill_alpha\":{\"value\":0.2},\"fill_color\":{\"value\":\"#30a2da\"},\"line_alpha\":{\"value\":0.2},\"top\":{\"field\":\"A_2010_hyphen_minus_2014\"},\"width\":{\"value\":0.8},\"x\":{\"field\":\"State_Code\"}},\"id\":\"2935\",\"type\":\"VBar\"},{\"attributes\":{\"axis\":{\"id\":\"2866\"},\"dimension\":1,\"grid_line_color\":null,\"ticker\":null},\"id\":\"2869\",\"type\":\"Grid\"},{\"attributes\":{},\"id\":\"2823\",\"type\":\"SaveTool\"},{\"attributes\":{\"fill_alpha\":{\"value\":0.2},\"fill_color\":{\"value\":\"#30a2da\"},\"line_alpha\":{\"value\":0.2},\"top\":{\"field\":\"A_2015_hyphen_minus_2016\"},\"width\":{\"value\":0.8},\"x\":{\"field\":\"State_Code\"}},\"id\":\"2888\",\"type\":\"VBar\"},{\"attributes\":{},\"id\":\"2824\",\"type\":\"PanTool\"},{\"attributes\":{},\"id\":\"2827\",\"type\":\"ResetTool\"},{\"attributes\":{},\"id\":\"2897\",\"type\":\"BasicTickFormatter\"},{\"attributes\":{},\"id\":\"2825\",\"type\":\"WheelZoomTool\"},{\"attributes\":{},\"id\":\"2848\",\"type\":\"AllLabels\"},{\"attributes\":{\"overlay\":{\"id\":\"2828\"}},\"id\":\"2826\",\"type\":\"BoxZoomTool\"},{\"attributes\":{\"end\":3523678.784,\"reset_end\":3523678.784,\"reset_start\":0.0,\"tags\":[[[\"2010 - 2014\",\"2010 - 2014\",null]]]},\"id\":\"2899\",\"type\":\"Range1d\"},{\"attributes\":{\"data_source\":{\"id\":\"2930\"},\"glyph\":{\"id\":\"2933\"},\"hover_glyph\":null,\"muted_glyph\":{\"id\":\"2935\"},\"nonselection_glyph\":{\"id\":\"2934\"},\"selection_glyph\":{\"id\":\"2938\"},\"view\":{\"id\":\"2937\"}},\"id\":\"2936\",\"type\":\"GlyphRenderer\"},{\"attributes\":{},\"id\":\"2939\",\"type\":\"AllLabels\"},{\"attributes\":{},\"id\":\"2892\",\"type\":\"AllLabels\"},{\"attributes\":{\"data_source\":{\"id\":\"2883\"},\"glyph\":{\"id\":\"2886\"},\"hover_glyph\":null,\"muted_glyph\":{\"id\":\"2888\"},\"nonselection_glyph\":{\"id\":\"2887\"},\"selection_glyph\":{\"id\":\"2891\"},\"view\":{\"id\":\"2890\"}},\"id\":\"2889\",\"type\":\"GlyphRenderer\"},{\"attributes\":{},\"id\":\"2917\",\"type\":\"SaveTool\"},{\"attributes\":{},\"id\":\"2908\",\"type\":\"LinearScale\"},{\"attributes\":{},\"id\":\"2847\",\"type\":\"CategoricalTickFormatter\"},{\"attributes\":{},\"id\":\"2894\",\"type\":\"CategoricalTickFormatter\"},{\"attributes\":{},\"id\":\"2918\",\"type\":\"PanTool\"},{\"attributes\":{},\"id\":\"2906\",\"type\":\"CategoricalScale\"},{\"attributes\":{\"text\":\"2010 - 2014\",\"text_color\":\"black\",\"text_font_size\":\"12pt\"},\"id\":\"2902\",\"type\":\"Title\"},{\"attributes\":{},\"id\":\"2870\",\"type\":\"SaveTool\"},{\"attributes\":{},\"id\":\"2921\",\"type\":\"ResetTool\"},{\"attributes\":{},\"id\":\"2871\",\"type\":\"PanTool\"},{\"attributes\":{},\"id\":\"2919\",\"type\":\"WheelZoomTool\"},{\"attributes\":{},\"id\":\"2874\",\"type\":\"ResetTool\"},{\"attributes\":{},\"id\":\"2872\",\"type\":\"WheelZoomTool\"},{\"attributes\":{\"overlay\":{\"id\":\"2922\"}},\"id\":\"2920\",\"type\":\"BoxZoomTool\"},{\"attributes\":{},\"id\":\"2965\",\"type\":\"UnionRenderers\"},{\"attributes\":{\"overlay\":{\"id\":\"2875\"}},\"id\":\"2873\",\"type\":\"BoxZoomTool\"},{\"attributes\":{\"axis\":{\"id\":\"2816\"},\"grid_line_color\":null,\"ticker\":null},\"id\":\"2818\",\"type\":\"Grid\"},{\"attributes\":{\"callback\":null,\"renderers\":[{\"id\":\"2936\"}],\"tags\":[\"hv_created\"],\"tooltips\":[[\"State Code\",\"@{State_Code}\"],[\"2010 - 2014\",\"@{A_2010_hyphen_minus_2014}\"]]},\"id\":\"2900\",\"type\":\"HoverTool\"},{\"attributes\":{},\"id\":\"2850\",\"type\":\"BasicTickFormatter\"},{\"attributes\":{},\"id\":\"2845\",\"type\":\"AllLabels\"},{\"attributes\":{\"line_color\":\"#30a2da\",\"line_width\":2,\"x\":{\"field\":\"State Code\"},\"y\":{\"field\":\"Total Average Loan Amount\"}},\"id\":\"2844\",\"type\":\"Line\"},{\"attributes\":{\"margin\":[5,5,5,5],\"name\":\"HSpacer04710\",\"sizing_mode\":\"stretch_width\"},\"id\":\"3252\",\"type\":\"Spacer\"},{\"attributes\":{\"fill_alpha\":{\"value\":0.1},\"fill_color\":{\"value\":\"#30a2da\"},\"line_alpha\":{\"value\":0.1},\"top\":{\"field\":\"A_2015_hyphen_minus_2016\"},\"width\":{\"value\":0.8},\"x\":{\"field\":\"State_Code\"}},\"id\":\"2887\",\"type\":\"VBar\"},{\"attributes\":{\"active_multi\":null,\"tools\":[{\"id\":\"2806\"},{\"id\":\"2823\"},{\"id\":\"2824\"},{\"id\":\"2825\"},{\"id\":\"2826\"},{\"id\":\"2827\"}]},\"id\":\"2829\",\"type\":\"Toolbar\"},{\"attributes\":{\"below\":[{\"id\":\"2816\"}],\"center\":[{\"id\":\"2818\"},{\"id\":\"2822\"}],\"height\":300,\"left\":[{\"id\":\"2819\"}],\"margin\":null,\"min_border_bottom\":10,\"min_border_left\":10,\"min_border_right\":10,\"min_border_top\":10,\"renderers\":[{\"id\":\"2842\"}],\"sizing_mode\":\"fixed\",\"title\":{\"id\":\"2808\"},\"toolbar\":{\"id\":\"2829\"},\"toolbar_location\":null,\"width\":700,\"x_range\":{\"id\":\"2804\"},\"x_scale\":{\"id\":\"2812\"},\"y_range\":{\"id\":\"2805\"},\"y_scale\":{\"id\":\"2814\"}},\"id\":\"2807\",\"subtype\":\"Figure\",\"type\":\"Plot\"},{\"attributes\":{},\"id\":\"2884\",\"type\":\"Selection\"},{\"attributes\":{\"bottom_units\":\"screen\",\"fill_alpha\":0.5,\"fill_color\":\"lightgrey\",\"left_units\":\"screen\",\"level\":\"overlay\",\"line_alpha\":1.0,\"line_color\":\"black\",\"line_dash\":[4,4],\"line_width\":2,\"right_units\":\"screen\",\"syncable\":false,\"top_units\":\"screen\"},\"id\":\"2828\",\"type\":\"BoxAnnotation\"},{\"attributes\":{},\"id\":\"2941\",\"type\":\"CategoricalTickFormatter\"},{\"attributes\":{\"children\":[{\"id\":\"2980\"},{\"id\":\"2978\"}]},\"id\":\"2981\",\"type\":\"Column\"},{\"attributes\":{\"source\":{\"id\":\"2836\"}},\"id\":\"2843\",\"type\":\"CDSView\"},{\"attributes\":{\"toolbars\":[{\"id\":\"2829\"},{\"id\":\"2876\"},{\"id\":\"2923\"}],\"tools\":[{\"id\":\"2806\"},{\"id\":\"2823\"},{\"id\":\"2824\"},{\"id\":\"2825\"},{\"id\":\"2826\"},{\"id\":\"2827\"},{\"id\":\"2853\"},{\"id\":\"2870\"},{\"id\":\"2871\"},{\"id\":\"2872\"},{\"id\":\"2873\"},{\"id\":\"2874\"},{\"id\":\"2900\"},{\"id\":\"2917\"},{\"id\":\"2918\"},{\"id\":\"2919\"},{\"id\":\"2920\"},{\"id\":\"2921\"}]},\"id\":\"2979\",\"type\":\"ProxyToolbar\"},{\"attributes\":{\"fill_color\":{\"value\":\"#30a2da\"},\"top\":{\"field\":\"A_2015_hyphen_minus_2016\"},\"width\":{\"value\":0.8},\"x\":{\"field\":\"State_Code\"}},\"id\":\"2886\",\"type\":\"VBar\"},{\"attributes\":{\"fill_color\":{\"value\":\"#30a2da\"},\"top\":{\"field\":\"A_2010_hyphen_minus_2014\"},\"width\":{\"value\":0.8},\"x\":{\"field\":\"State_Code\"}},\"id\":\"2933\",\"type\":\"VBar\"},{\"attributes\":{\"active_multi\":null,\"tools\":[{\"id\":\"2900\"},{\"id\":\"2917\"},{\"id\":\"2918\"},{\"id\":\"2919\"},{\"id\":\"2920\"},{\"id\":\"2921\"}]},\"id\":\"2923\",\"type\":\"Toolbar\"},{\"attributes\":{},\"id\":\"2976\",\"type\":\"UnionRenderers\"},{\"attributes\":{\"toolbar\":{\"id\":\"2979\"},\"toolbar_location\":\"above\"},\"id\":\"2980\",\"type\":\"ToolbarBox\"},{\"attributes\":{},\"id\":\"2837\",\"type\":\"Selection\"},{\"attributes\":{\"active_multi\":null,\"tools\":[{\"id\":\"2853\"},{\"id\":\"2870\"},{\"id\":\"2871\"},{\"id\":\"2872\"},{\"id\":\"2873\"},{\"id\":\"2874\"}]},\"id\":\"2876\",\"type\":\"Toolbar\"},{\"attributes\":{\"end\":3081895.235000001,\"reset_end\":3081895.235000001,\"reset_start\":-233001.38500000007,\"start\":-233001.38500000007,\"tags\":[[[\"Total Average Loan Amount\",\"Total Average Loan Amount\",null]]]},\"id\":\"2805\",\"type\":\"Range1d\"},{\"attributes\":{\"bottom_units\":\"screen\",\"fill_alpha\":0.5,\"fill_color\":\"lightgrey\",\"left_units\":\"screen\",\"level\":\"overlay\",\"line_alpha\":1.0,\"line_color\":\"black\",\"line_dash\":[4,4],\"line_width\":2,\"right_units\":\"screen\",\"syncable\":false,\"top_units\":\"screen\"},\"id\":\"2922\",\"type\":\"BoxAnnotation\"},{\"attributes\":{\"fill_alpha\":{\"value\":0.1},\"fill_color\":{\"value\":\"#30a2da\"},\"line_alpha\":{\"value\":0.1},\"top\":{\"field\":\"A_2010_hyphen_minus_2014\"},\"width\":{\"value\":0.8},\"x\":{\"field\":\"State_Code\"}},\"id\":\"2934\",\"type\":\"VBar\"},{\"attributes\":{\"bottom_units\":\"screen\",\"fill_alpha\":0.5,\"fill_color\":\"lightgrey\",\"left_units\":\"screen\",\"level\":\"overlay\",\"line_alpha\":1.0,\"line_color\":\"black\",\"line_dash\":[4,4],\"line_width\":2,\"right_units\":\"screen\",\"syncable\":false,\"top_units\":\"screen\"},\"id\":\"2875\",\"type\":\"BoxAnnotation\"},{\"attributes\":{\"line_color\":\"#30a2da\",\"line_width\":2,\"x\":{\"field\":\"State Code\"},\"y\":{\"field\":\"Total Average Loan Amount\"}},\"id\":\"2839\",\"type\":\"Line\"},{\"attributes\":{\"source\":{\"id\":\"2930\"}},\"id\":\"2937\",\"type\":\"CDSView\"},{\"attributes\":{\"data\":{\"A_2015_hyphen_minus_2016\":{\"__ndarray__\":\"uB6F63skB0FH4XqU5e8kQc3MzMzWsRVBPQrXozP6HkEzMzMzsfRGQYXrUTi+vCdBexSux6iuJUHXo3A9zCQEQWZmZoagoEBBNDMzM0B2L0EAAAAASBwLQRSuR+HIvBtBCtejcJQbFkFwPQrXoewPQUjhehScLSdBNDMzMwPIKkHXo3A9r9IZQfYoXA+1hSJBhetROEEuJkGQwvWoWlUvQXA9CldwzC5BKVyPwhGGEEH2KFwPZtkyQY/C9aivqyRBuB6Fa8CYIkEAAAAAAAAAAHsUrkePoRNBCtejcB8CAkFcj8L16Is4QeF6FK4TYv5AwvUoXBn8D0EAAAAAZCERQcL1KBwDeDJBPgrXoyFsE0HiehSuc7UeQaRwPYpoBTJBo3A9SsR1OUGZmZmZ6O8eQT0K1yMZ+ihBAAAAwMm9PEEAAAAAUPD0QML1KFxsmBpBPgrXoy6qKEHD9Shc8xj8QJmZmRl2wS5BZmZmpndfRkHsUbieBhMmQYbrUThRJjRBAAAAAGBx+0Bcj8L1ToYAQc3MzMz7STdBAAAAAKg6KEEAAAAANF8QQQAAAAAIHwRB\",\"dtype\":\"float64\",\"order\":\"little\",\"shape\":[54]},\"State_Code\":[\"AK\",\"AL\",\"AR\",\"AZ\",\"CA\",\"CO\",\"CT\",\"DE\",\"FL\",\"GA\",\"GU\",\"HI\",\"IA\",\"ID\",\"IL\",\"IN\",\"KS\",\"KY\",\"LA\",\"MA\",\"MD\",\"ME\",\"MI\",\"MN\",\"MO\",\"MP\",\"MS\",\"MT\",\"NC\",\"ND\",\"NE\",\"NH\",\"NJ\",\"NM\",\"NV\",\"NY\",\"OH\",\"OK\",\"OR\",\"PA\",\"PR\",\"RI\",\"SC\",\"SD\",\"TN\",\"TX\",\"UT\",\"VA\",\"VI\",\"VT\",\"WA\",\"WI\",\"WV\",\"WY\"]},\"selected\":{\"id\":\"2884\"},\"selection_policy\":{\"id\":\"2965\"}},\"id\":\"2883\",\"type\":\"ColumnDataSource\"},{\"attributes\":{\"source\":{\"id\":\"2883\"}},\"id\":\"2890\",\"type\":\"CDSView\"},{\"attributes\":{\"bottom\":{\"value\":0},\"fill_alpha\":{\"value\":1.0},\"fill_color\":{\"value\":\"#30a2da\"},\"hatch_alpha\":{\"value\":1.0},\"hatch_color\":{\"value\":\"black\"},\"hatch_scale\":{\"value\":12.0},\"hatch_weight\":{\"value\":1.0},\"line_alpha\":{\"value\":1.0},\"line_cap\":{\"value\":\"butt\"},\"line_color\":{\"value\":\"black\"},\"line_dash\":{\"value\":[]},\"line_dash_offset\":{\"value\":0},\"line_join\":{\"value\":\"bevel\"},\"line_width\":{\"value\":1},\"top\":{\"field\":\"A_2010_hyphen_minus_2014\"},\"width\":{\"value\":0.8},\"x\":{\"field\":\"State_Code\"}},\"id\":\"2938\",\"type\":\"VBar\"},{\"attributes\":{\"factors\":[\"AK\",\"AL\",\"AR\",\"AZ\",\"CA\",\"CO\",\"CT\",\"DE\",\"FL\",\"GA\",\"GU\",\"HI\",\"IA\",\"ID\",\"IL\",\"IN\",\"KS\",\"KY\",\"LA\",\"MA\",\"MD\",\"ME\",\"MI\",\"MN\",\"MO\",\"MP\",\"MS\",\"MT\",\"NC\",\"ND\",\"NE\",\"NH\",\"NJ\",\"NM\",\"NV\",\"NY\",\"OH\",\"OK\",\"OR\",\"PA\",\"PR\",\"RI\",\"SC\",\"SD\",\"TN\",\"TX\",\"UT\",\"VA\",\"VI\",\"VT\",\"WA\",\"WI\",\"WV\",\"WY\"],\"tags\":[[[\"State Code\",\"State Code\",null]]]},\"id\":\"2804\",\"type\":\"FactorRange\"},{\"attributes\":{},\"id\":\"2812\",\"type\":\"CategoricalScale\"},{\"attributes\":{\"children\":[{\"id\":\"2803\"},{\"id\":\"2981\"},{\"id\":\"3252\"}],\"margin\":[0,0,0,0],\"name\":\"Row04705\",\"tags\":[\"embedded\"]},\"id\":\"2802\",\"type\":\"Row\"},{\"attributes\":{\"bottom\":{\"value\":0},\"fill_alpha\":{\"value\":1.0},\"fill_color\":{\"value\":\"#30a2da\"},\"hatch_alpha\":{\"value\":1.0},\"hatch_color\":{\"value\":\"black\"},\"hatch_scale\":{\"value\":12.0},\"hatch_weight\":{\"value\":1.0},\"line_alpha\":{\"value\":1.0},\"line_cap\":{\"value\":\"butt\"},\"line_color\":{\"value\":\"black\"},\"line_dash\":{\"value\":[]},\"line_dash_offset\":{\"value\":0},\"line_join\":{\"value\":\"bevel\"},\"line_width\":{\"value\":1},\"top\":{\"field\":\"A_2015_hyphen_minus_2016\"},\"width\":{\"value\":0.8},\"x\":{\"field\":\"State_Code\"}},\"id\":\"2891\",\"type\":\"VBar\"},{\"attributes\":{\"text\":\"2015-2016\",\"text_color\":\"black\",\"text_font_size\":\"12pt\"},\"id\":\"2855\",\"type\":\"Title\"},{\"attributes\":{\"axis_label\":\"State Code\",\"formatter\":{\"id\":\"2941\"},\"major_label_policy\":{\"id\":\"2939\"},\"ticker\":{\"id\":\"2911\"}},\"id\":\"2910\",\"type\":\"CategoricalAxis\"},{\"attributes\":{\"text\":\"State Average\",\"text_color\":\"black\",\"text_font_size\":\"12pt\"},\"id\":\"2808\",\"type\":\"Title\"},{\"attributes\":{},\"id\":\"2944\",\"type\":\"BasicTickFormatter\"},{\"attributes\":{\"children\":[[{\"id\":\"2807\"},0,0],[{\"id\":\"2854\"},0,1],[{\"id\":\"2901\"},0,2]]},\"id\":\"2978\",\"type\":\"GridBox\"},{\"attributes\":{\"axis_label\":\"State Code\",\"formatter\":{\"id\":\"2847\"},\"major_label_policy\":{\"id\":\"2845\"},\"ticker\":{\"id\":\"2817\"}},\"id\":\"2816\",\"type\":\"CategoricalAxis\"},{\"attributes\":{\"margin\":[5,5,5,5],\"name\":\"HSpacer04709\",\"sizing_mode\":\"stretch_width\"},\"id\":\"2803\",\"type\":\"Spacer\"},{\"attributes\":{\"callback\":null,\"renderers\":[{\"id\":\"2842\"}],\"tags\":[\"hv_created\"],\"tooltips\":[[\"State Code\",\"@{State_Code}\"],[\"Total Average Loan Amount\",\"@{Total_Average_Loan_Amount}\"]]},\"id\":\"2806\",\"type\":\"HoverTool\"},{\"attributes\":{},\"id\":\"2954\",\"type\":\"UnionRenderers\"},{\"attributes\":{},\"id\":\"2942\",\"type\":\"AllLabels\"},{\"attributes\":{\"end\":3309753.04,\"reset_end\":3309753.04,\"reset_start\":0.0,\"tags\":[[[\"2015 - 2016\",\"2015 - 2016\",null]]]},\"id\":\"2852\",\"type\":\"Range1d\"},{\"attributes\":{\"below\":[{\"id\":\"2910\"}],\"center\":[{\"id\":\"2912\"},{\"id\":\"2916\"}],\"height\":300,\"left\":[{\"id\":\"2913\"}],\"margin\":null,\"min_border_bottom\":10,\"min_border_left\":10,\"min_border_right\":10,\"min_border_top\":10,\"renderers\":[{\"id\":\"2936\"}],\"sizing_mode\":\"fixed\",\"title\":{\"id\":\"2902\"},\"toolbar\":{\"id\":\"2923\"},\"toolbar_location\":null,\"width\":700,\"x_range\":{\"id\":\"2804\"},\"x_scale\":{\"id\":\"2906\"},\"y_range\":{\"id\":\"2899\"},\"y_scale\":{\"id\":\"2908\"}},\"id\":\"2901\",\"subtype\":\"Figure\",\"type\":\"Plot\"},{\"attributes\":{},\"id\":\"2814\",\"type\":\"LinearScale\"},{\"attributes\":{\"data\":{\"State Code\":[\"AK\",\"AL\",\"AR\",\"AZ\",\"CA\",\"CO\",\"CT\",\"DE\",\"FL\",\"GA\",\"GU\",\"HI\",\"IA\",\"ID\",\"IL\",\"IN\",\"KS\",\"KY\",\"LA\",\"MA\",\"MD\",\"ME\",\"MI\",\"MN\",\"MO\",\"MP\",\"MS\",\"MT\",\"NC\",\"ND\",\"NE\",\"NH\",\"NJ\",\"NM\",\"NV\",\"NY\",\"OH\",\"OK\",\"OR\",\"PA\",\"PR\",\"RI\",\"SC\",\"SD\",\"TN\",\"TX\",\"UT\",\"VA\",\"VI\",\"VT\",\"WA\",\"WI\",\"WV\",\"WY\"],\"State_Code\":[\"AK\",\"AL\",\"AR\",\"AZ\",\"CA\",\"CO\",\"CT\",\"DE\",\"FL\",\"GA\",\"GU\",\"HI\",\"IA\",\"ID\",\"IL\",\"IN\",\"KS\",\"KY\",\"LA\",\"MA\",\"MD\",\"ME\",\"MI\",\"MN\",\"MO\",\"MP\",\"MS\",\"MT\",\"NC\",\"ND\",\"NE\",\"NH\",\"NJ\",\"NM\",\"NV\",\"NY\",\"OH\",\"OK\",\"OR\",\"PA\",\"PR\",\"RI\",\"SC\",\"SD\",\"TN\",\"TX\",\"UT\",\"VA\",\"VI\",\"VT\",\"WA\",\"WI\",\"WV\",\"WY\"],\"Total Average Loan Amount\":{\"__ndarray__\":\"7FG4HlsqAkHrUbgeuo0aQUjhehSxEBBBFa5H4a88IkHOzMzsymdFQfYoXA/s+SFBH4XrUdBmIEFSuB6F+3QAQfYoXE887TdBwvUo3Ky1MEEAAAAAaEMGQa5H4XpvlhRBH4XrUQ3cEkGamZmZNUkJQVS4HgX9tylBwvUoXOn3JEEUrkfhNLYTQXsUrkerWx1B4XoUrmLYHEEpXI/CdRMxQShcj0JNKyhBFK5H4VpYCUFcj8K1NEMxQcP1KNwVEilBmZmZGceBIUEAAAAAAB3lQK5H4Xr2bQdBPQrXowy5+UCamZnZk9ExQR+F61Hs6PJAw/UoXPHkC0HC9ShcPz0OQRSuR6EWtzJBwvUoXLdjC0HsUbgehqwXQeJ6FC4aeTBBo3A9yvuhNUFmZmZm8vkVQbgehWtB1iJBXI/CdS94OUEAAAAAwFTsQJDC9Sg+VxVBMzMzM2lIIEGuR+F6WFL1QPYoXI9MiSRBT7geRTOMQ0GQwvUo5lAiQUjhepReNClBAAAAAFBM90DsUbgeYUP5QJDC9ShPozNBAAAAAFBfJUEAAAAACL4IQQAAAAAwJPlA\",\"dtype\":\"float64\",\"order\":\"little\",\"shape\":[54]},\"Total_Average_Loan_Amount\":{\"__ndarray__\":\"7FG4HlsqAkHrUbgeuo0aQUjhehSxEBBBFa5H4a88IkHOzMzsymdFQfYoXA/s+SFBH4XrUdBmIEFSuB6F+3QAQfYoXE887TdBwvUo3Ky1MEEAAAAAaEMGQa5H4XpvlhRBH4XrUQ3cEkGamZmZNUkJQVS4HgX9tylBwvUoXOn3JEEUrkfhNLYTQXsUrkerWx1B4XoUrmLYHEEpXI/CdRMxQShcj0JNKyhBFK5H4VpYCUFcj8K1NEMxQcP1KNwVEilBmZmZGceBIUEAAAAAAB3lQK5H4Xr2bQdBPQrXowy5+UCamZnZk9ExQR+F61Hs6PJAw/UoXPHkC0HC9ShcPz0OQRSuR6EWtzJBwvUoXLdjC0HsUbgehqwXQeJ6FC4aeTBBo3A9yvuhNUFmZmZm8vkVQbgehWtB1iJBXI/CdS94OUEAAAAAwFTsQJDC9Sg+VxVBMzMzM2lIIEGuR+F6WFL1QPYoXI9MiSRBT7geRTOMQ0GQwvUo5lAiQUjhepReNClBAAAAAFBM90DsUbgeYUP5QJDC9ShPozNBAAAAAFBfJUEAAAAACL4IQQAAAAAwJPlA\",\"dtype\":\"float64\",\"order\":\"little\",\"shape\":[54]}},\"selected\":{\"id\":\"2837\"},\"selection_policy\":{\"id\":\"2954\"}},\"id\":\"2836\",\"type\":\"ColumnDataSource\"},{\"attributes\":{},\"id\":\"2817\",\"type\":\"CategoricalTicker\"}],\"root_ids\":[\"2802\"]},\"title\":\"Bokeh Application\",\"version\":\"2.3.2\"}};\n",
       "    var render_items = [{\"docid\":\"f99cc1e0-74ba-4b97-8e3b-4013a99f5c2e\",\"root_ids\":[\"2802\"],\"roots\":{\"2802\":\"e3c5ca98-ecaf-4a69-82ca-8a595510942b\"}}];\n",
       "    root.Bokeh.embed.embed_items_notebook(docs_json, render_items);\n",
       "  }\n",
       "  if (root.Bokeh !== undefined && root.Bokeh.Panel !== undefined) {\n",
       "    embed_document(root);\n",
       "  } else {\n",
       "    var attempts = 0;\n",
       "    var timer = setInterval(function(root) {\n",
       "      if (root.Bokeh !== undefined && root.Bokeh.Panel !== undefined) {\n",
       "        clearInterval(timer);\n",
       "        embed_document(root);\n",
       "      } else if (document.readyState == \"complete\") {\n",
       "        attempts++;\n",
       "        if (attempts > 200) {\n",
       "          clearInterval(timer);\n",
       "          console.log(\"Bokeh: ERROR: Unable to run BokehJS code because BokehJS library is missing\");\n",
       "        }\n",
       "      }\n",
       "    }, 25, root)\n",
       "  }\n",
       "})(window);</script>"
      ],
      "text/plain": [
       ":Layout\n",
       "   .Curve.State_Average           :Curve   [State Code]   (Total Average Loan Amount)\n",
       "   .Bars.A_2015_hyphen_minus_2016 :Bars   [State Code]   (2015 - 2016)\n",
       "   .Bars.A_2010_hyphen_minus_2014 :Bars   [State Code]   (2010 - 2014)"
      ]
     },
     "execution_count": 28,
     "metadata": {
      "application/vnd.holoviews_exec.v0+json": {
       "id": "2802"
      }
     },
     "output_type": "execute_result"
    }
   ],
   "source": [
    "# Compose plots\n",
    "average_loan_amount.hvplot(label='State Average') + loan_data_1.hvplot.bar(label=\"2015-2016\") + loan_data_2.hvplot.bar(label=\"2010 - 2014\")"
   ]
  },
  {
   "cell_type": "markdown",
   "metadata": {},
   "source": [
    "### Compose plots for state averages, 2015 - 2016, and 2010 2014 using `*` operator\n",
    "Be sure to use the original alphabetical sorting of each column "
   ]
  },
  {
   "cell_type": "code",
   "execution_count": 30,
   "metadata": {},
   "outputs": [
    {
     "data": {},
     "metadata": {},
     "output_type": "display_data"
    },
    {
     "data": {
      "application/vnd.holoviews_exec.v0+json": "",
      "text/html": [
       "<div id='3713'>\n",
       "\n",
       "\n",
       "\n",
       "\n",
       "\n",
       "  <div class=\"bk-root\" id=\"2329c57d-f7de-42c6-a84a-5e374ec7411d\" data-root-id=\"3713\"></div>\n",
       "</div>\n",
       "<script type=\"application/javascript\">(function(root) {\n",
       "  function embed_document(root) {\n",
       "    var docs_json = {\"632ce5ab-0a82-4a0a-9c50-283652bb2847\":{\"defs\":[{\"extends\":null,\"module\":null,\"name\":\"ReactiveHTML1\",\"overrides\":[],\"properties\":[]},{\"extends\":null,\"module\":null,\"name\":\"FlexBox1\",\"overrides\":[],\"properties\":[{\"default\":\"flex-start\",\"kind\":null,\"name\":\"align_content\"},{\"default\":\"flex-start\",\"kind\":null,\"name\":\"align_items\"},{\"default\":\"row\",\"kind\":null,\"name\":\"flex_direction\"},{\"default\":\"wrap\",\"kind\":null,\"name\":\"flex_wrap\"},{\"default\":\"flex-start\",\"kind\":null,\"name\":\"justify_content\"}]},{\"extends\":null,\"module\":null,\"name\":\"TemplateActions1\",\"overrides\":[],\"properties\":[{\"default\":0,\"kind\":null,\"name\":\"open_modal\"},{\"default\":0,\"kind\":null,\"name\":\"close_modal\"}]},{\"extends\":null,\"module\":null,\"name\":\"MaterialTemplateActions1\",\"overrides\":[],\"properties\":[{\"default\":0,\"kind\":null,\"name\":\"open_modal\"},{\"default\":0,\"kind\":null,\"name\":\"close_modal\"}]}],\"roots\":{\"references\":[{\"attributes\":{},\"id\":\"3736\",\"type\":\"SaveTool\"},{\"attributes\":{\"data\":{\"State_Code\":[\"AK\",\"AL\",\"AR\",\"AZ\",\"CA\",\"CO\",\"CT\",\"DE\",\"FL\",\"GA\",\"GU\",\"HI\",\"IA\",\"ID\",\"IL\",\"IN\",\"KS\",\"KY\",\"LA\",\"MA\",\"MD\",\"ME\",\"MI\",\"MN\",\"MO\",\"MP\",\"MS\",\"MT\",\"NC\",\"ND\",\"NE\",\"NH\",\"NJ\",\"NM\",\"NV\",\"NY\",\"OH\",\"OK\",\"OR\",\"PA\",\"PR\",\"RI\",\"SC\",\"SD\",\"TN\",\"TX\",\"UT\",\"VA\",\"VI\",\"VT\",\"WA\",\"WI\",\"WV\",\"WY\"],\"Total_Average_Loan_Amount\":{\"__ndarray__\":\"7FG4HlsqAkHrUbgeuo0aQUjhehSxEBBBFa5H4a88IkHOzMzsymdFQfYoXA/s+SFBH4XrUdBmIEFSuB6F+3QAQfYoXE887TdBwvUo3Ky1MEEAAAAAaEMGQa5H4XpvlhRBH4XrUQ3cEkGamZmZNUkJQVS4HgX9tylBwvUoXOn3JEEUrkfhNLYTQXsUrkerWx1B4XoUrmLYHEEpXI/CdRMxQShcj0JNKyhBFK5H4VpYCUFcj8K1NEMxQcP1KNwVEilBmZmZGceBIUEAAAAAAB3lQK5H4Xr2bQdBPQrXowy5+UCamZnZk9ExQR+F61Hs6PJAw/UoXPHkC0HC9ShcPz0OQRSuR6EWtzJBwvUoXLdjC0HsUbgehqwXQeJ6FC4aeTBBo3A9yvuhNUFmZmZm8vkVQbgehWtB1iJBXI/CdS94OUEAAAAAwFTsQJDC9Sg+VxVBMzMzM2lIIEGuR+F6WFL1QPYoXI9MiSRBT7geRTOMQ0GQwvUo5lAiQUjhepReNClBAAAAAFBM90DsUbgeYUP5QJDC9ShPozNBAAAAAFBfJUEAAAAACL4IQQAAAAAwJPlA\",\"dtype\":\"float64\",\"order\":\"little\",\"shape\":[54]}},\"selected\":{\"id\":\"3758\"},\"selection_policy\":{\"id\":\"3774\"}},\"id\":\"3757\",\"type\":\"ColumnDataSource\"},{\"attributes\":{},\"id\":\"3737\",\"type\":\"PanTool\"},{\"attributes\":{\"callback\":null,\"renderers\":[{\"id\":\"3806\"}],\"tags\":[\"hv_created\"],\"tooltips\":[[\"State Code\",\"@{State_Code}\"],[\"2010 - 2014\",\"@{A_2010_hyphen_minus_2014}\"]]},\"id\":\"3719\",\"type\":\"HoverTool\"},{\"attributes\":{},\"id\":\"3738\",\"type\":\"WheelZoomTool\"},{\"attributes\":{\"label\":{\"value\":\"State Average\"},\"renderers\":[{\"id\":\"3763\"}]},\"id\":\"3776\",\"type\":\"LegendItem\"},{\"attributes\":{},\"id\":\"3797\",\"type\":\"UnionRenderers\"},{\"attributes\":{\"source\":{\"id\":\"3800\"}},\"id\":\"3807\",\"type\":\"CDSView\"},{\"attributes\":{\"margin\":[5,5,5,5],\"name\":\"HSpacer05984\",\"sizing_mode\":\"stretch_width\"},\"id\":\"3950\",\"type\":\"Spacer\"},{\"attributes\":{\"overlay\":{\"id\":\"3741\"}},\"id\":\"3739\",\"type\":\"BoxZoomTool\"},{\"attributes\":{},\"id\":\"3733\",\"type\":\"BasicTicker\"},{\"attributes\":{\"data\":{\"A_2010_hyphen_minus_2014\":{\"__ndarray__\":\"7FG4HpsKBUEVrkfhrssjQeF6FK4pdRVBexSuRxFNIkHXo3CdZvxFQcL1KFw2lSVBUrgehZxAJUEfhetRytYDQRWuRyGWpD1BrUfhupCSMUEAAAAA8M0HQR+F61GBGxpBZ2ZmZoWTFUHsUbgep5wOQexRuB7D5SlBZWZmZtumKEHhehSuMNkYQfYoXA9pNSJBcD0K1wonJUE+CtfjgGY0QSCF61Gd3ilBFK5H4du/EEFnZmZmr5kxQexRuJ5t9iJBXI/CdS42IUEAAAAAQMXaQAAAAADi0xFBH4XrUYovAUFmZmZmgAY3QdejcD16Hv1AehSuRytREEEehetRD5QRQQvXo/BySzRBPgrXo8h5EkEqXI/Cv0cYQWdmZiaJWDJBFa5HYU4PNkEpXI/CqnAcQaRwPQrxaCdBAAAAwKYZP0EAAAAAULzzQFyPwvUgYxhBAAAAgEoSJ0H2KFyPsrr5QChcj0Lu0StBhetROGZ1SEG4HoVrN0YkQXE9ChcITzJBAAAAACA8/EBSuB6FA0IAQZDC9agWEDdBAAAAAJg9KUEAAAAA0JkQQQAAAABISQBB\",\"dtype\":\"float64\",\"order\":\"little\",\"shape\":[54]},\"State_Code\":[\"AK\",\"AL\",\"AR\",\"AZ\",\"CA\",\"CO\",\"CT\",\"DE\",\"FL\",\"GA\",\"GU\",\"HI\",\"IA\",\"ID\",\"IL\",\"IN\",\"KS\",\"KY\",\"LA\",\"MA\",\"MD\",\"ME\",\"MI\",\"MN\",\"MO\",\"MP\",\"MS\",\"MT\",\"NC\",\"ND\",\"NE\",\"NH\",\"NJ\",\"NM\",\"NV\",\"NY\",\"OH\",\"OK\",\"OR\",\"PA\",\"PR\",\"RI\",\"SC\",\"SD\",\"TN\",\"TX\",\"UT\",\"VA\",\"VI\",\"VT\",\"WA\",\"WI\",\"WV\",\"WY\"]},\"selected\":{\"id\":\"3801\"},\"selection_policy\":{\"id\":\"3821\"}},\"id\":\"3800\",\"type\":\"ColumnDataSource\"},{\"attributes\":{},\"id\":\"3774\",\"type\":\"UnionRenderers\"},{\"attributes\":{\"text_color\":\"black\",\"text_font_size\":\"12pt\"},\"id\":\"3721\",\"type\":\"Title\"},{\"attributes\":{},\"id\":\"3740\",\"type\":\"ResetTool\"},{\"attributes\":{\"axis_label\":\"State Code\",\"formatter\":{\"id\":\"3753\"},\"major_label_policy\":{\"id\":\"3751\"},\"ticker\":{\"id\":\"3730\"}},\"id\":\"3729\",\"type\":\"CategoricalAxis\"},{\"attributes\":{\"axis\":{\"id\":\"3729\"},\"grid_line_color\":null,\"ticker\":null},\"id\":\"3731\",\"type\":\"Grid\"},{\"attributes\":{},\"id\":\"3754\",\"type\":\"AllLabels\"},{\"attributes\":{},\"id\":\"3725\",\"type\":\"CategoricalScale\"},{\"attributes\":{\"fill_alpha\":{\"value\":0.1},\"fill_color\":{\"value\":\"#fc4f30\"},\"line_alpha\":{\"value\":0.1},\"top\":{\"field\":\"A_2015_hyphen_minus_2016\"},\"width\":{\"value\":0.8},\"x\":{\"field\":\"State_Code\"}},\"id\":\"3782\",\"type\":\"VBar\"},{\"attributes\":{\"fill_color\":{\"value\":\"#e5ae38\"},\"top\":{\"field\":\"A_2010_hyphen_minus_2014\"},\"width\":{\"value\":0.8},\"x\":{\"field\":\"State_Code\"}},\"id\":\"3803\",\"type\":\"VBar\"},{\"attributes\":{\"fill_alpha\":{\"value\":0.2},\"fill_color\":{\"value\":\"#fc4f30\"},\"line_alpha\":{\"value\":0.2},\"top\":{\"field\":\"A_2015_hyphen_minus_2016\"},\"width\":{\"value\":0.8},\"x\":{\"field\":\"State_Code\"}},\"id\":\"3783\",\"type\":\"VBar\"},{\"attributes\":{\"bottom\":{\"value\":0},\"fill_alpha\":{\"value\":1.0},\"fill_color\":{\"value\":\"#e5ae38\"},\"hatch_alpha\":{\"value\":1.0},\"hatch_color\":{\"value\":\"black\"},\"hatch_scale\":{\"value\":12.0},\"hatch_weight\":{\"value\":1.0},\"line_alpha\":{\"value\":1.0},\"line_cap\":{\"value\":\"butt\"},\"line_color\":{\"value\":\"black\"},\"line_dash\":{\"value\":[]},\"line_dash_offset\":{\"value\":0},\"line_join\":{\"value\":\"bevel\"},\"line_width\":{\"value\":1},\"top\":{\"field\":\"A_2010_hyphen_minus_2014\"},\"width\":{\"value\":0.8},\"x\":{\"field\":\"State_Code\"}},\"id\":\"3823\",\"type\":\"VBar\"},{\"attributes\":{\"click_policy\":\"mute\",\"items\":[{\"id\":\"3776\"},{\"id\":\"3798\"},{\"id\":\"3822\"}],\"location\":[0,0]},\"id\":\"3775\",\"type\":\"Legend\"},{\"attributes\":{},\"id\":\"3727\",\"type\":\"LinearScale\"},{\"attributes\":{\"data_source\":{\"id\":\"3757\"},\"glyph\":{\"id\":\"3760\"},\"hover_glyph\":null,\"muted_glyph\":{\"id\":\"3762\"},\"nonselection_glyph\":{\"id\":\"3761\"},\"selection_glyph\":{\"id\":\"3777\"},\"view\":{\"id\":\"3764\"}},\"id\":\"3763\",\"type\":\"GlyphRenderer\"},{\"attributes\":{\"callback\":null,\"renderers\":[{\"id\":\"3763\"}],\"tags\":[\"hv_created\"],\"tooltips\":[[\"State Code\",\"@{State_Code}\"],[\"Total Average Loan Amount\",\"@{Total_Average_Loan_Amount}\"]]},\"id\":\"3717\",\"type\":\"HoverTool\"},{\"attributes\":{\"data\":{\"A_2015_hyphen_minus_2016\":{\"__ndarray__\":\"uB6F63skB0FH4XqU5e8kQc3MzMzWsRVBPQrXozP6HkEzMzMzsfRGQYXrUTi+vCdBexSux6iuJUHXo3A9zCQEQWZmZoagoEBBNDMzM0B2L0EAAAAASBwLQRSuR+HIvBtBCtejcJQbFkFwPQrXoewPQUjhehScLSdBNDMzMwPIKkHXo3A9r9IZQfYoXA+1hSJBhetROEEuJkGQwvWoWlUvQXA9CldwzC5BKVyPwhGGEEH2KFwPZtkyQY/C9aivqyRBuB6Fa8CYIkEAAAAAAAAAAHsUrkePoRNBCtejcB8CAkFcj8L16Is4QeF6FK4TYv5AwvUoXBn8D0EAAAAAZCERQcL1KBwDeDJBPgrXoyFsE0HiehSuc7UeQaRwPYpoBTJBo3A9SsR1OUGZmZmZ6O8eQT0K1yMZ+ihBAAAAwMm9PEEAAAAAUPD0QML1KFxsmBpBPgrXoy6qKEHD9Shc8xj8QJmZmRl2wS5BZmZmpndfRkHsUbieBhMmQYbrUThRJjRBAAAAAGBx+0Bcj8L1ToYAQc3MzMz7STdBAAAAAKg6KEEAAAAANF8QQQAAAAAIHwRB\",\"dtype\":\"float64\",\"order\":\"little\",\"shape\":[54]},\"State_Code\":[\"AK\",\"AL\",\"AR\",\"AZ\",\"CA\",\"CO\",\"CT\",\"DE\",\"FL\",\"GA\",\"GU\",\"HI\",\"IA\",\"ID\",\"IL\",\"IN\",\"KS\",\"KY\",\"LA\",\"MA\",\"MD\",\"ME\",\"MI\",\"MN\",\"MO\",\"MP\",\"MS\",\"MT\",\"NC\",\"ND\",\"NE\",\"NH\",\"NJ\",\"NM\",\"NV\",\"NY\",\"OH\",\"OK\",\"OR\",\"PA\",\"PR\",\"RI\",\"SC\",\"SD\",\"TN\",\"TX\",\"UT\",\"VA\",\"VI\",\"VT\",\"WA\",\"WI\",\"WV\",\"WY\"]},\"selected\":{\"id\":\"3779\"},\"selection_policy\":{\"id\":\"3797\"}},\"id\":\"3778\",\"type\":\"ColumnDataSource\"},{\"attributes\":{\"factors\":[\"AK\",\"AL\",\"AR\",\"AZ\",\"CA\",\"CO\",\"CT\",\"DE\",\"FL\",\"GA\",\"GU\",\"HI\",\"IA\",\"ID\",\"IL\",\"IN\",\"KS\",\"KY\",\"LA\",\"MA\",\"MD\",\"ME\",\"MI\",\"MN\",\"MO\",\"MP\",\"MS\",\"MT\",\"NC\",\"ND\",\"NE\",\"NH\",\"NJ\",\"NM\",\"NV\",\"NY\",\"OH\",\"OK\",\"OR\",\"PA\",\"PR\",\"RI\",\"SC\",\"SD\",\"TN\",\"TX\",\"UT\",\"VA\",\"VI\",\"VT\",\"WA\",\"WI\",\"WV\",\"WY\"],\"tags\":[[[\"State Code\",\"State Code\",null]]]},\"id\":\"3715\",\"type\":\"FactorRange\"},{\"attributes\":{\"bottom\":{\"value\":0},\"fill_alpha\":{\"value\":1.0},\"fill_color\":{\"value\":\"#30a2da\"},\"hatch_alpha\":{\"value\":1.0},\"hatch_color\":{\"value\":\"black\"},\"hatch_scale\":{\"value\":12.0},\"hatch_weight\":{\"value\":1.0},\"line_alpha\":{\"value\":1.0},\"line_cap\":{\"value\":\"butt\"},\"line_color\":{\"value\":\"black\"},\"line_dash\":{\"value\":[]},\"line_dash_offset\":{\"value\":0},\"line_join\":{\"value\":\"bevel\"},\"line_width\":{\"value\":1},\"top\":{\"field\":\"Total_Average_Loan_Amount\"},\"width\":{\"value\":0.8},\"x\":{\"field\":\"State_Code\"}},\"id\":\"3777\",\"type\":\"VBar\"},{\"attributes\":{\"fill_alpha\":{\"value\":0.2},\"fill_color\":{\"value\":\"#e5ae38\"},\"line_alpha\":{\"value\":0.2},\"top\":{\"field\":\"A_2010_hyphen_minus_2014\"},\"width\":{\"value\":0.8},\"x\":{\"field\":\"State_Code\"}},\"id\":\"3805\",\"type\":\"VBar\"},{\"attributes\":{},\"id\":\"3758\",\"type\":\"Selection\"},{\"attributes\":{},\"id\":\"3730\",\"type\":\"CategoricalTicker\"},{\"attributes\":{\"fill_color\":{\"value\":\"#30a2da\"},\"top\":{\"field\":\"Total_Average_Loan_Amount\"},\"width\":{\"value\":0.8},\"x\":{\"field\":\"State_Code\"}},\"id\":\"3760\",\"type\":\"VBar\"},{\"attributes\":{\"fill_alpha\":{\"value\":0.1},\"fill_color\":{\"value\":\"#30a2da\"},\"line_alpha\":{\"value\":0.1},\"top\":{\"field\":\"Total_Average_Loan_Amount\"},\"width\":{\"value\":0.8},\"x\":{\"field\":\"State_Code\"}},\"id\":\"3761\",\"type\":\"VBar\"},{\"attributes\":{\"fill_alpha\":{\"value\":0.1},\"fill_color\":{\"value\":\"#e5ae38\"},\"line_alpha\":{\"value\":0.1},\"top\":{\"field\":\"A_2010_hyphen_minus_2014\"},\"width\":{\"value\":0.8},\"x\":{\"field\":\"State_Code\"}},\"id\":\"3804\",\"type\":\"VBar\"},{\"attributes\":{\"axis_label\":\"\",\"formatter\":{\"id\":\"3756\"},\"major_label_policy\":{\"id\":\"3754\"},\"ticker\":{\"id\":\"3733\"}},\"id\":\"3732\",\"type\":\"LinearAxis\"},{\"attributes\":{\"label\":{\"value\":\"2010 - 2014\"},\"renderers\":[{\"id\":\"3806\"}]},\"id\":\"3822\",\"type\":\"LegendItem\"},{\"attributes\":{\"source\":{\"id\":\"3757\"}},\"id\":\"3764\",\"type\":\"CDSView\"},{\"attributes\":{\"bottom\":{\"value\":0},\"fill_alpha\":{\"value\":1.0},\"fill_color\":{\"value\":\"#fc4f30\"},\"hatch_alpha\":{\"value\":1.0},\"hatch_color\":{\"value\":\"black\"},\"hatch_scale\":{\"value\":12.0},\"hatch_weight\":{\"value\":1.0},\"line_alpha\":{\"value\":1.0},\"line_cap\":{\"value\":\"butt\"},\"line_color\":{\"value\":\"black\"},\"line_dash\":{\"value\":[]},\"line_dash_offset\":{\"value\":0},\"line_join\":{\"value\":\"bevel\"},\"line_width\":{\"value\":1},\"top\":{\"field\":\"A_2015_hyphen_minus_2016\"},\"width\":{\"value\":0.8},\"x\":{\"field\":\"State_Code\"}},\"id\":\"3799\",\"type\":\"VBar\"},{\"attributes\":{\"children\":[{\"id\":\"3714\"},{\"id\":\"3720\"},{\"id\":\"3950\"}],\"margin\":[0,0,0,0],\"name\":\"Row05979\",\"tags\":[\"embedded\"]},\"id\":\"3713\",\"type\":\"Row\"},{\"attributes\":{\"source\":{\"id\":\"3778\"}},\"id\":\"3785\",\"type\":\"CDSView\"},{\"attributes\":{\"margin\":[5,5,5,5],\"name\":\"HSpacer05983\",\"sizing_mode\":\"stretch_width\"},\"id\":\"3714\",\"type\":\"Spacer\"},{\"attributes\":{\"axis\":{\"id\":\"3732\"},\"dimension\":1,\"grid_line_color\":null,\"ticker\":null},\"id\":\"3735\",\"type\":\"Grid\"},{\"attributes\":{\"data_source\":{\"id\":\"3800\"},\"glyph\":{\"id\":\"3803\"},\"hover_glyph\":null,\"muted_glyph\":{\"id\":\"3805\"},\"nonselection_glyph\":{\"id\":\"3804\"},\"selection_glyph\":{\"id\":\"3823\"},\"view\":{\"id\":\"3807\"}},\"id\":\"3806\",\"type\":\"GlyphRenderer\"},{\"attributes\":{\"fill_alpha\":{\"value\":0.2},\"fill_color\":{\"value\":\"#30a2da\"},\"line_alpha\":{\"value\":0.2},\"top\":{\"field\":\"Total_Average_Loan_Amount\"},\"width\":{\"value\":0.8},\"x\":{\"field\":\"State_Code\"}},\"id\":\"3762\",\"type\":\"VBar\"},{\"attributes\":{\"data_source\":{\"id\":\"3778\"},\"glyph\":{\"id\":\"3781\"},\"hover_glyph\":null,\"muted_glyph\":{\"id\":\"3783\"},\"nonselection_glyph\":{\"id\":\"3782\"},\"selection_glyph\":{\"id\":\"3799\"},\"view\":{\"id\":\"3785\"}},\"id\":\"3784\",\"type\":\"GlyphRenderer\"},{\"attributes\":{\"callback\":null,\"renderers\":[{\"id\":\"3784\"}],\"tags\":[\"hv_created\"],\"tooltips\":[[\"State Code\",\"@{State_Code}\"],[\"2015 - 2016\",\"@{A_2015_hyphen_minus_2016}\"]]},\"id\":\"3718\",\"type\":\"HoverTool\"},{\"attributes\":{\"bottom_units\":\"screen\",\"fill_alpha\":0.5,\"fill_color\":\"lightgrey\",\"left_units\":\"screen\",\"level\":\"overlay\",\"line_alpha\":1.0,\"line_color\":\"black\",\"line_dash\":[4,4],\"line_width\":2,\"right_units\":\"screen\",\"syncable\":false,\"top_units\":\"screen\"},\"id\":\"3741\",\"type\":\"BoxAnnotation\"},{\"attributes\":{\"active_multi\":null,\"tools\":[{\"id\":\"3717\"},{\"id\":\"3718\"},{\"id\":\"3719\"},{\"id\":\"3736\"},{\"id\":\"3737\"},{\"id\":\"3738\"},{\"id\":\"3739\"},{\"id\":\"3740\"}]},\"id\":\"3742\",\"type\":\"Toolbar\"},{\"attributes\":{},\"id\":\"3753\",\"type\":\"CategoricalTickFormatter\"},{\"attributes\":{},\"id\":\"3756\",\"type\":\"BasicTickFormatter\"},{\"attributes\":{\"fill_color\":{\"value\":\"#fc4f30\"},\"top\":{\"field\":\"A_2015_hyphen_minus_2016\"},\"width\":{\"value\":0.8},\"x\":{\"field\":\"State_Code\"}},\"id\":\"3781\",\"type\":\"VBar\"},{\"attributes\":{\"below\":[{\"id\":\"3729\"}],\"center\":[{\"id\":\"3731\"},{\"id\":\"3735\"}],\"height\":300,\"left\":[{\"id\":\"3732\"}],\"margin\":[5,5,5,5],\"min_border_bottom\":10,\"min_border_left\":10,\"min_border_right\":10,\"min_border_top\":10,\"renderers\":[{\"id\":\"3763\"},{\"id\":\"3784\"},{\"id\":\"3806\"}],\"right\":[{\"id\":\"3775\"}],\"sizing_mode\":\"fixed\",\"title\":{\"id\":\"3721\"},\"toolbar\":{\"id\":\"3742\"},\"width\":700,\"x_range\":{\"id\":\"3715\"},\"x_scale\":{\"id\":\"3725\"},\"y_range\":{\"id\":\"3716\"},\"y_scale\":{\"id\":\"3727\"}},\"id\":\"3720\",\"subtype\":\"Figure\",\"type\":\"Plot\"},{\"attributes\":{\"label\":{\"value\":\"2015-2016\"},\"renderers\":[{\"id\":\"3784\"}]},\"id\":\"3798\",\"type\":\"LegendItem\"},{\"attributes\":{},\"id\":\"3779\",\"type\":\"Selection\"},{\"attributes\":{},\"id\":\"3821\",\"type\":\"UnionRenderers\"},{\"attributes\":{\"end\":3526420.084,\"reset_end\":3526420.084,\"reset_start\":0.0,\"tags\":[[[\"Total Average Loan Amount\",\"Total Average Loan Amount\",null]]]},\"id\":\"3716\",\"type\":\"Range1d\"},{\"attributes\":{},\"id\":\"3801\",\"type\":\"Selection\"},{\"attributes\":{},\"id\":\"3751\",\"type\":\"AllLabels\"}],\"root_ids\":[\"3713\"]},\"title\":\"Bokeh Application\",\"version\":\"2.3.2\"}};\n",
       "    var render_items = [{\"docid\":\"632ce5ab-0a82-4a0a-9c50-283652bb2847\",\"root_ids\":[\"3713\"],\"roots\":{\"3713\":\"2329c57d-f7de-42c6-a84a-5e374ec7411d\"}}];\n",
       "    root.Bokeh.embed.embed_items_notebook(docs_json, render_items);\n",
       "  }\n",
       "  if (root.Bokeh !== undefined && root.Bokeh.Panel !== undefined) {\n",
       "    embed_document(root);\n",
       "  } else {\n",
       "    var attempts = 0;\n",
       "    var timer = setInterval(function(root) {\n",
       "      if (root.Bokeh !== undefined && root.Bokeh.Panel !== undefined) {\n",
       "        clearInterval(timer);\n",
       "        embed_document(root);\n",
       "      } else if (document.readyState == \"complete\") {\n",
       "        attempts++;\n",
       "        if (attempts > 200) {\n",
       "          clearInterval(timer);\n",
       "          console.log(\"Bokeh: ERROR: Unable to run BokehJS code because BokehJS library is missing\");\n",
       "        }\n",
       "      }\n",
       "    }, 25, root)\n",
       "  }\n",
       "})(window);</script>"
      ],
      "text/plain": [
       ":Overlay\n",
       "   .Bars.State_Average            :Bars   [State Code]   (Total Average Loan Amount)\n",
       "   .Bars.A_2015_hyphen_minus_2016 :Bars   [State Code]   (2015 - 2016)\n",
       "   .Bars.A_2010_hyphen_minus_2014 :Bars   [State Code]   (2010 - 2014)"
      ]
     },
     "execution_count": 30,
     "metadata": {
      "application/vnd.holoviews_exec.v0+json": {
       "id": "3713"
      }
     },
     "output_type": "execute_result"
    }
   ],
   "source": [
    "# Overlay plots\n",
    "average_loan_amount.hvplot.bar(label='State Average') * loan_data_1.hvplot.bar(label=\"2015-2016\") * loan_data_2.hvplot.bar(label=\"2010 - 2014\")"
   ]
  },
  {
   "cell_type": "code",
   "execution_count": null,
   "metadata": {},
   "outputs": [],
   "source": []
  }
 ],
 "metadata": {
  "kernel_info": {
   "name": "python3"
  },
  "kernelspec": {
   "display_name": "Python 3",
   "language": "python",
   "name": "python3"
  },
  "language_info": {
   "codemirror_mode": {
    "name": "ipython",
    "version": 3
   },
   "file_extension": ".py",
   "mimetype": "text/x-python",
   "name": "python",
   "nbconvert_exporter": "python",
   "pygments_lexer": "ipython3",
   "version": "3.7.10"
  },
  "nteract": {
   "version": "0.12.3"
  }
 },
 "nbformat": 4,
 "nbformat_minor": 4
}
