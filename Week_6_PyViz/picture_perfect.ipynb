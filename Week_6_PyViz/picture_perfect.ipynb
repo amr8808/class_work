{
 "cells": [
  {
   "cell_type": "markdown",
   "metadata": {},
   "source": [
    "# Picture Perfect"
   ]
  },
  {
   "cell_type": "markdown",
   "metadata": {},
   "source": [
    "Perfect your visualizations by adding in some finishing touches. Use the hvPlot options and customization attributes to change the look and feel of each visualization, paying particular attention to the legibility of axis labels and the availability of titles and labels."
   ]
  },
  {
   "cell_type": "code",
   "execution_count": 2,
   "metadata": {},
   "outputs": [],
   "source": [
    "import pandas as pd\n",
    "import hvplot.pandas\n",
    "from pathlib import Path"
   ]
  },
  {
   "cell_type": "markdown",
   "metadata": {},
   "source": [
    "### Prep the data"
   ]
  },
  {
   "cell_type": "code",
   "execution_count": 4,
   "metadata": {},
   "outputs": [
    {
     "data": {
      "text/html": [
       "<div>\n",
       "<style scoped>\n",
       "    .dataframe tbody tr th:only-of-type {\n",
       "        vertical-align: middle;\n",
       "    }\n",
       "\n",
       "    .dataframe tbody tr th {\n",
       "        vertical-align: top;\n",
       "    }\n",
       "\n",
       "    .dataframe thead th {\n",
       "        text-align: right;\n",
       "    }\n",
       "</style>\n",
       "<table border=\"1\" class=\"dataframe\">\n",
       "  <thead>\n",
       "    <tr style=\"text-align: right;\">\n",
       "      <th></th>\n",
       "      <th>Total Active Loans</th>\n",
       "      <th>Total Average Loan Amount</th>\n",
       "      <th>2015 - 2016</th>\n",
       "      <th>2010 - 2014</th>\n",
       "      <th>Self Help Loan</th>\n",
       "      <th>Leveraged Loan</th>\n",
       "    </tr>\n",
       "    <tr>\n",
       "      <th>State Code</th>\n",
       "      <th></th>\n",
       "      <th></th>\n",
       "      <th></th>\n",
       "      <th></th>\n",
       "      <th></th>\n",
       "      <th></th>\n",
       "    </tr>\n",
       "  </thead>\n",
       "  <tbody>\n",
       "    <tr>\n",
       "      <th>AK</th>\n",
       "      <td>897</td>\n",
       "      <td>148811.39</td>\n",
       "      <td>189583.49</td>\n",
       "      <td>172371.39</td>\n",
       "      <td>96</td>\n",
       "      <td>450</td>\n",
       "    </tr>\n",
       "    <tr>\n",
       "      <th>AL</th>\n",
       "      <td>7455</td>\n",
       "      <td>435054.53</td>\n",
       "      <td>686066.79</td>\n",
       "      <td>648663.44</td>\n",
       "      <td>18</td>\n",
       "      <td>605</td>\n",
       "    </tr>\n",
       "    <tr>\n",
       "      <th>AR</th>\n",
       "      <td>6186</td>\n",
       "      <td>263212.27</td>\n",
       "      <td>355445.70</td>\n",
       "      <td>351562.42</td>\n",
       "      <td>861</td>\n",
       "      <td>567</td>\n",
       "    </tr>\n",
       "    <tr>\n",
       "      <th>AZ</th>\n",
       "      <td>3982</td>\n",
       "      <td>597591.94</td>\n",
       "      <td>507532.91</td>\n",
       "      <td>599688.64</td>\n",
       "      <td>1718</td>\n",
       "      <td>1057</td>\n",
       "    </tr>\n",
       "    <tr>\n",
       "      <th>CA</th>\n",
       "      <td>8875</td>\n",
       "      <td>2805653.85</td>\n",
       "      <td>3008866.40</td>\n",
       "      <td>2881741.23</td>\n",
       "      <td>4134</td>\n",
       "      <td>2231</td>\n",
       "    </tr>\n",
       "  </tbody>\n",
       "</table>\n",
       "</div>"
      ],
      "text/plain": [
       "            Total Active Loans  Total Average Loan Amount  2015 - 2016  \\\n",
       "State Code                                                               \n",
       "AK                         897                  148811.39    189583.49   \n",
       "AL                        7455                  435054.53    686066.79   \n",
       "AR                        6186                  263212.27    355445.70   \n",
       "AZ                        3982                  597591.94    507532.91   \n",
       "CA                        8875                 2805653.85   3008866.40   \n",
       "\n",
       "            2010 - 2014  Self Help Loan  Leveraged Loan  \n",
       "State Code                                               \n",
       "AK            172371.39              96             450  \n",
       "AL            648663.44              18             605  \n",
       "AR            351562.42             861             567  \n",
       "AZ            599688.64            1718            1057  \n",
       "CA           2881741.23            4134            2231  "
      ]
     },
     "execution_count": 4,
     "metadata": {},
     "output_type": "execute_result"
    }
   ],
   "source": [
    "# Read in loan data\n",
    "loan_data = pd.read_csv(Path(\"state_loan_data.csv\"))\n",
    "\n",
    "# Group data by state for state-level analysis\n",
    "loan_data = loan_data.groupby('State Code').sum()\n",
    "loan_data.head()"
   ]
  },
  {
   "cell_type": "markdown",
   "metadata": {},
   "source": [
    "### Rotate x axis labels and format y axis values using yformatter"
   ]
  },
  {
   "cell_type": "code",
   "execution_count": 48,
   "metadata": {},
   "outputs": [
    {
     "data": {},
     "metadata": {},
     "output_type": "display_data"
    },
    {
     "data": {
      "application/vnd.holoviews_exec.v0+json": "",
      "text/html": [
       "<div id='7418'>\n",
       "\n",
       "\n",
       "\n",
       "\n",
       "\n",
       "  <div class=\"bk-root\" id=\"c8fbc970-5439-433c-ae7c-316fe95f7a80\" data-root-id=\"7418\"></div>\n",
       "</div>\n",
       "<script type=\"application/javascript\">(function(root) {\n",
       "  function embed_document(root) {\n",
       "    var docs_json = {\"34aa1672-dee9-4380-b0aa-533de817ddbf\":{\"defs\":[{\"extends\":null,\"module\":null,\"name\":\"ReactiveHTML1\",\"overrides\":[],\"properties\":[]},{\"extends\":null,\"module\":null,\"name\":\"FlexBox1\",\"overrides\":[],\"properties\":[{\"default\":\"flex-start\",\"kind\":null,\"name\":\"align_content\"},{\"default\":\"flex-start\",\"kind\":null,\"name\":\"align_items\"},{\"default\":\"row\",\"kind\":null,\"name\":\"flex_direction\"},{\"default\":\"wrap\",\"kind\":null,\"name\":\"flex_wrap\"},{\"default\":\"flex-start\",\"kind\":null,\"name\":\"justify_content\"}]},{\"extends\":null,\"module\":null,\"name\":\"TemplateActions1\",\"overrides\":[],\"properties\":[{\"default\":0,\"kind\":null,\"name\":\"open_modal\"},{\"default\":0,\"kind\":null,\"name\":\"close_modal\"}]},{\"extends\":null,\"module\":null,\"name\":\"MaterialTemplateActions1\",\"overrides\":[],\"properties\":[{\"default\":0,\"kind\":null,\"name\":\"open_modal\"},{\"default\":0,\"kind\":null,\"name\":\"close_modal\"}]}],\"roots\":{\"references\":[{\"attributes\":{\"axis\":{\"id\":\"7435\"},\"dimension\":1,\"grid_line_color\":null,\"ticker\":null},\"id\":\"7438\",\"type\":\"Grid\"},{\"attributes\":{\"active_multi\":null,\"tools\":[{\"id\":\"7422\"},{\"id\":\"7439\"},{\"id\":\"7440\"},{\"id\":\"7441\"},{\"id\":\"7442\"},{\"id\":\"7443\"}]},\"id\":\"7445\",\"type\":\"Toolbar\"},{\"attributes\":{\"callback\":null,\"renderers\":[{\"id\":\"7458\"}],\"tags\":[\"hv_created\"],\"tooltips\":[[\"State Code\",\"@{State_Code}\"],[\"Total Average Loan Amount\",\"@{Total_Average_Loan_Amount}\"]]},\"id\":\"7422\",\"type\":\"HoverTool\"},{\"attributes\":{\"end\":3081895.235000001,\"reset_end\":3081895.235000001,\"reset_start\":0.0,\"tags\":[[[\"Total Average Loan Amount\",\"Total Average Loan Amount\",null]]]},\"id\":\"7421\",\"type\":\"Range1d\"},{\"attributes\":{\"children\":[{\"id\":\"7419\"},{\"id\":\"7423\"},{\"id\":\"7488\"}],\"margin\":[0,0,0,0],\"name\":\"Row13543\",\"tags\":[\"embedded\"]},\"id\":\"7418\",\"type\":\"Row\"},{\"attributes\":{},\"id\":\"7436\",\"type\":\"BasicTicker\"},{\"attributes\":{\"axis_label\":\"\",\"formatter\":{\"id\":\"7461\"},\"major_label_policy\":{\"id\":\"7466\"},\"ticker\":{\"id\":\"7436\"}},\"id\":\"7435\",\"type\":\"LinearAxis\"},{\"attributes\":{\"fill_color\":{\"value\":\"#30a2da\"},\"top\":{\"field\":\"Total_Average_Loan_Amount\"},\"width\":{\"value\":0.8},\"x\":{\"field\":\"State_Code\"}},\"id\":\"7455\",\"type\":\"VBar\"},{\"attributes\":{\"data\":{\"State_Code\":[\"MP\",\"PR\",\"ND\",\"SD\",\"VI\",\"WY\",\"VT\",\"MT\",\"DE\",\"AK\",\"GU\",\"MS\",\"WV\",\"ID\",\"ME\",\"NM\",\"NE\",\"NH\",\"AR\",\"IA\",\"KS\",\"HI\",\"RI\",\"OK\",\"NV\",\"AL\",\"LA\",\"KY\",\"SC\",\"CT\",\"MO\",\"CO\",\"AZ\",\"UT\",\"OR\",\"TN\",\"IN\",\"WI\",\"MD\",\"MN\",\"VA\",\"IL\",\"NY\",\"GA\",\"MA\",\"MI\",\"NC\",\"NJ\",\"WA\",\"OH\",\"FL\",\"PA\",\"TX\",\"CA\"],\"Total_Average_Loan_Amount\":{\"__ndarray__\":\"AAAAAAAd5UAAAAAAwFTsQB+F61Hs6PJArkfhelhS9UAAAAAAUEz3QAAAAAAwJPlA7FG4HmFD+UA9CtejDLn5QFK4HoX7dABB7FG4HlsqAkEAAAAAaEMGQa5H4Xr2bQdBAAAAAAi+CEGamZmZNUkJQRSuR+FaWAlBwvUoXLdjC0HD9Shc8eQLQcL1KFw/PQ5BSOF6FLEQEEEfhetRDdwSQRSuR+E0thNBrkfhem+WFEGQwvUoPlcVQWZmZmby+RVB7FG4HoasF0HrUbgeuo0aQeF6FK5i2BxBexSuR6tbHUEzMzMzaUggQR+F61HQZiBBmZmZGceBIUH2KFwP7PkhQRWuR+GvPCJBkML1KOZQIkG4HoVrQdYiQfYoXI9MiSRBwvUoXOn3JEEAAAAAUF8lQShcj0JNKyhBw/Uo3BUSKUFI4XqUXjQpQVS4HgX9tylB4noULhp5MEHC9SjcrLUwQSlcj8J1EzFBXI/CtTRDMUGamZnZk9ExQRSuR6EWtzJBkML1KE+jM0GjcD3K+6E1QfYoXE887TdBXI/CdS94OUFPuB5FM4xDQc7MzOzKZ0VB\",\"dtype\":\"float64\",\"order\":\"little\",\"shape\":[54]}},\"selected\":{\"id\":\"7453\"},\"selection_policy\":{\"id\":\"7478\"}},\"id\":\"7452\",\"type\":\"ColumnDataSource\"},{\"attributes\":{},\"id\":\"7453\",\"type\":\"Selection\"},{\"attributes\":{\"format\":\"%.0f\"},\"id\":\"7461\",\"type\":\"PrintfTickFormatter\"},{\"attributes\":{\"bottom_units\":\"screen\",\"fill_alpha\":0.5,\"fill_color\":\"lightgrey\",\"left_units\":\"screen\",\"level\":\"overlay\",\"line_alpha\":1.0,\"line_color\":\"black\",\"line_dash\":[4,4],\"line_width\":2,\"right_units\":\"screen\",\"syncable\":false,\"top_units\":\"screen\"},\"id\":\"7444\",\"type\":\"BoxAnnotation\"},{\"attributes\":{},\"id\":\"7463\",\"type\":\"AllLabels\"},{\"attributes\":{},\"id\":\"7464\",\"type\":\"CategoricalTickFormatter\"},{\"attributes\":{\"data_source\":{\"id\":\"7452\"},\"glyph\":{\"id\":\"7455\"},\"hover_glyph\":null,\"muted_glyph\":{\"id\":\"7457\"},\"nonselection_glyph\":{\"id\":\"7456\"},\"selection_glyph\":{\"id\":\"7460\"},\"view\":{\"id\":\"7459\"}},\"id\":\"7458\",\"type\":\"GlyphRenderer\"},{\"attributes\":{},\"id\":\"7430\",\"type\":\"LinearScale\"},{\"attributes\":{\"margin\":[5,5,5,5],\"name\":\"HSpacer13547\",\"sizing_mode\":\"stretch_width\"},\"id\":\"7419\",\"type\":\"Spacer\"},{\"attributes\":{\"source\":{\"id\":\"7452\"}},\"id\":\"7459\",\"type\":\"CDSView\"},{\"attributes\":{\"bottom\":{\"value\":0},\"fill_alpha\":{\"value\":1.0},\"fill_color\":{\"value\":\"#30a2da\"},\"hatch_alpha\":{\"value\":1.0},\"hatch_color\":{\"value\":\"black\"},\"hatch_scale\":{\"value\":12.0},\"hatch_weight\":{\"value\":1.0},\"line_alpha\":{\"value\":1.0},\"line_cap\":{\"value\":\"butt\"},\"line_color\":{\"value\":\"black\"},\"line_dash\":{\"value\":[]},\"line_dash_offset\":{\"value\":0},\"line_join\":{\"value\":\"bevel\"},\"line_width\":{\"value\":1},\"top\":{\"field\":\"Total_Average_Loan_Amount\"},\"width\":{\"value\":0.8},\"x\":{\"field\":\"State_Code\"}},\"id\":\"7460\",\"type\":\"VBar\"},{\"attributes\":{},\"id\":\"7439\",\"type\":\"SaveTool\"},{\"attributes\":{},\"id\":\"7440\",\"type\":\"PanTool\"},{\"attributes\":{\"fill_alpha\":{\"value\":0.1},\"fill_color\":{\"value\":\"#30a2da\"},\"line_alpha\":{\"value\":0.1},\"top\":{\"field\":\"Total_Average_Loan_Amount\"},\"width\":{\"value\":0.8},\"x\":{\"field\":\"State_Code\"}},\"id\":\"7456\",\"type\":\"VBar\"},{\"attributes\":{},\"id\":\"7443\",\"type\":\"ResetTool\"},{\"attributes\":{},\"id\":\"7466\",\"type\":\"AllLabels\"},{\"attributes\":{\"below\":[{\"id\":\"7432\"}],\"center\":[{\"id\":\"7434\"},{\"id\":\"7438\"}],\"height\":300,\"left\":[{\"id\":\"7435\"}],\"margin\":[5,5,5,5],\"min_border_bottom\":10,\"min_border_left\":10,\"min_border_right\":10,\"min_border_top\":10,\"renderers\":[{\"id\":\"7458\"}],\"sizing_mode\":\"fixed\",\"title\":{\"id\":\"7424\"},\"toolbar\":{\"id\":\"7445\"},\"width\":700,\"x_range\":{\"id\":\"7420\"},\"x_scale\":{\"id\":\"7428\"},\"y_range\":{\"id\":\"7421\"},\"y_scale\":{\"id\":\"7430\"}},\"id\":\"7423\",\"subtype\":\"Figure\",\"type\":\"Plot\"},{\"attributes\":{},\"id\":\"7441\",\"type\":\"WheelZoomTool\"},{\"attributes\":{\"margin\":[5,5,5,5],\"name\":\"HSpacer13548\",\"sizing_mode\":\"stretch_width\"},\"id\":\"7488\",\"type\":\"Spacer\"},{\"attributes\":{\"overlay\":{\"id\":\"7444\"}},\"id\":\"7442\",\"type\":\"BoxZoomTool\"},{\"attributes\":{\"fill_alpha\":{\"value\":0.2},\"fill_color\":{\"value\":\"#30a2da\"},\"line_alpha\":{\"value\":0.2},\"top\":{\"field\":\"Total_Average_Loan_Amount\"},\"width\":{\"value\":0.8},\"x\":{\"field\":\"State_Code\"}},\"id\":\"7457\",\"type\":\"VBar\"},{\"attributes\":{},\"id\":\"7478\",\"type\":\"UnionRenderers\"},{\"attributes\":{},\"id\":\"7433\",\"type\":\"CategoricalTicker\"},{\"attributes\":{\"axis\":{\"id\":\"7432\"},\"grid_line_color\":null,\"ticker\":null},\"id\":\"7434\",\"type\":\"Grid\"},{\"attributes\":{\"text\":\"2019 Total Average Amount\",\"text_color\":\"black\",\"text_font_size\":\"12pt\"},\"id\":\"7424\",\"type\":\"Title\"},{\"attributes\":{\"factors\":[\"MP\",\"PR\",\"ND\",\"SD\",\"VI\",\"WY\",\"VT\",\"MT\",\"DE\",\"AK\",\"GU\",\"MS\",\"WV\",\"ID\",\"ME\",\"NM\",\"NE\",\"NH\",\"AR\",\"IA\",\"KS\",\"HI\",\"RI\",\"OK\",\"NV\",\"AL\",\"LA\",\"KY\",\"SC\",\"CT\",\"MO\",\"CO\",\"AZ\",\"UT\",\"OR\",\"TN\",\"IN\",\"WI\",\"MD\",\"MN\",\"VA\",\"IL\",\"NY\",\"GA\",\"MA\",\"MI\",\"NC\",\"NJ\",\"WA\",\"OH\",\"FL\",\"PA\",\"TX\",\"CA\"],\"tags\":[[[\"State Code\",\"State Code\",null]]]},\"id\":\"7420\",\"type\":\"FactorRange\"},{\"attributes\":{},\"id\":\"7428\",\"type\":\"CategoricalScale\"},{\"attributes\":{\"axis_label\":\"State Code\",\"formatter\":{\"id\":\"7464\"},\"major_label_orientation\":1.5707963267948966,\"major_label_policy\":{\"id\":\"7463\"},\"ticker\":{\"id\":\"7433\"}},\"id\":\"7432\",\"type\":\"CategoricalAxis\"}],\"root_ids\":[\"7418\"]},\"title\":\"Bokeh Application\",\"version\":\"2.3.2\"}};\n",
       "    var render_items = [{\"docid\":\"34aa1672-dee9-4380-b0aa-533de817ddbf\",\"root_ids\":[\"7418\"],\"roots\":{\"7418\":\"c8fbc970-5439-433c-ae7c-316fe95f7a80\"}}];\n",
       "    root.Bokeh.embed.embed_items_notebook(docs_json, render_items);\n",
       "  }\n",
       "  if (root.Bokeh !== undefined && root.Bokeh.Panel !== undefined) {\n",
       "    embed_document(root);\n",
       "  } else {\n",
       "    var attempts = 0;\n",
       "    var timer = setInterval(function(root) {\n",
       "      if (root.Bokeh !== undefined && root.Bokeh.Panel !== undefined) {\n",
       "        clearInterval(timer);\n",
       "        embed_document(root);\n",
       "      } else if (document.readyState == \"complete\") {\n",
       "        attempts++;\n",
       "        if (attempts > 200) {\n",
       "          clearInterval(timer);\n",
       "          console.log(\"Bokeh: ERROR: Unable to run BokehJS code because BokehJS library is missing\");\n",
       "        }\n",
       "      }\n",
       "    }, 25, root)\n",
       "  }\n",
       "})(window);</script>"
      ],
      "text/plain": [
       ":Bars   [State Code]   (Total Average Loan Amount)"
      ]
     },
     "execution_count": 48,
     "metadata": {
      "application/vnd.holoviews_exec.v0+json": {
       "id": "7418"
      }
     },
     "output_type": "execute_result"
    }
   ],
   "source": [
    "# Slice for Total Average Loan Amount\n",
    "loan_data_state = loan_data['Total Average Loan Amount']\n",
    "loan_data_avg_grp = loan_data_state.sort_values()\n",
    "\n",
    "# Use rot and yformatter attributes/options\n",
    "plot_state_avgs = loan_data_avg_grp.hvplot.bar(label='2019 Total Average Amount', rot=90).opts(yformatter=\"%.0f\")\n",
    "plot_state_avgs"
   ]
  },
  {
   "cell_type": "code",
   "execution_count": 37,
   "metadata": {},
   "outputs": [
    {
     "data": {
      "text/plain": [
       "State Code\n",
       "MP    43240.00\n",
       "PR    58022.00\n",
       "ND    77454.77\n",
       "SD    87333.53\n",
       "VI    95429.00\n",
       "Name: Total Average Loan Amount, dtype: float64"
      ]
     },
     "execution_count": 37,
     "metadata": {},
     "output_type": "execute_result"
    }
   ],
   "source": [
    "loan_data_avg_grp.head()"
   ]
  },
  {
   "cell_type": "code",
   "execution_count": 64,
   "metadata": {},
   "outputs": [
    {
     "data": {},
     "metadata": {},
     "output_type": "display_data"
    },
    {
     "data": {
      "application/vnd.holoviews_exec.v0+json": "",
      "text/html": [
       "<div id='9890'>\n",
       "\n",
       "\n",
       "\n",
       "\n",
       "\n",
       "  <div class=\"bk-root\" id=\"ae2fe609-0c23-4e1b-ad8e-52287e8e1b35\" data-root-id=\"9890\"></div>\n",
       "</div>\n",
       "<script type=\"application/javascript\">(function(root) {\n",
       "  function embed_document(root) {\n",
       "    var docs_json = {\"cc7eab5b-5e54-4e8c-81e8-07242c4165a4\":{\"defs\":[{\"extends\":null,\"module\":null,\"name\":\"ReactiveHTML1\",\"overrides\":[],\"properties\":[]},{\"extends\":null,\"module\":null,\"name\":\"FlexBox1\",\"overrides\":[],\"properties\":[{\"default\":\"flex-start\",\"kind\":null,\"name\":\"align_content\"},{\"default\":\"flex-start\",\"kind\":null,\"name\":\"align_items\"},{\"default\":\"row\",\"kind\":null,\"name\":\"flex_direction\"},{\"default\":\"wrap\",\"kind\":null,\"name\":\"flex_wrap\"},{\"default\":\"flex-start\",\"kind\":null,\"name\":\"justify_content\"}]},{\"extends\":null,\"module\":null,\"name\":\"TemplateActions1\",\"overrides\":[],\"properties\":[{\"default\":0,\"kind\":null,\"name\":\"open_modal\"},{\"default\":0,\"kind\":null,\"name\":\"close_modal\"}]},{\"extends\":null,\"module\":null,\"name\":\"MaterialTemplateActions1\",\"overrides\":[],\"properties\":[{\"default\":0,\"kind\":null,\"name\":\"open_modal\"},{\"default\":0,\"kind\":null,\"name\":\"close_modal\"}]}],\"roots\":{\"references\":[{\"attributes\":{},\"id\":\"9900\",\"type\":\"CategoricalScale\"},{\"attributes\":{\"bottom_units\":\"screen\",\"fill_alpha\":0.5,\"fill_color\":\"lightgrey\",\"left_units\":\"screen\",\"level\":\"overlay\",\"line_alpha\":1.0,\"line_color\":\"black\",\"line_dash\":[4,4],\"line_width\":2,\"right_units\":\"screen\",\"syncable\":false,\"top_units\":\"screen\"},\"id\":\"9916\",\"type\":\"BoxAnnotation\"},{\"attributes\":{\"axis\":{\"id\":\"9904\"},\"grid_line_color\":null,\"ticker\":null},\"id\":\"9906\",\"type\":\"Grid\"},{\"attributes\":{\"data_source\":{\"id\":\"9924\"},\"glyph\":{\"id\":\"9927\"},\"hover_glyph\":null,\"muted_glyph\":{\"id\":\"9929\"},\"nonselection_glyph\":{\"id\":\"9928\"},\"selection_glyph\":{\"id\":\"9932\"},\"view\":{\"id\":\"9931\"}},\"id\":\"9930\",\"type\":\"GlyphRenderer\"},{\"attributes\":{\"data\":{\"2010 - 2014\":{\"__ndarray__\":\"AAAAAEDF2kAAAAAAULzzQPYoXI+yuvlAAAAAACA8/EDXo3A9eh79QFK4HoUDQgBBAAAAAEhJAEEfhetRii8BQR+F61HK1gNB7FG4HpsKBUEAAAAA8M0HQexRuB6nnA5BehSuRytREEEAAAAA0JkQQRSuR+HbvxBBHoXrUQ+UEUEAAAAA4tMRQT4K16PIeRJB4XoUril1FUFnZmZmhZMVQSpcj8K/RxhBXI/C9SBjGEHhehSuMNkYQR+F61GBGxpBKVyPwqpwHEFcj8J1LjYhQfYoXA9pNSJBexSuRxFNIkHsUbiebfYiQRWuR+GuyyNBuB6FazdGJEFwPQrXCiclQVK4HoWcQCVBwvUoXDaVJUEAAACAShInQaRwPQrxaCdBZWZmZtumKEEAAAAAmD0pQSCF61Gd3ilB7FG4HsPlKUEoXI9C7tErQa1H4bqQkjFBZ2ZmZq+ZMUFxPQoXCE8yQWdmZiaJWDJBC9ej8HJLNEE+CtfjgGY0QRWuR2FODzZBZmZmZoAGN0GQwvWoFhA3QRWuRyGWpD1BAAAAwKYZP0HXo3CdZvxFQYXrUThmdUhB\",\"dtype\":\"float64\",\"order\":\"little\",\"shape\":[54]},\"A_2010_hyphen_minus_2014\":{\"__ndarray__\":\"AAAAAEDF2kAAAAAAULzzQPYoXI+yuvlAAAAAACA8/EDXo3A9eh79QFK4HoUDQgBBAAAAAEhJAEEfhetRii8BQR+F61HK1gNB7FG4HpsKBUEAAAAA8M0HQexRuB6nnA5BehSuRytREEEAAAAA0JkQQRSuR+HbvxBBHoXrUQ+UEUEAAAAA4tMRQT4K16PIeRJB4XoUril1FUFnZmZmhZMVQSpcj8K/RxhBXI/C9SBjGEHhehSuMNkYQR+F61GBGxpBKVyPwqpwHEFcj8J1LjYhQfYoXA9pNSJBexSuRxFNIkHsUbiebfYiQRWuR+GuyyNBuB6FazdGJEFwPQrXCiclQVK4HoWcQCVBwvUoXDaVJUEAAACAShInQaRwPQrxaCdBZWZmZtumKEEAAAAAmD0pQSCF61Gd3ilB7FG4HsPlKUEoXI9C7tErQa1H4bqQkjFBZ2ZmZq+ZMUFxPQoXCE8yQWdmZiaJWDJBC9ej8HJLNEE+CtfjgGY0QRWuR2FODzZBZmZmZoAGN0GQwvWoFhA3QRWuRyGWpD1BAAAAwKYZP0HXo3CdZvxFQYXrUThmdUhB\",\"dtype\":\"float64\",\"order\":\"little\",\"shape\":[54]},\"State Code\":[\"MP\",\"PR\",\"SD\",\"VI\",\"ND\",\"VT\",\"WY\",\"MT\",\"DE\",\"AK\",\"GU\",\"ID\",\"NE\",\"WV\",\"ME\",\"NH\",\"MS\",\"NM\",\"AR\",\"IA\",\"NV\",\"RI\",\"KS\",\"HI\",\"OK\",\"MO\",\"KY\",\"AZ\",\"MN\",\"AL\",\"UT\",\"LA\",\"CT\",\"CO\",\"SC\",\"OR\",\"IN\",\"WI\",\"MD\",\"IL\",\"TN\",\"GA\",\"MI\",\"VA\",\"NY\",\"NJ\",\"MA\",\"OH\",\"NC\",\"WA\",\"FL\",\"PA\",\"CA\",\"TX\"],\"State_Code\":[\"MP\",\"PR\",\"SD\",\"VI\",\"ND\",\"VT\",\"WY\",\"MT\",\"DE\",\"AK\",\"GU\",\"ID\",\"NE\",\"WV\",\"ME\",\"NH\",\"MS\",\"NM\",\"AR\",\"IA\",\"NV\",\"RI\",\"KS\",\"HI\",\"OK\",\"MO\",\"KY\",\"AZ\",\"MN\",\"AL\",\"UT\",\"LA\",\"CT\",\"CO\",\"SC\",\"OR\",\"IN\",\"WI\",\"MD\",\"IL\",\"TN\",\"GA\",\"MI\",\"VA\",\"NY\",\"NJ\",\"MA\",\"OH\",\"NC\",\"WA\",\"FL\",\"PA\",\"CA\",\"TX\"]},\"selected\":{\"id\":\"9975\"},\"selection_policy\":{\"id\":\"10010\"}},\"id\":\"9974\",\"type\":\"ColumnDataSource\"},{\"attributes\":{},\"id\":\"9962\",\"type\":\"PanTool\"},{\"attributes\":{\"axis_label\":\"\",\"formatter\":{\"id\":\"9933\"},\"major_label_policy\":{\"id\":\"9938\"},\"ticker\":{\"id\":\"9908\"}},\"id\":\"9907\",\"type\":\"LinearAxis\"},{\"attributes\":{},\"id\":\"9915\",\"type\":\"ResetTool\"},{\"attributes\":{\"axis\":{\"id\":\"9907\"},\"dimension\":1,\"grid_line_color\":null,\"ticker\":null},\"id\":\"9910\",\"type\":\"Grid\"},{\"attributes\":{\"axis_label\":\"State Code\",\"formatter\":{\"id\":\"9936\"},\"major_label_orientation\":1.5707963267948966,\"major_label_policy\":{\"id\":\"9935\"},\"ticker\":{\"id\":\"9905\"}},\"id\":\"9904\",\"type\":\"CategoricalAxis\"},{\"attributes\":{\"axis\":{\"id\":\"9954\"},\"grid_line_color\":null,\"ticker\":null},\"id\":\"9956\",\"type\":\"Grid\"},{\"attributes\":{\"toolbars\":[{\"id\":\"9917\"},{\"id\":\"9967\"}],\"tools\":[{\"id\":\"9894\"},{\"id\":\"9911\"},{\"id\":\"9912\"},{\"id\":\"9913\"},{\"id\":\"9914\"},{\"id\":\"9915\"},{\"id\":\"9944\"},{\"id\":\"9961\"},{\"id\":\"9962\"},{\"id\":\"9963\"},{\"id\":\"9964\"},{\"id\":\"9965\"}]},\"id\":\"10013\",\"type\":\"ProxyToolbar\"},{\"attributes\":{},\"id\":\"9955\",\"type\":\"CategoricalTicker\"},{\"attributes\":{\"below\":[{\"id\":\"9904\"}],\"center\":[{\"id\":\"9906\"},{\"id\":\"9910\"}],\"height\":300,\"left\":[{\"id\":\"9907\"}],\"margin\":null,\"min_border_bottom\":10,\"min_border_left\":10,\"min_border_right\":10,\"min_border_top\":10,\"renderers\":[{\"id\":\"9930\"}],\"sizing_mode\":\"fixed\",\"title\":{\"id\":\"9896\"},\"toolbar\":{\"id\":\"9917\"},\"toolbar_location\":null,\"width\":700,\"x_range\":{\"id\":\"9892\"},\"x_scale\":{\"id\":\"9900\"},\"y_range\":{\"id\":\"9893\"},\"y_scale\":{\"id\":\"9902\"}},\"id\":\"9895\",\"subtype\":\"Figure\",\"type\":\"Plot\"},{\"attributes\":{},\"id\":\"9911\",\"type\":\"SaveTool\"},{\"attributes\":{\"overlay\":{\"id\":\"9966\"}},\"id\":\"9964\",\"type\":\"BoxZoomTool\"},{\"attributes\":{\"text\":\"2015 - 2016\",\"text_color\":\"black\",\"text_font_size\":\"12pt\"},\"id\":\"9896\",\"type\":\"Title\"},{\"attributes\":{},\"id\":\"9961\",\"type\":\"SaveTool\"},{\"attributes\":{},\"id\":\"9950\",\"type\":\"CategoricalScale\"},{\"attributes\":{},\"id\":\"9913\",\"type\":\"WheelZoomTool\"},{\"attributes\":{\"factors\":[\"MP\",\"PR\",\"VI\",\"SD\",\"ND\",\"VT\",\"MT\",\"WY\",\"DE\",\"AK\",\"GU\",\"ID\",\"NE\",\"WV\",\"ME\",\"NH\",\"NM\",\"MS\",\"AR\",\"IA\",\"KS\",\"RI\",\"HI\",\"NV\",\"OK\",\"AZ\",\"KY\",\"MO\",\"MN\",\"AL\",\"CT\",\"UT\",\"LA\",\"IL\",\"CO\",\"WI\",\"SC\",\"OR\",\"IN\",\"TN\",\"MD\",\"MA\",\"GA\",\"NY\",\"NJ\",\"MI\",\"VA\",\"WA\",\"NC\",\"OH\",\"PA\",\"FL\",\"TX\",\"CA\"],\"tags\":[[[\"State Code\",\"State Code\",null]]]},\"id\":\"9892\",\"type\":\"FactorRange\"},{\"attributes\":{\"fill_alpha\":{\"value\":0.1},\"fill_color\":{\"value\":\"#30a2da\"},\"line_alpha\":{\"value\":0.1},\"line_color\":{\"value\":\"#30a2da\"},\"size\":{\"value\":5.477225575051661},\"x\":{\"field\":\"State Code\"},\"y\":{\"field\":\"2015 - 2016\"}},\"id\":\"9928\",\"type\":\"Scatter\"},{\"attributes\":{\"fill_alpha\":{\"value\":0.2},\"fill_color\":{\"value\":\"#30a2da\"},\"line_alpha\":{\"value\":0.2},\"line_color\":{\"value\":\"#30a2da\"},\"size\":{\"value\":5.477225575051661},\"x\":{\"field\":\"State Code\"},\"y\":{\"field\":\"2015 - 2016\"}},\"id\":\"9929\",\"type\":\"Scatter\"},{\"attributes\":{},\"id\":\"9958\",\"type\":\"BasicTicker\"},{\"attributes\":{\"data_source\":{\"id\":\"9974\"},\"glyph\":{\"id\":\"9977\"},\"hover_glyph\":null,\"muted_glyph\":{\"id\":\"9979\"},\"nonselection_glyph\":{\"id\":\"9978\"},\"selection_glyph\":{\"id\":\"9982\"},\"view\":{\"id\":\"9981\"}},\"id\":\"9980\",\"type\":\"GlyphRenderer\"},{\"attributes\":{},\"id\":\"9965\",\"type\":\"ResetTool\"},{\"attributes\":{},\"id\":\"10000\",\"type\":\"UnionRenderers\"},{\"attributes\":{\"fill_alpha\":{\"value\":0.2},\"fill_color\":{\"value\":\"#30a2da\"},\"line_alpha\":{\"value\":0.2},\"line_color\":{\"value\":\"#30a2da\"},\"size\":{\"value\":5.477225575051661},\"x\":{\"field\":\"State Code\"},\"y\":{\"field\":\"2010 - 2014\"}},\"id\":\"9979\",\"type\":\"Scatter\"},{\"attributes\":{},\"id\":\"9902\",\"type\":\"LinearScale\"},{\"attributes\":{\"axis\":{\"id\":\"9957\"},\"dimension\":1,\"grid_line_color\":null,\"ticker\":null},\"id\":\"9960\",\"type\":\"Grid\"},{\"attributes\":{},\"id\":\"9986\",\"type\":\"CategoricalTickFormatter\"},{\"attributes\":{\"children\":[{\"id\":\"10014\"},{\"id\":\"10012\"}]},\"id\":\"10015\",\"type\":\"Column\"},{\"attributes\":{\"axis_label\":\"State Code\",\"formatter\":{\"id\":\"9986\"},\"major_label_orientation\":1.5707963267948966,\"major_label_policy\":{\"id\":\"9985\"},\"ticker\":{\"id\":\"9955\"}},\"id\":\"9954\",\"type\":\"CategoricalAxis\"},{\"attributes\":{\"fill_color\":{\"value\":\"#30a2da\"},\"line_color\":{\"value\":\"#30a2da\"},\"size\":{\"value\":5.477225575051661},\"x\":{\"field\":\"State Code\"},\"y\":{\"field\":\"2010 - 2014\"}},\"id\":\"9977\",\"type\":\"Scatter\"},{\"attributes\":{\"children\":[{\"id\":\"9891\"},{\"id\":\"10015\"},{\"id\":\"10178\"}],\"margin\":[0,0,0,0],\"name\":\"Row19968\",\"tags\":[\"embedded\"]},\"id\":\"9890\",\"type\":\"Row\"},{\"attributes\":{\"axis_label\":\"\",\"formatter\":{\"id\":\"9983\"},\"major_label_policy\":{\"id\":\"9988\"},\"ticker\":{\"id\":\"9958\"}},\"id\":\"9957\",\"type\":\"LinearAxis\"},{\"attributes\":{},\"id\":\"9905\",\"type\":\"CategoricalTicker\"},{\"attributes\":{\"overlay\":{\"id\":\"9916\"}},\"id\":\"9914\",\"type\":\"BoxZoomTool\"},{\"attributes\":{},\"id\":\"9952\",\"type\":\"LinearScale\"},{\"attributes\":{},\"id\":\"9975\",\"type\":\"Selection\"},{\"attributes\":{\"text\":\"2010 - 2014\",\"text_color\":\"black\",\"text_font_size\":\"12pt\"},\"id\":\"9946\",\"type\":\"Title\"},{\"attributes\":{\"format\":\"%.0f\"},\"id\":\"9933\",\"type\":\"PrintfTickFormatter\"},{\"attributes\":{\"children\":[[{\"id\":\"9895\"},0,0],[{\"id\":\"9945\"},0,1]]},\"id\":\"10012\",\"type\":\"GridBox\"},{\"attributes\":{},\"id\":\"9908\",\"type\":\"BasicTicker\"},{\"attributes\":{},\"id\":\"10010\",\"type\":\"UnionRenderers\"},{\"attributes\":{},\"id\":\"9912\",\"type\":\"PanTool\"},{\"attributes\":{\"fill_color\":{\"value\":\"#30a2da\"},\"line_color\":{\"value\":\"#30a2da\"},\"size\":{\"value\":5.477225575051661},\"x\":{\"field\":\"State Code\"},\"y\":{\"field\":\"2015 - 2016\"}},\"id\":\"9927\",\"type\":\"Scatter\"},{\"attributes\":{\"active_multi\":null,\"tools\":[{\"id\":\"9894\"},{\"id\":\"9911\"},{\"id\":\"9912\"},{\"id\":\"9913\"},{\"id\":\"9914\"},{\"id\":\"9915\"}]},\"id\":\"9917\",\"type\":\"Toolbar\"},{\"attributes\":{\"source\":{\"id\":\"9924\"}},\"id\":\"9931\",\"type\":\"CDSView\"},{\"attributes\":{\"bottom_units\":\"screen\",\"fill_alpha\":0.5,\"fill_color\":\"lightgrey\",\"left_units\":\"screen\",\"level\":\"overlay\",\"line_alpha\":1.0,\"line_color\":\"black\",\"line_dash\":[4,4],\"line_width\":2,\"right_units\":\"screen\",\"syncable\":false,\"top_units\":\"screen\"},\"id\":\"9966\",\"type\":\"BoxAnnotation\"},{\"attributes\":{\"angle\":{\"value\":0.0},\"fill_alpha\":{\"value\":1.0},\"fill_color\":{\"value\":\"#30a2da\"},\"hatch_alpha\":{\"value\":1.0},\"hatch_color\":{\"value\":\"black\"},\"hatch_scale\":{\"value\":12.0},\"hatch_weight\":{\"value\":1.0},\"line_alpha\":{\"value\":1.0},\"line_cap\":{\"value\":\"butt\"},\"line_color\":{\"value\":\"#30a2da\"},\"line_dash\":{\"value\":[]},\"line_dash_offset\":{\"value\":0},\"line_join\":{\"value\":\"bevel\"},\"line_width\":{\"value\":1},\"marker\":{\"value\":\"circle\"},\"size\":{\"value\":5.477225575051661},\"x\":{\"field\":\"State Code\"},\"y\":{\"field\":\"2010 - 2014\"}},\"id\":\"9982\",\"type\":\"Scatter\"},{\"attributes\":{\"source\":{\"id\":\"9974\"}},\"id\":\"9981\",\"type\":\"CDSView\"},{\"attributes\":{},\"id\":\"9963\",\"type\":\"WheelZoomTool\"},{\"attributes\":{},\"id\":\"9935\",\"type\":\"AllLabels\"},{\"attributes\":{\"data\":{\"2015 - 2016\":{\"__ndarray__\":\"AAAAAAAAAAAAAAAAUPD0QAAAAABgcftAw/UoXPMY/EDhehSuE2L+QFyPwvVOhgBBCtejcB8CAkEAAAAACB8EQdejcD3MJARBuB6F63skB0EAAAAASBwLQXA9Cteh7A9BwvUoXBn8D0EAAAAANF8QQSlcj8IRhhBBAAAAAGQhEUE+CtejIWwTQXsUrkePoRNBzczMzNaxFUEK16NwlBsWQdejcD2v0hlBwvUoXGyYGkEUrkfhyLwbQeJ6FK5ztR5BmZmZmejvHkE9CtejM/oeQfYoXA+1hSJBuB6Fa8CYIkGPwvWor6skQUfhepTl7yRBexSux6iuJUHsUbieBhMmQYXrUThBLiZBSOF6FJwtJ0GF61E4vrwnQQAAAACoOihBPgrXoy6qKEE9CtcjGfooQTQzMzMDyCpBmZmZGXbBLkFwPQpXcMwuQZDC9ahaVS9BNDMzM0B2L0GkcD2KaAUyQcL1KBwDeDJB9ihcD2bZMkGG61E4USY0Qc3MzMz7STdBXI/C9eiLOEGjcD1KxHU5QQAAAMDJvTxBZmZmhqCgQEFmZmamd19GQTMzMzOx9EZB\",\"dtype\":\"float64\",\"order\":\"little\",\"shape\":[54]},\"A_2015_hyphen_minus_2016\":{\"__ndarray__\":\"AAAAAAAAAAAAAAAAUPD0QAAAAABgcftAw/UoXPMY/EDhehSuE2L+QFyPwvVOhgBBCtejcB8CAkEAAAAACB8EQdejcD3MJARBuB6F63skB0EAAAAASBwLQXA9Cteh7A9BwvUoXBn8D0EAAAAANF8QQSlcj8IRhhBBAAAAAGQhEUE+CtejIWwTQXsUrkePoRNBzczMzNaxFUEK16NwlBsWQdejcD2v0hlBwvUoXGyYGkEUrkfhyLwbQeJ6FK5ztR5BmZmZmejvHkE9CtejM/oeQfYoXA+1hSJBuB6Fa8CYIkGPwvWor6skQUfhepTl7yRBexSux6iuJUHsUbieBhMmQYXrUThBLiZBSOF6FJwtJ0GF61E4vrwnQQAAAACoOihBPgrXoy6qKEE9CtcjGfooQTQzMzMDyCpBmZmZGXbBLkFwPQpXcMwuQZDC9ahaVS9BNDMzM0B2L0GkcD2KaAUyQcL1KBwDeDJB9ihcD2bZMkGG61E4USY0Qc3MzMz7STdBXI/C9eiLOEGjcD1KxHU5QQAAAMDJvTxBZmZmhqCgQEFmZmamd19GQTMzMzOx9EZB\",\"dtype\":\"float64\",\"order\":\"little\",\"shape\":[54]},\"State Code\":[\"MP\",\"PR\",\"VI\",\"SD\",\"ND\",\"VT\",\"MT\",\"WY\",\"DE\",\"AK\",\"GU\",\"ID\",\"NE\",\"WV\",\"ME\",\"NH\",\"NM\",\"MS\",\"AR\",\"IA\",\"KS\",\"RI\",\"HI\",\"NV\",\"OK\",\"AZ\",\"KY\",\"MO\",\"MN\",\"AL\",\"CT\",\"UT\",\"LA\",\"IL\",\"CO\",\"WI\",\"SC\",\"OR\",\"IN\",\"TN\",\"MD\",\"MA\",\"GA\",\"NY\",\"NJ\",\"MI\",\"VA\",\"WA\",\"NC\",\"OH\",\"PA\",\"FL\",\"TX\",\"CA\"],\"State_Code\":[\"MP\",\"PR\",\"VI\",\"SD\",\"ND\",\"VT\",\"MT\",\"WY\",\"DE\",\"AK\",\"GU\",\"ID\",\"NE\",\"WV\",\"ME\",\"NH\",\"NM\",\"MS\",\"AR\",\"IA\",\"KS\",\"RI\",\"HI\",\"NV\",\"OK\",\"AZ\",\"KY\",\"MO\",\"MN\",\"AL\",\"CT\",\"UT\",\"LA\",\"IL\",\"CO\",\"WI\",\"SC\",\"OR\",\"IN\",\"TN\",\"MD\",\"MA\",\"GA\",\"NY\",\"NJ\",\"MI\",\"VA\",\"WA\",\"NC\",\"OH\",\"PA\",\"FL\",\"TX\",\"CA\"]},\"selected\":{\"id\":\"9925\"},\"selection_policy\":{\"id\":\"10000\"}},\"id\":\"9924\",\"type\":\"ColumnDataSource\"},{\"attributes\":{\"active_multi\":null,\"tools\":[{\"id\":\"9944\"},{\"id\":\"9961\"},{\"id\":\"9962\"},{\"id\":\"9963\"},{\"id\":\"9964\"},{\"id\":\"9965\"}]},\"id\":\"9967\",\"type\":\"Toolbar\"},{\"attributes\":{\"toolbar\":{\"id\":\"10013\"},\"toolbar_location\":\"above\"},\"id\":\"10014\",\"type\":\"ToolbarBox\"},{\"attributes\":{\"margin\":[5,5,5,5],\"name\":\"HSpacer19972\",\"sizing_mode\":\"stretch_width\"},\"id\":\"9891\",\"type\":\"Spacer\"},{\"attributes\":{\"below\":[{\"id\":\"9954\"}],\"center\":[{\"id\":\"9956\"},{\"id\":\"9960\"}],\"height\":300,\"left\":[{\"id\":\"9957\"}],\"margin\":null,\"min_border_bottom\":10,\"min_border_left\":10,\"min_border_right\":10,\"min_border_top\":10,\"renderers\":[{\"id\":\"9980\"}],\"sizing_mode\":\"fixed\",\"title\":{\"id\":\"9946\"},\"toolbar\":{\"id\":\"9967\"},\"toolbar_location\":null,\"width\":700,\"x_range\":{\"id\":\"9892\"},\"x_scale\":{\"id\":\"9950\"},\"y_range\":{\"id\":\"9943\"},\"y_scale\":{\"id\":\"9952\"}},\"id\":\"9945\",\"subtype\":\"Figure\",\"type\":\"Plot\"},{\"attributes\":{\"callback\":null,\"renderers\":[{\"id\":\"9980\"}],\"tags\":[\"hv_created\"],\"tooltips\":[[\"State Code\",\"@{State_Code}\"],[\"2010 - 2014\",\"@{A_2010_hyphen_minus_2014}\"]]},\"id\":\"9944\",\"type\":\"HoverTool\"},{\"attributes\":{},\"id\":\"9938\",\"type\":\"AllLabels\"},{\"attributes\":{\"callback\":null,\"renderers\":[{\"id\":\"9930\"}],\"tags\":[\"hv_created\"],\"tooltips\":[[\"State Code\",\"@{State_Code}\"],[\"2015 - 2016\",\"@{A_2015_hyphen_minus_2016}\"]]},\"id\":\"9894\",\"type\":\"HoverTool\"},{\"attributes\":{},\"id\":\"9936\",\"type\":\"CategoricalTickFormatter\"},{\"attributes\":{},\"id\":\"9988\",\"type\":\"AllLabels\"},{\"attributes\":{\"margin\":[5,5,5,5],\"name\":\"HSpacer19973\",\"sizing_mode\":\"stretch_width\"},\"id\":\"10178\",\"type\":\"Spacer\"},{\"attributes\":{\"angle\":{\"value\":0.0},\"fill_alpha\":{\"value\":1.0},\"fill_color\":{\"value\":\"#30a2da\"},\"hatch_alpha\":{\"value\":1.0},\"hatch_color\":{\"value\":\"black\"},\"hatch_scale\":{\"value\":12.0},\"hatch_weight\":{\"value\":1.0},\"line_alpha\":{\"value\":1.0},\"line_cap\":{\"value\":\"butt\"},\"line_color\":{\"value\":\"#30a2da\"},\"line_dash\":{\"value\":[]},\"line_dash_offset\":{\"value\":0},\"line_join\":{\"value\":\"bevel\"},\"line_width\":{\"value\":1},\"marker\":{\"value\":\"circle\"},\"size\":{\"value\":5.477225575051661},\"x\":{\"field\":\"State Code\"},\"y\":{\"field\":\"2015 - 2016\"}},\"id\":\"9932\",\"type\":\"Scatter\"},{\"attributes\":{\"fill_alpha\":{\"value\":0.1},\"fill_color\":{\"value\":\"#30a2da\"},\"line_alpha\":{\"value\":0.1},\"line_color\":{\"value\":\"#30a2da\"},\"size\":{\"value\":5.477225575051661},\"x\":{\"field\":\"State Code\"},\"y\":{\"field\":\"2010 - 2014\"}},\"id\":\"9978\",\"type\":\"Scatter\"},{\"attributes\":{\"end\":3523678.784,\"reset_end\":3523678.784,\"reset_start\":-290429.34400000004,\"start\":-290429.34400000004,\"tags\":[[[\"2010 - 2014\",\"2010 - 2014\",null]]]},\"id\":\"9943\",\"type\":\"Range1d\"},{\"attributes\":{},\"id\":\"9925\",\"type\":\"Selection\"},{\"attributes\":{\"end\":3309753.04,\"reset_end\":3309753.04,\"reset_start\":-300886.64,\"start\":-300886.64,\"tags\":[[[\"2015 - 2016\",\"2015 - 2016\",null]]]},\"id\":\"9893\",\"type\":\"Range1d\"},{\"attributes\":{},\"id\":\"9985\",\"type\":\"AllLabels\"},{\"attributes\":{\"format\":\"%.0f\"},\"id\":\"9983\",\"type\":\"PrintfTickFormatter\"}],\"root_ids\":[\"9890\"]},\"title\":\"Bokeh Application\",\"version\":\"2.3.2\"}};\n",
       "    var render_items = [{\"docid\":\"cc7eab5b-5e54-4e8c-81e8-07242c4165a4\",\"root_ids\":[\"9890\"],\"roots\":{\"9890\":\"ae2fe609-0c23-4e1b-ad8e-52287e8e1b35\"}}];\n",
       "    root.Bokeh.embed.embed_items_notebook(docs_json, render_items);\n",
       "  }\n",
       "  if (root.Bokeh !== undefined && root.Bokeh.Panel !== undefined) {\n",
       "    embed_document(root);\n",
       "  } else {\n",
       "    var attempts = 0;\n",
       "    var timer = setInterval(function(root) {\n",
       "      if (root.Bokeh !== undefined && root.Bokeh.Panel !== undefined) {\n",
       "        clearInterval(timer);\n",
       "        embed_document(root);\n",
       "      } else if (document.readyState == \"complete\") {\n",
       "        attempts++;\n",
       "        if (attempts > 200) {\n",
       "          clearInterval(timer);\n",
       "          console.log(\"Bokeh: ERROR: Unable to run BokehJS code because BokehJS library is missing\");\n",
       "        }\n",
       "      }\n",
       "    }, 25, root)\n",
       "  }\n",
       "})(window);</script>"
      ],
      "text/plain": [
       ":Layout\n",
       "   .Scatter.A_2015_hyphen_minus_2016 :Scatter   [State Code]   (2015 - 2016)\n",
       "   .Scatter.A_2010_hyphen_minus_2014 :Scatter   [State Code]   (2010 - 2014)"
      ]
     },
     "execution_count": 64,
     "metadata": {
      "application/vnd.holoviews_exec.v0+json": {
       "id": "9890"
      }
     },
     "output_type": "execute_result"
    }
   ],
   "source": [
    "# Slice data for Total Average Loan Amount by 2015-2016 and 2010-2014 date ranges\n",
    "loan_data_range_1 = loan_data['2015 - 2016']\n",
    "loan_data_range_2 = loan_data['2010 - 2014']\n",
    "loan_data_range_grp = loan_data_range_1.sort_values()\n",
    "loan_data_range_grp_2 = loan_data_range_2.sort_values()\n",
    "\n",
    "# Use rot argument and yformatter option to customize formatting\n",
    "plot_2015_2016 = loan_data_range_grp.hvplot.scatter(label='2015 - 2016' ,rot=90, yformatter=\"%.0f\")\n",
    "plot_2010_2014 = loan_data_range_grp_2.hvplot.scatter(label='2010 - 2014',rot=90, yformatter=\"%.0f\")\n",
    "\n",
    "plot_2015_2016 + plot_2010_2014"
   ]
  },
  {
   "cell_type": "code",
   "execution_count": null,
   "metadata": {},
   "outputs": [],
   "source": []
  },
  {
   "cell_type": "markdown",
   "metadata": {},
   "source": [
    "### Use title option to customize title"
   ]
  },
  {
   "cell_type": "code",
   "execution_count": 56,
   "metadata": {},
   "outputs": [
    {
     "data": {},
     "metadata": {},
     "output_type": "display_data"
    },
    {
     "data": {
      "application/vnd.holoviews_exec.v0+json": "",
      "text/html": [
       "<div id='8273'>\n",
       "\n",
       "\n",
       "\n",
       "\n",
       "\n",
       "  <div class=\"bk-root\" id=\"7d9a6413-b691-4920-9874-336895f1436e\" data-root-id=\"8273\"></div>\n",
       "</div>\n",
       "<script type=\"application/javascript\">(function(root) {\n",
       "  function embed_document(root) {\n",
       "    var docs_json = {\"77a42803-fff3-426f-b468-48d9cf72225d\":{\"defs\":[{\"extends\":null,\"module\":null,\"name\":\"ReactiveHTML1\",\"overrides\":[],\"properties\":[]},{\"extends\":null,\"module\":null,\"name\":\"FlexBox1\",\"overrides\":[],\"properties\":[{\"default\":\"flex-start\",\"kind\":null,\"name\":\"align_content\"},{\"default\":\"flex-start\",\"kind\":null,\"name\":\"align_items\"},{\"default\":\"row\",\"kind\":null,\"name\":\"flex_direction\"},{\"default\":\"wrap\",\"kind\":null,\"name\":\"flex_wrap\"},{\"default\":\"flex-start\",\"kind\":null,\"name\":\"justify_content\"}]},{\"extends\":null,\"module\":null,\"name\":\"TemplateActions1\",\"overrides\":[],\"properties\":[{\"default\":0,\"kind\":null,\"name\":\"open_modal\"},{\"default\":0,\"kind\":null,\"name\":\"close_modal\"}]},{\"extends\":null,\"module\":null,\"name\":\"MaterialTemplateActions1\",\"overrides\":[],\"properties\":[{\"default\":0,\"kind\":null,\"name\":\"open_modal\"},{\"default\":0,\"kind\":null,\"name\":\"close_modal\"}]}],\"roots\":{\"references\":[{\"attributes\":{\"factors\":[\"MP\",\"PR\",\"ND\",\"SD\",\"VI\",\"WY\",\"VT\",\"MT\",\"DE\",\"AK\",\"GU\",\"MS\",\"WV\",\"ID\",\"ME\",\"NM\",\"NE\",\"NH\",\"AR\",\"IA\",\"KS\",\"HI\",\"RI\",\"OK\",\"NV\",\"AL\",\"LA\",\"KY\",\"SC\",\"CT\",\"MO\",\"CO\",\"AZ\",\"UT\",\"OR\",\"TN\",\"IN\",\"WI\",\"MD\",\"MN\",\"VA\",\"IL\",\"NY\",\"GA\",\"MA\",\"MI\",\"NC\",\"NJ\",\"WA\",\"OH\",\"FL\",\"PA\",\"TX\",\"CA\"],\"tags\":[[[\"State Code\",\"State Code\",null]]]},\"id\":\"8275\",\"type\":\"FactorRange\"},{\"attributes\":{\"callback\":null,\"renderers\":[{\"id\":\"8368\"}],\"tags\":[\"hv_created\"],\"tooltips\":[[\"State Code\",\"@{State_Code}\"],[\"2010 - 2014\",\"@{A_2010_hyphen_minus_2014}\"]]},\"id\":\"8279\",\"type\":\"HoverTool\"},{\"attributes\":{},\"id\":\"8290\",\"type\":\"CategoricalTicker\"},{\"attributes\":{},\"id\":\"8314\",\"type\":\"CategoricalTickFormatter\"},{\"attributes\":{\"overlay\":{\"id\":\"8301\"}},\"id\":\"8299\",\"type\":\"BoxZoomTool\"},{\"attributes\":{\"label\":{\"value\":\"2010 - 2014\"},\"renderers\":[{\"id\":\"8368\"}]},\"id\":\"8383\",\"type\":\"LegendItem\"},{\"attributes\":{\"fill_color\":{\"value\":\"#30a2da\"},\"line_color\":{\"value\":\"#30a2da\"},\"size\":{\"value\":5.477225575051661},\"x\":{\"field\":\"State Code\"},\"y\":{\"field\":\"2015 - 2016\"}},\"id\":\"8344\",\"type\":\"Scatter\"},{\"attributes\":{\"axis_label\":\"\",\"formatter\":{\"id\":\"8311\"},\"major_label_policy\":{\"id\":\"8316\"},\"ticker\":{\"id\":\"8293\"}},\"id\":\"8292\",\"type\":\"LinearAxis\"},{\"attributes\":{\"fill_color\":{\"value\":\"#30a2da\"},\"line_color\":{\"value\":\"red\"},\"top\":{\"field\":\"Total_Average_Loan_Amount\"},\"width\":{\"value\":0.8},\"x\":{\"field\":\"State_Code\"}},\"id\":\"8325\",\"type\":\"VBar\"},{\"attributes\":{\"fill_alpha\":{\"value\":0.2},\"fill_color\":{\"value\":\"#30a2da\"},\"line_alpha\":{\"value\":0.2},\"line_color\":{\"value\":\"#30a2da\"},\"size\":{\"value\":5.477225575051661},\"x\":{\"field\":\"State Code\"},\"y\":{\"field\":\"2015 - 2016\"}},\"id\":\"8346\",\"type\":\"Scatter\"},{\"attributes\":{},\"id\":\"8321\",\"type\":\"Selection\"},{\"attributes\":{},\"id\":\"8300\",\"type\":\"ResetTool\"},{\"attributes\":{\"format\":\"%.0f\"},\"id\":\"8311\",\"type\":\"PrintfTickFormatter\"},{\"attributes\":{},\"id\":\"8342\",\"type\":\"Selection\"},{\"attributes\":{},\"id\":\"8287\",\"type\":\"LinearScale\"},{\"attributes\":{\"fill_alpha\":{\"value\":0.2},\"fill_color\":{\"value\":\"#30a2da\"},\"line_alpha\":{\"value\":0.2},\"top\":{\"field\":\"Total_Average_Loan_Amount\"},\"width\":{\"value\":0.8},\"x\":{\"field\":\"State_Code\"}},\"id\":\"8326\",\"type\":\"VBar\"},{\"attributes\":{\"source\":{\"id\":\"8341\"}},\"id\":\"8348\",\"type\":\"CDSView\"},{\"attributes\":{},\"id\":\"8382\",\"type\":\"UnionRenderers\"},{\"attributes\":{\"margin\":[5,5,5,5],\"name\":\"HSpacer16613\",\"sizing_mode\":\"stretch_width\"},\"id\":\"8274\",\"type\":\"Spacer\"},{\"attributes\":{\"children\":[{\"id\":\"8274\"},{\"id\":\"8280\"},{\"id\":\"8502\"}],\"margin\":[0,0,0,0],\"name\":\"Row16609\",\"tags\":[\"embedded\"]},\"id\":\"8273\",\"type\":\"Row\"},{\"attributes\":{},\"id\":\"8296\",\"type\":\"SaveTool\"},{\"attributes\":{\"source\":{\"id\":\"8320\"}},\"id\":\"8328\",\"type\":\"CDSView\"},{\"attributes\":{},\"id\":\"8359\",\"type\":\"UnionRenderers\"},{\"attributes\":{\"data_source\":{\"id\":\"8320\"},\"glyph\":{\"id\":\"8323\"},\"hover_glyph\":{\"id\":\"8325\"},\"muted_glyph\":{\"id\":\"8326\"},\"nonselection_glyph\":{\"id\":\"8324\"},\"selection_glyph\":{\"id\":\"8340\"},\"view\":{\"id\":\"8328\"}},\"id\":\"8327\",\"type\":\"GlyphRenderer\"},{\"attributes\":{},\"id\":\"8297\",\"type\":\"PanTool\"},{\"attributes\":{\"data\":{\"2010 - 2014\":{\"__ndarray__\":\"AAAAAEDF2kAAAAAAULzzQPYoXI+yuvlAAAAAACA8/EDXo3A9eh79QFK4HoUDQgBBAAAAAEhJAEEfhetRii8BQR+F61HK1gNB7FG4HpsKBUEAAAAA8M0HQexRuB6nnA5BehSuRytREEEAAAAA0JkQQRSuR+HbvxBBHoXrUQ+UEUEAAAAA4tMRQT4K16PIeRJB4XoUril1FUFnZmZmhZMVQSpcj8K/RxhBXI/C9SBjGEHhehSuMNkYQR+F61GBGxpBKVyPwqpwHEFcj8J1LjYhQfYoXA9pNSJBexSuRxFNIkHsUbiebfYiQRWuR+GuyyNBuB6FazdGJEFwPQrXCiclQVK4HoWcQCVBwvUoXDaVJUEAAACAShInQaRwPQrxaCdBZWZmZtumKEEAAAAAmD0pQSCF61Gd3ilB7FG4HsPlKUEoXI9C7tErQa1H4bqQkjFBZ2ZmZq+ZMUFxPQoXCE8yQWdmZiaJWDJBC9ej8HJLNEE+CtfjgGY0QRWuR2FODzZBZmZmZoAGN0GQwvWoFhA3QRWuRyGWpD1BAAAAwKYZP0HXo3CdZvxFQYXrUThmdUhB\",\"dtype\":\"float64\",\"order\":\"little\",\"shape\":[54]},\"A_2010_hyphen_minus_2014\":{\"__ndarray__\":\"AAAAAEDF2kAAAAAAULzzQPYoXI+yuvlAAAAAACA8/EDXo3A9eh79QFK4HoUDQgBBAAAAAEhJAEEfhetRii8BQR+F61HK1gNB7FG4HpsKBUEAAAAA8M0HQexRuB6nnA5BehSuRytREEEAAAAA0JkQQRSuR+HbvxBBHoXrUQ+UEUEAAAAA4tMRQT4K16PIeRJB4XoUril1FUFnZmZmhZMVQSpcj8K/RxhBXI/C9SBjGEHhehSuMNkYQR+F61GBGxpBKVyPwqpwHEFcj8J1LjYhQfYoXA9pNSJBexSuRxFNIkHsUbiebfYiQRWuR+GuyyNBuB6FazdGJEFwPQrXCiclQVK4HoWcQCVBwvUoXDaVJUEAAACAShInQaRwPQrxaCdBZWZmZtumKEEAAAAAmD0pQSCF61Gd3ilB7FG4HsPlKUEoXI9C7tErQa1H4bqQkjFBZ2ZmZq+ZMUFxPQoXCE8yQWdmZiaJWDJBC9ej8HJLNEE+CtfjgGY0QRWuR2FODzZBZmZmZoAGN0GQwvWoFhA3QRWuRyGWpD1BAAAAwKYZP0HXo3CdZvxFQYXrUThmdUhB\",\"dtype\":\"float64\",\"order\":\"little\",\"shape\":[54]},\"State Code\":[\"MP\",\"PR\",\"SD\",\"VI\",\"ND\",\"VT\",\"WY\",\"MT\",\"DE\",\"AK\",\"GU\",\"ID\",\"NE\",\"WV\",\"ME\",\"NH\",\"MS\",\"NM\",\"AR\",\"IA\",\"NV\",\"RI\",\"KS\",\"HI\",\"OK\",\"MO\",\"KY\",\"AZ\",\"MN\",\"AL\",\"UT\",\"LA\",\"CT\",\"CO\",\"SC\",\"OR\",\"IN\",\"WI\",\"MD\",\"IL\",\"TN\",\"GA\",\"MI\",\"VA\",\"NY\",\"NJ\",\"MA\",\"OH\",\"NC\",\"WA\",\"FL\",\"PA\",\"CA\",\"TX\"],\"State_Code\":[\"MP\",\"PR\",\"SD\",\"VI\",\"ND\",\"VT\",\"WY\",\"MT\",\"DE\",\"AK\",\"GU\",\"ID\",\"NE\",\"WV\",\"ME\",\"NH\",\"MS\",\"NM\",\"AR\",\"IA\",\"NV\",\"RI\",\"KS\",\"HI\",\"OK\",\"MO\",\"KY\",\"AZ\",\"MN\",\"AL\",\"UT\",\"LA\",\"CT\",\"CO\",\"SC\",\"OR\",\"IN\",\"WI\",\"MD\",\"IL\",\"TN\",\"GA\",\"MI\",\"VA\",\"NY\",\"NJ\",\"MA\",\"OH\",\"NC\",\"WA\",\"FL\",\"PA\",\"CA\",\"TX\"]},\"selected\":{\"id\":\"8363\"},\"selection_policy\":{\"id\":\"8382\"}},\"id\":\"8362\",\"type\":\"ColumnDataSource\"},{\"attributes\":{\"fill_alpha\":{\"value\":0.2},\"fill_color\":{\"value\":\"#fc4f30\"},\"line_alpha\":{\"value\":0.2},\"line_color\":{\"value\":\"#fc4f30\"},\"size\":{\"value\":5.477225575051661},\"x\":{\"field\":\"State Code\"},\"y\":{\"field\":\"2010 - 2014\"}},\"id\":\"8367\",\"type\":\"Scatter\"},{\"attributes\":{\"background_fill_color\":\"gray\",\"below\":[{\"id\":\"8289\"}],\"center\":[{\"id\":\"8291\"},{\"id\":\"8295\"}],\"height\":300,\"left\":[{\"id\":\"8292\"}],\"margin\":[5,5,5,5],\"min_border_bottom\":10,\"min_border_left\":10,\"min_border_right\":10,\"min_border_top\":10,\"renderers\":[{\"id\":\"8327\"},{\"id\":\"8347\"},{\"id\":\"8368\"}],\"right\":[{\"id\":\"8338\"}],\"sizing_mode\":\"fixed\",\"title\":{\"id\":\"8281\"},\"toolbar\":{\"id\":\"8302\"},\"width\":1500,\"x_range\":{\"id\":\"8275\"},\"x_scale\":{\"id\":\"8285\"},\"y_range\":{\"id\":\"8276\"},\"y_scale\":{\"id\":\"8287\"}},\"id\":\"8280\",\"subtype\":\"Figure\",\"type\":\"Plot\"},{\"attributes\":{\"axis_label\":\"State Code\",\"formatter\":{\"id\":\"8314\"},\"major_label_orientation\":1.5707963267948966,\"major_label_policy\":{\"id\":\"8313\"},\"ticker\":{\"id\":\"8290\"}},\"id\":\"8289\",\"type\":\"CategoricalAxis\"},{\"attributes\":{\"bottom\":{\"value\":0},\"fill_alpha\":{\"value\":1.0},\"fill_color\":{\"value\":\"#30a2da\"},\"hatch_alpha\":{\"value\":1.0},\"hatch_color\":{\"value\":\"black\"},\"hatch_scale\":{\"value\":12.0},\"hatch_weight\":{\"value\":1.0},\"line_alpha\":{\"value\":1.0},\"line_cap\":{\"value\":\"butt\"},\"line_color\":{\"value\":\"black\"},\"line_dash\":{\"value\":[]},\"line_dash_offset\":{\"value\":0},\"line_join\":{\"value\":\"bevel\"},\"line_width\":{\"value\":1},\"top\":{\"field\":\"Total_Average_Loan_Amount\"},\"width\":{\"value\":0.8},\"x\":{\"field\":\"State_Code\"}},\"id\":\"8340\",\"type\":\"VBar\"},{\"attributes\":{\"fill_color\":{\"value\":\"#30a2da\"},\"top\":{\"field\":\"Total_Average_Loan_Amount\"},\"width\":{\"value\":0.8},\"x\":{\"field\":\"State_Code\"}},\"id\":\"8323\",\"type\":\"VBar\"},{\"attributes\":{\"fill_color\":{\"value\":\"#fc4f30\"},\"line_color\":{\"value\":\"#fc4f30\"},\"size\":{\"value\":5.477225575051661},\"x\":{\"field\":\"State Code\"},\"y\":{\"field\":\"2010 - 2014\"}},\"id\":\"8365\",\"type\":\"Scatter\"},{\"attributes\":{\"active_multi\":null,\"tools\":[{\"id\":\"8277\"},{\"id\":\"8278\"},{\"id\":\"8279\"},{\"id\":\"8296\"},{\"id\":\"8297\"},{\"id\":\"8298\"},{\"id\":\"8299\"},{\"id\":\"8300\"}]},\"id\":\"8302\",\"type\":\"Toolbar\"},{\"attributes\":{\"text\":\"Loan Averages by State\",\"text_color\":\"black\",\"text_font_size\":\"12pt\"},\"id\":\"8281\",\"type\":\"Title\"},{\"attributes\":{\"data\":{\"2015 - 2016\":{\"__ndarray__\":\"AAAAAAAAAAAAAAAAUPD0QAAAAABgcftAw/UoXPMY/EDhehSuE2L+QFyPwvVOhgBBCtejcB8CAkEAAAAACB8EQdejcD3MJARBuB6F63skB0EAAAAASBwLQXA9Cteh7A9BwvUoXBn8D0EAAAAANF8QQSlcj8IRhhBBAAAAAGQhEUE+CtejIWwTQXsUrkePoRNBzczMzNaxFUEK16NwlBsWQdejcD2v0hlBwvUoXGyYGkEUrkfhyLwbQeJ6FK5ztR5BmZmZmejvHkE9CtejM/oeQfYoXA+1hSJBuB6Fa8CYIkGPwvWor6skQUfhepTl7yRBexSux6iuJUHsUbieBhMmQYXrUThBLiZBSOF6FJwtJ0GF61E4vrwnQQAAAACoOihBPgrXoy6qKEE9CtcjGfooQTQzMzMDyCpBmZmZGXbBLkFwPQpXcMwuQZDC9ahaVS9BNDMzM0B2L0GkcD2KaAUyQcL1KBwDeDJB9ihcD2bZMkGG61E4USY0Qc3MzMz7STdBXI/C9eiLOEGjcD1KxHU5QQAAAMDJvTxBZmZmhqCgQEFmZmamd19GQTMzMzOx9EZB\",\"dtype\":\"float64\",\"order\":\"little\",\"shape\":[54]},\"A_2015_hyphen_minus_2016\":{\"__ndarray__\":\"AAAAAAAAAAAAAAAAUPD0QAAAAABgcftAw/UoXPMY/EDhehSuE2L+QFyPwvVOhgBBCtejcB8CAkEAAAAACB8EQdejcD3MJARBuB6F63skB0EAAAAASBwLQXA9Cteh7A9BwvUoXBn8D0EAAAAANF8QQSlcj8IRhhBBAAAAAGQhEUE+CtejIWwTQXsUrkePoRNBzczMzNaxFUEK16NwlBsWQdejcD2v0hlBwvUoXGyYGkEUrkfhyLwbQeJ6FK5ztR5BmZmZmejvHkE9CtejM/oeQfYoXA+1hSJBuB6Fa8CYIkGPwvWor6skQUfhepTl7yRBexSux6iuJUHsUbieBhMmQYXrUThBLiZBSOF6FJwtJ0GF61E4vrwnQQAAAACoOihBPgrXoy6qKEE9CtcjGfooQTQzMzMDyCpBmZmZGXbBLkFwPQpXcMwuQZDC9ahaVS9BNDMzM0B2L0GkcD2KaAUyQcL1KBwDeDJB9ihcD2bZMkGG61E4USY0Qc3MzMz7STdBXI/C9eiLOEGjcD1KxHU5QQAAAMDJvTxBZmZmhqCgQEFmZmamd19GQTMzMzOx9EZB\",\"dtype\":\"float64\",\"order\":\"little\",\"shape\":[54]},\"State Code\":[\"MP\",\"PR\",\"VI\",\"SD\",\"ND\",\"VT\",\"MT\",\"WY\",\"DE\",\"AK\",\"GU\",\"ID\",\"NE\",\"WV\",\"ME\",\"NH\",\"NM\",\"MS\",\"AR\",\"IA\",\"KS\",\"RI\",\"HI\",\"NV\",\"OK\",\"AZ\",\"KY\",\"MO\",\"MN\",\"AL\",\"CT\",\"UT\",\"LA\",\"IL\",\"CO\",\"WI\",\"SC\",\"OR\",\"IN\",\"TN\",\"MD\",\"MA\",\"GA\",\"NY\",\"NJ\",\"MI\",\"VA\",\"WA\",\"NC\",\"OH\",\"PA\",\"FL\",\"TX\",\"CA\"],\"State_Code\":[\"MP\",\"PR\",\"VI\",\"SD\",\"ND\",\"VT\",\"MT\",\"WY\",\"DE\",\"AK\",\"GU\",\"ID\",\"NE\",\"WV\",\"ME\",\"NH\",\"NM\",\"MS\",\"AR\",\"IA\",\"KS\",\"RI\",\"HI\",\"NV\",\"OK\",\"AZ\",\"KY\",\"MO\",\"MN\",\"AL\",\"CT\",\"UT\",\"LA\",\"IL\",\"CO\",\"WI\",\"SC\",\"OR\",\"IN\",\"TN\",\"MD\",\"MA\",\"GA\",\"NY\",\"NJ\",\"MI\",\"VA\",\"WA\",\"NC\",\"OH\",\"PA\",\"FL\",\"TX\",\"CA\"]},\"selected\":{\"id\":\"8342\"},\"selection_policy\":{\"id\":\"8359\"}},\"id\":\"8341\",\"type\":\"ColumnDataSource\"},{\"attributes\":{\"fill_alpha\":{\"value\":0.1},\"fill_color\":{\"value\":\"#fc4f30\"},\"line_alpha\":{\"value\":0.1},\"line_color\":{\"value\":\"#fc4f30\"},\"size\":{\"value\":5.477225575051661},\"x\":{\"field\":\"State Code\"},\"y\":{\"field\":\"2010 - 2014\"}},\"id\":\"8366\",\"type\":\"Scatter\"},{\"attributes\":{},\"id\":\"8298\",\"type\":\"WheelZoomTool\"},{\"attributes\":{\"angle\":{\"value\":0.0},\"fill_alpha\":{\"value\":1.0},\"fill_color\":{\"value\":\"#fc4f30\"},\"hatch_alpha\":{\"value\":1.0},\"hatch_color\":{\"value\":\"black\"},\"hatch_scale\":{\"value\":12.0},\"hatch_weight\":{\"value\":1.0},\"line_alpha\":{\"value\":1.0},\"line_cap\":{\"value\":\"butt\"},\"line_color\":{\"value\":\"#fc4f30\"},\"line_dash\":{\"value\":[]},\"line_dash_offset\":{\"value\":0},\"line_join\":{\"value\":\"bevel\"},\"line_width\":{\"value\":1},\"marker\":{\"value\":\"circle\"},\"size\":{\"value\":5.477225575051661},\"x\":{\"field\":\"State Code\"},\"y\":{\"field\":\"2010 - 2014\"}},\"id\":\"8384\",\"type\":\"Scatter\"},{\"attributes\":{\"axis\":{\"id\":\"8292\"},\"dimension\":1,\"grid_line_color\":null,\"ticker\":null},\"id\":\"8295\",\"type\":\"Grid\"},{\"attributes\":{\"end\":3526420.084,\"reset_end\":3526420.084,\"reset_start\":0.0,\"tags\":[[[\"Total Average Loan Amount\",\"Total Average Loan Amount\",null]]]},\"id\":\"8276\",\"type\":\"Range1d\"},{\"attributes\":{\"click_policy\":\"mute\",\"items\":[{\"id\":\"8339\"},{\"id\":\"8360\"},{\"id\":\"8383\"}],\"location\":[0,0]},\"id\":\"8338\",\"type\":\"Legend\"},{\"attributes\":{\"label\":{\"value\":\"2015 - 2016\"},\"renderers\":[{\"id\":\"8347\"}]},\"id\":\"8360\",\"type\":\"LegendItem\"},{\"attributes\":{},\"id\":\"8293\",\"type\":\"BasicTicker\"},{\"attributes\":{\"margin\":[5,5,5,5],\"name\":\"HSpacer16614\",\"sizing_mode\":\"stretch_width\"},\"id\":\"8502\",\"type\":\"Spacer\"},{\"attributes\":{\"data\":{\"State_Code\":[\"MP\",\"PR\",\"ND\",\"SD\",\"VI\",\"WY\",\"VT\",\"MT\",\"DE\",\"AK\",\"GU\",\"MS\",\"WV\",\"ID\",\"ME\",\"NM\",\"NE\",\"NH\",\"AR\",\"IA\",\"KS\",\"HI\",\"RI\",\"OK\",\"NV\",\"AL\",\"LA\",\"KY\",\"SC\",\"CT\",\"MO\",\"CO\",\"AZ\",\"UT\",\"OR\",\"TN\",\"IN\",\"WI\",\"MD\",\"MN\",\"VA\",\"IL\",\"NY\",\"GA\",\"MA\",\"MI\",\"NC\",\"NJ\",\"WA\",\"OH\",\"FL\",\"PA\",\"TX\",\"CA\"],\"Total_Average_Loan_Amount\":{\"__ndarray__\":\"AAAAAAAd5UAAAAAAwFTsQB+F61Hs6PJArkfhelhS9UAAAAAAUEz3QAAAAAAwJPlA7FG4HmFD+UA9CtejDLn5QFK4HoX7dABB7FG4HlsqAkEAAAAAaEMGQa5H4Xr2bQdBAAAAAAi+CEGamZmZNUkJQRSuR+FaWAlBwvUoXLdjC0HD9Shc8eQLQcL1KFw/PQ5BSOF6FLEQEEEfhetRDdwSQRSuR+E0thNBrkfhem+WFEGQwvUoPlcVQWZmZmby+RVB7FG4HoasF0HrUbgeuo0aQeF6FK5i2BxBexSuR6tbHUEzMzMzaUggQR+F61HQZiBBmZmZGceBIUH2KFwP7PkhQRWuR+GvPCJBkML1KOZQIkG4HoVrQdYiQfYoXI9MiSRBwvUoXOn3JEEAAAAAUF8lQShcj0JNKyhBw/Uo3BUSKUFI4XqUXjQpQVS4HgX9tylB4noULhp5MEHC9SjcrLUwQSlcj8J1EzFBXI/CtTRDMUGamZnZk9ExQRSuR6EWtzJBkML1KE+jM0GjcD3K+6E1QfYoXE887TdBXI/CdS94OUFPuB5FM4xDQc7MzOzKZ0VB\",\"dtype\":\"float64\",\"order\":\"little\",\"shape\":[54]}},\"selected\":{\"id\":\"8321\"},\"selection_policy\":{\"id\":\"8337\"}},\"id\":\"8320\",\"type\":\"ColumnDataSource\"},{\"attributes\":{\"data_source\":{\"id\":\"8341\"},\"glyph\":{\"id\":\"8344\"},\"hover_glyph\":null,\"muted_glyph\":{\"id\":\"8346\"},\"nonselection_glyph\":{\"id\":\"8345\"},\"selection_glyph\":{\"id\":\"8361\"},\"view\":{\"id\":\"8348\"}},\"id\":\"8347\",\"type\":\"GlyphRenderer\"},{\"attributes\":{\"callback\":null,\"renderers\":[{\"id\":\"8347\"}],\"tags\":[\"hv_created\"],\"tooltips\":[[\"State Code\",\"@{State_Code}\"],[\"2015 - 2016\",\"@{A_2015_hyphen_minus_2016}\"]]},\"id\":\"8278\",\"type\":\"HoverTool\"},{\"attributes\":{},\"id\":\"8337\",\"type\":\"UnionRenderers\"},{\"attributes\":{},\"id\":\"8363\",\"type\":\"Selection\"},{\"attributes\":{},\"id\":\"8285\",\"type\":\"CategoricalScale\"},{\"attributes\":{},\"id\":\"8313\",\"type\":\"AllLabels\"},{\"attributes\":{\"source\":{\"id\":\"8362\"}},\"id\":\"8369\",\"type\":\"CDSView\"},{\"attributes\":{\"axis\":{\"id\":\"8289\"},\"grid_line_color\":null,\"ticker\":null},\"id\":\"8291\",\"type\":\"Grid\"},{\"attributes\":{\"fill_alpha\":{\"value\":0.1},\"fill_color\":{\"value\":\"#30a2da\"},\"line_alpha\":{\"value\":0.1},\"top\":{\"field\":\"Total_Average_Loan_Amount\"},\"width\":{\"value\":0.8},\"x\":{\"field\":\"State_Code\"}},\"id\":\"8324\",\"type\":\"VBar\"},{\"attributes\":{\"angle\":{\"value\":0.0},\"fill_alpha\":{\"value\":1.0},\"fill_color\":{\"value\":\"#30a2da\"},\"hatch_alpha\":{\"value\":1.0},\"hatch_color\":{\"value\":\"black\"},\"hatch_scale\":{\"value\":12.0},\"hatch_weight\":{\"value\":1.0},\"line_alpha\":{\"value\":1.0},\"line_cap\":{\"value\":\"butt\"},\"line_color\":{\"value\":\"#30a2da\"},\"line_dash\":{\"value\":[]},\"line_dash_offset\":{\"value\":0},\"line_join\":{\"value\":\"bevel\"},\"line_width\":{\"value\":1},\"marker\":{\"value\":\"circle\"},\"size\":{\"value\":5.477225575051661},\"x\":{\"field\":\"State Code\"},\"y\":{\"field\":\"2015 - 2016\"}},\"id\":\"8361\",\"type\":\"Scatter\"},{\"attributes\":{\"fill_alpha\":{\"value\":0.1},\"fill_color\":{\"value\":\"#30a2da\"},\"line_alpha\":{\"value\":0.1},\"line_color\":{\"value\":\"#30a2da\"},\"size\":{\"value\":5.477225575051661},\"x\":{\"field\":\"State Code\"},\"y\":{\"field\":\"2015 - 2016\"}},\"id\":\"8345\",\"type\":\"Scatter\"},{\"attributes\":{\"label\":{\"value\":\"2019 Total Average Amount\"},\"renderers\":[{\"id\":\"8327\"}]},\"id\":\"8339\",\"type\":\"LegendItem\"},{\"attributes\":{},\"id\":\"8316\",\"type\":\"AllLabels\"},{\"attributes\":{\"callback\":null,\"renderers\":[{\"id\":\"8327\"}],\"tags\":[\"hv_created\"],\"tooltips\":[[\"State Code\",\"@{State_Code}\"],[\"Total Average Loan Amount\",\"@{Total_Average_Loan_Amount}\"]]},\"id\":\"8277\",\"type\":\"HoverTool\"},{\"attributes\":{\"data_source\":{\"id\":\"8362\"},\"glyph\":{\"id\":\"8365\"},\"hover_glyph\":null,\"muted_glyph\":{\"id\":\"8367\"},\"nonselection_glyph\":{\"id\":\"8366\"},\"selection_glyph\":{\"id\":\"8384\"},\"view\":{\"id\":\"8369\"}},\"id\":\"8368\",\"type\":\"GlyphRenderer\"},{\"attributes\":{\"bottom_units\":\"screen\",\"fill_alpha\":0.5,\"fill_color\":\"lightgrey\",\"left_units\":\"screen\",\"level\":\"overlay\",\"line_alpha\":1.0,\"line_color\":\"black\",\"line_dash\":[4,4],\"line_width\":2,\"right_units\":\"screen\",\"syncable\":false,\"top_units\":\"screen\"},\"id\":\"8301\",\"type\":\"BoxAnnotation\"}],\"root_ids\":[\"8273\"]},\"title\":\"Bokeh Application\",\"version\":\"2.3.2\"}};\n",
       "    var render_items = [{\"docid\":\"77a42803-fff3-426f-b468-48d9cf72225d\",\"root_ids\":[\"8273\"],\"roots\":{\"8273\":\"7d9a6413-b691-4920-9874-336895f1436e\"}}];\n",
       "    root.Bokeh.embed.embed_items_notebook(docs_json, render_items);\n",
       "  }\n",
       "  if (root.Bokeh !== undefined && root.Bokeh.Panel !== undefined) {\n",
       "    embed_document(root);\n",
       "  } else {\n",
       "    var attempts = 0;\n",
       "    var timer = setInterval(function(root) {\n",
       "      if (root.Bokeh !== undefined && root.Bokeh.Panel !== undefined) {\n",
       "        clearInterval(timer);\n",
       "        embed_document(root);\n",
       "      } else if (document.readyState == \"complete\") {\n",
       "        attempts++;\n",
       "        if (attempts > 200) {\n",
       "          clearInterval(timer);\n",
       "          console.log(\"Bokeh: ERROR: Unable to run BokehJS code because BokehJS library is missing\");\n",
       "        }\n",
       "      }\n",
       "    }, 25, root)\n",
       "  }\n",
       "})(window);</script>"
      ],
      "text/plain": [
       ":Overlay\n",
       "   .Bars.A_2019_Total_Average_Amount :Bars   [State Code]   (Total Average Loan Amount)\n",
       "   .Scatter.A_2015_hyphen_minus_2016 :Scatter   [State Code]   (2015 - 2016)\n",
       "   .Scatter.A_2010_hyphen_minus_2014 :Scatter   [State Code]   (2010 - 2014)"
      ]
     },
     "execution_count": 56,
     "metadata": {
      "application/vnd.holoviews_exec.v0+json": {
       "id": "8273"
      }
     },
     "output_type": "execute_result"
    }
   ],
   "source": [
    "# Use opts function to customize title and width\n",
    "(plot_state_avgs * plot_2015_2016 * plot_2010_2014).opts(width=1500, bgcolor='gray', title='Loan Averages by State')"
   ]
  },
  {
   "cell_type": "code",
   "execution_count": 66,
   "metadata": {},
   "outputs": [
    {
     "data": {},
     "metadata": {},
     "output_type": "display_data"
    },
    {
     "data": {
      "application/vnd.holoviews_exec.v0+json": "",
      "text/html": [
       "<div id='10270'>\n",
       "\n",
       "\n",
       "\n",
       "\n",
       "\n",
       "  <div class=\"bk-root\" id=\"8763e4ae-f85c-46ec-a020-f1fcf54a33a3\" data-root-id=\"10270\"></div>\n",
       "</div>\n",
       "<script type=\"application/javascript\">(function(root) {\n",
       "  function embed_document(root) {\n",
       "    var docs_json = {\"c877240e-286d-49d4-a7d6-e52d9da109e6\":{\"defs\":[{\"extends\":null,\"module\":null,\"name\":\"ReactiveHTML1\",\"overrides\":[],\"properties\":[]},{\"extends\":null,\"module\":null,\"name\":\"FlexBox1\",\"overrides\":[],\"properties\":[{\"default\":\"flex-start\",\"kind\":null,\"name\":\"align_content\"},{\"default\":\"flex-start\",\"kind\":null,\"name\":\"align_items\"},{\"default\":\"row\",\"kind\":null,\"name\":\"flex_direction\"},{\"default\":\"wrap\",\"kind\":null,\"name\":\"flex_wrap\"},{\"default\":\"flex-start\",\"kind\":null,\"name\":\"justify_content\"}]},{\"extends\":null,\"module\":null,\"name\":\"TemplateActions1\",\"overrides\":[],\"properties\":[{\"default\":0,\"kind\":null,\"name\":\"open_modal\"},{\"default\":0,\"kind\":null,\"name\":\"close_modal\"}]},{\"extends\":null,\"module\":null,\"name\":\"MaterialTemplateActions1\",\"overrides\":[],\"properties\":[{\"default\":0,\"kind\":null,\"name\":\"open_modal\"},{\"default\":0,\"kind\":null,\"name\":\"close_modal\"}]}],\"roots\":{\"references\":[{\"attributes\":{\"active_multi\":null,\"tools\":[{\"id\":\"10274\"},{\"id\":\"10275\"},{\"id\":\"10276\"},{\"id\":\"10293\"},{\"id\":\"10294\"},{\"id\":\"10295\"},{\"id\":\"10296\"},{\"id\":\"10297\"}]},\"id\":\"10299\",\"type\":\"Toolbar\"},{\"attributes\":{},\"id\":\"10287\",\"type\":\"CategoricalTicker\"},{\"attributes\":{\"fill_alpha\":{\"value\":0.1},\"fill_color\":{\"value\":\"#30a2da\"},\"line_alpha\":{\"value\":0.1},\"line_color\":{\"value\":\"#30a2da\"},\"size\":{\"value\":5.477225575051661},\"x\":{\"field\":\"State Code\"},\"y\":{\"field\":\"2015 - 2016\"}},\"id\":\"10342\",\"type\":\"Scatter\"},{\"attributes\":{\"margin\":[5,5,5,5],\"name\":\"HSpacer20432\",\"sizing_mode\":\"stretch_width\"},\"id\":\"10499\",\"type\":\"Spacer\"},{\"attributes\":{\"label\":{\"value\":\"2010 - 2014\"},\"renderers\":[{\"id\":\"10365\"}]},\"id\":\"10380\",\"type\":\"LegendItem\"},{\"attributes\":{\"source\":{\"id\":\"10359\"}},\"id\":\"10366\",\"type\":\"CDSView\"},{\"attributes\":{\"callback\":null,\"renderers\":[{\"id\":\"10365\"}],\"tags\":[\"hv_created\"],\"tooltips\":[[\"State Code\",\"@{State_Code}\"],[\"2010 - 2014\",\"@{A_2010_hyphen_minus_2014}\"]]},\"id\":\"10276\",\"type\":\"HoverTool\"},{\"attributes\":{},\"id\":\"10297\",\"type\":\"ResetTool\"},{\"attributes\":{\"source\":{\"id\":\"10338\"}},\"id\":\"10345\",\"type\":\"CDSView\"},{\"attributes\":{\"format\":\"%.0f\"},\"id\":\"10308\",\"type\":\"PrintfTickFormatter\"},{\"attributes\":{},\"id\":\"10282\",\"type\":\"CategoricalScale\"},{\"attributes\":{},\"id\":\"10334\",\"type\":\"UnionRenderers\"},{\"attributes\":{},\"id\":\"10360\",\"type\":\"Selection\"},{\"attributes\":{\"fill_alpha\":{\"value\":0.2},\"fill_color\":{\"value\":\"#30a2da\"},\"line_alpha\":{\"value\":0.2},\"top\":{\"field\":\"Total_Average_Loan_Amount\"},\"width\":{\"value\":0.8},\"x\":{\"field\":\"State_Code\"}},\"id\":\"10323\",\"type\":\"VBar\"},{\"attributes\":{\"bottom_units\":\"screen\",\"fill_alpha\":0.5,\"fill_color\":\"lightgrey\",\"left_units\":\"screen\",\"level\":\"overlay\",\"line_alpha\":1.0,\"line_color\":\"black\",\"line_dash\":[4,4],\"line_width\":2,\"right_units\":\"screen\",\"syncable\":false,\"top_units\":\"screen\"},\"id\":\"10298\",\"type\":\"BoxAnnotation\"},{\"attributes\":{\"fill_color\":{\"value\":\"#30a2da\"},\"line_color\":{\"value\":\"red\"},\"top\":{\"field\":\"Total_Average_Loan_Amount\"},\"width\":{\"value\":0.8},\"x\":{\"field\":\"State_Code\"}},\"id\":\"10322\",\"type\":\"VBar\"},{\"attributes\":{},\"id\":\"10339\",\"type\":\"Selection\"},{\"attributes\":{\"margin\":[5,5,5,5],\"name\":\"HSpacer20431\",\"sizing_mode\":\"stretch_width\"},\"id\":\"10271\",\"type\":\"Spacer\"},{\"attributes\":{},\"id\":\"10295\",\"type\":\"WheelZoomTool\"},{\"attributes\":{\"fill_alpha\":{\"value\":0.2},\"fill_color\":{\"value\":\"#fc4f30\"},\"line_alpha\":{\"value\":0.2},\"line_color\":{\"value\":\"#fc4f30\"},\"size\":{\"value\":5.477225575051661},\"x\":{\"field\":\"State Code\"},\"y\":{\"field\":\"2010 - 2014\"}},\"id\":\"10364\",\"type\":\"Scatter\"},{\"attributes\":{\"data_source\":{\"id\":\"10338\"},\"glyph\":{\"id\":\"10341\"},\"hover_glyph\":null,\"muted_glyph\":{\"id\":\"10343\"},\"nonselection_glyph\":{\"id\":\"10342\"},\"selection_glyph\":{\"id\":\"10358\"},\"view\":{\"id\":\"10345\"}},\"id\":\"10344\",\"type\":\"GlyphRenderer\"},{\"attributes\":{},\"id\":\"10284\",\"type\":\"LinearScale\"},{\"attributes\":{\"axis_label\":\"State Code\",\"formatter\":{\"id\":\"10311\"},\"major_label_orientation\":1.5707963267948966,\"major_label_policy\":{\"id\":\"10310\"},\"ticker\":{\"id\":\"10287\"}},\"id\":\"10286\",\"type\":\"CategoricalAxis\"},{\"attributes\":{},\"id\":\"10294\",\"type\":\"PanTool\"},{\"attributes\":{},\"id\":\"10379\",\"type\":\"UnionRenderers\"},{\"attributes\":{\"factors\":[\"MP\",\"PR\",\"ND\",\"SD\",\"VI\",\"WY\",\"VT\",\"MT\",\"DE\",\"AK\",\"GU\",\"MS\",\"WV\",\"ID\",\"ME\",\"NM\",\"NE\",\"NH\",\"AR\",\"IA\",\"KS\",\"HI\",\"RI\",\"OK\",\"NV\",\"AL\",\"LA\",\"KY\",\"SC\",\"CT\",\"MO\",\"CO\",\"AZ\",\"UT\",\"OR\",\"TN\",\"IN\",\"WI\",\"MD\",\"MN\",\"VA\",\"IL\",\"NY\",\"GA\",\"MA\",\"MI\",\"NC\",\"NJ\",\"WA\",\"OH\",\"FL\",\"PA\",\"TX\",\"CA\"],\"tags\":[[[\"State Code\",\"State Code\",null]]]},\"id\":\"10272\",\"type\":\"FactorRange\"},{\"attributes\":{\"fill_alpha\":{\"value\":0.1},\"fill_color\":{\"value\":\"#30a2da\"},\"line_alpha\":{\"value\":0.1},\"top\":{\"field\":\"Total_Average_Loan_Amount\"},\"width\":{\"value\":0.8},\"x\":{\"field\":\"State_Code\"}},\"id\":\"10321\",\"type\":\"VBar\"},{\"attributes\":{\"bottom\":{\"value\":0},\"fill_alpha\":{\"value\":1.0},\"fill_color\":{\"value\":\"#30a2da\"},\"hatch_alpha\":{\"value\":1.0},\"hatch_color\":{\"value\":\"black\"},\"hatch_scale\":{\"value\":12.0},\"hatch_weight\":{\"value\":1.0},\"line_alpha\":{\"value\":1.0},\"line_cap\":{\"value\":\"butt\"},\"line_color\":{\"value\":\"black\"},\"line_dash\":{\"value\":[]},\"line_dash_offset\":{\"value\":0},\"line_join\":{\"value\":\"bevel\"},\"line_width\":{\"value\":1},\"top\":{\"field\":\"Total_Average_Loan_Amount\"},\"width\":{\"value\":0.8},\"x\":{\"field\":\"State_Code\"}},\"id\":\"10337\",\"type\":\"VBar\"},{\"attributes\":{\"fill_color\":{\"value\":\"#30a2da\"},\"line_color\":{\"value\":\"#30a2da\"},\"size\":{\"value\":5.477225575051661},\"x\":{\"field\":\"State Code\"},\"y\":{\"field\":\"2015 - 2016\"}},\"id\":\"10341\",\"type\":\"Scatter\"},{\"attributes\":{\"click_policy\":\"mute\",\"items\":[{\"id\":\"10336\"},{\"id\":\"10357\"},{\"id\":\"10380\"}],\"location\":[0,0]},\"id\":\"10335\",\"type\":\"Legend\"},{\"attributes\":{\"callback\":null,\"renderers\":[{\"id\":\"10344\"}],\"tags\":[\"hv_created\"],\"tooltips\":[[\"State Code\",\"@{State_Code}\"],[\"2015 - 2016\",\"@{A_2015_hyphen_minus_2016}\"]]},\"id\":\"10275\",\"type\":\"HoverTool\"},{\"attributes\":{\"overlay\":{\"id\":\"10298\"}},\"id\":\"10296\",\"type\":\"BoxZoomTool\"},{\"attributes\":{},\"id\":\"10310\",\"type\":\"AllLabels\"},{\"attributes\":{\"axis_label\":\"\",\"formatter\":{\"id\":\"10308\"},\"major_label_policy\":{\"id\":\"10313\"},\"ticker\":{\"id\":\"10290\"}},\"id\":\"10289\",\"type\":\"LinearAxis\"},{\"attributes\":{\"fill_alpha\":{\"value\":0.2},\"fill_color\":{\"value\":\"#30a2da\"},\"line_alpha\":{\"value\":0.2},\"line_color\":{\"value\":\"#30a2da\"},\"size\":{\"value\":5.477225575051661},\"x\":{\"field\":\"State Code\"},\"y\":{\"field\":\"2015 - 2016\"}},\"id\":\"10343\",\"type\":\"Scatter\"},{\"attributes\":{\"fill_alpha\":{\"value\":0.1},\"fill_color\":{\"value\":\"#fc4f30\"},\"line_alpha\":{\"value\":0.1},\"line_color\":{\"value\":\"#fc4f30\"},\"size\":{\"value\":5.477225575051661},\"x\":{\"field\":\"State Code\"},\"y\":{\"field\":\"2010 - 2014\"}},\"id\":\"10363\",\"type\":\"Scatter\"},{\"attributes\":{\"children\":[{\"id\":\"10271\"},{\"id\":\"10277\"},{\"id\":\"10499\"}],\"margin\":[0,0,0,0],\"name\":\"Row20427\",\"tags\":[\"embedded\"]},\"id\":\"10270\",\"type\":\"Row\"},{\"attributes\":{\"text\":\"Loan Averages by State\",\"text_color\":\"black\",\"text_font_size\":\"12pt\"},\"id\":\"10278\",\"type\":\"Title\"},{\"attributes\":{\"callback\":null,\"renderers\":[{\"id\":\"10324\"}],\"tags\":[\"hv_created\"],\"tooltips\":[[\"State Code\",\"@{State_Code}\"],[\"Total Average Loan Amount\",\"@{Total_Average_Loan_Amount}\"]]},\"id\":\"10274\",\"type\":\"HoverTool\"},{\"attributes\":{\"label\":{\"value\":\"2015 - 2016\"},\"renderers\":[{\"id\":\"10344\"}]},\"id\":\"10357\",\"type\":\"LegendItem\"},{\"attributes\":{},\"id\":\"10311\",\"type\":\"CategoricalTickFormatter\"},{\"attributes\":{\"data\":{\"2010 - 2014\":{\"__ndarray__\":\"AAAAAEDF2kAAAAAAULzzQPYoXI+yuvlAAAAAACA8/EDXo3A9eh79QFK4HoUDQgBBAAAAAEhJAEEfhetRii8BQR+F61HK1gNB7FG4HpsKBUEAAAAA8M0HQexRuB6nnA5BehSuRytREEEAAAAA0JkQQRSuR+HbvxBBHoXrUQ+UEUEAAAAA4tMRQT4K16PIeRJB4XoUril1FUFnZmZmhZMVQSpcj8K/RxhBXI/C9SBjGEHhehSuMNkYQR+F61GBGxpBKVyPwqpwHEFcj8J1LjYhQfYoXA9pNSJBexSuRxFNIkHsUbiebfYiQRWuR+GuyyNBuB6FazdGJEFwPQrXCiclQVK4HoWcQCVBwvUoXDaVJUEAAACAShInQaRwPQrxaCdBZWZmZtumKEEAAAAAmD0pQSCF61Gd3ilB7FG4HsPlKUEoXI9C7tErQa1H4bqQkjFBZ2ZmZq+ZMUFxPQoXCE8yQWdmZiaJWDJBC9ej8HJLNEE+CtfjgGY0QRWuR2FODzZBZmZmZoAGN0GQwvWoFhA3QRWuRyGWpD1BAAAAwKYZP0HXo3CdZvxFQYXrUThmdUhB\",\"dtype\":\"float64\",\"order\":\"little\",\"shape\":[54]},\"A_2010_hyphen_minus_2014\":{\"__ndarray__\":\"AAAAAEDF2kAAAAAAULzzQPYoXI+yuvlAAAAAACA8/EDXo3A9eh79QFK4HoUDQgBBAAAAAEhJAEEfhetRii8BQR+F61HK1gNB7FG4HpsKBUEAAAAA8M0HQexRuB6nnA5BehSuRytREEEAAAAA0JkQQRSuR+HbvxBBHoXrUQ+UEUEAAAAA4tMRQT4K16PIeRJB4XoUril1FUFnZmZmhZMVQSpcj8K/RxhBXI/C9SBjGEHhehSuMNkYQR+F61GBGxpBKVyPwqpwHEFcj8J1LjYhQfYoXA9pNSJBexSuRxFNIkHsUbiebfYiQRWuR+GuyyNBuB6FazdGJEFwPQrXCiclQVK4HoWcQCVBwvUoXDaVJUEAAACAShInQaRwPQrxaCdBZWZmZtumKEEAAAAAmD0pQSCF61Gd3ilB7FG4HsPlKUEoXI9C7tErQa1H4bqQkjFBZ2ZmZq+ZMUFxPQoXCE8yQWdmZiaJWDJBC9ej8HJLNEE+CtfjgGY0QRWuR2FODzZBZmZmZoAGN0GQwvWoFhA3QRWuRyGWpD1BAAAAwKYZP0HXo3CdZvxFQYXrUThmdUhB\",\"dtype\":\"float64\",\"order\":\"little\",\"shape\":[54]},\"State Code\":[\"MP\",\"PR\",\"SD\",\"VI\",\"ND\",\"VT\",\"WY\",\"MT\",\"DE\",\"AK\",\"GU\",\"ID\",\"NE\",\"WV\",\"ME\",\"NH\",\"MS\",\"NM\",\"AR\",\"IA\",\"NV\",\"RI\",\"KS\",\"HI\",\"OK\",\"MO\",\"KY\",\"AZ\",\"MN\",\"AL\",\"UT\",\"LA\",\"CT\",\"CO\",\"SC\",\"OR\",\"IN\",\"WI\",\"MD\",\"IL\",\"TN\",\"GA\",\"MI\",\"VA\",\"NY\",\"NJ\",\"MA\",\"OH\",\"NC\",\"WA\",\"FL\",\"PA\",\"CA\",\"TX\"],\"State_Code\":[\"MP\",\"PR\",\"SD\",\"VI\",\"ND\",\"VT\",\"WY\",\"MT\",\"DE\",\"AK\",\"GU\",\"ID\",\"NE\",\"WV\",\"ME\",\"NH\",\"MS\",\"NM\",\"AR\",\"IA\",\"NV\",\"RI\",\"KS\",\"HI\",\"OK\",\"MO\",\"KY\",\"AZ\",\"MN\",\"AL\",\"UT\",\"LA\",\"CT\",\"CO\",\"SC\",\"OR\",\"IN\",\"WI\",\"MD\",\"IL\",\"TN\",\"GA\",\"MI\",\"VA\",\"NY\",\"NJ\",\"MA\",\"OH\",\"NC\",\"WA\",\"FL\",\"PA\",\"CA\",\"TX\"]},\"selected\":{\"id\":\"10360\"},\"selection_policy\":{\"id\":\"10379\"}},\"id\":\"10359\",\"type\":\"ColumnDataSource\"},{\"attributes\":{\"axis\":{\"id\":\"10286\"},\"grid_line_color\":null,\"ticker\":null},\"id\":\"10288\",\"type\":\"Grid\"},{\"attributes\":{\"data\":{\"2015 - 2016\":{\"__ndarray__\":\"AAAAAAAAAAAAAAAAUPD0QAAAAABgcftAw/UoXPMY/EDhehSuE2L+QFyPwvVOhgBBCtejcB8CAkEAAAAACB8EQdejcD3MJARBuB6F63skB0EAAAAASBwLQXA9Cteh7A9BwvUoXBn8D0EAAAAANF8QQSlcj8IRhhBBAAAAAGQhEUE+CtejIWwTQXsUrkePoRNBzczMzNaxFUEK16NwlBsWQdejcD2v0hlBwvUoXGyYGkEUrkfhyLwbQeJ6FK5ztR5BmZmZmejvHkE9CtejM/oeQfYoXA+1hSJBuB6Fa8CYIkGPwvWor6skQUfhepTl7yRBexSux6iuJUHsUbieBhMmQYXrUThBLiZBSOF6FJwtJ0GF61E4vrwnQQAAAACoOihBPgrXoy6qKEE9CtcjGfooQTQzMzMDyCpBmZmZGXbBLkFwPQpXcMwuQZDC9ahaVS9BNDMzM0B2L0GkcD2KaAUyQcL1KBwDeDJB9ihcD2bZMkGG61E4USY0Qc3MzMz7STdBXI/C9eiLOEGjcD1KxHU5QQAAAMDJvTxBZmZmhqCgQEFmZmamd19GQTMzMzOx9EZB\",\"dtype\":\"float64\",\"order\":\"little\",\"shape\":[54]},\"A_2015_hyphen_minus_2016\":{\"__ndarray__\":\"AAAAAAAAAAAAAAAAUPD0QAAAAABgcftAw/UoXPMY/EDhehSuE2L+QFyPwvVOhgBBCtejcB8CAkEAAAAACB8EQdejcD3MJARBuB6F63skB0EAAAAASBwLQXA9Cteh7A9BwvUoXBn8D0EAAAAANF8QQSlcj8IRhhBBAAAAAGQhEUE+CtejIWwTQXsUrkePoRNBzczMzNaxFUEK16NwlBsWQdejcD2v0hlBwvUoXGyYGkEUrkfhyLwbQeJ6FK5ztR5BmZmZmejvHkE9CtejM/oeQfYoXA+1hSJBuB6Fa8CYIkGPwvWor6skQUfhepTl7yRBexSux6iuJUHsUbieBhMmQYXrUThBLiZBSOF6FJwtJ0GF61E4vrwnQQAAAACoOihBPgrXoy6qKEE9CtcjGfooQTQzMzMDyCpBmZmZGXbBLkFwPQpXcMwuQZDC9ahaVS9BNDMzM0B2L0GkcD2KaAUyQcL1KBwDeDJB9ihcD2bZMkGG61E4USY0Qc3MzMz7STdBXI/C9eiLOEGjcD1KxHU5QQAAAMDJvTxBZmZmhqCgQEFmZmamd19GQTMzMzOx9EZB\",\"dtype\":\"float64\",\"order\":\"little\",\"shape\":[54]},\"State Code\":[\"MP\",\"PR\",\"VI\",\"SD\",\"ND\",\"VT\",\"MT\",\"WY\",\"DE\",\"AK\",\"GU\",\"ID\",\"NE\",\"WV\",\"ME\",\"NH\",\"NM\",\"MS\",\"AR\",\"IA\",\"KS\",\"RI\",\"HI\",\"NV\",\"OK\",\"AZ\",\"KY\",\"MO\",\"MN\",\"AL\",\"CT\",\"UT\",\"LA\",\"IL\",\"CO\",\"WI\",\"SC\",\"OR\",\"IN\",\"TN\",\"MD\",\"MA\",\"GA\",\"NY\",\"NJ\",\"MI\",\"VA\",\"WA\",\"NC\",\"OH\",\"PA\",\"FL\",\"TX\",\"CA\"],\"State_Code\":[\"MP\",\"PR\",\"VI\",\"SD\",\"ND\",\"VT\",\"MT\",\"WY\",\"DE\",\"AK\",\"GU\",\"ID\",\"NE\",\"WV\",\"ME\",\"NH\",\"NM\",\"MS\",\"AR\",\"IA\",\"KS\",\"RI\",\"HI\",\"NV\",\"OK\",\"AZ\",\"KY\",\"MO\",\"MN\",\"AL\",\"CT\",\"UT\",\"LA\",\"IL\",\"CO\",\"WI\",\"SC\",\"OR\",\"IN\",\"TN\",\"MD\",\"MA\",\"GA\",\"NY\",\"NJ\",\"MI\",\"VA\",\"WA\",\"NC\",\"OH\",\"PA\",\"FL\",\"TX\",\"CA\"]},\"selected\":{\"id\":\"10339\"},\"selection_policy\":{\"id\":\"10356\"}},\"id\":\"10338\",\"type\":\"ColumnDataSource\"},{\"attributes\":{\"data_source\":{\"id\":\"10317\"},\"glyph\":{\"id\":\"10320\"},\"hover_glyph\":{\"id\":\"10322\"},\"muted_glyph\":{\"id\":\"10323\"},\"nonselection_glyph\":{\"id\":\"10321\"},\"selection_glyph\":{\"id\":\"10337\"},\"view\":{\"id\":\"10325\"}},\"id\":\"10324\",\"type\":\"GlyphRenderer\"},{\"attributes\":{\"fill_color\":{\"value\":\"#fc4f30\"},\"line_color\":{\"value\":\"#fc4f30\"},\"size\":{\"value\":5.477225575051661},\"x\":{\"field\":\"State Code\"},\"y\":{\"field\":\"2010 - 2014\"}},\"id\":\"10362\",\"type\":\"Scatter\"},{\"attributes\":{\"axis\":{\"id\":\"10289\"},\"dimension\":1,\"grid_line_color\":null,\"ticker\":null},\"id\":\"10292\",\"type\":\"Grid\"},{\"attributes\":{},\"id\":\"10313\",\"type\":\"AllLabels\"},{\"attributes\":{\"background_fill_color\":\"gray\",\"below\":[{\"id\":\"10286\"}],\"center\":[{\"id\":\"10288\"},{\"id\":\"10292\"}],\"height\":750,\"left\":[{\"id\":\"10289\"}],\"margin\":[5,5,5,5],\"min_border_bottom\":10,\"min_border_left\":10,\"min_border_right\":10,\"min_border_top\":10,\"renderers\":[{\"id\":\"10324\"},{\"id\":\"10344\"},{\"id\":\"10365\"}],\"right\":[{\"id\":\"10335\"}],\"sizing_mode\":\"fixed\",\"title\":{\"id\":\"10278\"},\"toolbar\":{\"id\":\"10299\"},\"width\":1500,\"x_range\":{\"id\":\"10272\"},\"x_scale\":{\"id\":\"10282\"},\"y_range\":{\"id\":\"10273\"},\"y_scale\":{\"id\":\"10284\"}},\"id\":\"10277\",\"subtype\":\"Figure\",\"type\":\"Plot\"},{\"attributes\":{\"label\":{\"value\":\"2019 Total Average Amount\"},\"renderers\":[{\"id\":\"10324\"}]},\"id\":\"10336\",\"type\":\"LegendItem\"},{\"attributes\":{},\"id\":\"10318\",\"type\":\"Selection\"},{\"attributes\":{\"source\":{\"id\":\"10317\"}},\"id\":\"10325\",\"type\":\"CDSView\"},{\"attributes\":{\"angle\":{\"value\":0.0},\"fill_alpha\":{\"value\":1.0},\"fill_color\":{\"value\":\"#fc4f30\"},\"hatch_alpha\":{\"value\":1.0},\"hatch_color\":{\"value\":\"black\"},\"hatch_scale\":{\"value\":12.0},\"hatch_weight\":{\"value\":1.0},\"line_alpha\":{\"value\":1.0},\"line_cap\":{\"value\":\"butt\"},\"line_color\":{\"value\":\"#fc4f30\"},\"line_dash\":{\"value\":[]},\"line_dash_offset\":{\"value\":0},\"line_join\":{\"value\":\"bevel\"},\"line_width\":{\"value\":1},\"marker\":{\"value\":\"circle\"},\"size\":{\"value\":5.477225575051661},\"x\":{\"field\":\"State Code\"},\"y\":{\"field\":\"2010 - 2014\"}},\"id\":\"10381\",\"type\":\"Scatter\"},{\"attributes\":{\"end\":3526420.084,\"reset_end\":3526420.084,\"reset_start\":0.0,\"tags\":[[[\"Total Average Loan Amount\",\"Total Average Loan Amount\",null]]]},\"id\":\"10273\",\"type\":\"Range1d\"},{\"attributes\":{},\"id\":\"10290\",\"type\":\"BasicTicker\"},{\"attributes\":{},\"id\":\"10356\",\"type\":\"UnionRenderers\"},{\"attributes\":{\"data_source\":{\"id\":\"10359\"},\"glyph\":{\"id\":\"10362\"},\"hover_glyph\":null,\"muted_glyph\":{\"id\":\"10364\"},\"nonselection_glyph\":{\"id\":\"10363\"},\"selection_glyph\":{\"id\":\"10381\"},\"view\":{\"id\":\"10366\"}},\"id\":\"10365\",\"type\":\"GlyphRenderer\"},{\"attributes\":{\"fill_color\":{\"value\":\"#30a2da\"},\"top\":{\"field\":\"Total_Average_Loan_Amount\"},\"width\":{\"value\":0.8},\"x\":{\"field\":\"State_Code\"}},\"id\":\"10320\",\"type\":\"VBar\"},{\"attributes\":{\"angle\":{\"value\":0.0},\"fill_alpha\":{\"value\":1.0},\"fill_color\":{\"value\":\"#30a2da\"},\"hatch_alpha\":{\"value\":1.0},\"hatch_color\":{\"value\":\"black\"},\"hatch_scale\":{\"value\":12.0},\"hatch_weight\":{\"value\":1.0},\"line_alpha\":{\"value\":1.0},\"line_cap\":{\"value\":\"butt\"},\"line_color\":{\"value\":\"#30a2da\"},\"line_dash\":{\"value\":[]},\"line_dash_offset\":{\"value\":0},\"line_join\":{\"value\":\"bevel\"},\"line_width\":{\"value\":1},\"marker\":{\"value\":\"circle\"},\"size\":{\"value\":5.477225575051661},\"x\":{\"field\":\"State Code\"},\"y\":{\"field\":\"2015 - 2016\"}},\"id\":\"10358\",\"type\":\"Scatter\"},{\"attributes\":{\"data\":{\"State_Code\":[\"MP\",\"PR\",\"ND\",\"SD\",\"VI\",\"WY\",\"VT\",\"MT\",\"DE\",\"AK\",\"GU\",\"MS\",\"WV\",\"ID\",\"ME\",\"NM\",\"NE\",\"NH\",\"AR\",\"IA\",\"KS\",\"HI\",\"RI\",\"OK\",\"NV\",\"AL\",\"LA\",\"KY\",\"SC\",\"CT\",\"MO\",\"CO\",\"AZ\",\"UT\",\"OR\",\"TN\",\"IN\",\"WI\",\"MD\",\"MN\",\"VA\",\"IL\",\"NY\",\"GA\",\"MA\",\"MI\",\"NC\",\"NJ\",\"WA\",\"OH\",\"FL\",\"PA\",\"TX\",\"CA\"],\"Total_Average_Loan_Amount\":{\"__ndarray__\":\"AAAAAAAd5UAAAAAAwFTsQB+F61Hs6PJArkfhelhS9UAAAAAAUEz3QAAAAAAwJPlA7FG4HmFD+UA9CtejDLn5QFK4HoX7dABB7FG4HlsqAkEAAAAAaEMGQa5H4Xr2bQdBAAAAAAi+CEGamZmZNUkJQRSuR+FaWAlBwvUoXLdjC0HD9Shc8eQLQcL1KFw/PQ5BSOF6FLEQEEEfhetRDdwSQRSuR+E0thNBrkfhem+WFEGQwvUoPlcVQWZmZmby+RVB7FG4HoasF0HrUbgeuo0aQeF6FK5i2BxBexSuR6tbHUEzMzMzaUggQR+F61HQZiBBmZmZGceBIUH2KFwP7PkhQRWuR+GvPCJBkML1KOZQIkG4HoVrQdYiQfYoXI9MiSRBwvUoXOn3JEEAAAAAUF8lQShcj0JNKyhBw/Uo3BUSKUFI4XqUXjQpQVS4HgX9tylB4noULhp5MEHC9SjcrLUwQSlcj8J1EzFBXI/CtTRDMUGamZnZk9ExQRSuR6EWtzJBkML1KE+jM0GjcD3K+6E1QfYoXE887TdBXI/CdS94OUFPuB5FM4xDQc7MzOzKZ0VB\",\"dtype\":\"float64\",\"order\":\"little\",\"shape\":[54]}},\"selected\":{\"id\":\"10318\"},\"selection_policy\":{\"id\":\"10334\"}},\"id\":\"10317\",\"type\":\"ColumnDataSource\"},{\"attributes\":{},\"id\":\"10293\",\"type\":\"SaveTool\"}],\"root_ids\":[\"10270\"]},\"title\":\"Bokeh Application\",\"version\":\"2.3.2\"}};\n",
       "    var render_items = [{\"docid\":\"c877240e-286d-49d4-a7d6-e52d9da109e6\",\"root_ids\":[\"10270\"],\"roots\":{\"10270\":\"8763e4ae-f85c-46ec-a020-f1fcf54a33a3\"}}];\n",
       "    root.Bokeh.embed.embed_items_notebook(docs_json, render_items);\n",
       "  }\n",
       "  if (root.Bokeh !== undefined && root.Bokeh.Panel !== undefined) {\n",
       "    embed_document(root);\n",
       "  } else {\n",
       "    var attempts = 0;\n",
       "    var timer = setInterval(function(root) {\n",
       "      if (root.Bokeh !== undefined && root.Bokeh.Panel !== undefined) {\n",
       "        clearInterval(timer);\n",
       "        embed_document(root);\n",
       "      } else if (document.readyState == \"complete\") {\n",
       "        attempts++;\n",
       "        if (attempts > 200) {\n",
       "          clearInterval(timer);\n",
       "          console.log(\"Bokeh: ERROR: Unable to run BokehJS code because BokehJS library is missing\");\n",
       "        }\n",
       "      }\n",
       "    }, 25, root)\n",
       "  }\n",
       "})(window);</script>"
      ],
      "text/plain": [
       ":Overlay\n",
       "   .Bars.A_2019_Total_Average_Amount :Bars   [State Code]   (Total Average Loan Amount)\n",
       "   .Scatter.A_2015_hyphen_minus_2016 :Scatter   [State Code]   (2015 - 2016)\n",
       "   .Scatter.A_2010_hyphen_minus_2014 :Scatter   [State Code]   (2010 - 2014)"
      ]
     },
     "execution_count": 66,
     "metadata": {
      "application/vnd.holoviews_exec.v0+json": {
       "id": "10270"
      }
     },
     "output_type": "execute_result"
    }
   ],
   "source": [
    "(plot_state_avgs * plot_2015_2016 * plot_2010_2014).opts(width=1500, height=750, bgcolor='gray', title='Loan Averages by State')"
   ]
  },
  {
   "cell_type": "code",
   "execution_count": 61,
   "metadata": {},
   "outputs": [
    {
     "data": {},
     "metadata": {},
     "output_type": "display_data"
    },
    {
     "data": {
      "application/vnd.holoviews_exec.v0+json": "",
      "text/html": [
       "<div id='9095'>\n",
       "\n",
       "\n",
       "\n",
       "\n",
       "\n",
       "  <div class=\"bk-root\" id=\"5e1c17a9-b158-4e85-906b-2404c524350b\" data-root-id=\"9095\"></div>\n",
       "</div>\n",
       "<script type=\"application/javascript\">(function(root) {\n",
       "  function embed_document(root) {\n",
       "    var docs_json = {\"8d858785-374f-499d-bcf4-034ff639e184\":{\"defs\":[{\"extends\":null,\"module\":null,\"name\":\"ReactiveHTML1\",\"overrides\":[],\"properties\":[]},{\"extends\":null,\"module\":null,\"name\":\"FlexBox1\",\"overrides\":[],\"properties\":[{\"default\":\"flex-start\",\"kind\":null,\"name\":\"align_content\"},{\"default\":\"flex-start\",\"kind\":null,\"name\":\"align_items\"},{\"default\":\"row\",\"kind\":null,\"name\":\"flex_direction\"},{\"default\":\"wrap\",\"kind\":null,\"name\":\"flex_wrap\"},{\"default\":\"flex-start\",\"kind\":null,\"name\":\"justify_content\"}]},{\"extends\":null,\"module\":null,\"name\":\"TemplateActions1\",\"overrides\":[],\"properties\":[{\"default\":0,\"kind\":null,\"name\":\"open_modal\"},{\"default\":0,\"kind\":null,\"name\":\"close_modal\"}]},{\"extends\":null,\"module\":null,\"name\":\"MaterialTemplateActions1\",\"overrides\":[],\"properties\":[{\"default\":0,\"kind\":null,\"name\":\"open_modal\"},{\"default\":0,\"kind\":null,\"name\":\"close_modal\"}]}],\"roots\":{\"references\":[{\"attributes\":{\"margin\":[5,5,5,5],\"name\":\"HSpacer18573\",\"sizing_mode\":\"stretch_width\"},\"id\":\"9096\",\"type\":\"Spacer\"},{\"attributes\":{\"text\":\"2010 - 2014\",\"text_color\":\"black\",\"text_font_size\":\"12pt\"},\"id\":\"9101\",\"type\":\"Title\"},{\"attributes\":{\"axis_label\":\"State Code\",\"formatter\":{\"id\":\"9142\"},\"major_label_orientation\":1.5707963267948966,\"major_label_policy\":{\"id\":\"9141\"},\"ticker\":{\"id\":\"9110\"}},\"id\":\"9109\",\"type\":\"CategoricalAxis\"},{\"attributes\":{\"fill_alpha\":{\"value\":0.2},\"fill_color\":{\"value\":\"#30a2da\"},\"line_alpha\":{\"value\":0.2},\"line_color\":{\"value\":\"#30a2da\"},\"size\":{\"value\":5.477225575051661},\"x\":{\"field\":\"State Code\"},\"y\":{\"field\":\"2010 - 2014\"}},\"id\":\"9135\",\"type\":\"Scatter\"},{\"attributes\":{},\"id\":\"9113\",\"type\":\"BasicTicker\"},{\"attributes\":{\"active_multi\":null,\"tools\":[{\"id\":\"9099\"},{\"id\":\"9116\"},{\"id\":\"9117\"},{\"id\":\"9118\"},{\"id\":\"9119\"},{\"id\":\"9120\"}]},\"id\":\"9122\",\"type\":\"Toolbar\"},{\"attributes\":{},\"id\":\"9116\",\"type\":\"SaveTool\"},{\"attributes\":{},\"id\":\"9118\",\"type\":\"WheelZoomTool\"},{\"attributes\":{\"source\":{\"id\":\"9129\"}},\"id\":\"9137\",\"type\":\"CDSView\"},{\"attributes\":{\"fill_color\":{\"value\":\"#30a2da\"},\"line_color\":{\"value\":\"red\"},\"size\":{\"value\":5.477225575051661},\"x\":{\"field\":\"State Code\"},\"y\":{\"field\":\"2010 - 2014\"}},\"id\":\"9134\",\"type\":\"Scatter\"},{\"attributes\":{\"format\":\"%.0f\"},\"id\":\"9139\",\"type\":\"PrintfTickFormatter\"},{\"attributes\":{},\"id\":\"9120\",\"type\":\"ResetTool\"},{\"attributes\":{},\"id\":\"9141\",\"type\":\"AllLabels\"},{\"attributes\":{\"data_source\":{\"id\":\"9129\"},\"glyph\":{\"id\":\"9132\"},\"hover_glyph\":{\"id\":\"9134\"},\"muted_glyph\":{\"id\":\"9135\"},\"nonselection_glyph\":{\"id\":\"9133\"},\"selection_glyph\":{\"id\":\"9138\"},\"view\":{\"id\":\"9137\"}},\"id\":\"9136\",\"type\":\"GlyphRenderer\"},{\"attributes\":{\"below\":[{\"id\":\"9109\"}],\"center\":[{\"id\":\"9111\"},{\"id\":\"9115\"}],\"height\":300,\"left\":[{\"id\":\"9112\"}],\"margin\":[5,5,5,5],\"min_border_bottom\":10,\"min_border_left\":10,\"min_border_right\":10,\"min_border_top\":10,\"renderers\":[{\"id\":\"9136\"}],\"sizing_mode\":\"fixed\",\"title\":{\"id\":\"9101\"},\"toolbar\":{\"id\":\"9122\"},\"width\":700,\"x_range\":{\"id\":\"9097\"},\"x_scale\":{\"id\":\"9105\"},\"y_range\":{\"id\":\"9098\"},\"y_scale\":{\"id\":\"9107\"}},\"id\":\"9100\",\"subtype\":\"Figure\",\"type\":\"Plot\"},{\"attributes\":{\"data\":{\"2010 - 2014\":{\"__ndarray__\":\"AAAAAEDF2kAAAAAAULzzQPYoXI+yuvlAAAAAACA8/EDXo3A9eh79QFK4HoUDQgBBAAAAAEhJAEEfhetRii8BQR+F61HK1gNB7FG4HpsKBUEAAAAA8M0HQexRuB6nnA5BehSuRytREEEAAAAA0JkQQRSuR+HbvxBBHoXrUQ+UEUEAAAAA4tMRQT4K16PIeRJB4XoUril1FUFnZmZmhZMVQSpcj8K/RxhBXI/C9SBjGEHhehSuMNkYQR+F61GBGxpBKVyPwqpwHEFcj8J1LjYhQfYoXA9pNSJBexSuRxFNIkHsUbiebfYiQRWuR+GuyyNBuB6FazdGJEFwPQrXCiclQVK4HoWcQCVBwvUoXDaVJUEAAACAShInQaRwPQrxaCdBZWZmZtumKEEAAAAAmD0pQSCF61Gd3ilB7FG4HsPlKUEoXI9C7tErQa1H4bqQkjFBZ2ZmZq+ZMUFxPQoXCE8yQWdmZiaJWDJBC9ej8HJLNEE+CtfjgGY0QRWuR2FODzZBZmZmZoAGN0GQwvWoFhA3QRWuRyGWpD1BAAAAwKYZP0HXo3CdZvxFQYXrUThmdUhB\",\"dtype\":\"float64\",\"order\":\"little\",\"shape\":[54]},\"A_2010_hyphen_minus_2014\":{\"__ndarray__\":\"AAAAAEDF2kAAAAAAULzzQPYoXI+yuvlAAAAAACA8/EDXo3A9eh79QFK4HoUDQgBBAAAAAEhJAEEfhetRii8BQR+F61HK1gNB7FG4HpsKBUEAAAAA8M0HQexRuB6nnA5BehSuRytREEEAAAAA0JkQQRSuR+HbvxBBHoXrUQ+UEUEAAAAA4tMRQT4K16PIeRJB4XoUril1FUFnZmZmhZMVQSpcj8K/RxhBXI/C9SBjGEHhehSuMNkYQR+F61GBGxpBKVyPwqpwHEFcj8J1LjYhQfYoXA9pNSJBexSuRxFNIkHsUbiebfYiQRWuR+GuyyNBuB6FazdGJEFwPQrXCiclQVK4HoWcQCVBwvUoXDaVJUEAAACAShInQaRwPQrxaCdBZWZmZtumKEEAAAAAmD0pQSCF61Gd3ilB7FG4HsPlKUEoXI9C7tErQa1H4bqQkjFBZ2ZmZq+ZMUFxPQoXCE8yQWdmZiaJWDJBC9ej8HJLNEE+CtfjgGY0QRWuR2FODzZBZmZmZoAGN0GQwvWoFhA3QRWuRyGWpD1BAAAAwKYZP0HXo3CdZvxFQYXrUThmdUhB\",\"dtype\":\"float64\",\"order\":\"little\",\"shape\":[54]},\"State Code\":[\"MP\",\"PR\",\"SD\",\"VI\",\"ND\",\"VT\",\"WY\",\"MT\",\"DE\",\"AK\",\"GU\",\"ID\",\"NE\",\"WV\",\"ME\",\"NH\",\"MS\",\"NM\",\"AR\",\"IA\",\"NV\",\"RI\",\"KS\",\"HI\",\"OK\",\"MO\",\"KY\",\"AZ\",\"MN\",\"AL\",\"UT\",\"LA\",\"CT\",\"CO\",\"SC\",\"OR\",\"IN\",\"WI\",\"MD\",\"IL\",\"TN\",\"GA\",\"MI\",\"VA\",\"NY\",\"NJ\",\"MA\",\"OH\",\"NC\",\"WA\",\"FL\",\"PA\",\"CA\",\"TX\"],\"State_Code\":[\"MP\",\"PR\",\"SD\",\"VI\",\"ND\",\"VT\",\"WY\",\"MT\",\"DE\",\"AK\",\"GU\",\"ID\",\"NE\",\"WV\",\"ME\",\"NH\",\"MS\",\"NM\",\"AR\",\"IA\",\"NV\",\"RI\",\"KS\",\"HI\",\"OK\",\"MO\",\"KY\",\"AZ\",\"MN\",\"AL\",\"UT\",\"LA\",\"CT\",\"CO\",\"SC\",\"OR\",\"IN\",\"WI\",\"MD\",\"IL\",\"TN\",\"GA\",\"MI\",\"VA\",\"NY\",\"NJ\",\"MA\",\"OH\",\"NC\",\"WA\",\"FL\",\"PA\",\"CA\",\"TX\"]},\"selected\":{\"id\":\"9130\"},\"selection_policy\":{\"id\":\"9156\"}},\"id\":\"9129\",\"type\":\"ColumnDataSource\"},{\"attributes\":{\"children\":[{\"id\":\"9096\"},{\"id\":\"9100\"},{\"id\":\"9166\"}],\"margin\":[0,0,0,0],\"name\":\"Row18569\",\"tags\":[\"embedded\"]},\"id\":\"9095\",\"type\":\"Row\"},{\"attributes\":{},\"id\":\"9142\",\"type\":\"CategoricalTickFormatter\"},{\"attributes\":{},\"id\":\"9107\",\"type\":\"LinearScale\"},{\"attributes\":{\"fill_alpha\":{\"value\":0.1},\"fill_color\":{\"value\":\"#30a2da\"},\"line_alpha\":{\"value\":0.1},\"line_color\":{\"value\":\"#30a2da\"},\"size\":{\"value\":5.477225575051661},\"x\":{\"field\":\"State Code\"},\"y\":{\"field\":\"2010 - 2014\"}},\"id\":\"9133\",\"type\":\"Scatter\"},{\"attributes\":{\"axis\":{\"id\":\"9112\"},\"dimension\":1,\"grid_line_color\":null,\"ticker\":null},\"id\":\"9115\",\"type\":\"Grid\"},{\"attributes\":{},\"id\":\"9105\",\"type\":\"CategoricalScale\"},{\"attributes\":{\"callback\":null,\"renderers\":[{\"id\":\"9136\"}],\"tags\":[\"hv_created\"],\"tooltips\":[[\"State Code\",\"@{State_Code}\"],[\"2010 - 2014\",\"@{A_2010_hyphen_minus_2014}\"]]},\"id\":\"9099\",\"type\":\"HoverTool\"},{\"attributes\":{\"angle\":{\"value\":0.0},\"fill_alpha\":{\"value\":1.0},\"fill_color\":{\"value\":\"#30a2da\"},\"hatch_alpha\":{\"value\":1.0},\"hatch_color\":{\"value\":\"black\"},\"hatch_scale\":{\"value\":12.0},\"hatch_weight\":{\"value\":1.0},\"line_alpha\":{\"value\":1.0},\"line_cap\":{\"value\":\"butt\"},\"line_color\":{\"value\":\"#30a2da\"},\"line_dash\":{\"value\":[]},\"line_dash_offset\":{\"value\":0},\"line_join\":{\"value\":\"bevel\"},\"line_width\":{\"value\":1},\"marker\":{\"value\":\"circle\"},\"size\":{\"value\":5.477225575051661},\"x\":{\"field\":\"State Code\"},\"y\":{\"field\":\"2010 - 2014\"}},\"id\":\"9138\",\"type\":\"Scatter\"},{\"attributes\":{},\"id\":\"9130\",\"type\":\"Selection\"},{\"attributes\":{\"factors\":[\"MP\",\"PR\",\"SD\",\"VI\",\"ND\",\"VT\",\"WY\",\"MT\",\"DE\",\"AK\",\"GU\",\"ID\",\"NE\",\"WV\",\"ME\",\"NH\",\"MS\",\"NM\",\"AR\",\"IA\",\"NV\",\"RI\",\"KS\",\"HI\",\"OK\",\"MO\",\"KY\",\"AZ\",\"MN\",\"AL\",\"UT\",\"LA\",\"CT\",\"CO\",\"SC\",\"OR\",\"IN\",\"WI\",\"MD\",\"IL\",\"TN\",\"GA\",\"MI\",\"VA\",\"NY\",\"NJ\",\"MA\",\"OH\",\"NC\",\"WA\",\"FL\",\"PA\",\"CA\",\"TX\"],\"tags\":[[[\"State Code\",\"State Code\",null]]]},\"id\":\"9097\",\"type\":\"FactorRange\"},{\"attributes\":{},\"id\":\"9110\",\"type\":\"CategoricalTicker\"},{\"attributes\":{\"bottom_units\":\"screen\",\"fill_alpha\":0.5,\"fill_color\":\"lightgrey\",\"left_units\":\"screen\",\"level\":\"overlay\",\"line_alpha\":1.0,\"line_color\":\"black\",\"line_dash\":[4,4],\"line_width\":2,\"right_units\":\"screen\",\"syncable\":false,\"top_units\":\"screen\"},\"id\":\"9121\",\"type\":\"BoxAnnotation\"},{\"attributes\":{\"margin\":[5,5,5,5],\"name\":\"HSpacer18574\",\"sizing_mode\":\"stretch_width\"},\"id\":\"9166\",\"type\":\"Spacer\"},{\"attributes\":{\"fill_color\":{\"value\":\"#30a2da\"},\"line_color\":{\"value\":\"#30a2da\"},\"size\":{\"value\":5.477225575051661},\"x\":{\"field\":\"State Code\"},\"y\":{\"field\":\"2010 - 2014\"}},\"id\":\"9132\",\"type\":\"Scatter\"},{\"attributes\":{\"overlay\":{\"id\":\"9121\"}},\"id\":\"9119\",\"type\":\"BoxZoomTool\"},{\"attributes\":{},\"id\":\"9156\",\"type\":\"UnionRenderers\"},{\"attributes\":{\"axis\":{\"id\":\"9109\"},\"grid_line_color\":null,\"ticker\":null},\"id\":\"9111\",\"type\":\"Grid\"},{\"attributes\":{},\"id\":\"9144\",\"type\":\"AllLabels\"},{\"attributes\":{},\"id\":\"9117\",\"type\":\"PanTool\"},{\"attributes\":{\"axis_label\":\"\",\"formatter\":{\"id\":\"9139\"},\"major_label_policy\":{\"id\":\"9144\"},\"ticker\":{\"id\":\"9113\"}},\"id\":\"9112\",\"type\":\"LinearAxis\"},{\"attributes\":{\"end\":3523678.784,\"reset_end\":3523678.784,\"reset_start\":-290429.34400000004,\"start\":-290429.34400000004,\"tags\":[[[\"2010 - 2014\",\"2010 - 2014\",null]]]},\"id\":\"9098\",\"type\":\"Range1d\"}],\"root_ids\":[\"9095\"]},\"title\":\"Bokeh Application\",\"version\":\"2.3.2\"}};\n",
       "    var render_items = [{\"docid\":\"8d858785-374f-499d-bcf4-034ff639e184\",\"root_ids\":[\"9095\"],\"roots\":{\"9095\":\"5e1c17a9-b158-4e85-906b-2404c524350b\"}}];\n",
       "    root.Bokeh.embed.embed_items_notebook(docs_json, render_items);\n",
       "  }\n",
       "  if (root.Bokeh !== undefined && root.Bokeh.Panel !== undefined) {\n",
       "    embed_document(root);\n",
       "  } else {\n",
       "    var attempts = 0;\n",
       "    var timer = setInterval(function(root) {\n",
       "      if (root.Bokeh !== undefined && root.Bokeh.Panel !== undefined) {\n",
       "        clearInterval(timer);\n",
       "        embed_document(root);\n",
       "      } else if (document.readyState == \"complete\") {\n",
       "        attempts++;\n",
       "        if (attempts > 200) {\n",
       "          clearInterval(timer);\n",
       "          console.log(\"Bokeh: ERROR: Unable to run BokehJS code because BokehJS library is missing\");\n",
       "        }\n",
       "      }\n",
       "    }, 25, root)\n",
       "  }\n",
       "})(window);</script>"
      ],
      "text/plain": [
       ":Scatter   [State Code]   (2010 - 2014)"
      ]
     },
     "execution_count": 61,
     "metadata": {
      "application/vnd.holoviews_exec.v0+json": {
       "id": "9095"
      }
     },
     "output_type": "execute_result"
    }
   ],
   "source": [
    "plot_2010_2014.opts(hover_line_color=\"red\")"
   ]
  },
  {
   "cell_type": "code",
   "execution_count": null,
   "metadata": {},
   "outputs": [],
   "source": []
  }
 ],
 "metadata": {
  "kernel_info": {
   "name": "python3"
  },
  "kernelspec": {
   "display_name": "Python 3",
   "language": "python",
   "name": "python3"
  },
  "language_info": {
   "codemirror_mode": {
    "name": "ipython",
    "version": 3
   },
   "file_extension": ".py",
   "mimetype": "text/x-python",
   "name": "python",
   "nbconvert_exporter": "python",
   "pygments_lexer": "ipython3",
   "version": "3.7.10"
  },
  "nteract": {
   "version": "0.12.3"
  }
 },
 "nbformat": 4,
 "nbformat_minor": 4
}
