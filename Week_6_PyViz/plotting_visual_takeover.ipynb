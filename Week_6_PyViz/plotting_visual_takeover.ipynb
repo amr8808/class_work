{
 "cells": [
  {
   "cell_type": "markdown",
   "metadata": {},
   "source": [
    "### Plotting a Visual Takeover\n",
    "\n",
    "The executive team has recently partnered up with a business INtelligence company to create a BI platform rooted in digital dashboards. In order to help the initaitive, you need to convert all Pandas/Matplotlib visualizations referred to in this document to hvplot visualiations. "
   ]
  },
  {
   "cell_type": "code",
   "execution_count": 3,
   "metadata": {},
   "outputs": [],
   "source": [
    "# Import libraries and dependencies\n",
    "import pandas as pd\n",
    "from pathlib import Path"
   ]
  },
  {
   "cell_type": "code",
   "execution_count": 4,
   "metadata": {},
   "outputs": [],
   "source": [
    "# Import hvplot\n",
    "import hvplot.pandas"
   ]
  },
  {
   "cell_type": "markdown",
   "metadata": {},
   "source": [
    "### Prepare Data"
   ]
  },
  {
   "cell_type": "code",
   "execution_count": 7,
   "metadata": {},
   "outputs": [],
   "source": [
    "\n",
    "\n",
    "# Read in the CSV as a DataFrame\n",
    "sp500_companies_csv = pd.read_csv('sp500_companies.csv')\n",
    "\n",
    "sector_count = sp500_companies_csv['Sector'].value_counts()\n",
    "\n",
    "# Count the frequency of each sector from the list of companies\n",
    "sector_count = sp500_companies_csv['Sector'].value_counts()\n",
    "\n",
    "# Grab the `Symbol` and `Market Cap` columns\n",
    "market_cap = sp500_companies_csv.loc[:, ['Symbol', 'Market Cap']]\n",
    "\n",
    "# Set the 'Symbol' as the index\n",
    "market_cap.set_index(market_cap['Symbol'], inplace=True)\n",
    "\n",
    "# Drop the extra 'Symbol' column\n",
    "market_cap.drop(columns=['Symbol'], inplace=True)\n",
    "\n",
    "# Filter down to 20 companies with the largest market caps\n",
    "top_20_market_cap = market_cap.nlargest(20, 'Market Cap')"
   ]
  },
  {
   "cell_type": "markdown",
   "metadata": {},
   "source": [
    "### Create Plot Using hvplot()"
   ]
  },
  {
   "cell_type": "code",
   "execution_count": 8,
   "metadata": {},
   "outputs": [
    {
     "data": {},
     "metadata": {},
     "output_type": "display_data"
    },
    {
     "data": {
      "application/vnd.holoviews_exec.v0+json": "",
      "text/html": [
       "<div id='1002'>\n",
       "\n",
       "\n",
       "\n",
       "\n",
       "\n",
       "  <div class=\"bk-root\" id=\"4bfdf375-04d6-42a0-aa88-16ba37278ddf\" data-root-id=\"1002\"></div>\n",
       "</div>\n",
       "<script type=\"application/javascript\">(function(root) {\n",
       "  function embed_document(root) {\n",
       "    var docs_json = {\"546de94e-25c8-4660-bb35-0caddfdc656f\":{\"defs\":[{\"extends\":null,\"module\":null,\"name\":\"ReactiveHTML1\",\"overrides\":[],\"properties\":[]},{\"extends\":null,\"module\":null,\"name\":\"FlexBox1\",\"overrides\":[],\"properties\":[{\"default\":\"flex-start\",\"kind\":null,\"name\":\"align_content\"},{\"default\":\"flex-start\",\"kind\":null,\"name\":\"align_items\"},{\"default\":\"row\",\"kind\":null,\"name\":\"flex_direction\"},{\"default\":\"wrap\",\"kind\":null,\"name\":\"flex_wrap\"},{\"default\":\"flex-start\",\"kind\":null,\"name\":\"justify_content\"}]},{\"extends\":null,\"module\":null,\"name\":\"TemplateActions1\",\"overrides\":[],\"properties\":[{\"default\":0,\"kind\":null,\"name\":\"open_modal\"},{\"default\":0,\"kind\":null,\"name\":\"close_modal\"}]},{\"extends\":null,\"module\":null,\"name\":\"MaterialTemplateActions1\",\"overrides\":[],\"properties\":[{\"default\":0,\"kind\":null,\"name\":\"open_modal\"},{\"default\":0,\"kind\":null,\"name\":\"close_modal\"}]}],\"roots\":{\"references\":[{\"attributes\":{\"data_source\":{\"id\":\"1036\"},\"glyph\":{\"id\":\"1039\"},\"hover_glyph\":null,\"muted_glyph\":{\"id\":\"1041\"},\"nonselection_glyph\":{\"id\":\"1040\"},\"selection_glyph\":{\"id\":\"1044\"},\"view\":{\"id\":\"1043\"}},\"id\":\"1042\",\"type\":\"GlyphRenderer\"},{\"attributes\":{\"axis_label\":\"Symbol\",\"formatter\":{\"id\":\"1045\"},\"major_label_policy\":{\"id\":\"1046\"},\"ticker\":{\"id\":\"1017\"}},\"id\":\"1016\",\"type\":\"CategoricalAxis\"},{\"attributes\":{\"line_alpha\":0.2,\"line_color\":\"#30a2da\",\"line_width\":2,\"x\":{\"field\":\"Symbol\"},\"y\":{\"field\":\"Market Cap\"}},\"id\":\"1041\",\"type\":\"Line\"},{\"attributes\":{\"line_color\":\"#30a2da\",\"line_width\":2,\"x\":{\"field\":\"Symbol\"},\"y\":{\"field\":\"Market Cap\"}},\"id\":\"1044\",\"type\":\"Line\"},{\"attributes\":{\"below\":[{\"id\":\"1016\"}],\"center\":[{\"id\":\"1018\"},{\"id\":\"1022\"}],\"height\":300,\"left\":[{\"id\":\"1019\"}],\"margin\":[5,5,5,5],\"min_border_bottom\":10,\"min_border_left\":10,\"min_border_right\":10,\"min_border_top\":10,\"renderers\":[{\"id\":\"1042\"}],\"sizing_mode\":\"fixed\",\"title\":{\"id\":\"1008\"},\"toolbar\":{\"id\":\"1029\"},\"width\":700,\"x_range\":{\"id\":\"1004\"},\"x_scale\":{\"id\":\"1012\"},\"y_range\":{\"id\":\"1005\"},\"y_scale\":{\"id\":\"1014\"}},\"id\":\"1007\",\"subtype\":\"Figure\",\"type\":\"Plot\"},{\"attributes\":{\"callback\":null,\"renderers\":[{\"id\":\"1042\"}],\"tags\":[\"hv_created\"],\"tooltips\":[[\"Symbol\",\"@{Symbol}\"],[\"Market Cap\",\"@{Market_Cap}\"]]},\"id\":\"1006\",\"type\":\"HoverTool\"},{\"attributes\":{},\"id\":\"1023\",\"type\":\"SaveTool\"},{\"attributes\":{},\"id\":\"1050\",\"type\":\"AllLabels\"},{\"attributes\":{},\"id\":\"1024\",\"type\":\"PanTool\"},{\"attributes\":{},\"id\":\"1027\",\"type\":\"ResetTool\"},{\"attributes\":{\"text_color\":\"black\",\"text_font_size\":\"12pt\"},\"id\":\"1008\",\"type\":\"Title\"},{\"attributes\":{},\"id\":\"1025\",\"type\":\"WheelZoomTool\"},{\"attributes\":{},\"id\":\"1058\",\"type\":\"UnionRenderers\"},{\"attributes\":{\"margin\":[5,5,5,5],\"name\":\"HSpacer01631\",\"sizing_mode\":\"stretch_width\"},\"id\":\"1071\",\"type\":\"Spacer\"},{\"attributes\":{\"overlay\":{\"id\":\"1028\"}},\"id\":\"1026\",\"type\":\"BoxZoomTool\"},{\"attributes\":{},\"id\":\"1046\",\"type\":\"AllLabels\"},{\"attributes\":{\"source\":{\"id\":\"1036\"}},\"id\":\"1043\",\"type\":\"CDSView\"},{\"attributes\":{\"axis\":{\"id\":\"1016\"},\"grid_line_color\":null,\"ticker\":null},\"id\":\"1018\",\"type\":\"Grid\"},{\"attributes\":{},\"id\":\"1020\",\"type\":\"BasicTicker\"},{\"attributes\":{\"bottom_units\":\"screen\",\"fill_alpha\":0.5,\"fill_color\":\"lightgrey\",\"left_units\":\"screen\",\"level\":\"overlay\",\"line_alpha\":1.0,\"line_color\":\"black\",\"line_dash\":[4,4],\"line_width\":2,\"right_units\":\"screen\",\"syncable\":false,\"top_units\":\"screen\"},\"id\":\"1028\",\"type\":\"BoxAnnotation\"},{\"attributes\":{\"margin\":[5,5,5,5],\"name\":\"HSpacer01630\",\"sizing_mode\":\"stretch_width\"},\"id\":\"1003\",\"type\":\"Spacer\"},{\"attributes\":{},\"id\":\"1012\",\"type\":\"CategoricalScale\"},{\"attributes\":{},\"id\":\"1045\",\"type\":\"CategoricalTickFormatter\"},{\"attributes\":{},\"id\":\"1014\",\"type\":\"LinearScale\"},{\"attributes\":{\"data\":{\"Market Cap\":[809508034020,733823966137,728535558140,689978437468,685873374731,523423036576,386613611000,353062464971,326148660000,321478200969,304680931618,281463620775,270038723213,261401203633,226713270000,223378633329,218978820159,218834811333,211536000000,208505541949],\"Market_Cap\":[809508034020,733823966137,728535558140,689978437468,685873374731,523423036576,386613611000,353062464971,326148660000,321478200969,304680931618,281463620775,270038723213,261401203633,226713270000,223378633329,218978820159,218834811333,211536000000,208505541949],\"Symbol\":[\"AAPL\",\"GOOGL\",\"GOOG\",\"MSFT\",\"AMZN\",\"FB\",\"JPM\",\"JNJ\",\"XOM\",\"BAC\",\"WMT\",\"WFC\",\"V\",\"BRK.B\",\"T\",\"HD\",\"CVX\",\"UNH\",\"INTC\",\"PFE\"]},\"selected\":{\"id\":\"1037\"},\"selection_policy\":{\"id\":\"1058\"}},\"id\":\"1036\",\"type\":\"ColumnDataSource\"},{\"attributes\":{\"factors\":[\"AAPL\",\"GOOGL\",\"GOOG\",\"MSFT\",\"AMZN\",\"FB\",\"JPM\",\"JNJ\",\"XOM\",\"BAC\",\"WMT\",\"WFC\",\"V\",\"BRK.B\",\"T\",\"HD\",\"CVX\",\"UNH\",\"INTC\",\"PFE\"],\"tags\":[[[\"Symbol\",\"Symbol\",null]]]},\"id\":\"1004\",\"type\":\"FactorRange\"},{\"attributes\":{\"end\":869608283227.1,\"reset_end\":869608283227.1,\"reset_start\":148405292741.9,\"start\":148405292741.9,\"tags\":[[[\"Market Cap\",\"Market Cap\",null]]]},\"id\":\"1005\",\"type\":\"Range1d\"},{\"attributes\":{},\"id\":\"1049\",\"type\":\"BasicTickFormatter\"},{\"attributes\":{},\"id\":\"1017\",\"type\":\"CategoricalTicker\"},{\"attributes\":{},\"id\":\"1037\",\"type\":\"Selection\"},{\"attributes\":{\"axis_label\":\"Market Cap\",\"formatter\":{\"id\":\"1049\"},\"major_label_policy\":{\"id\":\"1050\"},\"ticker\":{\"id\":\"1020\"}},\"id\":\"1019\",\"type\":\"LinearAxis\"},{\"attributes\":{\"children\":[{\"id\":\"1003\"},{\"id\":\"1007\"},{\"id\":\"1071\"}],\"margin\":[0,0,0,0],\"name\":\"Row01626\",\"tags\":[\"embedded\"]},\"id\":\"1002\",\"type\":\"Row\"},{\"attributes\":{\"axis\":{\"id\":\"1019\"},\"dimension\":1,\"grid_line_color\":null,\"ticker\":null},\"id\":\"1022\",\"type\":\"Grid\"},{\"attributes\":{\"active_multi\":null,\"tools\":[{\"id\":\"1006\"},{\"id\":\"1023\"},{\"id\":\"1024\"},{\"id\":\"1025\"},{\"id\":\"1026\"},{\"id\":\"1027\"}]},\"id\":\"1029\",\"type\":\"Toolbar\"},{\"attributes\":{\"line_color\":\"#30a2da\",\"line_width\":2,\"x\":{\"field\":\"Symbol\"},\"y\":{\"field\":\"Market Cap\"}},\"id\":\"1039\",\"type\":\"Line\"},{\"attributes\":{\"line_alpha\":0.1,\"line_color\":\"#30a2da\",\"line_width\":2,\"x\":{\"field\":\"Symbol\"},\"y\":{\"field\":\"Market Cap\"}},\"id\":\"1040\",\"type\":\"Line\"}],\"root_ids\":[\"1002\"]},\"title\":\"Bokeh Application\",\"version\":\"2.3.2\"}};\n",
       "    var render_items = [{\"docid\":\"546de94e-25c8-4660-bb35-0caddfdc656f\",\"root_ids\":[\"1002\"],\"roots\":{\"1002\":\"4bfdf375-04d6-42a0-aa88-16ba37278ddf\"}}];\n",
       "    root.Bokeh.embed.embed_items_notebook(docs_json, render_items);\n",
       "  }\n",
       "  if (root.Bokeh !== undefined && root.Bokeh.Panel !== undefined) {\n",
       "    embed_document(root);\n",
       "  } else {\n",
       "    var attempts = 0;\n",
       "    var timer = setInterval(function(root) {\n",
       "      if (root.Bokeh !== undefined && root.Bokeh.Panel !== undefined) {\n",
       "        clearInterval(timer);\n",
       "        embed_document(root);\n",
       "      } else if (document.readyState == \"complete\") {\n",
       "        attempts++;\n",
       "        if (attempts > 200) {\n",
       "          clearInterval(timer);\n",
       "          console.log(\"Bokeh: ERROR: Unable to run BokehJS code because BokehJS library is missing\");\n",
       "        }\n",
       "      }\n",
       "    }, 25, root)\n",
       "  }\n",
       "})(window);</script>"
      ],
      "text/plain": [
       ":Curve   [Symbol]   (Market Cap)"
      ]
     },
     "execution_count": 8,
     "metadata": {
      "application/vnd.holoviews_exec.v0+json": {
       "id": "1002"
      }
     },
     "output_type": "execute_result"
    }
   ],
   "source": [
    "# Generate standard hvplot\n",
    "top_20_market_cap.hvplot()"
   ]
  },
  {
   "cell_type": "markdown",
   "metadata": {},
   "source": [
    "### Create Bar Plot Using hvplot.bar()"
   ]
  },
  {
   "cell_type": "code",
   "execution_count": 9,
   "metadata": {},
   "outputs": [
    {
     "data": {},
     "metadata": {},
     "output_type": "display_data"
    },
    {
     "data": {
      "application/vnd.holoviews_exec.v0+json": "",
      "text/html": [
       "<div id='1123'>\n",
       "\n",
       "\n",
       "\n",
       "\n",
       "\n",
       "  <div class=\"bk-root\" id=\"79b33cbf-1956-420c-a3a0-36ea3ab77a91\" data-root-id=\"1123\"></div>\n",
       "</div>\n",
       "<script type=\"application/javascript\">(function(root) {\n",
       "  function embed_document(root) {\n",
       "    var docs_json = {\"00a1952f-2819-461b-8502-a2ac9af1867b\":{\"defs\":[{\"extends\":null,\"module\":null,\"name\":\"ReactiveHTML1\",\"overrides\":[],\"properties\":[]},{\"extends\":null,\"module\":null,\"name\":\"FlexBox1\",\"overrides\":[],\"properties\":[{\"default\":\"flex-start\",\"kind\":null,\"name\":\"align_content\"},{\"default\":\"flex-start\",\"kind\":null,\"name\":\"align_items\"},{\"default\":\"row\",\"kind\":null,\"name\":\"flex_direction\"},{\"default\":\"wrap\",\"kind\":null,\"name\":\"flex_wrap\"},{\"default\":\"flex-start\",\"kind\":null,\"name\":\"justify_content\"}]},{\"extends\":null,\"module\":null,\"name\":\"TemplateActions1\",\"overrides\":[],\"properties\":[{\"default\":0,\"kind\":null,\"name\":\"open_modal\"},{\"default\":0,\"kind\":null,\"name\":\"close_modal\"}]},{\"extends\":null,\"module\":null,\"name\":\"MaterialTemplateActions1\",\"overrides\":[],\"properties\":[{\"default\":0,\"kind\":null,\"name\":\"open_modal\"},{\"default\":0,\"kind\":null,\"name\":\"close_modal\"}]}],\"roots\":{\"references\":[{\"attributes\":{\"axis\":{\"id\":\"1137\"},\"grid_line_color\":null,\"ticker\":null},\"id\":\"1139\",\"type\":\"Grid\"},{\"attributes\":{},\"id\":\"1141\",\"type\":\"BasicTicker\"},{\"attributes\":{\"axis_label\":\"Symbol\",\"formatter\":{\"id\":\"1166\"},\"major_label_policy\":{\"id\":\"1167\"},\"ticker\":{\"id\":\"1138\"}},\"id\":\"1137\",\"type\":\"CategoricalAxis\"},{\"attributes\":{},\"id\":\"1135\",\"type\":\"LinearScale\"},{\"attributes\":{\"end\":869608283227.1,\"reset_end\":869608283227.1,\"reset_start\":0.0,\"tags\":[[[\"Market Cap\",\"Market Cap\",null]]]},\"id\":\"1126\",\"type\":\"Range1d\"},{\"attributes\":{},\"id\":\"1138\",\"type\":\"CategoricalTicker\"},{\"attributes\":{\"callback\":null,\"renderers\":[{\"id\":\"1163\"}],\"tags\":[\"hv_created\"],\"tooltips\":[[\"Symbol\",\"@{Symbol}\"],[\"Market Cap\",\"@{Market_Cap}\"]]},\"id\":\"1127\",\"type\":\"HoverTool\"},{\"attributes\":{\"axis_label\":\"Market Cap\",\"formatter\":{\"id\":\"1170\"},\"major_label_policy\":{\"id\":\"1171\"},\"ticker\":{\"id\":\"1141\"}},\"id\":\"1140\",\"type\":\"LinearAxis\"},{\"attributes\":{\"fill_alpha\":{\"value\":0.2},\"fill_color\":{\"value\":\"#30a2da\"},\"line_alpha\":{\"value\":0.2},\"top\":{\"field\":\"Market_Cap\"},\"width\":{\"value\":0.8},\"x\":{\"field\":\"Symbol\"}},\"id\":\"1162\",\"type\":\"VBar\"},{\"attributes\":{},\"id\":\"1170\",\"type\":\"BasicTickFormatter\"},{\"attributes\":{\"bottom_units\":\"screen\",\"fill_alpha\":0.5,\"fill_color\":\"lightgrey\",\"left_units\":\"screen\",\"level\":\"overlay\",\"line_alpha\":1.0,\"line_color\":\"black\",\"line_dash\":[4,4],\"line_width\":2,\"right_units\":\"screen\",\"syncable\":false,\"top_units\":\"screen\"},\"id\":\"1149\",\"type\":\"BoxAnnotation\"},{\"attributes\":{\"axis\":{\"id\":\"1140\"},\"dimension\":1,\"grid_line_color\":null,\"ticker\":null},\"id\":\"1143\",\"type\":\"Grid\"},{\"attributes\":{\"data\":{\"Market_Cap\":[809508034020,733823966137,728535558140,689978437468,685873374731,523423036576,386613611000,353062464971,326148660000,321478200969,304680931618,281463620775,270038723213,261401203633,226713270000,223378633329,218978820159,218834811333,211536000000,208505541949],\"Symbol\":[\"AAPL\",\"GOOGL\",\"GOOG\",\"MSFT\",\"AMZN\",\"FB\",\"JPM\",\"JNJ\",\"XOM\",\"BAC\",\"WMT\",\"WFC\",\"V\",\"BRK.B\",\"T\",\"HD\",\"CVX\",\"UNH\",\"INTC\",\"PFE\"]},\"selected\":{\"id\":\"1158\"},\"selection_policy\":{\"id\":\"1179\"}},\"id\":\"1157\",\"type\":\"ColumnDataSource\"},{\"attributes\":{\"children\":[{\"id\":\"1124\"},{\"id\":\"1128\"},{\"id\":\"1192\"}],\"margin\":[0,0,0,0],\"name\":\"Row01806\",\"tags\":[\"embedded\"]},\"id\":\"1123\",\"type\":\"Row\"},{\"attributes\":{\"source\":{\"id\":\"1157\"}},\"id\":\"1164\",\"type\":\"CDSView\"},{\"attributes\":{},\"id\":\"1166\",\"type\":\"CategoricalTickFormatter\"},{\"attributes\":{\"margin\":[5,5,5,5],\"name\":\"HSpacer01810\",\"sizing_mode\":\"stretch_width\"},\"id\":\"1124\",\"type\":\"Spacer\"},{\"attributes\":{\"factors\":[\"AAPL\",\"GOOGL\",\"GOOG\",\"MSFT\",\"AMZN\",\"FB\",\"JPM\",\"JNJ\",\"XOM\",\"BAC\",\"WMT\",\"WFC\",\"V\",\"BRK.B\",\"T\",\"HD\",\"CVX\",\"UNH\",\"INTC\",\"PFE\"],\"tags\":[[[\"Symbol\",\"Symbol\",null]]]},\"id\":\"1125\",\"type\":\"FactorRange\"},{\"attributes\":{},\"id\":\"1133\",\"type\":\"CategoricalScale\"},{\"attributes\":{\"data_source\":{\"id\":\"1157\"},\"glyph\":{\"id\":\"1160\"},\"hover_glyph\":null,\"muted_glyph\":{\"id\":\"1162\"},\"nonselection_glyph\":{\"id\":\"1161\"},\"selection_glyph\":{\"id\":\"1165\"},\"view\":{\"id\":\"1164\"}},\"id\":\"1163\",\"type\":\"GlyphRenderer\"},{\"attributes\":{\"active_multi\":null,\"tools\":[{\"id\":\"1127\"},{\"id\":\"1144\"},{\"id\":\"1145\"},{\"id\":\"1146\"},{\"id\":\"1147\"},{\"id\":\"1148\"}]},\"id\":\"1150\",\"type\":\"Toolbar\"},{\"attributes\":{\"bottom\":{\"value\":0},\"fill_alpha\":{\"value\":1.0},\"fill_color\":{\"value\":\"#30a2da\"},\"hatch_alpha\":{\"value\":1.0},\"hatch_color\":{\"value\":\"black\"},\"hatch_scale\":{\"value\":12.0},\"hatch_weight\":{\"value\":1.0},\"line_alpha\":{\"value\":1.0},\"line_cap\":{\"value\":\"butt\"},\"line_color\":{\"value\":\"black\"},\"line_dash\":{\"value\":[]},\"line_dash_offset\":{\"value\":0},\"line_join\":{\"value\":\"bevel\"},\"line_width\":{\"value\":1},\"top\":{\"field\":\"Market_Cap\"},\"width\":{\"value\":0.8},\"x\":{\"field\":\"Symbol\"}},\"id\":\"1165\",\"type\":\"VBar\"},{\"attributes\":{},\"id\":\"1167\",\"type\":\"AllLabels\"},{\"attributes\":{\"fill_alpha\":{\"value\":0.1},\"fill_color\":{\"value\":\"#30a2da\"},\"line_alpha\":{\"value\":0.1},\"top\":{\"field\":\"Market_Cap\"},\"width\":{\"value\":0.8},\"x\":{\"field\":\"Symbol\"}},\"id\":\"1161\",\"type\":\"VBar\"},{\"attributes\":{},\"id\":\"1144\",\"type\":\"SaveTool\"},{\"attributes\":{\"below\":[{\"id\":\"1137\"}],\"center\":[{\"id\":\"1139\"},{\"id\":\"1143\"}],\"height\":300,\"left\":[{\"id\":\"1140\"}],\"margin\":[5,5,5,5],\"min_border_bottom\":10,\"min_border_left\":10,\"min_border_right\":10,\"min_border_top\":10,\"renderers\":[{\"id\":\"1163\"}],\"sizing_mode\":\"fixed\",\"title\":{\"id\":\"1129\"},\"toolbar\":{\"id\":\"1150\"},\"width\":700,\"x_range\":{\"id\":\"1125\"},\"x_scale\":{\"id\":\"1133\"},\"y_range\":{\"id\":\"1126\"},\"y_scale\":{\"id\":\"1135\"}},\"id\":\"1128\",\"subtype\":\"Figure\",\"type\":\"Plot\"},{\"attributes\":{},\"id\":\"1145\",\"type\":\"PanTool\"},{\"attributes\":{},\"id\":\"1148\",\"type\":\"ResetTool\"},{\"attributes\":{},\"id\":\"1158\",\"type\":\"Selection\"},{\"attributes\":{\"fill_color\":{\"value\":\"#30a2da\"},\"top\":{\"field\":\"Market_Cap\"},\"width\":{\"value\":0.8},\"x\":{\"field\":\"Symbol\"}},\"id\":\"1160\",\"type\":\"VBar\"},{\"attributes\":{},\"id\":\"1146\",\"type\":\"WheelZoomTool\"},{\"attributes\":{},\"id\":\"1171\",\"type\":\"AllLabels\"},{\"attributes\":{\"text_color\":\"black\",\"text_font_size\":\"12pt\"},\"id\":\"1129\",\"type\":\"Title\"},{\"attributes\":{\"overlay\":{\"id\":\"1149\"}},\"id\":\"1147\",\"type\":\"BoxZoomTool\"},{\"attributes\":{\"margin\":[5,5,5,5],\"name\":\"HSpacer01811\",\"sizing_mode\":\"stretch_width\"},\"id\":\"1192\",\"type\":\"Spacer\"},{\"attributes\":{},\"id\":\"1179\",\"type\":\"UnionRenderers\"}],\"root_ids\":[\"1123\"]},\"title\":\"Bokeh Application\",\"version\":\"2.3.2\"}};\n",
       "    var render_items = [{\"docid\":\"00a1952f-2819-461b-8502-a2ac9af1867b\",\"root_ids\":[\"1123\"],\"roots\":{\"1123\":\"79b33cbf-1956-420c-a3a0-36ea3ab77a91\"}}];\n",
       "    root.Bokeh.embed.embed_items_notebook(docs_json, render_items);\n",
       "  }\n",
       "  if (root.Bokeh !== undefined && root.Bokeh.Panel !== undefined) {\n",
       "    embed_document(root);\n",
       "  } else {\n",
       "    var attempts = 0;\n",
       "    var timer = setInterval(function(root) {\n",
       "      if (root.Bokeh !== undefined && root.Bokeh.Panel !== undefined) {\n",
       "        clearInterval(timer);\n",
       "        embed_document(root);\n",
       "      } else if (document.readyState == \"complete\") {\n",
       "        attempts++;\n",
       "        if (attempts > 200) {\n",
       "          clearInterval(timer);\n",
       "          console.log(\"Bokeh: ERROR: Unable to run BokehJS code because BokehJS library is missing\");\n",
       "        }\n",
       "      }\n",
       "    }, 25, root)\n",
       "  }\n",
       "})(window);</script>"
      ],
      "text/plain": [
       ":Bars   [Symbol]   (Market Cap)"
      ]
     },
     "execution_count": 9,
     "metadata": {
      "application/vnd.holoviews_exec.v0+json": {
       "id": "1123"
      }
     },
     "output_type": "execute_result"
    }
   ],
   "source": [
    "# Plot a hvplot bar chart of the top 20 market cap companies\n",
    "top_20_market_cap.hvplot.bar()"
   ]
  },
  {
   "cell_type": "markdown",
   "metadata": {},
   "source": [
    "### Create Scatter Plot Using hvplot(kind=)"
   ]
  },
  {
   "cell_type": "code",
   "execution_count": 11,
   "metadata": {},
   "outputs": [
    {
     "data": {},
     "metadata": {},
     "output_type": "display_data"
    },
    {
     "data": {
      "application/vnd.holoviews_exec.v0+json": "",
      "text/html": [
       "<div id='1244'>\n",
       "\n",
       "\n",
       "\n",
       "\n",
       "\n",
       "  <div class=\"bk-root\" id=\"2be641c4-1336-401e-abba-35966c069c16\" data-root-id=\"1244\"></div>\n",
       "</div>\n",
       "<script type=\"application/javascript\">(function(root) {\n",
       "  function embed_document(root) {\n",
       "    var docs_json = {\"b6f60417-89af-498b-a120-6b76f599d9da\":{\"defs\":[{\"extends\":null,\"module\":null,\"name\":\"ReactiveHTML1\",\"overrides\":[],\"properties\":[]},{\"extends\":null,\"module\":null,\"name\":\"FlexBox1\",\"overrides\":[],\"properties\":[{\"default\":\"flex-start\",\"kind\":null,\"name\":\"align_content\"},{\"default\":\"flex-start\",\"kind\":null,\"name\":\"align_items\"},{\"default\":\"row\",\"kind\":null,\"name\":\"flex_direction\"},{\"default\":\"wrap\",\"kind\":null,\"name\":\"flex_wrap\"},{\"default\":\"flex-start\",\"kind\":null,\"name\":\"justify_content\"}]},{\"extends\":null,\"module\":null,\"name\":\"TemplateActions1\",\"overrides\":[],\"properties\":[{\"default\":0,\"kind\":null,\"name\":\"open_modal\"},{\"default\":0,\"kind\":null,\"name\":\"close_modal\"}]},{\"extends\":null,\"module\":null,\"name\":\"MaterialTemplateActions1\",\"overrides\":[],\"properties\":[{\"default\":0,\"kind\":null,\"name\":\"open_modal\"},{\"default\":0,\"kind\":null,\"name\":\"close_modal\"}]}],\"roots\":{\"references\":[{\"attributes\":{\"angle\":{\"value\":0.0},\"fill_alpha\":{\"value\":1.0},\"fill_color\":{\"value\":\"#30a2da\"},\"hatch_alpha\":{\"value\":1.0},\"hatch_color\":{\"value\":\"black\"},\"hatch_scale\":{\"value\":12.0},\"hatch_weight\":{\"value\":1.0},\"line_alpha\":{\"value\":1.0},\"line_cap\":{\"value\":\"butt\"},\"line_color\":{\"value\":\"#30a2da\"},\"line_dash\":{\"value\":[]},\"line_dash_offset\":{\"value\":0},\"line_join\":{\"value\":\"bevel\"},\"line_width\":{\"value\":1},\"marker\":{\"value\":\"circle\"},\"size\":{\"value\":5.477225575051661},\"x\":{\"field\":\"Symbol\"},\"y\":{\"field\":\"Market Cap\"}},\"id\":\"1286\",\"type\":\"Scatter\"},{\"attributes\":{},\"id\":\"1269\",\"type\":\"ResetTool\"},{\"attributes\":{\"overlay\":{\"id\":\"1270\"}},\"id\":\"1268\",\"type\":\"BoxZoomTool\"},{\"attributes\":{\"axis\":{\"id\":\"1258\"},\"grid_line_color\":null,\"ticker\":null},\"id\":\"1260\",\"type\":\"Grid\"},{\"attributes\":{},\"id\":\"1262\",\"type\":\"BasicTicker\"},{\"attributes\":{},\"id\":\"1254\",\"type\":\"CategoricalScale\"},{\"attributes\":{},\"id\":\"1256\",\"type\":\"LinearScale\"},{\"attributes\":{},\"id\":\"1259\",\"type\":\"CategoricalTicker\"},{\"attributes\":{\"data\":{\"Market Cap\":[809508034020,733823966137,728535558140,689978437468,685873374731,523423036576,386613611000,353062464971,326148660000,321478200969,304680931618,281463620775,270038723213,261401203633,226713270000,223378633329,218978820159,218834811333,211536000000,208505541949],\"Market_Cap\":[809508034020,733823966137,728535558140,689978437468,685873374731,523423036576,386613611000,353062464971,326148660000,321478200969,304680931618,281463620775,270038723213,261401203633,226713270000,223378633329,218978820159,218834811333,211536000000,208505541949],\"Symbol\":[\"AAPL\",\"GOOGL\",\"GOOG\",\"MSFT\",\"AMZN\",\"FB\",\"JPM\",\"JNJ\",\"XOM\",\"BAC\",\"WMT\",\"WFC\",\"V\",\"BRK.B\",\"T\",\"HD\",\"CVX\",\"UNH\",\"INTC\",\"PFE\"]},\"selected\":{\"id\":\"1279\"},\"selection_policy\":{\"id\":\"1300\"}},\"id\":\"1278\",\"type\":\"ColumnDataSource\"},{\"attributes\":{\"axis_label\":\"Market Cap\",\"formatter\":{\"id\":\"1291\"},\"major_label_policy\":{\"id\":\"1292\"},\"ticker\":{\"id\":\"1262\"}},\"id\":\"1261\",\"type\":\"LinearAxis\"},{\"attributes\":{\"children\":[{\"id\":\"1245\"},{\"id\":\"1249\"},{\"id\":\"1313\"}],\"margin\":[0,0,0,0],\"name\":\"Row01955\",\"tags\":[\"embedded\"]},\"id\":\"1244\",\"type\":\"Row\"},{\"attributes\":{\"end\":869608283227.1,\"reset_end\":869608283227.1,\"reset_start\":148405292741.9,\"start\":148405292741.9,\"tags\":[[[\"Market Cap\",\"Market Cap\",null]]]},\"id\":\"1247\",\"type\":\"Range1d\"},{\"attributes\":{},\"id\":\"1300\",\"type\":\"UnionRenderers\"},{\"attributes\":{\"axis\":{\"id\":\"1261\"},\"dimension\":1,\"grid_line_color\":null,\"ticker\":null},\"id\":\"1264\",\"type\":\"Grid\"},{\"attributes\":{\"active_multi\":null,\"tools\":[{\"id\":\"1248\"},{\"id\":\"1265\"},{\"id\":\"1266\"},{\"id\":\"1267\"},{\"id\":\"1268\"},{\"id\":\"1269\"}]},\"id\":\"1271\",\"type\":\"Toolbar\"},{\"attributes\":{\"factors\":[\"AAPL\",\"GOOGL\",\"GOOG\",\"MSFT\",\"AMZN\",\"FB\",\"JPM\",\"JNJ\",\"XOM\",\"BAC\",\"WMT\",\"WFC\",\"V\",\"BRK.B\",\"T\",\"HD\",\"CVX\",\"UNH\",\"INTC\",\"PFE\"],\"tags\":[[[\"Symbol\",\"Symbol\",null]]]},\"id\":\"1246\",\"type\":\"FactorRange\"},{\"attributes\":{\"bottom_units\":\"screen\",\"fill_alpha\":0.5,\"fill_color\":\"lightgrey\",\"left_units\":\"screen\",\"level\":\"overlay\",\"line_alpha\":1.0,\"line_color\":\"black\",\"line_dash\":[4,4],\"line_width\":2,\"right_units\":\"screen\",\"syncable\":false,\"top_units\":\"screen\"},\"id\":\"1270\",\"type\":\"BoxAnnotation\"},{\"attributes\":{\"source\":{\"id\":\"1278\"}},\"id\":\"1285\",\"type\":\"CDSView\"},{\"attributes\":{},\"id\":\"1279\",\"type\":\"Selection\"},{\"attributes\":{\"margin\":[5,5,5,5],\"name\":\"HSpacer01960\",\"sizing_mode\":\"stretch_width\"},\"id\":\"1313\",\"type\":\"Spacer\"},{\"attributes\":{},\"id\":\"1292\",\"type\":\"AllLabels\"},{\"attributes\":{\"data_source\":{\"id\":\"1278\"},\"glyph\":{\"id\":\"1281\"},\"hover_glyph\":null,\"muted_glyph\":{\"id\":\"1283\"},\"nonselection_glyph\":{\"id\":\"1282\"},\"selection_glyph\":{\"id\":\"1286\"},\"view\":{\"id\":\"1285\"}},\"id\":\"1284\",\"type\":\"GlyphRenderer\"},{\"attributes\":{\"fill_alpha\":{\"value\":0.1},\"fill_color\":{\"value\":\"#30a2da\"},\"line_alpha\":{\"value\":0.1},\"line_color\":{\"value\":\"#30a2da\"},\"size\":{\"value\":5.477225575051661},\"x\":{\"field\":\"Symbol\"},\"y\":{\"field\":\"Market Cap\"}},\"id\":\"1282\",\"type\":\"Scatter\"},{\"attributes\":{\"margin\":[5,5,5,5],\"name\":\"HSpacer01959\",\"sizing_mode\":\"stretch_width\"},\"id\":\"1245\",\"type\":\"Spacer\"},{\"attributes\":{\"fill_color\":{\"value\":\"#30a2da\"},\"line_color\":{\"value\":\"#30a2da\"},\"size\":{\"value\":5.477225575051661},\"x\":{\"field\":\"Symbol\"},\"y\":{\"field\":\"Market Cap\"}},\"id\":\"1281\",\"type\":\"Scatter\"},{\"attributes\":{},\"id\":\"1291\",\"type\":\"BasicTickFormatter\"},{\"attributes\":{},\"id\":\"1288\",\"type\":\"AllLabels\"},{\"attributes\":{},\"id\":\"1265\",\"type\":\"SaveTool\"},{\"attributes\":{\"below\":[{\"id\":\"1258\"}],\"center\":[{\"id\":\"1260\"},{\"id\":\"1264\"}],\"height\":300,\"left\":[{\"id\":\"1261\"}],\"margin\":[5,5,5,5],\"min_border_bottom\":10,\"min_border_left\":10,\"min_border_right\":10,\"min_border_top\":10,\"renderers\":[{\"id\":\"1284\"}],\"sizing_mode\":\"fixed\",\"title\":{\"id\":\"1250\"},\"toolbar\":{\"id\":\"1271\"},\"width\":700,\"x_range\":{\"id\":\"1246\"},\"x_scale\":{\"id\":\"1254\"},\"y_range\":{\"id\":\"1247\"},\"y_scale\":{\"id\":\"1256\"}},\"id\":\"1249\",\"subtype\":\"Figure\",\"type\":\"Plot\"},{\"attributes\":{},\"id\":\"1287\",\"type\":\"CategoricalTickFormatter\"},{\"attributes\":{},\"id\":\"1266\",\"type\":\"PanTool\"},{\"attributes\":{\"axis_label\":\"Symbol\",\"formatter\":{\"id\":\"1287\"},\"major_label_policy\":{\"id\":\"1288\"},\"ticker\":{\"id\":\"1259\"}},\"id\":\"1258\",\"type\":\"CategoricalAxis\"},{\"attributes\":{\"fill_alpha\":{\"value\":0.2},\"fill_color\":{\"value\":\"#30a2da\"},\"line_alpha\":{\"value\":0.2},\"line_color\":{\"value\":\"#30a2da\"},\"size\":{\"value\":5.477225575051661},\"x\":{\"field\":\"Symbol\"},\"y\":{\"field\":\"Market Cap\"}},\"id\":\"1283\",\"type\":\"Scatter\"},{\"attributes\":{\"callback\":null,\"renderers\":[{\"id\":\"1284\"}],\"tags\":[\"hv_created\"],\"tooltips\":[[\"Symbol\",\"@{Symbol}\"],[\"Market Cap\",\"@{Market_Cap}\"]]},\"id\":\"1248\",\"type\":\"HoverTool\"},{\"attributes\":{},\"id\":\"1267\",\"type\":\"WheelZoomTool\"},{\"attributes\":{\"text_color\":\"black\",\"text_font_size\":\"12pt\"},\"id\":\"1250\",\"type\":\"Title\"}],\"root_ids\":[\"1244\"]},\"title\":\"Bokeh Application\",\"version\":\"2.3.2\"}};\n",
       "    var render_items = [{\"docid\":\"b6f60417-89af-498b-a120-6b76f599d9da\",\"root_ids\":[\"1244\"],\"roots\":{\"1244\":\"2be641c4-1336-401e-abba-35966c069c16\"}}];\n",
       "    root.Bokeh.embed.embed_items_notebook(docs_json, render_items);\n",
       "  }\n",
       "  if (root.Bokeh !== undefined && root.Bokeh.Panel !== undefined) {\n",
       "    embed_document(root);\n",
       "  } else {\n",
       "    var attempts = 0;\n",
       "    var timer = setInterval(function(root) {\n",
       "      if (root.Bokeh !== undefined && root.Bokeh.Panel !== undefined) {\n",
       "        clearInterval(timer);\n",
       "        embed_document(root);\n",
       "      } else if (document.readyState == \"complete\") {\n",
       "        attempts++;\n",
       "        if (attempts > 200) {\n",
       "          clearInterval(timer);\n",
       "          console.log(\"Bokeh: ERROR: Unable to run BokehJS code because BokehJS library is missing\");\n",
       "        }\n",
       "      }\n",
       "    }, 25, root)\n",
       "  }\n",
       "})(window);</script>"
      ],
      "text/plain": [
       ":Scatter   [Symbol]   (Market Cap)"
      ]
     },
     "execution_count": 11,
     "metadata": {
      "application/vnd.holoviews_exec.v0+json": {
       "id": "1244"
      }
     },
     "output_type": "execute_result"
    }
   ],
   "source": [
    "# Plot a hvplot scatter chart for the top 20 market cap companies\n",
    "top_20_market_cap.hvplot.scatter()"
   ]
  },
  {
   "cell_type": "code",
   "execution_count": null,
   "metadata": {},
   "outputs": [],
   "source": []
  }
 ],
 "metadata": {
  "kernel_info": {
   "name": "python3"
  },
  "kernelspec": {
   "display_name": "Python 3",
   "language": "python",
   "name": "python3"
  },
  "language_info": {
   "codemirror_mode": {
    "name": "ipython",
    "version": 3
   },
   "file_extension": ".py",
   "mimetype": "text/x-python",
   "name": "python",
   "nbconvert_exporter": "python",
   "pygments_lexer": "ipython3",
   "version": "3.7.10"
  },
  "nteract": {
   "version": "0.12.3"
  }
 },
 "nbformat": 4,
 "nbformat_minor": 4
}
