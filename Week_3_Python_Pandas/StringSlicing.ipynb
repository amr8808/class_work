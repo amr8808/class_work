{
 "cells": [
  {
   "cell_type": "markdown",
   "id": "e51afc8a-3e17-4cc7-9881-4786d72611c0",
   "metadata": {},
   "source": [
    "# String Slicing\n",
    "## selecting different parts of a string"
   ]
  },
  {
   "cell_type": "code",
   "execution_count": null,
   "id": "4b56dc51-1e1a-4dc9-b7e7-e45d29762d8a",
   "metadata": {},
   "outputs": [],
   "source": [
    "# format: str[start:stop:step]\n",
    "# default start = 0\n",
    "# default stop = end\n",
    "# default step = 1\n",
    "# stop is always upto by not including the stop number"
   ]
  },
  {
   "cell_type": "code",
   "execution_count": 1,
   "id": "163d5670-5686-4454-9177-0b9910ef1263",
   "metadata": {},
   "outputs": [
    {
     "data": {
      "text/plain": [
       "'t'"
      ]
     },
     "execution_count": 1,
     "metadata": {},
     "output_type": "execute_result"
    }
   ],
   "source": [
    "string1 = \"the quick brown fox jumped over the lazy dog\"\n",
    "string1[0]"
   ]
  },
  {
   "cell_type": "code",
   "execution_count": 2,
   "id": "bfaebba4-d418-4c5b-a913-0fe8c464b956",
   "metadata": {},
   "outputs": [
    {
     "data": {
      "text/plain": [
       "'the qui'"
      ]
     },
     "execution_count": 2,
     "metadata": {},
     "output_type": "execute_result"
    }
   ],
   "source": [
    "string1[0:7]"
   ]
  },
  {
   "cell_type": "code",
   "execution_count": 6,
   "id": "0242a32f-e1c7-40c8-a873-36c23c69758c",
   "metadata": {},
   "outputs": [
    {
     "data": {
      "text/plain": [
       "'the qui'"
      ]
     },
     "execution_count": 6,
     "metadata": {},
     "output_type": "execute_result"
    }
   ],
   "source": [
    "string1[0:7:1]"
   ]
  },
  {
   "cell_type": "code",
   "execution_count": 3,
   "id": "38ce4533-1694-4e99-98e5-59ddf1f38431",
   "metadata": {},
   "outputs": [
    {
     "data": {
      "text/plain": [
       "'teqikbonfxjme vrtelz o'"
      ]
     },
     "execution_count": 3,
     "metadata": {},
     "output_type": "execute_result"
    }
   ],
   "source": [
    "string1[::2]"
   ]
  },
  {
   "cell_type": "code",
   "execution_count": 4,
   "id": "37db6b32-58dc-4a05-b53d-3f863646b7e5",
   "metadata": {},
   "outputs": [
    {
     "data": {
      "text/plain": [
       "'g'"
      ]
     },
     "execution_count": 4,
     "metadata": {},
     "output_type": "execute_result"
    }
   ],
   "source": [
    "# what is -1 in python\n",
    "# -1 is a shortcut to look at the last item in a string or list\n",
    "string1[-1]"
   ]
  },
  {
   "cell_type": "code",
   "execution_count": 5,
   "id": "1894ce2b-a362-41b7-baac-8455bbb852cb",
   "metadata": {},
   "outputs": [
    {
     "data": {
      "text/plain": [
       "'god yzal eht revo depmuj xof nworb kciuq eht'"
      ]
     },
     "execution_count": 5,
     "metadata": {},
     "output_type": "execute_result"
    }
   ],
   "source": [
    "# reverse palindrome\n",
    "string1[::-1]"
   ]
  },
  {
   "cell_type": "code",
   "execution_count": 7,
   "id": "9fe8fe05-550e-4136-bde6-aec13ce30731",
   "metadata": {},
   "outputs": [
    {
     "data": {
      "text/plain": [
       "'gdya h eodpu o wr cu h'"
      ]
     },
     "execution_count": 7,
     "metadata": {},
     "output_type": "execute_result"
    }
   ],
   "source": [
    "string1[::-2]"
   ]
  },
  {
   "cell_type": "code",
   "execution_count": 12,
   "id": "90dacbe6-fae5-4ea5-9cf9-93e8d2b98276",
   "metadata": {},
   "outputs": [],
   "source": [
    "# list slicing"
   ]
  },
  {
   "cell_type": "code",
   "execution_count": 10,
   "id": "fa2e4ec8-1f2b-49db-bb8d-1b1f7268e667",
   "metadata": {},
   "outputs": [],
   "source": [
    "list1 = [10,20,30,40,50,60,70,80]"
   ]
  },
  {
   "cell_type": "code",
   "execution_count": 11,
   "id": "9ad25b7e-4fb9-40ea-82e4-ba2394851a1a",
   "metadata": {},
   "outputs": [
    {
     "data": {
      "text/plain": [
       "10"
      ]
     },
     "execution_count": 11,
     "metadata": {},
     "output_type": "execute_result"
    }
   ],
   "source": [
    "list1[0]"
   ]
  },
  {
   "cell_type": "code",
   "execution_count": 13,
   "id": "ea9e98a4-ac53-4654-8e5f-d6c7e7319c32",
   "metadata": {},
   "outputs": [
    {
     "data": {
      "text/plain": [
       "[10, 20, 30]"
      ]
     },
     "execution_count": 13,
     "metadata": {},
     "output_type": "execute_result"
    }
   ],
   "source": [
    "list1[0:3]"
   ]
  },
  {
   "cell_type": "code",
   "execution_count": 14,
   "id": "5927af41-e755-45d1-bcd9-d77cff751d20",
   "metadata": {},
   "outputs": [
    {
     "data": {
      "text/plain": [
       "[80, 70, 60, 50, 40, 30, 20, 10]"
      ]
     },
     "execution_count": 14,
     "metadata": {},
     "output_type": "execute_result"
    }
   ],
   "source": [
    "list1[::-1]"
   ]
  },
  {
   "cell_type": "code",
   "execution_count": 15,
   "id": "74d9179c-933a-4a4c-9a31-38b410662dab",
   "metadata": {},
   "outputs": [
    {
     "data": {
      "text/plain": [
       "[50, 60, 70, 80]"
      ]
     },
     "execution_count": 15,
     "metadata": {},
     "output_type": "execute_result"
    }
   ],
   "source": [
    "list1[4:]"
   ]
  },
  {
   "cell_type": "code",
   "execution_count": null,
   "id": "95eb6f6b-5f80-466f-85c2-475f071c6db2",
   "metadata": {},
   "outputs": [],
   "source": []
  }
 ],
 "metadata": {
  "kernelspec": {
   "display_name": "Python 3",
   "language": "python",
   "name": "python3"
  },
  "language_info": {
   "codemirror_mode": {
    "name": "ipython",
    "version": 3
   },
   "file_extension": ".py",
   "mimetype": "text/x-python",
   "name": "python",
   "nbconvert_exporter": "python",
   "pygments_lexer": "ipython3",
   "version": "3.7.10"
  }
 },
 "nbformat": 4,
 "nbformat_minor": 5
}
