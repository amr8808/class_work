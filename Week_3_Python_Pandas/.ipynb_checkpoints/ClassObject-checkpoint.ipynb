{
 "cells": [
  {
   "cell_type": "markdown",
   "id": "66ae1fb4-28f3-4eba-8a66-e0755078ae9a",
   "metadata": {},
   "source": [
    "class Person:\n",
    "  def __init__(self, name, age):\n",
    "    self.name = name\n",
    "    self.age = age\n",
    "\n",
    "  def myfunc(self):\n",
    "    print(\"Hello my name is \" + self.name)\n",
    "\n",
    "p1 = Person(\"John\", 36)\n",
    "p1.myfunc()"
   ]
  },
  {
   "cell_type": "code",
   "execution_count": 8,
   "id": "9a1fdb96-d817-49ff-9f6e-3f307df237b0",
   "metadata": {},
   "outputs": [],
   "source": [
    "### example with Pants and shirts\n",
    "### every class needs init method\n",
    "#self attributes and co-attributes that object. attributes in () are mandatory"
   ]
  },
  {
   "cell_type": "code",
   "execution_count": 12,
   "id": "61e38b95-6920-473a-8c98-f59e497a2b06",
   "metadata": {},
   "outputs": [],
   "source": [
    "class Pants:\n",
    "    def __init__ (self, color,waist_size, length, price):\n",
    "        \n",
    "        self.color=color\n",
    "        self.waist_size=waist_size\n",
    "        self.length=length\n",
    "        self.price=price\n",
    "    \n",
    "    def discount(self, discount):\n",
    "        self.price=(1-discount)*self.price"
   ]
  },
  {
   "cell_type": "code",
   "execution_count": 13,
   "id": "fa2275a9-4737-44e7-9632-a737eb16ecdf",
   "metadata": {},
   "outputs": [],
   "source": [
    "jeans = Pants('denim',30,32,100)"
   ]
  },
  {
   "cell_type": "code",
   "execution_count": 14,
   "id": "28ce8922-6947-4a59-a996-a4a15ddd4878",
   "metadata": {},
   "outputs": [
    {
     "data": {
      "text/plain": [
       "'denim'"
      ]
     },
     "execution_count": 14,
     "metadata": {},
     "output_type": "execute_result"
    }
   ],
   "source": [
    "jeans.color"
   ]
  },
  {
   "cell_type": "code",
   "execution_count": 15,
   "id": "a657de9b-4ac0-411f-b487-29e4f02a8405",
   "metadata": {},
   "outputs": [
    {
     "data": {
      "text/plain": [
       "100"
      ]
     },
     "execution_count": 15,
     "metadata": {},
     "output_type": "execute_result"
    }
   ],
   "source": [
    "jeans.price"
   ]
  },
  {
   "cell_type": "code",
   "execution_count": 16,
   "id": "fef0f325-9693-45ac-801d-c346a069f195",
   "metadata": {},
   "outputs": [
    {
     "data": {
      "text/plain": [
       "30"
      ]
     },
     "execution_count": 16,
     "metadata": {},
     "output_type": "execute_result"
    }
   ],
   "source": [
    "jeans.waist_size"
   ]
  },
  {
   "cell_type": "code",
   "execution_count": 17,
   "id": "d31ea021-cf81-4f01-93c6-4517d184b20c",
   "metadata": {},
   "outputs": [],
   "source": [
    "jeans.discount(.80)"
   ]
  },
  {
   "cell_type": "code",
   "execution_count": 18,
   "id": "6bfc1b5d-6ebf-43f2-b8ad-994b9e8cfb9f",
   "metadata": {},
   "outputs": [
    {
     "data": {
      "text/plain": [
       "19.999999999999996"
      ]
     },
     "execution_count": 18,
     "metadata": {},
     "output_type": "execute_result"
    }
   ],
   "source": [
    "jeans.price"
   ]
  },
  {
   "cell_type": "code",
   "execution_count": null,
   "id": "1fbdfa25-0167-4c86-8315-9a8e07aebbb9",
   "metadata": {},
   "outputs": [],
   "source": []
  }
 ],
 "metadata": {
  "kernelspec": {
   "display_name": "Python 3",
   "language": "python",
   "name": "python3"
  },
  "language_info": {
   "codemirror_mode": {
    "name": "ipython",
    "version": 3
   },
   "file_extension": ".py",
   "mimetype": "text/x-python",
   "name": "python",
   "nbconvert_exporter": "python",
   "pygments_lexer": "ipython3",
   "version": "3.7.10"
  }
 },
 "nbformat": 4,
 "nbformat_minor": 5
}
