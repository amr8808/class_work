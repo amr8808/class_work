{
 "cells": [
  {
   "cell_type": "code",
   "execution_count": 1,
   "id": "63381199-02e5-4885-87e9-5b17e3e1f8a4",
   "metadata": {},
   "outputs": [],
   "source": [
    "import pandas as pd"
   ]
  },
  {
   "cell_type": "code",
   "execution_count": 2,
   "id": "cc6f6764-3163-45fc-820a-5e724d1a75e9",
   "metadata": {},
   "outputs": [],
   "source": [
    "import matplotlib.pyplot as plt"
   ]
  },
  {
   "cell_type": "code",
   "execution_count": 9,
   "id": "1e22a175-2ab7-4976-b22d-01bae415ca10",
   "metadata": {},
   "outputs": [],
   "source": [
    "goog=pd.read_csv(\"GOOG.csv\",index_col='Date',parse_dates=True,infer_datetime_format=True) "
   ]
  },
  {
   "cell_type": "code",
   "execution_count": 11,
   "id": "b993b27d-6d61-4bf7-b23e-7669b145d16f",
   "metadata": {},
   "outputs": [],
   "source": [
    "goog['daily_pct_chg']=goog['Close'].pct_change() #add column"
   ]
  },
  {
   "cell_type": "code",
   "execution_count": 19,
   "id": "b3451a2d-006f-4e4a-a815-eb64fbf5b4a1",
   "metadata": {},
   "outputs": [
    {
     "data": {
      "text/html": [
       "<div>\n",
       "<style scoped>\n",
       "    .dataframe tbody tr th:only-of-type {\n",
       "        vertical-align: middle;\n",
       "    }\n",
       "\n",
       "    .dataframe tbody tr th {\n",
       "        vertical-align: top;\n",
       "    }\n",
       "\n",
       "    .dataframe thead th {\n",
       "        text-align: right;\n",
       "    }\n",
       "</style>\n",
       "<table border=\"1\" class=\"dataframe\">\n",
       "  <thead>\n",
       "    <tr style=\"text-align: right;\">\n",
       "      <th></th>\n",
       "      <th>Close</th>\n",
       "      <th>daily_pct_chg</th>\n",
       "    </tr>\n",
       "    <tr>\n",
       "      <th>Date</th>\n",
       "      <th></th>\n",
       "      <th></th>\n",
       "    </tr>\n",
       "  </thead>\n",
       "  <tbody>\n",
       "    <tr>\n",
       "      <th>2019-07-26</th>\n",
       "      <td>1250.41</td>\n",
       "      <td>0.104485</td>\n",
       "    </tr>\n",
       "    <tr>\n",
       "      <th>2020-03-13</th>\n",
       "      <td>1219.73</td>\n",
       "      <td>0.094017</td>\n",
       "    </tr>\n",
       "    <tr>\n",
       "      <th>2020-04-29</th>\n",
       "      <td>1341.48</td>\n",
       "      <td>0.087390</td>\n",
       "    </tr>\n",
       "    <tr>\n",
       "      <th>2020-04-06</th>\n",
       "      <td>1186.92</td>\n",
       "      <td>0.081102</td>\n",
       "    </tr>\n",
       "    <tr>\n",
       "      <th>2021-02-03</th>\n",
       "      <td>2070.07</td>\n",
       "      <td>0.073961</td>\n",
       "    </tr>\n",
       "  </tbody>\n",
       "</table>\n",
       "</div>"
      ],
      "text/plain": [
       "              Close  daily_pct_chg\n",
       "Date                              \n",
       "2019-07-26  1250.41       0.104485\n",
       "2020-03-13  1219.73       0.094017\n",
       "2020-04-29  1341.48       0.087390\n",
       "2020-04-06  1186.92       0.081102\n",
       "2021-02-03  2070.07       0.073961"
      ]
     },
     "execution_count": 19,
     "metadata": {},
     "output_type": "execute_result"
    }
   ],
   "source": [
    "goog.nlargest(5, ['daily_pct_chg'])"
   ]
  },
  {
   "cell_type": "code",
   "execution_count": 20,
   "id": "4ac9190c-20c9-4147-aa43-1533425b1d81",
   "metadata": {},
   "outputs": [
    {
     "data": {
      "text/html": [
       "<div>\n",
       "<style scoped>\n",
       "    .dataframe tbody tr th:only-of-type {\n",
       "        vertical-align: middle;\n",
       "    }\n",
       "\n",
       "    .dataframe tbody tr th {\n",
       "        vertical-align: top;\n",
       "    }\n",
       "\n",
       "    .dataframe thead th {\n",
       "        text-align: right;\n",
       "    }\n",
       "</style>\n",
       "<table border=\"1\" class=\"dataframe\">\n",
       "  <thead>\n",
       "    <tr style=\"text-align: right;\">\n",
       "      <th></th>\n",
       "      <th>Close</th>\n",
       "      <th>daily_pct_chg</th>\n",
       "    </tr>\n",
       "    <tr>\n",
       "      <th>Date</th>\n",
       "      <th></th>\n",
       "      <th></th>\n",
       "    </tr>\n",
       "  </thead>\n",
       "  <tbody>\n",
       "    <tr>\n",
       "      <th>2020-03-16</th>\n",
       "      <td>1084.33</td>\n",
       "      <td>-0.111008</td>\n",
       "    </tr>\n",
       "    <tr>\n",
       "      <th>2020-03-12</th>\n",
       "      <td>1114.91</td>\n",
       "      <td>-0.082688</td>\n",
       "    </tr>\n",
       "    <tr>\n",
       "      <th>2019-04-30</th>\n",
       "      <td>1188.48</td>\n",
       "      <td>-0.076966</td>\n",
       "    </tr>\n",
       "    <tr>\n",
       "      <th>2020-03-09</th>\n",
       "      <td>1215.56</td>\n",
       "      <td>-0.063809</td>\n",
       "    </tr>\n",
       "    <tr>\n",
       "      <th>2019-06-03</th>\n",
       "      <td>1036.23</td>\n",
       "      <td>-0.061071</td>\n",
       "    </tr>\n",
       "  </tbody>\n",
       "</table>\n",
       "</div>"
      ],
      "text/plain": [
       "              Close  daily_pct_chg\n",
       "Date                              \n",
       "2020-03-16  1084.33      -0.111008\n",
       "2020-03-12  1114.91      -0.082688\n",
       "2019-04-30  1188.48      -0.076966\n",
       "2020-03-09  1215.56      -0.063809\n",
       "2019-06-03  1036.23      -0.061071"
      ]
     },
     "execution_count": 20,
     "metadata": {},
     "output_type": "execute_result"
    }
   ],
   "source": [
    "goog.nsmallest(5, ['daily_pct_chg'])"
   ]
  },
  {
   "cell_type": "code",
   "execution_count": 29,
   "id": "90ee8826-aee4-4fa9-a712-2a2e41f2436b",
   "metadata": {},
   "outputs": [
    {
     "data": {
      "text/plain": [
       "Text(0.5, 1.0, 'Best Days')"
      ]
     },
     "execution_count": 29,
     "metadata": {},
     "output_type": "execute_result"
    },
    {
     "data": {
      "image/png": "[encoded data removed]",
      "text/plain": [
       "<Figure size 432x288 with 1 Axes>"
      ]
     },
     "metadata": {
      "needs_background": "light"
     },
     "output_type": "display_data"
    }
   ],
   "source": [
    "goog.nlargest(5, ['daily_pct_chg']).plot(kind='bar')\n",
    "plt.title('Best Days',fontsize=20)"
   ]
  },
  {
   "cell_type": "code",
   "execution_count": 26,
   "id": "77c120fa-d73a-484c-8000-7864ece7a808",
   "metadata": {},
   "outputs": [
    {
     "data": {
      "text/plain": [
       "Text(0.5, 1.0, 'Worst Days')"
      ]
     },
     "execution_count": 26,
     "metadata": {},
     "output_type": "execute_result"
    },
    {
     "data": {
      "image/png": "[encoded data removed]",
      "text/plain": [
       "<Figure size 432x288 with 1 Axes>"
      ]
     },
     "metadata": {
      "needs_background": "light"
     },
     "output_type": "display_data"
    }
   ],
   "source": [
    "goog.nsmallest(5, ['daily_pct_chg']).plot(kind='bar')\n",
    "plt.title('Worst Days',fontsize=20)"
   ]
  },
  {
   "cell_type": "code",
   "execution_count": null,
   "id": "e741e53b-0e20-4476-894c-0400eacd6a80",
   "metadata": {},
   "outputs": [],
   "source": []
  }
 ],
 "metadata": {
  "kernelspec": {
   "display_name": "Python 3",
   "language": "python",
   "name": "python3"
  },
  "language_info": {
   "codemirror_mode": {
    "name": "ipython",
    "version": 3
   },
   "file_extension": ".py",
   "mimetype": "text/x-python",
   "name": "python",
   "nbconvert_exporter": "python",
   "pygments_lexer": "ipython3",
   "version": "3.7.10"
  }
 },
 "nbformat": 4,
 "nbformat_minor": 5
}
