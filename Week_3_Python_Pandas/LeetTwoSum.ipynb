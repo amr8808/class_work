{
 "cells": [
  {
   "cell_type": "markdown",
   "id": "e1e3303c-6f21-48e1-9d06-708a2da88dbb",
   "metadata": {},
   "source": [
    "# Two Sum Problem\n",
    "\n",
    "- Given an array of integers nums and an integer target, return indices of the two numbers such that they add up to target.\n",
    "\n",
    "- You may assume that each input would have exactly one solution, and you may not use the same element twice.\n",
    "\n",
    "- You can return the answer in any order.\n",
    "\n",
    "Example 1:\n",
    "```\n",
    "Input: nums = [2,7,11,15], target = 9\n",
    "Output: [0,1]\n",
    "Output: Because nums[0] + nums[1] == 9, we return [0, 1].\n",
    "Example 2:\n",
    "```\n",
    "```\n",
    "Input: nums = [3,2,4], target = 6\n",
    "Output: [1,2]\n",
    "Example 3:\n",
    "```\n",
    "```\n",
    "Input: nums = [3,3], target = 6\n",
    "Output: [0,1]\n",
    "```"
   ]
  },
  {
   "cell_type": "code",
   "execution_count": null,
   "id": "30d17bae-f80e-4f44-9bcb-96da4732f1df",
   "metadata": {},
   "outputs": [],
   "source": []
  },
  {
   "cell_type": "code",
   "execution_count": null,
   "id": "25c09d5c-0bae-45bc-9505-7d24015f7478",
   "metadata": {},
   "outputs": [],
   "source": []
  },
  {
   "cell_type": "code",
   "execution_count": 3,
   "id": "d3d4fd6b-b123-48bd-b308-6bf96a95dfa1",
   "metadata": {},
   "outputs": [],
   "source": [
    "import itertools"
   ]
  },
  {
   "cell_type": "code",
   "execution_count": 3,
   "id": "be12229a-155b-4180-9a1c-ca5a4fa798fa",
   "metadata": {},
   "outputs": [],
   "source": [
    "def findpair(nums,target):\n",
    "        for i in range(len(nums)):\n",
    "            secondnumber=(target-nums[i])\n",
    "            if(secondnumber in numbers.keys()):\n",
    "                secondindex=nums.index(secondnumber)\n",
    "            if(i != secondindex ):\n",
    "                return sorted([i,secondindex])\n",
    "                dictionary.update({nums[1]:i})"
   ]
  },
  {
   "cell_type": "code",
   "execution_count": 5,
   "id": "50ff3cd1-26dd-49f4-959e-7e9f47cab240",
   "metadata": {},
   "outputs": [],
   "source": [
    "possible_combo=list(itertools.combinations([0,1,2,3], 2))"
   ]
  },
  {
   "cell_type": "code",
   "execution_count": 8,
   "id": "31b9b5d6-3ee0-4476-ad6a-f4bbab739958",
   "metadata": {},
   "outputs": [
    {
     "data": {
      "text/plain": [
       "[(0, 1), (0, 2), (0, 3), (1, 2), (1, 3), (2, 3)]"
      ]
     },
     "execution_count": 8,
     "metadata": {},
     "output_type": "execute_result"
    }
   ],
   "source": [
    "possible_combo"
   ]
  },
  {
   "cell_type": "code",
   "execution_count": 33,
   "id": "a21799be-e076-46ff-b748-8c5459b24a39",
   "metadata": {},
   "outputs": [],
   "source": [
    "nums = [3,2,4]"
   ]
  },
  {
   "cell_type": "code",
   "execution_count": 32,
   "id": "d0cdd8f7-7976-413d-adc2-6300b225266a",
   "metadata": {},
   "outputs": [],
   "source": [
    "target=6"
   ]
  },
  {
   "cell_type": "code",
   "execution_count": 34,
   "id": "81dd1371-7dba-44fd-9258-c018b75d873a",
   "metadata": {},
   "outputs": [],
   "source": [
    "def findpairs(nums,target):\n",
    "    possible_combo=list(itertools.combinations(range(0,len(nums)), 2))\n",
    "#     print(possible_combo)\n",
    "    for combo in possible_combo:\n",
    "        first_index=combo[0]\n",
    "        second_index=combo[1]\n",
    "#         print(nums[first_index],nums[second_index])\n",
    "        if nums[first_index]+nums[second_index] == target:\n",
    "            print(\"found it\")\n",
    "            return([first_index,second_index])"
   ]
  },
  {
   "cell_type": "code",
   "execution_count": 35,
   "id": "118a6c62-7a16-4096-8b95-eafacf4c2568",
   "metadata": {},
   "outputs": [
    {
     "name": "stdout",
     "output_type": "stream",
     "text": [
      "found it\n"
     ]
    },
    {
     "data": {
      "text/plain": [
       "[1, 2]"
      ]
     },
     "execution_count": 35,
     "metadata": {},
     "output_type": "execute_result"
    }
   ],
   "source": [
    "findpairs(nums,target)"
   ]
  },
  {
   "cell_type": "code",
   "execution_count": null,
   "id": "3a78a65e-0888-473d-ba84-95e53aa9c19d",
   "metadata": {},
   "outputs": [],
   "source": []
  }
 ],
 "metadata": {
  "kernelspec": {
   "display_name": "Python 3",
   "language": "python",
   "name": "python3"
  },
  "language_info": {
   "codemirror_mode": {
    "name": "ipython",
    "version": 3
   },
   "file_extension": ".py",
   "mimetype": "text/x-python",
   "name": "python",
   "nbconvert_exporter": "python",
   "pygments_lexer": "ipython3",
   "version": "3.7.10"
  }
 },
 "nbformat": 4,
 "nbformat_minor": 5
}
