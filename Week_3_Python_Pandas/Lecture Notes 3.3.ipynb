{
 "cells": [
  {
   "cell_type": "markdown",
   "id": "20f6de68",
   "metadata": {},
   "source": [
    "### Important Pandas Functionalities\n",
    "* Grouping \n",
    "* Multi-indexing\n",
    "* Concatenations\n",
    "* Sharpe Ratio "
   ]
  },
  {
   "cell_type": "code",
   "execution_count": null,
   "id": "2ed95459",
   "metadata": {},
   "outputs": [],
   "source": [
    "import pandas as pd\n",
    "import matplotlib.pyplot as plt \n",
    "%matplotlib inline"
   ]
  },
  {
   "cell_type": "code",
   "execution_count": null,
   "id": "841ab9e2",
   "metadata": {},
   "outputs": [],
   "source": [
    "pd.read_csv('crypto_data.csv')"
   ]
  },
  {
   "cell_type": "code",
   "execution_count": null,
   "id": "a5f065cf",
   "metadata": {},
   "outputs": [],
   "source": [
    "crypto_data = pd.read_csv('crypto_data.csv', index_col='data_date', parse_dates=True, infer_datetime_format=True)\n",
    "crypto_data"
   ]
  },
  {
   "cell_type": "code",
   "execution_count": null,
   "id": "80cd14cc",
   "metadata": {},
   "outputs": [],
   "source": [
    "crypto_data.drop(columns=['data_time', 'timestamp'], inplace=True)"
   ]
  },
  {
   "cell_type": "code",
   "execution_count": null,
   "id": "3b1899b3",
   "metadata": {},
   "outputs": [],
   "source": [
    "crypto_data"
   ]
  },
  {
   "cell_type": "code",
   "execution_count": null,
   "id": "996f3b1f",
   "metadata": {},
   "outputs": [],
   "source": [
    "crypto_data['cryptocurrency'].value_counts()"
   ]
  },
  {
   "cell_type": "code",
   "execution_count": null,
   "id": "794c9933",
   "metadata": {},
   "outputs": [],
   "source": [
    "crypto_data['cryptocurrency'].unique()"
   ]
  },
  {
   "cell_type": "code",
   "execution_count": null,
   "id": "38f1d8f8",
   "metadata": {},
   "outputs": [],
   "source": [
    "crypto_data[crypto_data['cryptocurrency']=='bitcoin']"
   ]
  },
  {
   "cell_type": "code",
   "execution_count": null,
   "id": "65a401dd",
   "metadata": {},
   "outputs": [],
   "source": [
    "crypto_data[crypto_data['cryptocurrency']=='ethereum']"
   ]
  },
  {
   "cell_type": "code",
   "execution_count": null,
   "id": "b8ca5538",
   "metadata": {},
   "outputs": [],
   "source": [
    "plt.figure(figsize=(20,10))\n",
    "crypto_data.groupby('cryptocurrency')['data_priceUsd'].plot(legend=True)\n",
    "plt.title(\"Price in USD for multiple cryptocurrencies over time\", fontsize=20)\n",
    "plt.xlabel(\"Date\")\n",
    "plt.ylabel(\"Price in USD\")"
   ]
  },
  {
   "cell_type": "markdown",
   "id": "50c03561",
   "metadata": {},
   "source": [
    "### Get the number of days per cryptocurrency "
   ]
  },
  {
   "cell_type": "code",
   "execution_count": null,
   "id": "5d850b8f",
   "metadata": {},
   "outputs": [],
   "source": [
    "crypto_data.groupby('cryptocurrency').count()"
   ]
  },
  {
   "cell_type": "code",
   "execution_count": null,
   "id": "76589f25",
   "metadata": {},
   "outputs": [],
   "source": [
    "ripple_dates = list(crypto_data[crypto_data['cryptocurrency'] == 'ripple'].index.astype(str))\n",
    "ripple_dates"
   ]
  },
  {
   "cell_type": "code",
   "execution_count": null,
   "id": "ef5d2914",
   "metadata": {},
   "outputs": [],
   "source": [
    "len(ripple_dates)"
   ]
  },
  {
   "cell_type": "code",
   "execution_count": null,
   "id": "20f49be2",
   "metadata": {},
   "outputs": [],
   "source": [
    "ethereum_dates = list(crypto_data[crypto_data['cryptocurrency'] == 'ethereum'].index.astype(str))\n",
    "ethereum_dates"
   ]
  },
  {
   "cell_type": "code",
   "execution_count": null,
   "id": "167db37b",
   "metadata": {},
   "outputs": [],
   "source": [
    "len(ethereum_dates)"
   ]
  },
  {
   "cell_type": "code",
   "execution_count": null,
   "id": "ca803fcd",
   "metadata": {},
   "outputs": [],
   "source": [
    "set(ethereum_dates)-set(ripple_dates)"
   ]
  },
  {
   "cell_type": "code",
   "execution_count": null,
   "id": "38fba20d",
   "metadata": {},
   "outputs": [],
   "source": [
    "set(ripple_dates)-set(ethereum_dates)"
   ]
  },
  {
   "cell_type": "code",
   "execution_count": null,
   "id": "68c92b15",
   "metadata": {},
   "outputs": [],
   "source": [
    "[x for x in ethereum_dates if x not in ripple_dates]"
   ]
  },
  {
   "cell_type": "code",
   "execution_count": null,
   "id": "be79b96e",
   "metadata": {},
   "outputs": [],
   "source": [
    "[x for x in ripple_dates if x not in ethereum_dates]"
   ]
  },
  {
   "cell_type": "markdown",
   "id": "a8067b1b",
   "metadata": {},
   "source": [
    "### Get the average price per cryptocurrency over the whole time frame "
   ]
  },
  {
   "cell_type": "code",
   "execution_count": null,
   "id": "ce418cee",
   "metadata": {},
   "outputs": [],
   "source": [
    "crypto_data.groupby('cryptocurrency').mean()"
   ]
  },
  {
   "cell_type": "code",
   "execution_count": null,
   "id": "1fb5eac8",
   "metadata": {},
   "outputs": [],
   "source": [
    "crypto_data.groupby('cryptocurrency').std()"
   ]
  },
  {
   "cell_type": "markdown",
   "id": "993ce76b",
   "metadata": {},
   "source": [
    "### Multi-Indexing"
   ]
  },
  {
   "cell_type": "code",
   "execution_count": null,
   "id": "a736bd70",
   "metadata": {},
   "outputs": [],
   "source": [
    "ticker_data = pd.read_csv(\"twtr_google_finance.csv\", parse_dates=True, index_col='Date', infer_datetime_format=True)\n",
    "ticker_data.head()"
   ]
  },
  {
   "cell_type": "code",
   "execution_count": null,
   "id": "fac3c542",
   "metadata": {},
   "outputs": [],
   "source": [
    "ticker_data.plot(figsize=(20,10))\n",
    "plt.title(\"Twitter Stock price\", fontsize=20)\n",
    "plt.xlabel(\"Date\")\n",
    "plt.ylabel(\"Price in USD\")"
   ]
  },
  {
   "cell_type": "code",
   "execution_count": null,
   "id": "3f71d26d",
   "metadata": {},
   "outputs": [],
   "source": [
    "ticker_data.index[0]"
   ]
  },
  {
   "cell_type": "code",
   "execution_count": null,
   "id": "bd3fdfe7",
   "metadata": {},
   "outputs": [],
   "source": [
    "ticker_data.index[0].year"
   ]
  },
  {
   "cell_type": "code",
   "execution_count": null,
   "id": "f19c61e1",
   "metadata": {},
   "outputs": [],
   "source": [
    "ticker_data.index[0].month"
   ]
  },
  {
   "cell_type": "code",
   "execution_count": null,
   "id": "692973de",
   "metadata": {},
   "outputs": [],
   "source": [
    "ticker_data.index[0].day"
   ]
  },
  {
   "cell_type": "markdown",
   "id": "e544b383",
   "metadata": {},
   "source": [
    "### Average Close Price for Twitter Data by Year and Month"
   ]
  },
  {
   "cell_type": "code",
   "execution_count": null,
   "id": "fd1ca347",
   "metadata": {},
   "outputs": [],
   "source": [
    "ticker_data.groupby([ticker_data.index.year, ticker_data.index.month])[['Close']].mean()"
   ]
  },
  {
   "cell_type": "code",
   "execution_count": null,
   "id": "22dd0c8b",
   "metadata": {},
   "outputs": [],
   "source": [
    "ticker_data.groupby([ticker_data.index.year, ticker_data.index.month])[['Close']].max()"
   ]
  },
  {
   "cell_type": "code",
   "execution_count": null,
   "id": "c151aa7c",
   "metadata": {},
   "outputs": [],
   "source": [
    "ticker_data.groupby([ticker_data.index.year, ticker_data.index.month])[['Close']].min()"
   ]
  },
  {
   "cell_type": "code",
   "execution_count": null,
   "id": "6baa286e",
   "metadata": {},
   "outputs": [],
   "source": [
    "ticker_data.groupby([ticker_data.index.year, ticker_data.index.month])[['Close']].std()"
   ]
  },
  {
   "cell_type": "markdown",
   "id": "b4d340c2",
   "metadata": {},
   "source": [
    "### Concatenations"
   ]
  },
  {
   "cell_type": "code",
   "execution_count": null,
   "id": "71ee5eab",
   "metadata": {},
   "outputs": [],
   "source": [
    "\n",
    "# Read in data and index by CustomerID\n",
    "france_data = pd.read_csv('france_products.csv', index_col='CustomerID')\n",
    "uk_data = pd.read_csv('uk_products.csv', index_col='CustomerID')\n",
    "netherlands_data = pd.read_csv('netherlands_products.csv', index_col='CustomerID')\n",
    "customer_data = pd.read_csv('customer_info.csv', index_col='CustomerID')\n",
    "products_data = pd.read_csv('products.csv', index_col='CustomerID')"
   ]
  },
  {
   "cell_type": "code",
   "execution_count": null,
   "id": "e81e0327",
   "metadata": {},
   "outputs": [],
   "source": [
    "france_data"
   ]
  },
  {
   "cell_type": "code",
   "execution_count": null,
   "id": "57f1078e",
   "metadata": {},
   "outputs": [],
   "source": [
    "uk_data"
   ]
  },
  {
   "cell_type": "code",
   "execution_count": null,
   "id": "1706870f",
   "metadata": {},
   "outputs": [],
   "source": [
    "netherlands_data"
   ]
  },
  {
   "cell_type": "code",
   "execution_count": null,
   "id": "babeb764",
   "metadata": {},
   "outputs": [],
   "source": [
    "france_data.append(uk_data)"
   ]
  },
  {
   "cell_type": "code",
   "execution_count": null,
   "id": "3b233b9a",
   "metadata": {},
   "outputs": [],
   "source": [
    "summary_data = pd.concat([france_data, uk_data, netherlands_data])\n",
    "summary_data"
   ]
  },
  {
   "cell_type": "code",
   "execution_count": null,
   "id": "94ef1be3",
   "metadata": {},
   "outputs": [],
   "source": [
    "summary_data['revenue']= summary_data['Quantity']*summary_data['UnitPrice']\n",
    "summary_data"
   ]
  },
  {
   "cell_type": "code",
   "execution_count": null,
   "id": "04c3756d",
   "metadata": {},
   "outputs": [],
   "source": [
    "type(summary_data.groupby(['Country'])['revenue'].sum())"
   ]
  },
  {
   "cell_type": "code",
   "execution_count": null,
   "id": "ca2a47b8",
   "metadata": {},
   "outputs": [],
   "source": [
    "type(summary_data.groupby(['Country'])[['revenue']].sum())"
   ]
  },
  {
   "cell_type": "code",
   "execution_count": null,
   "id": "a5bc8f17",
   "metadata": {},
   "outputs": [],
   "source": [
    "summary_data.groupby(['Country'])[['revenue']].sum()"
   ]
  },
  {
   "cell_type": "code",
   "execution_count": null,
   "id": "877f6681",
   "metadata": {},
   "outputs": [],
   "source": []
  }
 ],
 "metadata": {
  "kernelspec": {
   "display_name": "Python 3",
   "language": "python",
   "name": "python3"
  },
  "language_info": {
   "codemirror_mode": {
    "name": "ipython",
    "version": 3
   },
   "file_extension": ".py",
   "mimetype": "text/x-python",
   "name": "python",
   "nbconvert_exporter": "python",
   "pygments_lexer": "ipython3",
   "version": "3.7.10"
  }
 },
 "nbformat": 4,
 "nbformat_minor": 5
}
