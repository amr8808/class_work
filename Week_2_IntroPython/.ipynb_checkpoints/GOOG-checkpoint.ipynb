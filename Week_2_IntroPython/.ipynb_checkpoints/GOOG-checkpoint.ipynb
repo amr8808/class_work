{
 "cells": [
  {
   "cell_type": "markdown",
   "id": "44e36c74-78bb-441a-a519-a9954d219acd",
   "metadata": {},
   "source": [
    "# GOOG Performance Algo"
   ]
  },
  {
   "cell_type": "code",
   "execution_count": 1,
   "id": "5f0f8eec-df83-43f9-8caa-916a7a93ef22",
   "metadata": {},
   "outputs": [],
   "source": [
    "import pandas as pd"
   ]
  },
  {
   "cell_type": "code",
   "execution_count": 2,
   "id": "b2813211-456a-4d9e-9ffc-677b8f3a8537",
   "metadata": {},
   "outputs": [],
   "source": [
    "df=pd.read_csv(\"GOOG.csv\")"
   ]
  },
  {
   "cell_type": "code",
   "execution_count": 3,
   "id": "fac2739c-54f0-4b64-a64c-4d919db38f68",
   "metadata": {},
   "outputs": [],
   "source": [
    "dates=list(df['Date'])"
   ]
  },
  {
   "cell_type": "code",
   "execution_count": 4,
   "id": "c23fbd51-8933-4e65-8cd1-8a4e8e60d5fa",
   "metadata": {},
   "outputs": [],
   "source": [
    "prices=list(df['Close'])"
   ]
  },
  {
   "cell_type": "code",
   "execution_count": 5,
   "id": "7c789cc9-0979-4534-aa6b-6f31af525f1b",
   "metadata": {},
   "outputs": [],
   "source": [
    "def get_daily_return(old_price,new_price):\n",
    "  return (new_price-old_price)/old_price"
   ]
  },
  {
   "cell_type": "code",
   "execution_count": 6,
   "id": "7dd1005b-444f-4850-bd0c-79d85d648666",
   "metadata": {},
   "outputs": [],
   "source": [
    "returns_list=[]\n",
    "for i in range(0,len(prices)-1):\n",
    "\n",
    "    output=get_daily_return(prices[i],prices[i+1])\n",
    "    returns_list.append(output)"
   ]
  },
  {
   "cell_type": "code",
   "execution_count": 7,
   "id": "a2099469-961e-4a40-85d5-7f3139a6cf65",
   "metadata": {},
   "outputs": [],
   "source": [
    "def buy_sell(num):\n",
    "    if num < 0:\n",
    "        recommendation=\"Buy\"\n",
    "    else:\n",
    "        recommendation=\"Sell\"\n",
    "    return recommendation"
   ]
  },
  {
   "cell_type": "code",
   "execution_count": 8,
   "id": "edc4f05d-a407-4c64-ba0a-9feeb7236d84",
   "metadata": {},
   "outputs": [],
   "source": [
    "returns_list=[]\n",
    "recommendations_list=[]\n",
    "for i in range(0,len(prices)-1):\n",
    "\n",
    "    output=get_daily_return(prices[i],prices[i+1])\n",
    "    recommendation=buy_sell(output)\n",
    "    returns_list.append(output)\n",
    "    recommendations_list.append(recommendation)"
   ]
  },
  {
   "cell_type": "code",
   "execution_count": 9,
   "id": "c5f73c2a-2999-4abf-9016-1b608aa5e33c",
   "metadata": {},
   "outputs": [],
   "source": [
    "returns_list.insert(0,0)"
   ]
  },
  {
   "cell_type": "code",
   "execution_count": 10,
   "id": "4b4f4073-6af5-4f6a-8a20-67df2a391a96",
   "metadata": {},
   "outputs": [],
   "source": [
    "recommendations_list.insert(0,\"\")"
   ]
  },
  {
   "cell_type": "code",
   "execution_count": 11,
   "id": "75e14814-8ba7-4f9e-9e7b-3e9e17b10afd",
   "metadata": {},
   "outputs": [],
   "source": [
    "summary_df=pd.DataFrame({'Date':dates,'Closing Price':prices,'Daily Return':returns_list,'Reco':recommendations_list})"
   ]
  },
  {
   "cell_type": "code",
   "execution_count": 12,
   "id": "83fa83ed-84a7-4d74-bb05-8412982480b8",
   "metadata": {},
   "outputs": [
    {
     "data": {
      "text/html": [
       "<div>\n",
       "<style scoped>\n",
       "    .dataframe tbody tr th:only-of-type {\n",
       "        vertical-align: middle;\n",
       "    }\n",
       "\n",
       "    .dataframe tbody tr th {\n",
       "        vertical-align: top;\n",
       "    }\n",
       "\n",
       "    .dataframe thead th {\n",
       "        text-align: right;\n",
       "    }\n",
       "</style>\n",
       "<table border=\"1\" class=\"dataframe\">\n",
       "  <thead>\n",
       "    <tr style=\"text-align: right;\">\n",
       "      <th></th>\n",
       "      <th>Date</th>\n",
       "      <th>Closing Price</th>\n",
       "      <th>Daily Return</th>\n",
       "      <th>Reco</th>\n",
       "    </tr>\n",
       "  </thead>\n",
       "  <tbody>\n",
       "    <tr>\n",
       "      <th>0</th>\n",
       "      <td>2016-08-23</td>\n",
       "      <td>772.080017</td>\n",
       "      <td>0.000000</td>\n",
       "      <td></td>\n",
       "    </tr>\n",
       "    <tr>\n",
       "      <th>1</th>\n",
       "      <td>2016-08-24</td>\n",
       "      <td>769.640015</td>\n",
       "      <td>-0.003160</td>\n",
       "      <td>Buy</td>\n",
       "    </tr>\n",
       "    <tr>\n",
       "      <th>2</th>\n",
       "      <td>2016-08-25</td>\n",
       "      <td>769.409973</td>\n",
       "      <td>-0.000299</td>\n",
       "      <td>Buy</td>\n",
       "    </tr>\n",
       "    <tr>\n",
       "      <th>3</th>\n",
       "      <td>2016-08-26</td>\n",
       "      <td>769.539978</td>\n",
       "      <td>0.000169</td>\n",
       "      <td>Sell</td>\n",
       "    </tr>\n",
       "    <tr>\n",
       "      <th>4</th>\n",
       "      <td>2016-08-29</td>\n",
       "      <td>772.150024</td>\n",
       "      <td>0.003392</td>\n",
       "      <td>Sell</td>\n",
       "    </tr>\n",
       "    <tr>\n",
       "      <th>...</th>\n",
       "      <td>...</td>\n",
       "      <td>...</td>\n",
       "      <td>...</td>\n",
       "      <td>...</td>\n",
       "    </tr>\n",
       "    <tr>\n",
       "      <th>1253</th>\n",
       "      <td>2021-08-16</td>\n",
       "      <td>2778.320068</td>\n",
       "      <td>0.003685</td>\n",
       "      <td>Sell</td>\n",
       "    </tr>\n",
       "    <tr>\n",
       "      <th>1254</th>\n",
       "      <td>2021-08-17</td>\n",
       "      <td>2746.010010</td>\n",
       "      <td>-0.011629</td>\n",
       "      <td>Buy</td>\n",
       "    </tr>\n",
       "    <tr>\n",
       "      <th>1255</th>\n",
       "      <td>2021-08-18</td>\n",
       "      <td>2731.399902</td>\n",
       "      <td>-0.005320</td>\n",
       "      <td>Buy</td>\n",
       "    </tr>\n",
       "    <tr>\n",
       "      <th>1256</th>\n",
       "      <td>2021-08-19</td>\n",
       "      <td>2738.270020</td>\n",
       "      <td>0.002515</td>\n",
       "      <td>Sell</td>\n",
       "    </tr>\n",
       "    <tr>\n",
       "      <th>1257</th>\n",
       "      <td>2021-08-20</td>\n",
       "      <td>2768.739990</td>\n",
       "      <td>0.011127</td>\n",
       "      <td>Sell</td>\n",
       "    </tr>\n",
       "  </tbody>\n",
       "</table>\n",
       "<p>1258 rows × 4 columns</p>\n",
       "</div>"
      ],
      "text/plain": [
       "            Date  Closing Price  Daily Return  Reco\n",
       "0     2016-08-23     772.080017      0.000000      \n",
       "1     2016-08-24     769.640015     -0.003160   Buy\n",
       "2     2016-08-25     769.409973     -0.000299   Buy\n",
       "3     2016-08-26     769.539978      0.000169  Sell\n",
       "4     2016-08-29     772.150024      0.003392  Sell\n",
       "...          ...            ...           ...   ...\n",
       "1253  2021-08-16    2778.320068      0.003685  Sell\n",
       "1254  2021-08-17    2746.010010     -0.011629   Buy\n",
       "1255  2021-08-18    2731.399902     -0.005320   Buy\n",
       "1256  2021-08-19    2738.270020      0.002515  Sell\n",
       "1257  2021-08-20    2768.739990      0.011127  Sell\n",
       "\n",
       "[1258 rows x 4 columns]"
      ]
     },
     "execution_count": 12,
     "metadata": {},
     "output_type": "execute_result"
    }
   ],
   "source": [
    "summary_df"
   ]
  },
  {
   "cell_type": "code",
   "execution_count": 14,
   "id": "7160e5ad-fb26-4bca-bf4d-f2475cee0f4a",
   "metadata": {},
   "outputs": [
    {
     "data": {
      "text/plain": [
       "Date              object\n",
       "Closing Price    float64\n",
       "Daily Return     float64\n",
       "Reco              object\n",
       "dtype: object"
      ]
     },
     "execution_count": 14,
     "metadata": {},
     "output_type": "execute_result"
    }
   ],
   "source": [
    "summary_df.dtypes"
   ]
  },
  {
   "cell_type": "code",
   "execution_count": null,
   "id": "cdd52553-ea9b-4aa2-9f1d-14f4764edc1a",
   "metadata": {},
   "outputs": [],
   "source": []
  }
 ],
 "metadata": {
  "kernelspec": {
   "display_name": "Python 3",
   "language": "python",
   "name": "python3"
  },
  "language_info": {
   "codemirror_mode": {
    "name": "ipython",
    "version": 3
   },
   "file_extension": ".py",
   "mimetype": "text/x-python",
   "name": "python",
   "nbconvert_exporter": "python",
   "pygments_lexer": "ipython3",
   "version": "3.7.10"
  }
 },
 "nbformat": 4,
 "nbformat_minor": 5
}
