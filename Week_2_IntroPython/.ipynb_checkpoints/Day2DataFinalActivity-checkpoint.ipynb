{
 "cells": [
  {
   "cell_type": "code",
   "execution_count": null,
   "id": "d4583a39-f90f-42de-b904-54501a91fb99",
   "metadata": {},
   "outputs": [],
   "source": []
  },
  {
   "cell_type": "code",
   "execution_count": null,
   "id": "f222b21c-0384-4c0a-864d-1ea47da36bdd",
   "metadata": {},
   "outputs": [],
   "source": []
  },
  {
   "cell_type": "code",
   "execution_count": 27,
   "id": "490a25cc-9aae-47dd-8d64-8af0dcfadd4e",
   "metadata": {},
   "outputs": [],
   "source": [
    "# Given that dictionary, add another variable for each of the tickers where you calculate the daily maximum difference of the prices (high-low). Call this variable price_oscillation.\n",
    "# Create another variable for each of the tickers called high_risk and set it to True if the price_oscillation is more than 2% of the open price, else set it to False."
   ]
  },
  {
   "cell_type": "code",
   "execution_count": 1,
   "id": "562cc0a1-9d1a-43ea-9a89-7b6aed0b1617",
   "metadata": {},
   "outputs": [],
   "source": [
    "new_records = {\n",
    "    \"AAPL\": {\n",
    "        \"date\": \"04-21-2019\",\n",
    "        \"open\": 200.85,\n",
    "        \"high\": 201.00,\n",
    "        \"low\": 198.44,\n",
    "        \"close\": 198.95\n",
    "    },\n",
    "    \"MU\": {\n",
    "        \"date\": \"04-21-2019\",\n",
    "        \"open\": 42.85,\n",
    "        \"high\": 43.20,\n",
    "        \"low\": 41.81,\n",
    "        \"close\": 42.01\n",
    "    },\n",
    "    \"AMD\": {\n",
    "        \"date\": \"04-21-2019\",\n",
    "        \"open\": 28.21,\n",
    "        \"high\": 28.38,\n",
    "        \"low\": 27.66,\n",
    "        \"close\": 27.85\n",
    "    },\n",
    "    \"TWTR\": {\n",
    "        \"date\": \"04-21-2019\",\n",
    "        \"open\": 34.67,\n",
    "        \"high\": 34.83,\n",
    "        \"low\": 34.11,\n",
    "        \"close\": 34.37\n",
    "    }\n",
    "}"
   ]
  },
  {
   "cell_type": "code",
   "execution_count": 14,
   "id": "5bade293-5db6-4325-a7b0-2b94a919d2c6",
   "metadata": {},
   "outputs": [],
   "source": [
    "for ticker in new_records.keys():\n",
    "    px_os = round((new_records[ticker]['high']-new_records[ticker]['low']),2)\n",
    "    new_records[ticker]['px_os'] = px_os"
   ]
  },
  {
   "cell_type": "code",
   "execution_count": 16,
   "id": "b370496c-9079-4f66-9a5a-b57641cb0865",
   "metadata": {},
   "outputs": [],
   "source": []
  },
  {
   "cell_type": "code",
   "execution_count": 25,
   "id": "f9676710-7517-4f63-9278-8649d4931caa",
   "metadata": {},
   "outputs": [],
   "source": [
    "pct_threshold=.02\n",
    "for ticker in new_records.keys(): \n",
    "    if new_records[ticker]['px_os'] > new_records[ticker]['open']*pct_threshold: \n",
    "        high_risk = True\n",
    "    else:\n",
    "        high_risk = False\n",
    "    \n",
    "    new_records[ticker]['high_risk'] = high_risk"
   ]
  },
  {
   "cell_type": "code",
   "execution_count": 26,
   "id": "b2f5898d-b18d-4661-b4c8-c39c85ac0c6c",
   "metadata": {},
   "outputs": [
    {
     "data": {
      "text/plain": [
       "{'AAPL': {'date': '04-21-2019',\n",
       "  'open': 200.85,\n",
       "  'high': 201.0,\n",
       "  'low': 198.44,\n",
       "  'close': 198.95,\n",
       "  'price_oscillation': <function __main__.price_oscillation(high, low, openprice)>,\n",
       "  'px_os': 2.56,\n",
       "  'high_risk': False},\n",
       " 'MU': {'date': '04-21-2019',\n",
       "  'open': 42.85,\n",
       "  'high': 43.2,\n",
       "  'low': 41.81,\n",
       "  'close': 42.01,\n",
       "  'price_oscillation': <function __main__.price_oscillation(high, low, openprice)>,\n",
       "  'px_os': 1.39,\n",
       "  'high_risk': True},\n",
       " 'AMD': {'date': '04-21-2019',\n",
       "  'open': 28.21,\n",
       "  'high': 28.38,\n",
       "  'low': 27.66,\n",
       "  'close': 27.85,\n",
       "  'price_oscillation': <function __main__.price_oscillation(high, low, openprice)>,\n",
       "  'px_os': 0.72,\n",
       "  'high_risk': True},\n",
       " 'TWTR': {'date': '04-21-2019',\n",
       "  'open': 34.67,\n",
       "  'high': 34.83,\n",
       "  'low': 34.11,\n",
       "  'close': 34.37,\n",
       "  'price_oscillation': <function __main__.price_oscillation(high, low, openprice)>,\n",
       "  'px_os': 0.72,\n",
       "  'high_risk': True}}"
      ]
     },
     "execution_count": 26,
     "metadata": {},
     "output_type": "execute_result"
    }
   ],
   "source": [
    "new_records"
   ]
  },
  {
   "cell_type": "code",
   "execution_count": 8,
   "id": "b33d7c33-8cd8-41e9-9fab-309f15ab0d92",
   "metadata": {},
   "outputs": [],
   "source": []
  },
  {
   "cell_type": "code",
   "execution_count": null,
   "id": "3b7c96c8-96bc-4863-b54b-26556cfc4bb8",
   "metadata": {},
   "outputs": [],
   "source": []
  },
  {
   "cell_type": "code",
   "execution_count": null,
   "id": "4c2db8da-8ac5-425e-b902-f78be3aa4aca",
   "metadata": {},
   "outputs": [],
   "source": []
  },
  {
   "cell_type": "code",
   "execution_count": null,
   "id": "3180c047-a87d-43ca-863d-a7845d9abd62",
   "metadata": {},
   "outputs": [],
   "source": []
  }
 ],
 "metadata": {
  "kernelspec": {
   "display_name": "Python 3",
   "language": "python",
   "name": "python3"
  },
  "language_info": {
   "codemirror_mode": {
    "name": "ipython",
    "version": 3
   },
   "file_extension": ".py",
   "mimetype": "text/x-python",
   "name": "python",
   "nbconvert_exporter": "python",
   "pygments_lexer": "ipython3",
   "version": "3.7.10"
  }
 },
 "nbformat": 4,
 "nbformat_minor": 5
}
