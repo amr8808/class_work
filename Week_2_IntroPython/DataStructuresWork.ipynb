{
 "cells": [
  {
   "cell_type": "code",
   "execution_count": 128,
   "id": "d36e29f8-6bc5-4cd3-81a6-e3511af3e399",
   "metadata": {},
   "outputs": [],
   "source": [
    "# DATA STRUCTURES - DICT\n",
    "# format is dict = {key:value1:value1, key2:value2}\n",
    "# to access the value in a dictionary you pass the key"
   ]
  },
  {
   "cell_type": "code",
   "execution_count": 11,
   "id": "60705c2e-0c1b-4c58-b355-4e141cd7cd96",
   "metadata": {},
   "outputs": [],
   "source": [
    "stocks={\"AAPL\":{\"2021-08-01\":100,\"2021-08-02\":101},\"TSLA\":{\"2021-08-01\":200,\"2021-08-02\":202}}"
   ]
  },
  {
   "cell_type": "code",
   "execution_count": 12,
   "id": "7e630f26-cf9b-465a-8673-a2255f69cbe0",
   "metadata": {},
   "outputs": [
    {
     "data": {
      "text/plain": [
       "dict_keys(['AAPL', 'TSLA'])"
      ]
     },
     "execution_count": 12,
     "metadata": {},
     "output_type": "execute_result"
    }
   ],
   "source": []
  },
  {
   "cell_type": "code",
   "execution_count": 13,
   "id": "5baebb9d-e44e-4511-8589-527b5e5a340e",
   "metadata": {},
   "outputs": [
    {
     "data": {
      "text/plain": [
       "dict_values([{'2021-08-01': 100, '2021-08-02': 101}, {'2021-08-01': 200, '2021-08-02': 202}])"
      ]
     },
     "execution_count": 13,
     "metadata": {},
     "output_type": "execute_result"
    }
   ],
   "source": [
    "stocks.values()"
   ]
  },
  {
   "cell_type": "code",
   "execution_count": 16,
   "id": "03ec03d0-e557-4c5d-87d1-4b6b915769b0",
   "metadata": {},
   "outputs": [
    {
     "data": {
      "text/plain": [
       "{'2021-08-01': 100, '2021-08-02': 101}"
      ]
     },
     "execution_count": 16,
     "metadata": {},
     "output_type": "execute_result"
    }
   ],
   "source": [
    "stocks[\"AAPL\"]"
   ]
  },
  {
   "cell_type": "code",
   "execution_count": 9,
   "id": "8e6d4602-ea29-4d80-b6b8-0ec2de7ec9eb",
   "metadata": {},
   "outputs": [
    {
     "data": {
      "text/plain": [
       "101"
      ]
     },
     "execution_count": 9,
     "metadata": {},
     "output_type": "execute_result"
    }
   ],
   "source": [
    "stocks[\"AAPL\"][\"2021-08-02\"]"
   ]
  },
  {
   "cell_type": "code",
   "execution_count": 18,
   "id": "9f71c9e0-39fc-47be-b66d-e1f6663d0301",
   "metadata": {},
   "outputs": [
    {
     "data": {
      "text/plain": [
       "202"
      ]
     },
     "execution_count": 18,
     "metadata": {},
     "output_type": "execute_result"
    }
   ],
   "source": [
    "stocks[\"TSLA\"][\"2021-08-02\"]"
   ]
  },
  {
   "cell_type": "code",
   "execution_count": 23,
   "id": "d0ea0cf0-86e5-4da0-b109-6933e1d7d588",
   "metadata": {},
   "outputs": [],
   "source": [
    "stocks_nested_dict = {\n",
    "    \"APPL\": {\n",
    "        \"name\": \"Apple\",\n",
    "        \"exchange\": \"NASDAQ\",\n",
    "        \"market_cap\": 937.7\n",
    "    },\n",
    "    \"MU\": {\n",
    "        \"name\": \"Micron Technology\",\n",
    "        \"exchange\": \"NASDAQ\",\n",
    "        \"market_cap\": 48.03\n",
    "    },\n",
    "    \"AMD\": {\n",
    "        \"name\": \"Advanced Micro Devices\",\n",
    "        \"exchange\": \"NASDAQ\",\n",
    "        \"market_cap\": 29.94\n",
    "    },\n",
    "    \"TWTR\": {\n",
    "        \"name\": \"Twitter\",\n",
    "        \"exchange\": \"NASDAQ\",\n",
    "        \"market_cap\": 26.42\n",
    "    }\n",
    "}"
   ]
  },
  {
   "cell_type": "code",
   "execution_count": 26,
   "id": "c129e5d8-d284-49eb-804c-73aae6a96cee",
   "metadata": {},
   "outputs": [
    {
     "data": {
      "text/plain": [
       "937.7"
      ]
     },
     "execution_count": 26,
     "metadata": {},
     "output_type": "execute_result"
    }
   ],
   "source": [
    "stocks_nested_dict[\"APPL\"][\"market_cap\"]"
   ]
  },
  {
   "cell_type": "code",
   "execution_count": 27,
   "id": "8c178057-c6cb-4923-b6cc-9e84bcbe3bec",
   "metadata": {},
   "outputs": [
    {
     "data": {
      "text/plain": [
       "'NASDAQ'"
      ]
     },
     "execution_count": 27,
     "metadata": {},
     "output_type": "execute_result"
    }
   ],
   "source": [
    "stocks_nested_dict[\"AMD\"][\"exchange\"]"
   ]
  },
  {
   "cell_type": "code",
   "execution_count": 29,
   "id": "ebf8b6f8-b8d7-48be-8032-9785bd515c35",
   "metadata": {},
   "outputs": [],
   "source": [
    "list1 = [0,12,3,45,6,7]"
   ]
  },
  {
   "cell_type": "code",
   "execution_count": 30,
   "id": "1613c443-7723-4edf-82bd-1685a2f1a062",
   "metadata": {},
   "outputs": [
    {
     "data": {
      "text/plain": [
       "0"
      ]
     },
     "execution_count": 30,
     "metadata": {},
     "output_type": "execute_result"
    }
   ],
   "source": [
    "# to select data from either a list or a dictionary\n",
    "# name[] the brackets are next to the name of a dctionary\n",
    "# use [] to select data for both\n",
    "list1[0]"
   ]
  },
  {
   "cell_type": "code",
   "execution_count": 55,
   "id": "8a534eab-4290-443b-ad0c-e812c50d0f40",
   "metadata": {},
   "outputs": [],
   "source": [
    "names_list=[]\n",
    "for ticker in stocks_nested_dict.keys():\n",
    "    \n",
    "    name=stocks_nested_dict[ticker][\"name\"]\n",
    "    names_list.append(name) \n",
    "    "
   ]
  },
  {
   "cell_type": "code",
   "execution_count": 56,
   "id": "41248b61-8e07-46ba-bb0b-ffb2cd983d4a",
   "metadata": {},
   "outputs": [
    {
     "name": "stdout",
     "output_type": "stream",
     "text": [
      "['Apple', 'Micron Technology', 'Advanced Micro Devices', 'Twitter']\n"
     ]
    }
   ],
   "source": [
    "\n",
    "print(names_list)"
   ]
  },
  {
   "cell_type": "code",
   "execution_count": 57,
   "id": "9f97a781-0ebf-4e22-8cdd-2b7483958570",
   "metadata": {},
   "outputs": [
    {
     "data": {
      "text/plain": [
       "dict_keys(['APPL', 'MU', 'AMD', 'TWTR'])"
      ]
     },
     "execution_count": 57,
     "metadata": {},
     "output_type": "execute_result"
    }
   ],
   "source": [
    "    stocks_nested_dict.keys()"
   ]
  },
  {
   "cell_type": "code",
   "execution_count": 58,
   "id": "8bb68ce3-2831-4eb7-a8d2-fde97cffb922",
   "metadata": {},
   "outputs": [
    {
     "data": {
      "text/plain": [
       "'Apple'"
      ]
     },
     "execution_count": 58,
     "metadata": {},
     "output_type": "execute_result"
    }
   ],
   "source": [
    "stocks_nested_dict[\"APPL\"][\"name\"]"
   ]
  },
  {
   "cell_type": "code",
   "execution_count": 61,
   "id": "9a51201a-8e8b-4dab-a52a-9794d322d7ae",
   "metadata": {},
   "outputs": [
    {
     "name": "stdout",
     "output_type": "stream",
     "text": [
      "APPL\n",
      "MU\n",
      "AMD\n",
      "TWTR\n"
     ]
    }
   ],
   "source": [
    "for ticker in stocks_nested_dict.keys():\n",
    "        print(ticker)"
   ]
  },
  {
   "cell_type": "code",
   "execution_count": 62,
   "id": "e336ae97-8a99-48b4-8821-ccef1ea9173c",
   "metadata": {},
   "outputs": [
    {
     "name": "stdout",
     "output_type": "stream",
     "text": [
      "APPL\n",
      "MU\n",
      "AMD\n",
      "TWTR\n"
     ]
    }
   ],
   "source": [
    "for potato in stocks_nested_dict.keys():\n",
    "        print(potato)"
   ]
  },
  {
   "cell_type": "code",
   "execution_count": 66,
   "id": "ddabeb83-09f8-4114-bdd1-1929242a0a1b",
   "metadata": {},
   "outputs": [
    {
     "name": "stdout",
     "output_type": "stream",
     "text": [
      "APPL\n",
      "MU\n",
      "AMD\n",
      "TWTR\n"
     ]
    }
   ],
   "source": [
    "stock_keys=list(stocks_nested_dict.keys())\n",
    "for i in range(0,len(stock_keys)):\n",
    "    print(stock_keys[i])"
   ]
  },
  {
   "cell_type": "code",
   "execution_count": 67,
   "id": "206ee02b-5828-4a2c-b033-ed109d657f9b",
   "metadata": {},
   "outputs": [
    {
     "data": {
      "text/plain": [
       "dict_keys"
      ]
     },
     "execution_count": 67,
     "metadata": {},
     "output_type": "execute_result"
    }
   ],
   "source": [
    "type(stocks_nested_dict.keys())"
   ]
  },
  {
   "cell_type": "code",
   "execution_count": 68,
   "id": "667d78d2-572c-43be-8756-e2e0adb878fa",
   "metadata": {},
   "outputs": [
    {
     "data": {
      "text/plain": [
       "list"
      ]
     },
     "execution_count": 68,
     "metadata": {},
     "output_type": "execute_result"
    }
   ],
   "source": [
    "type(stock_keys)"
   ]
  },
  {
   "cell_type": "code",
   "execution_count": null,
   "id": "ae428a0f-465d-43bc-801a-81cd02aa2164",
   "metadata": {},
   "outputs": [],
   "source": [
    "## if a number % 2 == 0 it is even\n",
    "##      else is odd\n",
    "## one \"=\" assigns variable\n",
    "## two \"==\" is comparing values (true or false)\n"
   ]
  },
  {
   "cell_type": "code",
   "execution_count": 75,
   "id": "1d0d8aa9-41c2-4854-84a7-78ba10b651dc",
   "metadata": {},
   "outputs": [
    {
     "name": "stdout",
     "output_type": "stream",
     "text": [
      "APPL\n",
      "AMD\n"
     ]
    }
   ],
   "source": [
    "stock_keys=list(stocks_nested_dict.keys())\n",
    "for i in range(0,len(stock_keys)):\n",
    "    if i%2==0:\n",
    "        print(stock_keys[i])"
   ]
  },
  {
   "cell_type": "code",
   "execution_count": 73,
   "id": "c5aa1f9e-c54e-43c3-abd3-777e8b179536",
   "metadata": {},
   "outputs": [
    {
     "data": {
      "text/plain": [
       "['APPL', 'AMD']"
      ]
     },
     "execution_count": 73,
     "metadata": {},
     "output_type": "execute_result"
    }
   ],
   "source": [
    "stock_keys[::2]"
   ]
  },
  {
   "cell_type": "code",
   "execution_count": 76,
   "id": "4bb59ff5-2adf-4f0f-b45d-a8673e43a266",
   "metadata": {},
   "outputs": [
    {
     "data": {
      "text/plain": [
       "4"
      ]
     },
     "execution_count": 76,
     "metadata": {},
     "output_type": "execute_result"
    }
   ],
   "source": [
    "25%7"
   ]
  },
  {
   "cell_type": "code",
   "execution_count": 77,
   "id": "b2a5bf25-0e15-4b05-9eac-163d17cfaa8b",
   "metadata": {},
   "outputs": [],
   "source": [
    "## index\n",
    "## calls location of item"
   ]
  },
  {
   "cell_type": "code",
   "execution_count": 78,
   "id": "783525fa-4d0a-400a-9e6a-0bbd1c57c8a3",
   "metadata": {},
   "outputs": [
    {
     "data": {
      "text/plain": [
       "['APPL', 'MU', 'AMD', 'TWTR']"
      ]
     },
     "execution_count": 78,
     "metadata": {},
     "output_type": "execute_result"
    }
   ],
   "source": [
    "stock_keys"
   ]
  },
  {
   "cell_type": "code",
   "execution_count": 79,
   "id": "3d2025f5-8642-4795-a930-d35f8795659a",
   "metadata": {},
   "outputs": [
    {
     "data": {
      "text/plain": [
       "2"
      ]
     },
     "execution_count": 79,
     "metadata": {},
     "output_type": "execute_result"
    }
   ],
   "source": [
    "stock_keys.index(\"AMD\")"
   ]
  },
  {
   "cell_type": "code",
   "execution_count": 80,
   "id": "b64616a6-ba8e-40b6-b8db-6b28d4213b19",
   "metadata": {},
   "outputs": [],
   "source": [
    "stock_keys.append(\"AMD\")"
   ]
  },
  {
   "cell_type": "code",
   "execution_count": 81,
   "id": "bf0df68c-5c0e-4bb7-9743-b326754d1141",
   "metadata": {},
   "outputs": [
    {
     "data": {
      "text/plain": [
       "2"
      ]
     },
     "execution_count": 81,
     "metadata": {},
     "output_type": "execute_result"
    }
   ],
   "source": [
    "stock_keys.index(\"AMD\")"
   ]
  },
  {
   "cell_type": "code",
   "execution_count": 82,
   "id": "4cbae759-c41c-44eb-ba00-409b6ef6c279",
   "metadata": {},
   "outputs": [
    {
     "data": {
      "text/plain": [
       "['APPL', 'MU', 'AMD', 'TWTR', 'AMD']"
      ]
     },
     "execution_count": 82,
     "metadata": {},
     "output_type": "execute_result"
    }
   ],
   "source": [
    "stock_keys"
   ]
  },
  {
   "cell_type": "code",
   "execution_count": 83,
   "id": "b0090f5e-a1dc-4c93-bc29-2304c742eba6",
   "metadata": {},
   "outputs": [],
   "source": [
    "stock_keys.remove(\"AMD\")"
   ]
  },
  {
   "cell_type": "code",
   "execution_count": 84,
   "id": "dd283cf8-596d-41fa-8042-5608854b28cc",
   "metadata": {},
   "outputs": [
    {
     "data": {
      "text/plain": [
       "['APPL', 'MU', 'TWTR', 'AMD']"
      ]
     },
     "execution_count": 84,
     "metadata": {},
     "output_type": "execute_result"
    }
   ],
   "source": [
    "stock_keys"
   ]
  },
  {
   "cell_type": "code",
   "execution_count": 95,
   "id": "a419ecf2-acee-4d60-af4a-7f27e254b375",
   "metadata": {},
   "outputs": [],
   "source": [
    "stock_keys.append(\"MCD\")"
   ]
  },
  {
   "cell_type": "code",
   "execution_count": 96,
   "id": "e23a43cc-4390-4956-aecf-0da50cf927b2",
   "metadata": {},
   "outputs": [
    {
     "data": {
      "text/plain": [
       "['APPL', 'MU', 'TWTR', 'AMD', 'TSLA', 'MCD']"
      ]
     },
     "execution_count": 96,
     "metadata": {},
     "output_type": "execute_result"
    }
   ],
   "source": [
    "stock_keys"
   ]
  },
  {
   "cell_type": "code",
   "execution_count": 97,
   "id": "0a98f80b-2d8f-4047-b7b1-611e3af298e2",
   "metadata": {},
   "outputs": [],
   "source": [
    "stock_keys.append(\"TSLA\")"
   ]
  },
  {
   "cell_type": "code",
   "execution_count": 98,
   "id": "4268636a-6d59-4c2d-aaa3-24481d8dc203",
   "metadata": {},
   "outputs": [],
   "source": [
    "stock_keys.append(\"AMD\")"
   ]
  },
  {
   "cell_type": "code",
   "execution_count": 99,
   "id": "fb72c293-c2c7-4693-a276-5ecd61baf6c9",
   "metadata": {},
   "outputs": [
    {
     "data": {
      "text/plain": [
       "['APPL', 'MU', 'TWTR', 'AMD', 'TSLA', 'MCD', 'TSLA', 'AMD']"
      ]
     },
     "execution_count": 99,
     "metadata": {},
     "output_type": "execute_result"
    }
   ],
   "source": [
    "stock_keys"
   ]
  },
  {
   "cell_type": "code",
   "execution_count": 101,
   "id": "8ddd6604-7691-4dfc-a950-119852c9348c",
   "metadata": {},
   "outputs": [
    {
     "data": {
      "text/plain": [
       "'TSLA'"
      ]
     },
     "execution_count": 101,
     "metadata": {},
     "output_type": "execute_result"
    }
   ],
   "source": [
    "stock_keys.pop()"
   ]
  },
  {
   "cell_type": "code",
   "execution_count": 102,
   "id": "b6963bd6-5876-44c5-9eeb-d2dc6b2da855",
   "metadata": {},
   "outputs": [
    {
     "data": {
      "text/plain": [
       "['APPL', 'MU', 'TWTR', 'AMD', 'TSLA', 'MCD']"
      ]
     },
     "execution_count": 102,
     "metadata": {},
     "output_type": "execute_result"
    }
   ],
   "source": [
    "stock_keys"
   ]
  },
  {
   "cell_type": "code",
   "execution_count": 105,
   "id": "d8d7bf14-4d66-49c6-b593-59cda85b66ee",
   "metadata": {},
   "outputs": [],
   "source": [
    "fourth_ticker=stock_keys.pop(3)"
   ]
  },
  {
   "cell_type": "code",
   "execution_count": 106,
   "id": "e4ed3510-8d19-4baf-91b0-2c84a944f9d0",
   "metadata": {},
   "outputs": [
    {
     "data": {
      "text/plain": [
       "'TSLA'"
      ]
     },
     "execution_count": 106,
     "metadata": {},
     "output_type": "execute_result"
    }
   ],
   "source": [
    "fourth_ticker"
   ]
  },
  {
   "cell_type": "code",
   "execution_count": 107,
   "id": "713db9f9-8314-4ff0-ac2b-e890013d7986",
   "metadata": {},
   "outputs": [],
   "source": [
    "## remove pass (value) removes item\n",
    "## pop pass (index) removes and returns item (can save to variable)"
   ]
  },
  {
   "cell_type": "code",
   "execution_count": 115,
   "id": "29f8881d-f82f-4368-b82d-2c91fdb3d044",
   "metadata": {},
   "outputs": [],
   "source": [
    "def timesten (number):\n",
    "    return number*10"
   ]
  },
  {
   "cell_type": "code",
   "execution_count": 118,
   "id": "d879dab4-14c2-4cea-8d89-504a60824490",
   "metadata": {},
   "outputs": [
    {
     "data": {
      "text/plain": [
       "50"
      ]
     },
     "execution_count": 118,
     "metadata": {},
     "output_type": "execute_result"
    }
   ],
   "source": [
    "timesten(5)"
   ]
  },
  {
   "cell_type": "code",
   "execution_count": 120,
   "id": "fda07f40-bfae-4712-be9a-f0aa405900b1",
   "metadata": {},
   "outputs": [],
   "source": [
    "def timestentwo (number):\n",
    "    print (number*10)"
   ]
  },
  {
   "cell_type": "code",
   "execution_count": 121,
   "id": "02f4b5ab-261c-4d2e-b33b-f50bde4a5620",
   "metadata": {},
   "outputs": [
    {
     "name": "stdout",
     "output_type": "stream",
     "text": [
      "50\n"
     ]
    }
   ],
   "source": [
    "timestentwo(5)"
   ]
  },
  {
   "cell_type": "code",
   "execution_count": 122,
   "id": "9a8ecd9b-26d3-4bc1-a584-bfb6e222e4cb",
   "metadata": {},
   "outputs": [],
   "source": [
    "x=timesten(5)"
   ]
  },
  {
   "cell_type": "code",
   "execution_count": 123,
   "id": "02f66236-d582-4a0b-acc9-bf1539cd27d1",
   "metadata": {},
   "outputs": [
    {
     "data": {
      "text/plain": [
       "55"
      ]
     },
     "execution_count": 123,
     "metadata": {},
     "output_type": "execute_result"
    }
   ],
   "source": [
    "x+5"
   ]
  },
  {
   "cell_type": "code",
   "execution_count": 124,
   "id": "406ea8dd-5247-4aca-8ec9-83ad87e34f37",
   "metadata": {},
   "outputs": [
    {
     "name": "stdout",
     "output_type": "stream",
     "text": [
      "50\n"
     ]
    }
   ],
   "source": [
    "x=timestentwo(5)"
   ]
  },
  {
   "cell_type": "code",
   "execution_count": 125,
   "id": "c734fe8b-e940-4eb4-ad93-d386c88daa82",
   "metadata": {},
   "outputs": [
    {
     "ename": "TypeError",
     "evalue": "unsupported operand type(s) for +: 'NoneType' and 'int'",
     "output_type": "error",
     "traceback": [
      "\u001b[1;31m---------------------------------------------------------------------------\u001b[0m",
      "\u001b[1;31mTypeError\u001b[0m                                 Traceback (most recent call last)",
      "\u001b[1;32m<ipython-input-125-a5e350b5e7ec>\u001b[0m in \u001b[0;36m<module>\u001b[1;34m\u001b[0m\n\u001b[1;32m----> 1\u001b[1;33m \u001b[0mx\u001b[0m\u001b[1;33m+\u001b[0m\u001b[1;36m5\u001b[0m\u001b[1;33m\u001b[0m\u001b[1;33m\u001b[0m\u001b[0m\n\u001b[0m",
      "\u001b[1;31mTypeError\u001b[0m: unsupported operand type(s) for +: 'NoneType' and 'int'"
     ]
    }
   ],
   "source": [
    "x+5"
   ]
  },
  {
   "cell_type": "code",
   "execution_count": 127,
   "id": "92058126-44ab-4da4-a372-1af4f2eb10d7",
   "metadata": {},
   "outputs": [],
   "source": [
    "## return creates a value that can be used \n",
    "## print ONLY displays information"
   ]
  },
  {
   "cell_type": "code",
   "execution_count": null,
   "id": "1e748235-3c8c-4dce-9e2f-7f3492b1a0fd",
   "metadata": {},
   "outputs": [],
   "source": []
  }
 ],
 "metadata": {
  "kernelspec": {
   "display_name": "Python 3",
   "language": "python",
   "name": "python3"
  },
  "language_info": {
   "codemirror_mode": {
    "name": "ipython",
    "version": 3
   },
   "file_extension": ".py",
   "mimetype": "text/x-python",
   "name": "python",
   "nbconvert_exporter": "python",
   "pygments_lexer": "ipython3",
   "version": "3.7.10"
  }
 },
 "nbformat": 4,
 "nbformat_minor": 5
}
