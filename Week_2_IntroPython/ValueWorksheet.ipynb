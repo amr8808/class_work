{
 "cells": [
  {
   "cell_type": "code",
   "execution_count": 1,
   "id": "96104372-0306-4600-beb4-3d6dfecbbdf7",
   "metadata": {},
   "outputs": [],
   "source": [
    "## Pv and fv worksheet\n",
    "# FV = PV * [1+(i/n)]^(n*t)"
   ]
  },
  {
   "cell_type": "code",
   "execution_count": null,
   "id": "5b88e6a6-8677-4207-9858-fe0277b1625a",
   "metadata": {},
   "outputs": [],
   "source": [
    "# To calculate the interest on a $27,000 credit card balance that charges 19.9% compounded daily"
   ]
  },
  {
   "cell_type": "code",
   "execution_count": 101,
   "id": "2577c06e-d85f-4b03-9d11-48afd3ede04c",
   "metadata": {},
   "outputs": [],
   "source": [
    "def fv (pv,i,n,t):\n",
    "    return round((pv*(1+(i/n))**(t*n)),2)"
   ]
  },
  {
   "cell_type": "code",
   "execution_count": 51,
   "id": "2a1f7ca5-ad08-48aa-88b5-8cd879aa91b5",
   "metadata": {},
   "outputs": [
    {
     "name": "stdin",
     "output_type": "stream",
     "text": [
      " 27000\n"
     ]
    }
   ],
   "source": [
    "present_balance = int(input())"
   ]
  },
  {
   "cell_type": "code",
   "execution_count": 107,
   "id": "14293134-2221-48f3-b1ab-e585383fe8eb",
   "metadata": {},
   "outputs": [],
   "source": [
    "output = fv(present_balance,.199,365,1)"
   ]
  },
  {
   "cell_type": "code",
   "execution_count": 108,
   "id": "21165e26-3444-47e4-aca7-72a91d645e73",
   "metadata": {},
   "outputs": [
    {
     "name": "stdout",
     "output_type": "stream",
     "text": [
      "32943.13\n"
     ]
    }
   ],
   "source": [
    "print(output)"
   ]
  },
  {
   "cell_type": "code",
   "execution_count": 109,
   "id": "88f9fb12-7020-47fa-af51-1c6a41f42abc",
   "metadata": {},
   "outputs": [],
   "source": [
    "interest_paid=(output-present_balance)"
   ]
  },
  {
   "cell_type": "code",
   "execution_count": 110,
   "id": "32cfb2e3-d9df-43d8-9570-b9d8d0b8c400",
   "metadata": {},
   "outputs": [
    {
     "data": {
      "text/plain": [
       "5943.129999999997"
      ]
     },
     "execution_count": 110,
     "metadata": {},
     "output_type": "execute_result"
    }
   ],
   "source": [
    "interest_paid"
   ]
  },
  {
   "cell_type": "code",
   "execution_count": null,
   "id": "75b2b11f-0f09-4086-8985-b33b5996850f",
   "metadata": {},
   "outputs": [],
   "source": [
    "# NPV difference between the sum of present values offuture cashflows\n",
    "# and the absolute value of the initial investment\n",
    "# NPV = sum(F/(1+r)^n) - Initial investment\n",
    "# F = future cashflow r = discount rate n = number of periods in future"
   ]
  },
  {
   "cell_type": "code",
   "execution_count": 112,
   "id": "a20ccfe1-4f5a-44bf-806a-b8a902850bf9",
   "metadata": {},
   "outputs": [],
   "source": [
    "r=.10"
   ]
  },
  {
   "cell_type": "code",
   "execution_count": 133,
   "id": "49d8134f-0825-42d9-9ef1-93f2d2fa7036",
   "metadata": {},
   "outputs": [],
   "source": [
    "cashflows = [400,400,400,400]"
   ]
  },
  {
   "cell_type": "code",
   "execution_count": 149,
   "id": "076a04c7-f47c-48cd-90e4-aedec2569835",
   "metadata": {},
   "outputs": [],
   "source": [
    "cashflows = [400]*1000"
   ]
  },
  {
   "cell_type": "code",
   "execution_count": null,
   "id": "f3cad4c8-fd7f-40e8-9ddc-332abaf8d1eb",
   "metadata": {},
   "outputs": [],
   "source": []
  },
  {
   "cell_type": "code",
   "execution_count": 129,
   "id": "a79e34a6-0728-4be5-96e5-2e267caef379",
   "metadata": {},
   "outputs": [
    {
     "name": "stdout",
     "output_type": "stream",
     "text": [
      "363.64\n",
      "330.58\n",
      "300.53\n",
      "273.21\n"
     ]
    }
   ],
   "source": [
    "\n",
    "sum_of_cf = 0 \n",
    "\n",
    "i=0\n",
    "current_cf = round(cashflows[i]/(1+r)**(i+1),2)\n",
    "print(current_cf)\n",
    "\n",
    "i=1\n",
    "current_cf = round(cashflows[i]/(1+r)**(i+1),2)\n",
    "print(current_cf)\n",
    "\n",
    "i=2\n",
    "current_cf = round(cashflows[i]/(1+r)**(i+1),2)\n",
    "print(current_cf)\n",
    "\n",
    "i=3\n",
    "current_cf = round(cashflows[i]/(1+r)**(i+1),2)\n",
    "print(current_cf)"
   ]
  },
  {
   "cell_type": "code",
   "execution_count": 131,
   "id": "ca73b679-f5ba-441c-84d5-daf5c30fbb06",
   "metadata": {},
   "outputs": [
    {
     "name": "stdout",
     "output_type": "stream",
     "text": [
      "363.64\n",
      "694.22\n",
      "994.75\n",
      "1267.96\n"
     ]
    }
   ],
   "source": [
    "sum_of_cf=0\n",
    "for i in range(0,len(cashflows)):\n",
    "    current_cf = round(cashflows[i]/(1+r)**(i+1),2)\n",
    "    sum_of_cf=sum_of_cf+current_cf\n",
    "    print(sum_of_cf)\n"
   ]
  },
  {
   "cell_type": "code",
   "execution_count": 143,
   "id": "fdfec7ad-a810-4422-8c29-d403a0555f60",
   "metadata": {},
   "outputs": [],
   "source": [
    "def npv (cashflows,r,initial_investment):\n",
    "    sum_of_cf=0\n",
    "    for i in range(0,len(cashflows)):\n",
    "        current_cf = round(cashflows[i]/(1+r)**(i+1),2)\n",
    "        sum_of_cf=sum_of_cf+current_cf\n",
    "    npv = sum_of_cf-initial_investment\n",
    "    if npv > 0:\n",
    "        print(\"profitable by {}\".format(npv))\n",
    "    elif npv < 0:\n",
    "        print(\"not profitable by {}\".format(npv))\n",
    "    else:\n",
    "        print(\"breakeven\")"
   ]
  },
  {
   "cell_type": "code",
   "execution_count": 137,
   "id": "75ab08d6-54d1-4d47-a752-e7cef08d33ea",
   "metadata": {},
   "outputs": [
    {
     "name": "stdout",
     "output_type": "stream",
     "text": [
      "profitable by 267.96000000000004\n"
     ]
    }
   ],
   "source": [
    "npv(cashflows,.10,1000)"
   ]
  },
  {
   "cell_type": "code",
   "execution_count": 140,
   "id": "647ab383-8714-45a1-bc1b-50f3134e25b2",
   "metadata": {},
   "outputs": [
    {
     "name": "stdout",
     "output_type": "stream",
     "text": [
      "not profitable by -8732.04\n"
     ]
    }
   ],
   "source": [
    "npv(cashflows,.10,10000)"
   ]
  },
  {
   "cell_type": "code",
   "execution_count": 141,
   "id": "0ebdee33-168e-4b25-b656-9c9d08dbce98",
   "metadata": {},
   "outputs": [
    {
     "name": "stdout",
     "output_type": "stream",
     "text": [
      "profitable by 560.79\n"
     ]
    }
   ],
   "source": [
    "npv(cashflows,.01,1000)"
   ]
  },
  {
   "cell_type": "code",
   "execution_count": 144,
   "id": "5a5943a0-5f09-4888-8912-5f92dc1818d5",
   "metadata": {},
   "outputs": [
    {
     "name": "stdout",
     "output_type": "stream",
     "text": [
      "not profitable by -5150.7300000000005\n"
     ]
    }
   ],
   "source": [
    "npv([125,400,365,800,2500,3600],.10,10000)"
   ]
  },
  {
   "cell_type": "code",
   "execution_count": 145,
   "id": "50c0a5b5-4645-4377-8c22-4ca0208b8af5",
   "metadata": {},
   "outputs": [
    {
     "name": "stdout",
     "output_type": "stream",
     "text": [
      "Collecting numpy-financial\n",
      "  Downloading numpy_financial-1.0.0-py3-none-any.whl (14 kB)\n",
      "Requirement already satisfied: numpy>=1.15 in c:\\users\\arjan\\anaconda3\\envs\\dev\\lib\\site-packages (from numpy-financial) (1.20.1)\n",
      "Installing collected packages: numpy-financial\n",
      "Successfully installed numpy-financial-1.0.0\n"
     ]
    }
   ],
   "source": [
    "!pip install numpy-financial"
   ]
  },
  {
   "cell_type": "code",
   "execution_count": 146,
   "id": "fb37ff32-d29c-4d8d-9bbe-1d6e1d824a21",
   "metadata": {},
   "outputs": [],
   "source": [
    "import numpy as np"
   ]
  },
  {
   "cell_type": "code",
   "execution_count": 147,
   "id": "e882e51f-3e6e-4e44-b8e4-fb826ab3b8eb",
   "metadata": {},
   "outputs": [],
   "source": [
    "import numpy_financial as npf"
   ]
  },
  {
   "cell_type": "code",
   "execution_count": 148,
   "id": "d0574c2e-3821-4183-8546-fdd462ca8ffd",
   "metadata": {},
   "outputs": [
    {
     "data": {
      "text/plain": [
       "267.94617853971704"
      ]
     },
     "execution_count": 148,
     "metadata": {},
     "output_type": "execute_result"
    }
   ],
   "source": [
    "npf.npv(.10,[-1000,400,400,400,400])"
   ]
  },
  {
   "cell_type": "code",
   "execution_count": null,
   "id": "ca001c80-2f30-4e1b-b61a-a748b677ee7a",
   "metadata": {},
   "outputs": [],
   "source": []
  }
 ],
 "metadata": {
  "kernelspec": {
   "display_name": "Python 3",
   "language": "python",
   "name": "python3"
  },
  "language_info": {
   "codemirror_mode": {
    "name": "ipython",
    "version": 3
   },
   "file_extension": ".py",
   "mimetype": "text/x-python",
   "name": "python",
   "nbconvert_exporter": "python",
   "pygments_lexer": "ipython3",
   "version": "3.7.10"
  }
 },
 "nbformat": 4,
 "nbformat_minor": 5
}
