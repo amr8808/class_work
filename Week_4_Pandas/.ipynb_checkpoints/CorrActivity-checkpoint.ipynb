{
 "cells": [
  {
   "cell_type": "code",
   "execution_count": 1,
   "id": "f364664f-7c32-482b-ab79-a344a97c7c54",
   "metadata": {},
   "outputs": [],
   "source": [
    "import pandas as pd\n",
    "from pathlib import Path\n",
    "import seaborn as sns\n",
    "%matplotlib inline"
   ]
  },
  {
   "cell_type": "code",
   "execution_count": 22,
   "id": "d686a50d-12c8-4455-9def-96c984b1eed2",
   "metadata": {},
   "outputs": [],
   "source": [
    "hd=pd.read_csv(\"HD.csv\", index_col=\"date\")\n",
    "intc=pd.read_csv(\"INTC.csv\", index_col=\"date\")\n",
    "jnj=pd.read_csv(\"JNJ.csv\", index_col=\"date\")\n",
    "mu=pd.read_csv(\"MU.csv\", index_col=\"date\")\n",
    "nvda=pd.read_csv(\"NVDA.csv\", index_col=\"date\")\n",
    "tsm=pd.read_csv(\"TSM.csv\", index_col=\"date\")\n",
    "amd=pd.read_csv(\"AMD.csv\", index_col=\"date\")"
   ]
  },
  {
   "cell_type": "code",
   "execution_count": null,
   "id": "984c7d03-4d38-4e57-9e62-b15f7f4394ea",
   "metadata": {},
   "outputs": [],
   "source": []
  },
  {
   "cell_type": "code",
   "execution_count": 23,
   "id": "7eb32958-4522-4ef5-8913-6ee9d96834b0",
   "metadata": {},
   "outputs": [],
   "source": [
    "stonks_df = pd.concat([hd, intc, jnj, mu, nvda, tsm, amd], axis=\"columns\", join=\"inner\")"
   ]
  },
  {
   "cell_type": "code",
   "execution_count": 31,
   "id": "f1aac4df-9919-4b1b-937c-798df3dcb1fd",
   "metadata": {},
   "outputs": [
    {
     "data": {
      "text/html": [
       "<div>\n",
       "<style scoped>\n",
       "    .dataframe tbody tr th:only-of-type {\n",
       "        vertical-align: middle;\n",
       "    }\n",
       "\n",
       "    .dataframe tbody tr th {\n",
       "        vertical-align: top;\n",
       "    }\n",
       "\n",
       "    .dataframe thead th {\n",
       "        text-align: right;\n",
       "    }\n",
       "</style>\n",
       "<table border=\"1\" class=\"dataframe\">\n",
       "  <thead>\n",
       "    <tr style=\"text-align: right;\">\n",
       "      <th></th>\n",
       "      <th>HD</th>\n",
       "      <th>INTC</th>\n",
       "      <th>JNJ</th>\n",
       "      <th>MU</th>\n",
       "      <th>NVDA</th>\n",
       "      <th>TSM</th>\n",
       "      <th>AMD</th>\n",
       "    </tr>\n",
       "    <tr>\n",
       "      <th>date</th>\n",
       "      <th></th>\n",
       "      <th></th>\n",
       "      <th></th>\n",
       "      <th></th>\n",
       "      <th></th>\n",
       "      <th></th>\n",
       "      <th></th>\n",
       "    </tr>\n",
       "  </thead>\n",
       "  <tbody>\n",
       "    <tr>\n",
       "      <th>5/14/19</th>\n",
       "      <td>NaN</td>\n",
       "      <td>NaN</td>\n",
       "      <td>NaN</td>\n",
       "      <td>NaN</td>\n",
       "      <td>NaN</td>\n",
       "      <td>NaN</td>\n",
       "      <td>NaN</td>\n",
       "    </tr>\n",
       "    <tr>\n",
       "      <th>5/13/19</th>\n",
       "      <td>-0.006680</td>\n",
       "      <td>-0.009077</td>\n",
       "      <td>-0.007167</td>\n",
       "      <td>-0.029343</td>\n",
       "      <td>-0.022155</td>\n",
       "      <td>-0.023350</td>\n",
       "      <td>-0.039531</td>\n",
       "    </tr>\n",
       "    <tr>\n",
       "      <th>5/10/19</th>\n",
       "      <td>0.022276</td>\n",
       "      <td>0.032172</td>\n",
       "      <td>0.010979</td>\n",
       "      <td>0.041734</td>\n",
       "      <td>0.065447</td>\n",
       "      <td>0.044889</td>\n",
       "      <td>0.065549</td>\n",
       "    </tr>\n",
       "    <tr>\n",
       "      <th>5/9/19</th>\n",
       "      <td>0.000000</td>\n",
       "      <td>0.009091</td>\n",
       "      <td>-0.017554</td>\n",
       "      <td>0.008475</td>\n",
       "      <td>0.008115</td>\n",
       "      <td>0.009806</td>\n",
       "      <td>-0.026824</td>\n",
       "    </tr>\n",
       "    <tr>\n",
       "      <th>5/8/19</th>\n",
       "      <td>0.003032</td>\n",
       "      <td>0.056199</td>\n",
       "      <td>-0.000303</td>\n",
       "      <td>0.012223</td>\n",
       "      <td>0.021917</td>\n",
       "      <td>0.010405</td>\n",
       "      <td>-0.004410</td>\n",
       "    </tr>\n",
       "    <tr>\n",
       "      <th>...</th>\n",
       "      <td>...</td>\n",
       "      <td>...</td>\n",
       "      <td>...</td>\n",
       "      <td>...</td>\n",
       "      <td>...</td>\n",
       "      <td>...</td>\n",
       "      <td>...</td>\n",
       "    </tr>\n",
       "    <tr>\n",
       "      <th>5/20/09</th>\n",
       "      <td>0.041066</td>\n",
       "      <td>0.026350</td>\n",
       "      <td>0.014214</td>\n",
       "      <td>0.048035</td>\n",
       "      <td>0.006205</td>\n",
       "      <td>0.010571</td>\n",
       "      <td>0.036866</td>\n",
       "    </tr>\n",
       "    <tr>\n",
       "      <th>5/19/09</th>\n",
       "      <td>0.033571</td>\n",
       "      <td>0.004493</td>\n",
       "      <td>0.004672</td>\n",
       "      <td>0.010417</td>\n",
       "      <td>-0.028777</td>\n",
       "      <td>0.011407</td>\n",
       "      <td>-0.024444</td>\n",
       "    </tr>\n",
       "    <tr>\n",
       "      <th>5/18/09</th>\n",
       "      <td>0.056435</td>\n",
       "      <td>-0.008307</td>\n",
       "      <td>-0.015742</td>\n",
       "      <td>-0.035052</td>\n",
       "      <td>-0.019048</td>\n",
       "      <td>-0.008463</td>\n",
       "      <td>-0.056948</td>\n",
       "    </tr>\n",
       "    <tr>\n",
       "      <th>5/15/09</th>\n",
       "      <td>-0.062260</td>\n",
       "      <td>-0.021263</td>\n",
       "      <td>-0.037802</td>\n",
       "      <td>-0.094017</td>\n",
       "      <td>-0.057174</td>\n",
       "      <td>-0.050241</td>\n",
       "      <td>-0.031401</td>\n",
       "    </tr>\n",
       "    <tr>\n",
       "      <th>5/14/09</th>\n",
       "      <td>0.005328</td>\n",
       "      <td>0.023041</td>\n",
       "      <td>0.020023</td>\n",
       "      <td>0.073113</td>\n",
       "      <td>-0.025172</td>\n",
       "      <td>0.027954</td>\n",
       "      <td>0.057357</td>\n",
       "    </tr>\n",
       "  </tbody>\n",
       "</table>\n",
       "<p>2517 rows × 7 columns</p>\n",
       "</div>"
      ],
      "text/plain": [
       "               HD      INTC       JNJ        MU      NVDA       TSM       AMD\n",
       "date                                                                         \n",
       "5/14/19       NaN       NaN       NaN       NaN       NaN       NaN       NaN\n",
       "5/13/19 -0.006680 -0.009077 -0.007167 -0.029343 -0.022155 -0.023350 -0.039531\n",
       "5/10/19  0.022276  0.032172  0.010979  0.041734  0.065447  0.044889  0.065549\n",
       "5/9/19   0.000000  0.009091 -0.017554  0.008475  0.008115  0.009806 -0.026824\n",
       "5/8/19   0.003032  0.056199 -0.000303  0.012223  0.021917  0.010405 -0.004410\n",
       "...           ...       ...       ...       ...       ...       ...       ...\n",
       "5/20/09  0.041066  0.026350  0.014214  0.048035  0.006205  0.010571  0.036866\n",
       "5/19/09  0.033571  0.004493  0.004672  0.010417 -0.028777  0.011407 -0.024444\n",
       "5/18/09  0.056435 -0.008307 -0.015742 -0.035052 -0.019048 -0.008463 -0.056948\n",
       "5/15/09 -0.062260 -0.021263 -0.037802 -0.094017 -0.057174 -0.050241 -0.031401\n",
       "5/14/09  0.005328  0.023041  0.020023  0.073113 -0.025172  0.027954  0.057357\n",
       "\n",
       "[2517 rows x 7 columns]"
      ]
     },
     "execution_count": 31,
     "metadata": {},
     "output_type": "execute_result"
    }
   ],
   "source": [
    "stonks_df.pct_change()"
   ]
  },
  {
   "cell_type": "code",
   "execution_count": null,
   "id": "5b7ec5fc-410e-4398-9bc0-96db0f4da303",
   "metadata": {},
   "outputs": [],
   "source": []
  },
  {
   "cell_type": "code",
   "execution_count": 32,
   "id": "c47f14c3-2a70-4ee8-acbf-1ffcf3c3d11c",
   "metadata": {},
   "outputs": [],
   "source": [
    "correlation = stonks_df.pct_change().corr()"
   ]
  },
  {
   "cell_type": "code",
   "execution_count": 33,
   "id": "c0393f44-562c-4fac-b4f2-0c450ac0364e",
   "metadata": {},
   "outputs": [
    {
     "data": {
      "text/html": [
       "<div>\n",
       "<style scoped>\n",
       "    .dataframe tbody tr th:only-of-type {\n",
       "        vertical-align: middle;\n",
       "    }\n",
       "\n",
       "    .dataframe tbody tr th {\n",
       "        vertical-align: top;\n",
       "    }\n",
       "\n",
       "    .dataframe thead th {\n",
       "        text-align: right;\n",
       "    }\n",
       "</style>\n",
       "<table border=\"1\" class=\"dataframe\">\n",
       "  <thead>\n",
       "    <tr style=\"text-align: right;\">\n",
       "      <th></th>\n",
       "      <th>HD</th>\n",
       "      <th>INTC</th>\n",
       "      <th>JNJ</th>\n",
       "      <th>MU</th>\n",
       "      <th>NVDA</th>\n",
       "      <th>TSM</th>\n",
       "      <th>AMD</th>\n",
       "    </tr>\n",
       "  </thead>\n",
       "  <tbody>\n",
       "    <tr>\n",
       "      <th>HD</th>\n",
       "      <td>1.000000</td>\n",
       "      <td>0.429047</td>\n",
       "      <td>0.329386</td>\n",
       "      <td>0.375932</td>\n",
       "      <td>0.360918</td>\n",
       "      <td>0.393293</td>\n",
       "      <td>0.294653</td>\n",
       "    </tr>\n",
       "    <tr>\n",
       "      <th>INTC</th>\n",
       "      <td>0.429047</td>\n",
       "      <td>1.000000</td>\n",
       "      <td>0.318188</td>\n",
       "      <td>0.511066</td>\n",
       "      <td>0.483262</td>\n",
       "      <td>0.500741</td>\n",
       "      <td>0.385877</td>\n",
       "    </tr>\n",
       "    <tr>\n",
       "      <th>JNJ</th>\n",
       "      <td>0.329386</td>\n",
       "      <td>0.318188</td>\n",
       "      <td>1.000000</td>\n",
       "      <td>0.337060</td>\n",
       "      <td>0.257717</td>\n",
       "      <td>0.317493</td>\n",
       "      <td>0.254498</td>\n",
       "    </tr>\n",
       "    <tr>\n",
       "      <th>MU</th>\n",
       "      <td>0.375932</td>\n",
       "      <td>0.511066</td>\n",
       "      <td>0.337060</td>\n",
       "      <td>1.000000</td>\n",
       "      <td>0.517198</td>\n",
       "      <td>0.477247</td>\n",
       "      <td>0.438329</td>\n",
       "    </tr>\n",
       "    <tr>\n",
       "      <th>NVDA</th>\n",
       "      <td>0.360918</td>\n",
       "      <td>0.483262</td>\n",
       "      <td>0.257717</td>\n",
       "      <td>0.517198</td>\n",
       "      <td>1.000000</td>\n",
       "      <td>0.472496</td>\n",
       "      <td>0.471212</td>\n",
       "    </tr>\n",
       "  </tbody>\n",
       "</table>\n",
       "</div>"
      ],
      "text/plain": [
       "            HD      INTC       JNJ        MU      NVDA       TSM       AMD\n",
       "HD    1.000000  0.429047  0.329386  0.375932  0.360918  0.393293  0.294653\n",
       "INTC  0.429047  1.000000  0.318188  0.511066  0.483262  0.500741  0.385877\n",
       "JNJ   0.329386  0.318188  1.000000  0.337060  0.257717  0.317493  0.254498\n",
       "MU    0.375932  0.511066  0.337060  1.000000  0.517198  0.477247  0.438329\n",
       "NVDA  0.360918  0.483262  0.257717  0.517198  1.000000  0.472496  0.471212"
      ]
     },
     "execution_count": 33,
     "metadata": {},
     "output_type": "execute_result"
    }
   ],
   "source": [
    "correlation.head()"
   ]
  },
  {
   "cell_type": "code",
   "execution_count": 37,
   "id": "d47ef167-1975-4c38-a870-71928dcfc39b",
   "metadata": {},
   "outputs": [
    {
     "data": {
      "text/plain": [
       "<AxesSubplot:>"
      ]
     },
     "execution_count": 37,
     "metadata": {},
     "output_type": "execute_result"
    },
    {
     "data": {
      "image/png": "[encoded data removed]",
      "text/plain": [
       "<Figure size 432x288 with 2 Axes>"
      ]
     },
     "metadata": {
      "needs_background": "light"
     },
     "output_type": "display_data"
    }
   ],
   "source": [
    "sns.heatmap(correlation, annot=True, vmin=-1, vmax=1)"
   ]
  },
  {
   "cell_type": "code",
   "execution_count": null,
   "id": "e95c5391-9448-4c43-996a-1ac82a9d8706",
   "metadata": {},
   "outputs": [],
   "source": []
  },
  {
   "cell_type": "code",
   "execution_count": 35,
   "id": "d2e8fb21-ea28-4405-9bce-f7837a09ee90",
   "metadata": {},
   "outputs": [
    {
     "data": {
      "text/plain": [
       "'AMD'"
      ]
     },
     "execution_count": 35,
     "metadata": {},
     "output_type": "execute_result"
    }
   ],
   "source": [
    "correlation[\"JNJ\"].idxmin()"
   ]
  },
  {
   "cell_type": "code",
   "execution_count": 36,
   "id": "e34ccb84-8e88-46fb-8ab4-384cf6e7aa6c",
   "metadata": {},
   "outputs": [
    {
     "data": {
      "text/plain": [
       "'AMD'"
      ]
     },
     "execution_count": 36,
     "metadata": {},
     "output_type": "execute_result"
    }
   ],
   "source": [
    "correlation[\"HD\"].idxmin()"
   ]
  },
  {
   "cell_type": "code",
   "execution_count": null,
   "id": "8e624b85-0856-435d-b110-090abf3a878c",
   "metadata": {},
   "outputs": [],
   "source": []
  }
 ],
 "metadata": {
  "kernelspec": {
   "display_name": "Python 3",
   "language": "python",
   "name": "python3"
  },
  "language_info": {
   "codemirror_mode": {
    "name": "ipython",
    "version": 3
   },
   "file_extension": ".py",
   "mimetype": "text/x-python",
   "name": "python",
   "nbconvert_exporter": "python",
   "pygments_lexer": "ipython3",
   "version": "3.7.10"
  }
 },
 "nbformat": 4,
 "nbformat_minor": 5
}
