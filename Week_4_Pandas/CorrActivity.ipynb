{
 "cells": [
  {
   "cell_type": "code",
   "execution_count": 2,
   "id": "f364664f-7c32-482b-ab79-a344a97c7c54",
   "metadata": {},
   "outputs": [],
   "source": [
    "import pandas as pd\n",
    "from pathlib import Path\n",
    "import seaborn as sns\n",
    "%matplotlib inline"
   ]
  },
  {
   "cell_type": "code",
   "execution_count": 3,
   "id": "d686a50d-12c8-4455-9def-96c984b1eed2",
   "metadata": {},
   "outputs": [],
   "source": [
    "hd=pd.read_csv(\"HD.csv\", index_col=\"date\")\n",
    "intc=pd.read_csv(\"INTC.csv\", index_col=\"date\")\n",
    "jnj=pd.read_csv(\"JNJ.csv\", index_col=\"date\")\n",
    "mu=pd.read_csv(\"MU.csv\", index_col=\"date\")\n",
    "nvda=pd.read_csv(\"NVDA.csv\", index_col=\"date\")\n",
    "tsm=pd.read_csv(\"TSM.csv\", index_col=\"date\")\n",
    "amd=pd.read_csv(\"AMD.csv\", index_col=\"date\")"
   ]
  },
  {
   "cell_type": "code",
   "execution_count": 4,
   "id": "7eb32958-4522-4ef5-8913-6ee9d96834b0",
   "metadata": {},
   "outputs": [],
   "source": [
    "stonks_df = pd.concat([hd, intc, jnj, mu, nvda, tsm, amd], axis=\"columns\", join=\"inner\")"
   ]
  },
  {
   "cell_type": "code",
   "execution_count": 5,
   "id": "984c7d03-4d38-4e57-9e62-b15f7f4394ea",
   "metadata": {},
   "outputs": [],
   "source": [
    "def minmaxcorr (stonks):\n",
    "    correlation= stonks_df.pct_change().corr()\n",
    "    minc=correlation[stonks].idxmin()\n",
    "    maxc=correlation[stonks]\n",
    "    print(f\"Min Correlation:      {minc}\")\n",
    "    print(f\"Max Correlation:      {maxc}\")"
   ]
  },
  {
   "cell_type": "code",
   "execution_count": 6,
   "id": "f1aac4df-9919-4b1b-937c-798df3dcb1fd",
   "metadata": {},
   "outputs": [
    {
     "data": {
      "text/html": [
       "<div>\n",
       "<style scoped>\n",
       "    .dataframe tbody tr th:only-of-type {\n",
       "        vertical-align: middle;\n",
       "    }\n",
       "\n",
       "    .dataframe tbody tr th {\n",
       "        vertical-align: top;\n",
       "    }\n",
       "\n",
       "    .dataframe thead th {\n",
       "        text-align: right;\n",
       "    }\n",
       "</style>\n",
       "<table border=\"1\" class=\"dataframe\">\n",
       "  <thead>\n",
       "    <tr style=\"text-align: right;\">\n",
       "      <th></th>\n",
       "      <th>HD</th>\n",
       "      <th>INTC</th>\n",
       "      <th>JNJ</th>\n",
       "      <th>MU</th>\n",
       "      <th>NVDA</th>\n",
       "      <th>TSM</th>\n",
       "      <th>AMD</th>\n",
       "    </tr>\n",
       "    <tr>\n",
       "      <th>date</th>\n",
       "      <th></th>\n",
       "      <th></th>\n",
       "      <th></th>\n",
       "      <th></th>\n",
       "      <th></th>\n",
       "      <th></th>\n",
       "      <th></th>\n",
       "    </tr>\n",
       "  </thead>\n",
       "  <tbody>\n",
       "  </tbody>\n",
       "</table>\n",
       "</div>"
      ],
      "text/plain": [
       "Empty DataFrame\n",
       "Columns: [HD, INTC, JNJ, MU, NVDA, TSM, AMD]\n",
       "Index: []"
      ]
     },
     "execution_count": 6,
     "metadata": {},
     "output_type": "execute_result"
    }
   ],
   "source": [
    "stonks_df.pct_change()"
   ]
  },
  {
   "cell_type": "code",
   "execution_count": null,
   "id": "5b7ec5fc-410e-4398-9bc0-96db0f4da303",
   "metadata": {},
   "outputs": [],
   "source": []
  },
  {
   "cell_type": "code",
   "execution_count": 7,
   "id": "c47f14c3-2a70-4ee8-acbf-1ffcf3c3d11c",
   "metadata": {},
   "outputs": [],
   "source": [
    "correlation = stonks_df.pct_change().corr()"
   ]
  },
  {
   "cell_type": "code",
   "execution_count": 8,
   "id": "c0393f44-562c-4fac-b4f2-0c450ac0364e",
   "metadata": {},
   "outputs": [
    {
     "data": {
      "text/html": [
       "<div>\n",
       "<style scoped>\n",
       "    .dataframe tbody tr th:only-of-type {\n",
       "        vertical-align: middle;\n",
       "    }\n",
       "\n",
       "    .dataframe tbody tr th {\n",
       "        vertical-align: top;\n",
       "    }\n",
       "\n",
       "    .dataframe thead th {\n",
       "        text-align: right;\n",
       "    }\n",
       "</style>\n",
       "<table border=\"1\" class=\"dataframe\">\n",
       "  <thead>\n",
       "    <tr style=\"text-align: right;\">\n",
       "      <th></th>\n",
       "      <th>HD</th>\n",
       "      <th>INTC</th>\n",
       "      <th>JNJ</th>\n",
       "      <th>MU</th>\n",
       "      <th>NVDA</th>\n",
       "      <th>TSM</th>\n",
       "      <th>AMD</th>\n",
       "    </tr>\n",
       "  </thead>\n",
       "  <tbody>\n",
       "    <tr>\n",
       "      <th>HD</th>\n",
       "      <td>NaN</td>\n",
       "      <td>NaN</td>\n",
       "      <td>NaN</td>\n",
       "      <td>NaN</td>\n",
       "      <td>NaN</td>\n",
       "      <td>NaN</td>\n",
       "      <td>NaN</td>\n",
       "    </tr>\n",
       "    <tr>\n",
       "      <th>INTC</th>\n",
       "      <td>NaN</td>\n",
       "      <td>NaN</td>\n",
       "      <td>NaN</td>\n",
       "      <td>NaN</td>\n",
       "      <td>NaN</td>\n",
       "      <td>NaN</td>\n",
       "      <td>NaN</td>\n",
       "    </tr>\n",
       "    <tr>\n",
       "      <th>JNJ</th>\n",
       "      <td>NaN</td>\n",
       "      <td>NaN</td>\n",
       "      <td>NaN</td>\n",
       "      <td>NaN</td>\n",
       "      <td>NaN</td>\n",
       "      <td>NaN</td>\n",
       "      <td>NaN</td>\n",
       "    </tr>\n",
       "    <tr>\n",
       "      <th>MU</th>\n",
       "      <td>NaN</td>\n",
       "      <td>NaN</td>\n",
       "      <td>NaN</td>\n",
       "      <td>NaN</td>\n",
       "      <td>NaN</td>\n",
       "      <td>NaN</td>\n",
       "      <td>NaN</td>\n",
       "    </tr>\n",
       "    <tr>\n",
       "      <th>NVDA</th>\n",
       "      <td>NaN</td>\n",
       "      <td>NaN</td>\n",
       "      <td>NaN</td>\n",
       "      <td>NaN</td>\n",
       "      <td>NaN</td>\n",
       "      <td>NaN</td>\n",
       "      <td>NaN</td>\n",
       "    </tr>\n",
       "  </tbody>\n",
       "</table>\n",
       "</div>"
      ],
      "text/plain": [
       "      HD  INTC  JNJ  MU  NVDA  TSM  AMD\n",
       "HD   NaN   NaN  NaN NaN   NaN  NaN  NaN\n",
       "INTC NaN   NaN  NaN NaN   NaN  NaN  NaN\n",
       "JNJ  NaN   NaN  NaN NaN   NaN  NaN  NaN\n",
       "MU   NaN   NaN  NaN NaN   NaN  NaN  NaN\n",
       "NVDA NaN   NaN  NaN NaN   NaN  NaN  NaN"
      ]
     },
     "execution_count": 8,
     "metadata": {},
     "output_type": "execute_result"
    }
   ],
   "source": [
    "correlation.head()"
   ]
  },
  {
   "cell_type": "code",
   "execution_count": 9,
   "id": "d47ef167-1975-4c38-a870-71928dcfc39b",
   "metadata": {},
   "outputs": [
    {
     "data": {
      "text/plain": [
       "<AxesSubplot:>"
      ]
     },
     "execution_count": 9,
     "metadata": {},
     "output_type": "execute_result"
    },
    {
     "data": {
      "image/png": "[encoded data removed]",
      "text/plain": [
       "<Figure size 432x288 with 2 Axes>"
      ]
     },
     "metadata": {
      "needs_background": "light"
     },
     "output_type": "display_data"
    }
   ],
   "source": [
    "sns.heatmap(correlation, annot=True, vmin=-1, vmax=1)"
   ]
  },
  {
   "cell_type": "code",
   "execution_count": null,
   "id": "e95c5391-9448-4c43-996a-1ac82a9d8706",
   "metadata": {},
   "outputs": [],
   "source": []
  },
  {
   "cell_type": "code",
   "execution_count": 35,
   "id": "d2e8fb21-ea28-4405-9bce-f7837a09ee90",
   "metadata": {},
   "outputs": [
    {
     "data": {
      "text/plain": [
       "'AMD'"
      ]
     },
     "execution_count": 35,
     "metadata": {},
     "output_type": "execute_result"
    }
   ],
   "source": [
    "correlation[\"JNJ\"].idxmin()"
   ]
  },
  {
   "cell_type": "code",
   "execution_count": 36,
   "id": "e34ccb84-8e88-46fb-8ab4-384cf6e7aa6c",
   "metadata": {},
   "outputs": [
    {
     "data": {
      "text/plain": [
       "'AMD'"
      ]
     },
     "execution_count": 36,
     "metadata": {},
     "output_type": "execute_result"
    }
   ],
   "source": [
    "correlation[\"HD\"].idxmin()"
   ]
  },
  {
   "cell_type": "code",
   "execution_count": 68,
   "id": "8e624b85-0856-435d-b110-090abf3a878c",
   "metadata": {},
   "outputs": [
    {
     "name": "stdout",
     "output_type": "stream",
     "text": [
      "Min Correlation:      AMD\n",
      "Max Correlation:      JNJ    1.000000\n",
      "MU     0.337060\n",
      "HD     0.329386\n",
      "Name: JNJ, dtype: float64\n"
     ]
    }
   ],
   "source": [
    "minmaxcorr(\"JNJ\")"
   ]
  },
  {
   "cell_type": "code",
   "execution_count": null,
   "id": "1f0058a0-f931-4d89-8c52-623745f13bbb",
   "metadata": {},
   "outputs": [],
   "source": []
  },
  {
   "cell_type": "code",
   "execution_count": null,
   "id": "33e60e4d-5661-453c-9be9-4cc8ab16540a",
   "metadata": {},
   "outputs": [],
   "source": []
  }
 ],
 "metadata": {
  "kernelspec": {
   "display_name": "Python 3",
   "language": "python",
   "name": "python3"
  },
  "language_info": {
   "codemirror_mode": {
    "name": "ipython",
    "version": 3
   },
   "file_extension": ".py",
   "mimetype": "text/x-python",
   "name": "python",
   "nbconvert_exporter": "python",
   "pygments_lexer": "ipython3",
   "version": "3.7.10"
  }
 },
 "nbformat": 4,
 "nbformat_minor": 5
}
