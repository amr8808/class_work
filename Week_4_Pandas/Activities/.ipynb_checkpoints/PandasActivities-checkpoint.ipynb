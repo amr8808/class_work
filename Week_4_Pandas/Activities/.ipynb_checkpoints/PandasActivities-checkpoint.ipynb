{
 "cells": [
  {
   "cell_type": "markdown",
   "id": "c1477bf4-0ec0-4cff-be30-ed57aa550852",
   "metadata": {},
   "source": [
    "# Activities"
   ]
  },
  {
   "cell_type": "markdown",
   "id": "4ed94dbb-e580-4737-9027-1e00f3327fa6",
   "metadata": {},
   "source": [
    "#### CSV"
   ]
  },
  {
   "cell_type": "code",
   "execution_count": null,
   "id": "2e877473-2842-4357-9a2d-0aed583647ff",
   "metadata": {},
   "outputs": [],
   "source": [
    "import pandas as pd"
   ]
  },
  {
   "cell_type": "code",
   "execution_count": null,
   "id": "eb6e3d80-1072-4fcd-885f-f1c621517860",
   "metadata": {},
   "outputs": [],
   "source": [
    "from pathlib import Path"
   ]
  },
  {
   "cell_type": "code",
   "execution_count": null,
   "id": "0e9b4a77-5c96-43a1-8bff-581e5edfd66b",
   "metadata": {},
   "outputs": [],
   "source": [
    "csvpath = Path(\"../Activities/01-csv-01/Resources/people.csv\")"
   ]
  },
  {
   "cell_type": "code",
   "execution_count": null,
   "id": "4e681faa-93a4-42e1-82fe-f74eb2ea1d6c",
   "metadata": {},
   "outputs": [],
   "source": [
    "people_df = pd.read_csv(csvpath)"
   ]
  },
  {
   "cell_type": "code",
   "execution_count": null,
   "id": "28a1c6cc-de86-4f77-b855-184dadfbc7fa",
   "metadata": {
    "tags": []
   },
   "outputs": [],
   "source": [
    "people_df.head()"
   ]
  },
  {
   "cell_type": "code",
   "execution_count": null,
   "id": "5085f191-8fbd-42a1-a325-28121130f89d",
   "metadata": {
    "tags": []
   },
   "outputs": [],
   "source": [
    "people_df.describe(include='all')"
   ]
  },
  {
   "cell_type": "markdown",
   "id": "80a63826-53f8-45bb-83dd-4605bc08628e",
   "metadata": {
    "tags": []
   },
   "source": [
    "#### Columns"
   ]
  },
  {
   "cell_type": "code",
   "execution_count": null,
   "id": "3aa44937-215b-42f8-b71d-831905188fee",
   "metadata": {},
   "outputs": [],
   "source": [
    "import pandas as pd\n",
    "from pathlib import Path\n",
    "import numpy as np"
   ]
  },
  {
   "cell_type": "code",
   "execution_count": null,
   "id": "08498ad3-8eef-427f-b04b-2490d8908f4c",
   "metadata": {},
   "outputs": [],
   "source": [
    "csvpath = Path(\"../Activities/01-csv-01/Resources/people.csv\")\n",
    "people_df = pd.read_csv(csvpath)"
   ]
  },
  {
   "cell_type": "code",
   "execution_count": null,
   "id": "5e09b049-a322-4ef9-bc45-478f85543a06",
   "metadata": {},
   "outputs": [],
   "source": [
    "people_df = pd.read_csv(csvpath)"
   ]
  },
  {
   "cell_type": "code",
   "execution_count": null,
   "id": "f986bd0c-f287-4a5a-b50f-c380b5420463",
   "metadata": {},
   "outputs": [],
   "source": [
    "people_df.columns"
   ]
  },
  {
   "cell_type": "code",
   "execution_count": null,
   "id": "4c2ef017-963c-4b79-8def-23e55b948539",
   "metadata": {},
   "outputs": [],
   "source": [
    "people_df.dtypes"
   ]
  },
  {
   "cell_type": "code",
   "execution_count": null,
   "id": "8e91faae-b059-4b98-ae2c-88f4f0254b4e",
   "metadata": {},
   "outputs": [],
   "source": [
    "columns = [\"Person_ID\", \"First_Name\", \"Last_Name\", \"Email\", \"Gender\", \"University\", \"Occupation\", \"Salary\"] #create column names"
   ]
  },
  {
   "cell_type": "code",
   "execution_count": null,
   "id": "43d61e6f-0446-4133-a18e-4cd40cd902d3",
   "metadata": {},
   "outputs": [],
   "source": [
    "people_df.columns = columns #assign names to columns"
   ]
  },
  {
   "cell_type": "code",
   "execution_count": null,
   "id": "74f20f53-98e7-44e2-998c-cd01335882ab",
   "metadata": {},
   "outputs": [],
   "source": [
    "people_df.head()"
   ]
  },
  {
   "cell_type": "code",
   "execution_count": null,
   "id": "22698c57-6681-476d-b634-c36a6e9f8cde",
   "metadata": {},
   "outputs": [],
   "source": [
    "# Use the `rename` function and set the `columns` parameter to a dictionary of new column names\n",
    "people_df = people_df.rename(columns={\n",
    "    \"id\": \"Person_ID\",\n",
    "    \"first_name\": \"First_Name\",\n",
    "    \"last_name\": \"Last_Name\", \n",
    "    \"email\": \"Email\",\n",
    "    \"gender\": \"Gender\",\n",
    "    \"uni_grad\": \"University\",\n",
    "    \"job_title\": \"Occupation\",\n",
    "    \"Income\": \"Salary\"\n",
    "})\n",
    "\n",
    "people_df.head()"
   ]
  },
  {
   "cell_type": "code",
   "execution_count": null,
   "id": "7ace5a24-3c73-45cf-9cca-d2406b6da5f1",
   "metadata": {},
   "outputs": [],
   "source": [
    "people_df[[\"Person_ID\", \"Last_Name\", \"First_Name\", \"Gender\", \"University\", \"Occupation\", \"Salary\", \"Email\"]]"
   ]
  },
  {
   "cell_type": "code",
   "execution_count": null,
   "id": "5ef9290d-5d35-47a6-8a19-3bebd3434097",
   "metadata": {},
   "outputs": [],
   "source": [
    "age = np.random.randint(low=22, high= 65, size=1000)\n",
    "age_copy = np.random.randint(low=22, high= 65, size=1000)"
   ]
  },
  {
   "cell_type": "code",
   "execution_count": null,
   "id": "f0c9d0b1-07f1-4888-81fd-eb22901de737",
   "metadata": {},
   "outputs": [],
   "source": [
    "people_df[\"Age\"]=age\n",
    "people_df[\"Age_Copy\"]=age_copy"
   ]
  },
  {
   "cell_type": "code",
   "execution_count": null,
   "id": "38c49a22-e0b5-490b-8735-96113d99feda",
   "metadata": {},
   "outputs": [],
   "source": [
    "people_df.head()"
   ]
  },
  {
   "cell_type": "code",
   "execution_count": null,
   "id": "9d04593f-f4a1-4787-9899-fef49682ec3c",
   "metadata": {},
   "outputs": [],
   "source": [
    "newpeople = people_df"
   ]
  },
  {
   "cell_type": "code",
   "execution_count": null,
   "id": "68126687-06ae-4250-be9f-7e97f68dda93",
   "metadata": {},
   "outputs": [],
   "source": [
    "newpeople.to_csv('newpeople.csv')"
   ]
  },
  {
   "cell_type": "markdown",
   "id": "9431266a-d088-404f-981c-9665d2507ea6",
   "metadata": {},
   "source": [
    "#### Filtering Strings"
   ]
  },
  {
   "cell_type": "code",
   "execution_count": 3,
   "id": "89673e50-81a9-41fa-b306-9ffaa8db6ac7",
   "metadata": {},
   "outputs": [
    {
     "data": {
      "text/html": [
       "<div>\n",
       "<style scoped>\n",
       "    .dataframe tbody tr th:only-of-type {\n",
       "        vertical-align: middle;\n",
       "    }\n",
       "\n",
       "    .dataframe tbody tr th {\n",
       "        vertical-align: top;\n",
       "    }\n",
       "\n",
       "    .dataframe thead th {\n",
       "        text-align: right;\n",
       "    }\n",
       "</style>\n",
       "<table border=\"1\" class=\"dataframe\">\n",
       "  <thead>\n",
       "    <tr style=\"text-align: right;\">\n",
       "      <th></th>\n",
       "      <th>sepal_length</th>\n",
       "      <th>sepal_width</th>\n",
       "      <th>petal_length</th>\n",
       "      <th>petal_width</th>\n",
       "      <th>species</th>\n",
       "    </tr>\n",
       "  </thead>\n",
       "  <tbody>\n",
       "    <tr>\n",
       "      <th>0</th>\n",
       "      <td>5.1</td>\n",
       "      <td>3.5</td>\n",
       "      <td>1.4</td>\n",
       "      <td>0.2</td>\n",
       "      <td>setosa</td>\n",
       "    </tr>\n",
       "    <tr>\n",
       "      <th>1</th>\n",
       "      <td>4.9</td>\n",
       "      <td>3.0</td>\n",
       "      <td>1.4</td>\n",
       "      <td>0.2</td>\n",
       "      <td>setosa</td>\n",
       "    </tr>\n",
       "    <tr>\n",
       "      <th>2</th>\n",
       "      <td>4.7</td>\n",
       "      <td>3.2</td>\n",
       "      <td>1.3</td>\n",
       "      <td>0.2</td>\n",
       "      <td>setosa</td>\n",
       "    </tr>\n",
       "    <tr>\n",
       "      <th>3</th>\n",
       "      <td>4.6</td>\n",
       "      <td>3.1</td>\n",
       "      <td>1.5</td>\n",
       "      <td>0.2</td>\n",
       "      <td>setosa</td>\n",
       "    </tr>\n",
       "    <tr>\n",
       "      <th>4</th>\n",
       "      <td>5.0</td>\n",
       "      <td>3.6</td>\n",
       "      <td>1.4</td>\n",
       "      <td>0.2</td>\n",
       "      <td>setosa</td>\n",
       "    </tr>\n",
       "  </tbody>\n",
       "</table>\n",
       "</div>"
      ],
      "text/plain": [
       "   sepal_length  sepal_width  petal_length  petal_width species\n",
       "0           5.1          3.5           1.4          0.2  setosa\n",
       "1           4.9          3.0           1.4          0.2  setosa\n",
       "2           4.7          3.2           1.3          0.2  setosa\n",
       "3           4.6          3.1           1.5          0.2  setosa\n",
       "4           5.0          3.6           1.4          0.2  setosa"
      ]
     },
     "execution_count": 3,
     "metadata": {},
     "output_type": "execute_result"
    }
   ],
   "source": [
    "import pandas as pd\n",
    "df = pd.read_csv(\"iris.csv\")\n",
    "df.head()"
   ]
  },
  {
   "cell_type": "code",
   "execution_count": 4,
   "id": "87b84e0b-7801-486c-8deb-4981deddf2e9",
   "metadata": {},
   "outputs": [
    {
     "data": {
      "text/plain": [
       "0         setosa\n",
       "1         setosa\n",
       "2         setosa\n",
       "3         setosa\n",
       "4         setosa\n",
       "         ...    \n",
       "145    virginica\n",
       "146    virginica\n",
       "147    virginica\n",
       "148    virginica\n",
       "149    virginica\n",
       "Name: species, Length: 150, dtype: object"
      ]
     },
     "execution_count": 4,
     "metadata": {},
     "output_type": "execute_result"
    }
   ],
   "source": [
    "df[\"species\"] #select column in df using []"
   ]
  },
  {
   "cell_type": "code",
   "execution_count": 5,
   "id": "d048e58d-3a42-4a50-8c94-31293cc73814",
   "metadata": {},
   "outputs": [
    {
     "data": {
      "text/plain": [
       "0      False\n",
       "1      False\n",
       "2      False\n",
       "3      False\n",
       "4      False\n",
       "       ...  \n",
       "145     True\n",
       "146     True\n",
       "147     True\n",
       "148     True\n",
       "149     True\n",
       "Name: species, Length: 150, dtype: bool"
      ]
     },
     "execution_count": 5,
     "metadata": {},
     "output_type": "execute_result"
    }
   ],
   "source": [
    "df['species']=='virginica' #perform conditional to return t/f if column has the value"
   ]
  },
  {
   "cell_type": "code",
   "execution_count": 6,
   "id": "47c2c930-3b9c-4e76-9914-743d6ab57878",
   "metadata": {},
   "outputs": [
    {
     "data": {
      "text/html": [
       "<div>\n",
       "<style scoped>\n",
       "    .dataframe tbody tr th:only-of-type {\n",
       "        vertical-align: middle;\n",
       "    }\n",
       "\n",
       "    .dataframe tbody tr th {\n",
       "        vertical-align: top;\n",
       "    }\n",
       "\n",
       "    .dataframe thead th {\n",
       "        text-align: right;\n",
       "    }\n",
       "</style>\n",
       "<table border=\"1\" class=\"dataframe\">\n",
       "  <thead>\n",
       "    <tr style=\"text-align: right;\">\n",
       "      <th></th>\n",
       "      <th>sepal_length</th>\n",
       "      <th>sepal_width</th>\n",
       "      <th>petal_length</th>\n",
       "      <th>petal_width</th>\n",
       "      <th>species</th>\n",
       "    </tr>\n",
       "  </thead>\n",
       "  <tbody>\n",
       "    <tr>\n",
       "      <th>100</th>\n",
       "      <td>6.3</td>\n",
       "      <td>3.3</td>\n",
       "      <td>6.0</td>\n",
       "      <td>2.5</td>\n",
       "      <td>virginica</td>\n",
       "    </tr>\n",
       "    <tr>\n",
       "      <th>101</th>\n",
       "      <td>5.8</td>\n",
       "      <td>2.7</td>\n",
       "      <td>5.1</td>\n",
       "      <td>1.9</td>\n",
       "      <td>virginica</td>\n",
       "    </tr>\n",
       "    <tr>\n",
       "      <th>102</th>\n",
       "      <td>7.1</td>\n",
       "      <td>3.0</td>\n",
       "      <td>5.9</td>\n",
       "      <td>2.1</td>\n",
       "      <td>virginica</td>\n",
       "    </tr>\n",
       "    <tr>\n",
       "      <th>103</th>\n",
       "      <td>6.3</td>\n",
       "      <td>2.9</td>\n",
       "      <td>5.6</td>\n",
       "      <td>1.8</td>\n",
       "      <td>virginica</td>\n",
       "    </tr>\n",
       "    <tr>\n",
       "      <th>104</th>\n",
       "      <td>6.5</td>\n",
       "      <td>3.0</td>\n",
       "      <td>5.8</td>\n",
       "      <td>2.2</td>\n",
       "      <td>virginica</td>\n",
       "    </tr>\n",
       "    <tr>\n",
       "      <th>105</th>\n",
       "      <td>7.6</td>\n",
       "      <td>3.0</td>\n",
       "      <td>6.6</td>\n",
       "      <td>2.1</td>\n",
       "      <td>virginica</td>\n",
       "    </tr>\n",
       "    <tr>\n",
       "      <th>106</th>\n",
       "      <td>4.9</td>\n",
       "      <td>2.5</td>\n",
       "      <td>4.5</td>\n",
       "      <td>1.7</td>\n",
       "      <td>virginica</td>\n",
       "    </tr>\n",
       "    <tr>\n",
       "      <th>107</th>\n",
       "      <td>7.3</td>\n",
       "      <td>2.9</td>\n",
       "      <td>6.3</td>\n",
       "      <td>1.8</td>\n",
       "      <td>virginica</td>\n",
       "    </tr>\n",
       "    <tr>\n",
       "      <th>108</th>\n",
       "      <td>6.7</td>\n",
       "      <td>2.5</td>\n",
       "      <td>5.8</td>\n",
       "      <td>1.8</td>\n",
       "      <td>virginica</td>\n",
       "    </tr>\n",
       "    <tr>\n",
       "      <th>109</th>\n",
       "      <td>7.2</td>\n",
       "      <td>3.6</td>\n",
       "      <td>6.1</td>\n",
       "      <td>2.5</td>\n",
       "      <td>virginica</td>\n",
       "    </tr>\n",
       "    <tr>\n",
       "      <th>110</th>\n",
       "      <td>6.5</td>\n",
       "      <td>3.2</td>\n",
       "      <td>5.1</td>\n",
       "      <td>2.0</td>\n",
       "      <td>virginica</td>\n",
       "    </tr>\n",
       "    <tr>\n",
       "      <th>111</th>\n",
       "      <td>6.4</td>\n",
       "      <td>2.7</td>\n",
       "      <td>5.3</td>\n",
       "      <td>1.9</td>\n",
       "      <td>virginica</td>\n",
       "    </tr>\n",
       "    <tr>\n",
       "      <th>112</th>\n",
       "      <td>6.8</td>\n",
       "      <td>3.0</td>\n",
       "      <td>5.5</td>\n",
       "      <td>2.1</td>\n",
       "      <td>virginica</td>\n",
       "    </tr>\n",
       "    <tr>\n",
       "      <th>113</th>\n",
       "      <td>5.7</td>\n",
       "      <td>2.5</td>\n",
       "      <td>5.0</td>\n",
       "      <td>2.0</td>\n",
       "      <td>virginica</td>\n",
       "    </tr>\n",
       "    <tr>\n",
       "      <th>114</th>\n",
       "      <td>5.8</td>\n",
       "      <td>2.8</td>\n",
       "      <td>5.1</td>\n",
       "      <td>2.4</td>\n",
       "      <td>virginica</td>\n",
       "    </tr>\n",
       "    <tr>\n",
       "      <th>115</th>\n",
       "      <td>6.4</td>\n",
       "      <td>3.2</td>\n",
       "      <td>5.3</td>\n",
       "      <td>2.3</td>\n",
       "      <td>virginica</td>\n",
       "    </tr>\n",
       "    <tr>\n",
       "      <th>116</th>\n",
       "      <td>6.5</td>\n",
       "      <td>3.0</td>\n",
       "      <td>5.5</td>\n",
       "      <td>1.8</td>\n",
       "      <td>virginica</td>\n",
       "    </tr>\n",
       "    <tr>\n",
       "      <th>117</th>\n",
       "      <td>7.7</td>\n",
       "      <td>3.8</td>\n",
       "      <td>6.7</td>\n",
       "      <td>2.2</td>\n",
       "      <td>virginica</td>\n",
       "    </tr>\n",
       "    <tr>\n",
       "      <th>118</th>\n",
       "      <td>7.7</td>\n",
       "      <td>2.6</td>\n",
       "      <td>6.9</td>\n",
       "      <td>2.3</td>\n",
       "      <td>virginica</td>\n",
       "    </tr>\n",
       "    <tr>\n",
       "      <th>119</th>\n",
       "      <td>6.0</td>\n",
       "      <td>2.2</td>\n",
       "      <td>5.0</td>\n",
       "      <td>1.5</td>\n",
       "      <td>virginica</td>\n",
       "    </tr>\n",
       "    <tr>\n",
       "      <th>120</th>\n",
       "      <td>6.9</td>\n",
       "      <td>3.2</td>\n",
       "      <td>5.7</td>\n",
       "      <td>2.3</td>\n",
       "      <td>virginica</td>\n",
       "    </tr>\n",
       "    <tr>\n",
       "      <th>121</th>\n",
       "      <td>5.6</td>\n",
       "      <td>2.8</td>\n",
       "      <td>4.9</td>\n",
       "      <td>2.0</td>\n",
       "      <td>virginica</td>\n",
       "    </tr>\n",
       "    <tr>\n",
       "      <th>122</th>\n",
       "      <td>7.7</td>\n",
       "      <td>2.8</td>\n",
       "      <td>6.7</td>\n",
       "      <td>2.0</td>\n",
       "      <td>virginica</td>\n",
       "    </tr>\n",
       "    <tr>\n",
       "      <th>123</th>\n",
       "      <td>6.3</td>\n",
       "      <td>2.7</td>\n",
       "      <td>4.9</td>\n",
       "      <td>1.8</td>\n",
       "      <td>virginica</td>\n",
       "    </tr>\n",
       "    <tr>\n",
       "      <th>124</th>\n",
       "      <td>6.7</td>\n",
       "      <td>3.3</td>\n",
       "      <td>5.7</td>\n",
       "      <td>2.1</td>\n",
       "      <td>virginica</td>\n",
       "    </tr>\n",
       "    <tr>\n",
       "      <th>125</th>\n",
       "      <td>7.2</td>\n",
       "      <td>3.2</td>\n",
       "      <td>6.0</td>\n",
       "      <td>1.8</td>\n",
       "      <td>virginica</td>\n",
       "    </tr>\n",
       "    <tr>\n",
       "      <th>126</th>\n",
       "      <td>6.2</td>\n",
       "      <td>2.8</td>\n",
       "      <td>4.8</td>\n",
       "      <td>1.8</td>\n",
       "      <td>virginica</td>\n",
       "    </tr>\n",
       "    <tr>\n",
       "      <th>127</th>\n",
       "      <td>6.1</td>\n",
       "      <td>3.0</td>\n",
       "      <td>4.9</td>\n",
       "      <td>1.8</td>\n",
       "      <td>virginica</td>\n",
       "    </tr>\n",
       "    <tr>\n",
       "      <th>128</th>\n",
       "      <td>6.4</td>\n",
       "      <td>2.8</td>\n",
       "      <td>5.6</td>\n",
       "      <td>2.1</td>\n",
       "      <td>virginica</td>\n",
       "    </tr>\n",
       "    <tr>\n",
       "      <th>129</th>\n",
       "      <td>7.2</td>\n",
       "      <td>3.0</td>\n",
       "      <td>5.8</td>\n",
       "      <td>1.6</td>\n",
       "      <td>virginica</td>\n",
       "    </tr>\n",
       "    <tr>\n",
       "      <th>130</th>\n",
       "      <td>7.4</td>\n",
       "      <td>2.8</td>\n",
       "      <td>6.1</td>\n",
       "      <td>1.9</td>\n",
       "      <td>virginica</td>\n",
       "    </tr>\n",
       "    <tr>\n",
       "      <th>131</th>\n",
       "      <td>7.9</td>\n",
       "      <td>3.8</td>\n",
       "      <td>6.4</td>\n",
       "      <td>2.0</td>\n",
       "      <td>virginica</td>\n",
       "    </tr>\n",
       "    <tr>\n",
       "      <th>132</th>\n",
       "      <td>6.4</td>\n",
       "      <td>2.8</td>\n",
       "      <td>5.6</td>\n",
       "      <td>2.2</td>\n",
       "      <td>virginica</td>\n",
       "    </tr>\n",
       "    <tr>\n",
       "      <th>133</th>\n",
       "      <td>6.3</td>\n",
       "      <td>2.8</td>\n",
       "      <td>5.1</td>\n",
       "      <td>1.5</td>\n",
       "      <td>virginica</td>\n",
       "    </tr>\n",
       "    <tr>\n",
       "      <th>134</th>\n",
       "      <td>6.1</td>\n",
       "      <td>2.6</td>\n",
       "      <td>5.6</td>\n",
       "      <td>1.4</td>\n",
       "      <td>virginica</td>\n",
       "    </tr>\n",
       "    <tr>\n",
       "      <th>135</th>\n",
       "      <td>7.7</td>\n",
       "      <td>3.0</td>\n",
       "      <td>6.1</td>\n",
       "      <td>2.3</td>\n",
       "      <td>virginica</td>\n",
       "    </tr>\n",
       "    <tr>\n",
       "      <th>136</th>\n",
       "      <td>6.3</td>\n",
       "      <td>3.4</td>\n",
       "      <td>5.6</td>\n",
       "      <td>2.4</td>\n",
       "      <td>virginica</td>\n",
       "    </tr>\n",
       "    <tr>\n",
       "      <th>137</th>\n",
       "      <td>6.4</td>\n",
       "      <td>3.1</td>\n",
       "      <td>5.5</td>\n",
       "      <td>1.8</td>\n",
       "      <td>virginica</td>\n",
       "    </tr>\n",
       "    <tr>\n",
       "      <th>138</th>\n",
       "      <td>6.0</td>\n",
       "      <td>3.0</td>\n",
       "      <td>4.8</td>\n",
       "      <td>1.8</td>\n",
       "      <td>virginica</td>\n",
       "    </tr>\n",
       "    <tr>\n",
       "      <th>139</th>\n",
       "      <td>6.9</td>\n",
       "      <td>3.1</td>\n",
       "      <td>5.4</td>\n",
       "      <td>2.1</td>\n",
       "      <td>virginica</td>\n",
       "    </tr>\n",
       "    <tr>\n",
       "      <th>140</th>\n",
       "      <td>6.7</td>\n",
       "      <td>3.1</td>\n",
       "      <td>5.6</td>\n",
       "      <td>2.4</td>\n",
       "      <td>virginica</td>\n",
       "    </tr>\n",
       "    <tr>\n",
       "      <th>141</th>\n",
       "      <td>6.9</td>\n",
       "      <td>3.1</td>\n",
       "      <td>5.1</td>\n",
       "      <td>2.3</td>\n",
       "      <td>virginica</td>\n",
       "    </tr>\n",
       "    <tr>\n",
       "      <th>142</th>\n",
       "      <td>5.8</td>\n",
       "      <td>2.7</td>\n",
       "      <td>5.1</td>\n",
       "      <td>1.9</td>\n",
       "      <td>virginica</td>\n",
       "    </tr>\n",
       "    <tr>\n",
       "      <th>143</th>\n",
       "      <td>6.8</td>\n",
       "      <td>3.2</td>\n",
       "      <td>5.9</td>\n",
       "      <td>2.3</td>\n",
       "      <td>virginica</td>\n",
       "    </tr>\n",
       "    <tr>\n",
       "      <th>144</th>\n",
       "      <td>6.7</td>\n",
       "      <td>3.3</td>\n",
       "      <td>5.7</td>\n",
       "      <td>2.5</td>\n",
       "      <td>virginica</td>\n",
       "    </tr>\n",
       "    <tr>\n",
       "      <th>145</th>\n",
       "      <td>6.7</td>\n",
       "      <td>3.0</td>\n",
       "      <td>5.2</td>\n",
       "      <td>2.3</td>\n",
       "      <td>virginica</td>\n",
       "    </tr>\n",
       "    <tr>\n",
       "      <th>146</th>\n",
       "      <td>6.3</td>\n",
       "      <td>2.5</td>\n",
       "      <td>5.0</td>\n",
       "      <td>1.9</td>\n",
       "      <td>virginica</td>\n",
       "    </tr>\n",
       "    <tr>\n",
       "      <th>147</th>\n",
       "      <td>6.5</td>\n",
       "      <td>3.0</td>\n",
       "      <td>5.2</td>\n",
       "      <td>2.0</td>\n",
       "      <td>virginica</td>\n",
       "    </tr>\n",
       "    <tr>\n",
       "      <th>148</th>\n",
       "      <td>6.2</td>\n",
       "      <td>3.4</td>\n",
       "      <td>5.4</td>\n",
       "      <td>2.3</td>\n",
       "      <td>virginica</td>\n",
       "    </tr>\n",
       "    <tr>\n",
       "      <th>149</th>\n",
       "      <td>5.9</td>\n",
       "      <td>3.0</td>\n",
       "      <td>5.1</td>\n",
       "      <td>1.8</td>\n",
       "      <td>virginica</td>\n",
       "    </tr>\n",
       "  </tbody>\n",
       "</table>\n",
       "</div>"
      ],
      "text/plain": [
       "     sepal_length  sepal_width  petal_length  petal_width    species\n",
       "100           6.3          3.3           6.0          2.5  virginica\n",
       "101           5.8          2.7           5.1          1.9  virginica\n",
       "102           7.1          3.0           5.9          2.1  virginica\n",
       "103           6.3          2.9           5.6          1.8  virginica\n",
       "104           6.5          3.0           5.8          2.2  virginica\n",
       "105           7.6          3.0           6.6          2.1  virginica\n",
       "106           4.9          2.5           4.5          1.7  virginica\n",
       "107           7.3          2.9           6.3          1.8  virginica\n",
       "108           6.7          2.5           5.8          1.8  virginica\n",
       "109           7.2          3.6           6.1          2.5  virginica\n",
       "110           6.5          3.2           5.1          2.0  virginica\n",
       "111           6.4          2.7           5.3          1.9  virginica\n",
       "112           6.8          3.0           5.5          2.1  virginica\n",
       "113           5.7          2.5           5.0          2.0  virginica\n",
       "114           5.8          2.8           5.1          2.4  virginica\n",
       "115           6.4          3.2           5.3          2.3  virginica\n",
       "116           6.5          3.0           5.5          1.8  virginica\n",
       "117           7.7          3.8           6.7          2.2  virginica\n",
       "118           7.7          2.6           6.9          2.3  virginica\n",
       "119           6.0          2.2           5.0          1.5  virginica\n",
       "120           6.9          3.2           5.7          2.3  virginica\n",
       "121           5.6          2.8           4.9          2.0  virginica\n",
       "122           7.7          2.8           6.7          2.0  virginica\n",
       "123           6.3          2.7           4.9          1.8  virginica\n",
       "124           6.7          3.3           5.7          2.1  virginica\n",
       "125           7.2          3.2           6.0          1.8  virginica\n",
       "126           6.2          2.8           4.8          1.8  virginica\n",
       "127           6.1          3.0           4.9          1.8  virginica\n",
       "128           6.4          2.8           5.6          2.1  virginica\n",
       "129           7.2          3.0           5.8          1.6  virginica\n",
       "130           7.4          2.8           6.1          1.9  virginica\n",
       "131           7.9          3.8           6.4          2.0  virginica\n",
       "132           6.4          2.8           5.6          2.2  virginica\n",
       "133           6.3          2.8           5.1          1.5  virginica\n",
       "134           6.1          2.6           5.6          1.4  virginica\n",
       "135           7.7          3.0           6.1          2.3  virginica\n",
       "136           6.3          3.4           5.6          2.4  virginica\n",
       "137           6.4          3.1           5.5          1.8  virginica\n",
       "138           6.0          3.0           4.8          1.8  virginica\n",
       "139           6.9          3.1           5.4          2.1  virginica\n",
       "140           6.7          3.1           5.6          2.4  virginica\n",
       "141           6.9          3.1           5.1          2.3  virginica\n",
       "142           5.8          2.7           5.1          1.9  virginica\n",
       "143           6.8          3.2           5.9          2.3  virginica\n",
       "144           6.7          3.3           5.7          2.5  virginica\n",
       "145           6.7          3.0           5.2          2.3  virginica\n",
       "146           6.3          2.5           5.0          1.9  virginica\n",
       "147           6.5          3.0           5.2          2.0  virginica\n",
       "148           6.2          3.4           5.4          2.3  virginica\n",
       "149           5.9          3.0           5.1          1.8  virginica"
      ]
     },
     "execution_count": 6,
     "metadata": {},
     "output_type": "execute_result"
    }
   ],
   "source": [
    "virg_filter = df['species']=='virginica' #use the conditional to create a variable, pass the variable into the df\n",
    "df[virg_filter]"
   ]
  },
  {
   "cell_type": "code",
   "execution_count": null,
   "id": "88cc9c98-dfa8-42ce-872f-e3d981ce5c82",
   "metadata": {},
   "outputs": [],
   "source": []
  },
  {
   "cell_type": "markdown",
   "id": "eb11ac23-38d1-4514-9422-92c12a960da1",
   "metadata": {},
   "source": [
    "#### Filtering Numerical Data"
   ]
  },
  {
   "cell_type": "code",
   "execution_count": 7,
   "id": "5f6a5ae6-6303-4b06-b17b-adaf0603726e",
   "metadata": {},
   "outputs": [
    {
     "data": {
      "text/plain": [
       "0      0.2\n",
       "1      0.2\n",
       "2      0.2\n",
       "3      0.2\n",
       "4      0.2\n",
       "      ... \n",
       "145    2.3\n",
       "146    1.9\n",
       "147    2.0\n",
       "148    2.3\n",
       "149    1.8\n",
       "Name: petal_width, Length: 150, dtype: float64"
      ]
     },
     "execution_count": 7,
     "metadata": {},
     "output_type": "execute_result"
    }
   ],
   "source": [
    "df['petal_width'] #select column with values you wnt"
   ]
  },
  {
   "cell_type": "code",
   "execution_count": 8,
   "id": "4eaf617a-10d0-4305-a84f-20d0c992700f",
   "metadata": {},
   "outputs": [
    {
     "data": {
      "text/plain": [
       "0      False\n",
       "1      False\n",
       "2      False\n",
       "3      False\n",
       "4      False\n",
       "       ...  \n",
       "145     True\n",
       "146     True\n",
       "147     True\n",
       "148     True\n",
       "149     True\n",
       "Name: petal_width, Length: 150, dtype: bool"
      ]
     },
     "execution_count": 8,
     "metadata": {},
     "output_type": "execute_result"
    }
   ],
   "source": [
    "df[\"petal_width\"] > 1 #create a conditional to return true/false"
   ]
  },
  {
   "cell_type": "code",
   "execution_count": 9,
   "id": "276830bb-5696-4667-b611-48ab2d95316c",
   "metadata": {},
   "outputs": [
    {
     "data": {
      "text/html": [
       "<div>\n",
       "<style scoped>\n",
       "    .dataframe tbody tr th:only-of-type {\n",
       "        vertical-align: middle;\n",
       "    }\n",
       "\n",
       "    .dataframe tbody tr th {\n",
       "        vertical-align: top;\n",
       "    }\n",
       "\n",
       "    .dataframe thead th {\n",
       "        text-align: right;\n",
       "    }\n",
       "</style>\n",
       "<table border=\"1\" class=\"dataframe\">\n",
       "  <thead>\n",
       "    <tr style=\"text-align: right;\">\n",
       "      <th></th>\n",
       "      <th>sepal_length</th>\n",
       "      <th>sepal_width</th>\n",
       "      <th>petal_length</th>\n",
       "      <th>petal_width</th>\n",
       "      <th>species</th>\n",
       "    </tr>\n",
       "  </thead>\n",
       "  <tbody>\n",
       "    <tr>\n",
       "      <th>50</th>\n",
       "      <td>7.0</td>\n",
       "      <td>3.2</td>\n",
       "      <td>4.7</td>\n",
       "      <td>1.4</td>\n",
       "      <td>versicolor</td>\n",
       "    </tr>\n",
       "    <tr>\n",
       "      <th>51</th>\n",
       "      <td>6.4</td>\n",
       "      <td>3.2</td>\n",
       "      <td>4.5</td>\n",
       "      <td>1.5</td>\n",
       "      <td>versicolor</td>\n",
       "    </tr>\n",
       "    <tr>\n",
       "      <th>52</th>\n",
       "      <td>6.9</td>\n",
       "      <td>3.1</td>\n",
       "      <td>4.9</td>\n",
       "      <td>1.5</td>\n",
       "      <td>versicolor</td>\n",
       "    </tr>\n",
       "    <tr>\n",
       "      <th>53</th>\n",
       "      <td>5.5</td>\n",
       "      <td>2.3</td>\n",
       "      <td>4.0</td>\n",
       "      <td>1.3</td>\n",
       "      <td>versicolor</td>\n",
       "    </tr>\n",
       "    <tr>\n",
       "      <th>54</th>\n",
       "      <td>6.5</td>\n",
       "      <td>2.8</td>\n",
       "      <td>4.6</td>\n",
       "      <td>1.5</td>\n",
       "      <td>versicolor</td>\n",
       "    </tr>\n",
       "    <tr>\n",
       "      <th>...</th>\n",
       "      <td>...</td>\n",
       "      <td>...</td>\n",
       "      <td>...</td>\n",
       "      <td>...</td>\n",
       "      <td>...</td>\n",
       "    </tr>\n",
       "    <tr>\n",
       "      <th>145</th>\n",
       "      <td>6.7</td>\n",
       "      <td>3.0</td>\n",
       "      <td>5.2</td>\n",
       "      <td>2.3</td>\n",
       "      <td>virginica</td>\n",
       "    </tr>\n",
       "    <tr>\n",
       "      <th>146</th>\n",
       "      <td>6.3</td>\n",
       "      <td>2.5</td>\n",
       "      <td>5.0</td>\n",
       "      <td>1.9</td>\n",
       "      <td>virginica</td>\n",
       "    </tr>\n",
       "    <tr>\n",
       "      <th>147</th>\n",
       "      <td>6.5</td>\n",
       "      <td>3.0</td>\n",
       "      <td>5.2</td>\n",
       "      <td>2.0</td>\n",
       "      <td>virginica</td>\n",
       "    </tr>\n",
       "    <tr>\n",
       "      <th>148</th>\n",
       "      <td>6.2</td>\n",
       "      <td>3.4</td>\n",
       "      <td>5.4</td>\n",
       "      <td>2.3</td>\n",
       "      <td>virginica</td>\n",
       "    </tr>\n",
       "    <tr>\n",
       "      <th>149</th>\n",
       "      <td>5.9</td>\n",
       "      <td>3.0</td>\n",
       "      <td>5.1</td>\n",
       "      <td>1.8</td>\n",
       "      <td>virginica</td>\n",
       "    </tr>\n",
       "  </tbody>\n",
       "</table>\n",
       "<p>93 rows × 5 columns</p>\n",
       "</div>"
      ],
      "text/plain": [
       "     sepal_length  sepal_width  petal_length  petal_width     species\n",
       "50            7.0          3.2           4.7          1.4  versicolor\n",
       "51            6.4          3.2           4.5          1.5  versicolor\n",
       "52            6.9          3.1           4.9          1.5  versicolor\n",
       "53            5.5          2.3           4.0          1.3  versicolor\n",
       "54            6.5          2.8           4.6          1.5  versicolor\n",
       "..            ...          ...           ...          ...         ...\n",
       "145           6.7          3.0           5.2          2.3   virginica\n",
       "146           6.3          2.5           5.0          1.9   virginica\n",
       "147           6.5          3.0           5.2          2.0   virginica\n",
       "148           6.2          3.4           5.4          2.3   virginica\n",
       "149           5.9          3.0           5.1          1.8   virginica\n",
       "\n",
       "[93 rows x 5 columns]"
      ]
     },
     "execution_count": 9,
     "metadata": {},
     "output_type": "execute_result"
    }
   ],
   "source": [
    "petal_filter=df['petal_width'] > 1 #use the conditional to create a variable, pass the variable into the df\n",
    "df[petal_filter]"
   ]
  },
  {
   "cell_type": "code",
   "execution_count": null,
   "id": "c32d10bb-ad52-4a57-8eef-6872170564ba",
   "metadata": {},
   "outputs": [],
   "source": []
  },
  {
   "cell_type": "markdown",
   "id": "ca88a00a-8409-440f-a7ae-e948b9037050",
   "metadata": {},
   "source": [
    "#### Cleaning Data"
   ]
  },
  {
   "cell_type": "code",
   "execution_count": null,
   "id": "c00472aa-67fd-4e0a-992f-862a59fe424d",
   "metadata": {},
   "outputs": [],
   "source": [
    "import pandas as pd"
   ]
  },
  {
   "cell_type": "code",
   "execution_count": null,
   "id": "35c5d105-13c5-40cb-8a81-9b36d6c2469e",
   "metadata": {},
   "outputs": [],
   "source": [
    "csvpath = \"03-data-cleaning-01\\Resources\\people_reordered.csv\""
   ]
  },
  {
   "cell_type": "code",
   "execution_count": null,
   "id": "38286c4e-000a-45f6-ad6d-8bbfc1ca87f6",
   "metadata": {},
   "outputs": [],
   "source": [
    "people = pd.read_csv(csvpath)"
   ]
  },
  {
   "cell_type": "code",
   "execution_count": null,
   "id": "40c7baf9-08d8-4819-929b-aaa5fec395a8",
   "metadata": {},
   "outputs": [],
   "source": [
    "people.head()"
   ]
  },
  {
   "cell_type": "code",
   "execution_count": null,
   "id": "b45462d6-96fe-4e5d-8ea4-dcfaa60566e3",
   "metadata": {},
   "outputs": [],
   "source": [
    "people.dtypes"
   ]
  },
  {
   "cell_type": "code",
   "execution_count": null,
   "id": "139f4371-c8fc-496c-8dd8-2272a85f8c10",
   "metadata": {},
   "outputs": [],
   "source": [
    "people.drop(columns=['Unnamed: 0'], inplace=True) #why no axis?"
   ]
  },
  {
   "cell_type": "code",
   "execution_count": null,
   "id": "d90c73f3-945c-44f4-8351-c32e3a3e1fe6",
   "metadata": {},
   "outputs": [],
   "source": [
    "people.count() #how does this count the number of rows?? doesnt it count values per column?"
   ]
  },
  {
   "cell_type": "code",
   "execution_count": null,
   "id": "990f92b2-92aa-459c-9dd7-969418463c7a",
   "metadata": {},
   "outputs": [],
   "source": [
    "people[\"First_Name\"].value_counts()"
   ]
  },
  {
   "cell_type": "code",
   "execution_count": null,
   "id": "955ce71b-d326-4ae7-a1aa-162df3a0ffcf",
   "metadata": {},
   "outputs": [],
   "source": [
    "people.isnull().sum()"
   ]
  },
  {
   "cell_type": "code",
   "execution_count": null,
   "id": "0ba5889e-92ac-4616-9e94-a50ee287d2b7",
   "metadata": {},
   "outputs": [],
   "source": [
    "people.isnull().sum() / len(people) * 100"
   ]
  },
  {
   "cell_type": "code",
   "execution_count": null,
   "id": "3b3ad0bd-8772-4e6a-90d9-1b471573dc80",
   "metadata": {},
   "outputs": [],
   "source": [
    "people.duplicated()"
   ]
  },
  {
   "cell_type": "code",
   "execution_count": null,
   "id": "a6ff29c0-de1c-45d9-9b3d-ddebc6cd613a",
   "metadata": {},
   "outputs": [],
   "source": [
    "people[['First_Name', 'Last_Name']].duplicated() #double brackets"
   ]
  },
  {
   "cell_type": "code",
   "execution_count": null,
   "id": "65331c57-bfc4-49dd-a950-4333ed7f3a7c",
   "metadata": {},
   "outputs": [],
   "source": [
    "people['First_Name'] = people['First_Name'].fillna('Unnamed')\n",
    "people['Last_Name'] = people['Last_Name'].fillna('Unnamed')\n"
   ]
  },
  {
   "cell_type": "code",
   "execution_count": null,
   "id": "000bebdb-650e-4830-87e0-cdceff9ecae7",
   "metadata": {},
   "outputs": [],
   "source": [
    "people.isnull().sum()"
   ]
  },
  {
   "cell_type": "code",
   "execution_count": null,
   "id": "e4f2ca5c-9e19-4889-83e6-8f9c8c56e225",
   "metadata": {},
   "outputs": [],
   "source": [
    "people.dropna(inplace=True)"
   ]
  },
  {
   "cell_type": "code",
   "execution_count": null,
   "id": "b0f604e1-d4d1-4f40-b10b-9996712ea349",
   "metadata": {},
   "outputs": [],
   "source": [
    "people.isnull().sum()"
   ]
  },
  {
   "cell_type": "code",
   "execution_count": null,
   "id": "fecf8af4-ccd3-4f95-9e80-6710cc925fd1",
   "metadata": {},
   "outputs": [],
   "source": [
    "people.drop_duplicates(subset=['Last_Name', 'First_Name'])"
   ]
  },
  {
   "cell_type": "code",
   "execution_count": null,
   "id": "39640979-db29-439a-8fd6-4d77d877e291",
   "metadata": {},
   "outputs": [],
   "source": [
    "people['Person_ID'] = people['Person_ID'].astype('int')"
   ]
  },
  {
   "cell_type": "code",
   "execution_count": null,
   "id": "950e3e51-ec30-44b0-842b-a62491ea87d8",
   "metadata": {},
   "outputs": [],
   "source": [
    "people.dtypes"
   ]
  },
  {
   "cell_type": "code",
   "execution_count": null,
   "id": "6b64b6d6-2bef-427b-8057-262f0126c40b",
   "metadata": {},
   "outputs": [],
   "source": [
    "people.to_csv('CleansedPeople.csv')"
   ]
  },
  {
   "cell_type": "markdown",
   "id": "9d4dddcc-96ef-4bf0-9ef7-8a3408448ca3",
   "metadata": {},
   "source": [
    "#### Indexes"
   ]
  },
  {
   "cell_type": "code",
   "execution_count": null,
   "id": "ed843a07-4a50-4383-ac81-d8e1847cfc01",
   "metadata": {},
   "outputs": [],
   "source": [
    "# Index returns the value at the specified index\n",
    "# For pandas dataframes you can only select column names\n",
    "# when you select any 1 column it returns a pandas series"
   ]
  },
  {
   "cell_type": "code",
   "execution_count": null,
   "id": "71cebc99-964f-4d13-a9e7-d104854771cf",
   "metadata": {},
   "outputs": [],
   "source": [
    "peopleclean = pd.read_csv('04-indexes-01/Resources/people_cleansed.csv')\n",
    "peopleclean.head()"
   ]
  },
  {
   "cell_type": "code",
   "execution_count": null,
   "id": "34b3f8d4-7ad4-4ce4-b827-c5e14f9d53cb",
   "metadata": {},
   "outputs": [],
   "source": []
  },
  {
   "cell_type": "code",
   "execution_count": null,
   "id": "d67df37b-8272-4e2b-8269-9277144e31de",
   "metadata": {},
   "outputs": [],
   "source": [
    "peopleclean.iloc[0] # no \":\" for rows"
   ]
  },
  {
   "cell_type": "code",
   "execution_count": null,
   "id": "9e05826d-1545-40ed-afac-5689a3166784",
   "metadata": {},
   "outputs": [],
   "source": [
    "peopleclean.iloc[0:10]"
   ]
  },
  {
   "cell_type": "code",
   "execution_count": null,
   "id": "4de5e979-6bce-45f9-8131-a41dc7cf3096",
   "metadata": {},
   "outputs": [],
   "source": [
    "peopleclean.iloc[-1] "
   ]
  },
  {
   "cell_type": "code",
   "execution_count": null,
   "id": "b66e5bff-3d01-464c-a60d-07916b18ee7c",
   "metadata": {},
   "outputs": [],
   "source": [
    "peopleclean.iloc[:,1] # \":\" for columns"
   ]
  },
  {
   "cell_type": "code",
   "execution_count": null,
   "id": "8dff84bd-b389-40a3-ae5b-59f6e62d6261",
   "metadata": {},
   "outputs": [],
   "source": [
    "peopleclean.iloc[:,-1]"
   ]
  },
  {
   "cell_type": "code",
   "execution_count": null,
   "id": "dff30c5e-8372-4ff2-87f2-ad2add7824a1",
   "metadata": {},
   "outputs": [],
   "source": [
    "peopleclean.iloc[:,0:3]"
   ]
  },
  {
   "cell_type": "code",
   "execution_count": null,
   "id": "8fd5820f-021e-40d9-812e-56cf921300b0",
   "metadata": {},
   "outputs": [],
   "source": [
    "peopleclean.iloc[[0,2,4,6], [1,3,5]] #specify rows and columns"
   ]
  },
  {
   "cell_type": "code",
   "execution_count": null,
   "id": "652234f9-75c9-446f-bc2d-23fe9bc99396",
   "metadata": {},
   "outputs": [],
   "source": [
    "peopleclean.iloc[0:5, [3,4,5]]"
   ]
  },
  {
   "cell_type": "code",
   "execution_count": null,
   "id": "89175a96-9596-4e79-9313-af7d10b7ffaf",
   "metadata": {},
   "outputs": [],
   "source": [
    "peopleclean.iloc[0, peopleclean.columns.get_loc('First_Name')] = \"TEST\""
   ]
  },
  {
   "cell_type": "code",
   "execution_count": null,
   "id": "30c53411-a0fa-4838-98b7-661fbd031b99",
   "metadata": {},
   "outputs": [],
   "source": [
    "peopleclean.iloc[0]"
   ]
  },
  {
   "cell_type": "code",
   "execution_count": null,
   "id": "230cfc90-1b50-460e-8a7f-af5660924ca0",
   "metadata": {},
   "outputs": [],
   "source": [
    "peopleclean.set_index(peopleclean['First_Name'], inplace=True)"
   ]
  },
  {
   "cell_type": "code",
   "execution_count": null,
   "id": "04d5fe7e-11a1-430d-b67a-fc0e3f42e558",
   "metadata": {},
   "outputs": [],
   "source": [
    "peopleclean.sort_index()"
   ]
  },
  {
   "cell_type": "code",
   "execution_count": null,
   "id": "d3dd623c-da01-4215-ae38-c8da1db6d15e",
   "metadata": {},
   "outputs": [],
   "source": [
    "peopleclean.loc[\"Andrew\"]"
   ]
  },
  {
   "cell_type": "code",
   "execution_count": null,
   "id": "ae5ad454-964a-4c9a-9f91-481b8ae5fb1d",
   "metadata": {},
   "outputs": [],
   "source": [
    "peopleclean.loc['Andrew':'Vonnie'].head() #???????"
   ]
  },
  {
   "cell_type": "code",
   "execution_count": null,
   "id": "024f5be7-2460-4b86-9a3e-7b74bcac63d4",
   "metadata": {},
   "outputs": [],
   "source": [
    "peopleclean.loc[peopleclean['Gender']=='Male'].head()"
   ]
  },
  {
   "cell_type": "code",
   "execution_count": null,
   "id": "5333bf04-443a-4b31-a332-385099abb358",
   "metadata": {},
   "outputs": [],
   "source": [
    "# peopleclean.iloc[peopleclean['First_name'=='Aaron']] = \"Arod\"\n",
    "\n",
    "peopleclean.loc['Aaron', 'first_name'] = 'Arod' # ???\n",
    "peopleclean.head()"
   ]
  },
  {
   "cell_type": "markdown",
   "id": "74a40092-3873-4ac4-8689-11e0eacb1e0b",
   "metadata": {},
   "source": [
    "#### Sorting"
   ]
  },
  {
   "cell_type": "code",
   "execution_count": null,
   "id": "332b5616-1d68-4b0c-8bf4-26d8239fa35b",
   "metadata": {},
   "outputs": [],
   "source": [
    "peoplecsv = pd.read_csv('05-sorting-01/Resources/people_cleansed.csv')"
   ]
  },
  {
   "cell_type": "code",
   "execution_count": null,
   "id": "35e4c167-4824-4f4b-961f-18ef73f33f02",
   "metadata": {},
   "outputs": [],
   "source": [
    "peoplecsv.sort_values(\"First_Name\")"
   ]
  },
  {
   "cell_type": "code",
   "execution_count": null,
   "id": "a11c9aa2-7d50-49f1-bf0f-2bc501f553ba",
   "metadata": {},
   "outputs": [],
   "source": [
    "peoplecsv.sort_values(\"First_Name\", ascending=False)"
   ]
  },
  {
   "cell_type": "markdown",
   "id": "2270e73a-d6d4-4a49-8cd0-0232b1bcf795",
   "metadata": {},
   "source": [
    "#### Group By"
   ]
  },
  {
   "cell_type": "code",
   "execution_count": null,
   "id": "1573e4dc-c7f2-438e-b143-9ce2250234f3",
   "metadata": {},
   "outputs": [],
   "source": [
    "peoplegroup = pd.read_csv('06-groupby-01/Resources/people_cleansed.csv')"
   ]
  },
  {
   "cell_type": "code",
   "execution_count": null,
   "id": "10aaa4ae-e7ef-4b64-93d5-7d24a9da90ae",
   "metadata": {},
   "outputs": [],
   "source": [
    "peoplegroup.head()"
   ]
  },
  {
   "cell_type": "code",
   "execution_count": null,
   "id": "f30a6d4d-c2ff-487a-bc44-6aee3911e92c",
   "metadata": {},
   "outputs": [],
   "source": [
    "peoplegroup.groupby('Occupation').count()"
   ]
  },
  {
   "cell_type": "code",
   "execution_count": null,
   "id": "500e839a-1092-4dc6-9d77-ad7e3fb5416c",
   "metadata": {},
   "outputs": [],
   "source": [
    "peoplegroup.groupby('Occupation').mean()"
   ]
  },
  {
   "cell_type": "code",
   "execution_count": null,
   "id": "7789b037-22db-403b-b2ff-7648c56be401",
   "metadata": {},
   "outputs": [],
   "source": [
    "peoplegroup.groupby(['Occupation','Gender']).mean()"
   ]
  },
  {
   "cell_type": "markdown",
   "id": "0e3d6b60-7baf-4132-b0e1-275db5b98417",
   "metadata": {},
   "source": [
    "#### Binning"
   ]
  },
  {
   "cell_type": "code",
   "execution_count": null,
   "id": "2cc5fbb4-64a6-47c4-a407-4f341a043694",
   "metadata": {},
   "outputs": [],
   "source": [
    "binpeople = pd.read_csv('07-binning-01/Resources/people_cleansed.csv')"
   ]
  },
  {
   "cell_type": "code",
   "execution_count": null,
   "id": "70ce1e44-7e26-47b8-b35b-c920bdd7177f",
   "metadata": {},
   "outputs": [],
   "source": [
    "binpeople.head()"
   ]
  },
  {
   "cell_type": "code",
   "execution_count": null,
   "id": "154bc21a-5ba2-4a23-8880-b3f507cfe8d0",
   "metadata": {},
   "outputs": [],
   "source": [
    "def assign_bin(x): #create labels\n",
    "    if x >= 0 and x < 30000:\n",
    "        return \"Low\"\n",
    "    elif x >= 30000 and x < 70000:\n",
    "        return 'Moderate'\n",
    "    elif x >= 70000 and x < 100000:\n",
    "        return \"Above Average\"\n",
    "    elif x >= 100000 and x < 200000:\n",
    "        return \"High\""
   ]
  },
  {
   "cell_type": "code",
   "execution_count": null,
   "id": "1af0e8af-1677-4593-badc-e47db0b39697",
   "metadata": {},
   "outputs": [],
   "source": [
    "binpeople['Salary'].apply(assign_bin)"
   ]
  },
  {
   "cell_type": "code",
   "execution_count": null,
   "id": "ae248c36-07f8-40e7-921d-a2165207574c",
   "metadata": {},
   "outputs": [],
   "source": [
    "binpeople[\"Salary Level\"] = binpeople['Salary'].apply(assign_bin)"
   ]
  },
  {
   "cell_type": "code",
   "execution_count": null,
   "id": "dad1c704-de8a-4d4b-abd9-57307c0dda17",
   "metadata": {},
   "outputs": [],
   "source": [
    "binpeople.head()"
   ]
  },
  {
   "cell_type": "markdown",
   "id": "f708b78e-feca-41f4-87b7-8ba284ff5cb1",
   "metadata": {},
   "source": [
    "#### Returns"
   ]
  },
  {
   "cell_type": "code",
   "execution_count": null,
   "id": "41f43e1c-392f-4a5e-8661-0b7824d67fe3",
   "metadata": {},
   "outputs": [],
   "source": [
    "import matplotlib.pyplot as plt"
   ]
  },
  {
   "cell_type": "code",
   "execution_count": null,
   "id": "665524f2-d092-437c-859c-882073ce6a41",
   "metadata": {},
   "outputs": [],
   "source": [
    "msft = pd.read_csv('08-returns-01/Resources/MSFT.csv')"
   ]
  },
  {
   "cell_type": "code",
   "execution_count": null,
   "id": "9fb216bc-3cf2-4d8e-9cbf-97568fdf4397",
   "metadata": {},
   "outputs": [],
   "source": [
    "msft.drop(columns=['volume', 'open', 'high', 'low'], inplace=True)"
   ]
  },
  {
   "cell_type": "code",
   "execution_count": null,
   "id": "873db5f6-5595-41c1-959a-d63ba7508343",
   "metadata": {},
   "outputs": [],
   "source": [
    "msft.head()"
   ]
  },
  {
   "cell_type": "code",
   "execution_count": null,
   "id": "ca5c7522-601e-4eda-9017-11c7b8611e72",
   "metadata": {},
   "outputs": [],
   "source": [
    "msft.set_index(pd.to_datetime(msft['date'], infer_datetime_format=True), inplace=True) ## in place???\n",
    "msft.head()"
   ]
  },
  {
   "cell_type": "code",
   "execution_count": null,
   "id": "b062c476-d51e-4838-a1a7-2dbc5ea41412",
   "metadata": {},
   "outputs": [],
   "source": [
    "msft.drop(columns=[\"date\"], inplace=True)"
   ]
  },
  {
   "cell_type": "code",
   "execution_count": null,
   "id": "472f5449-8262-4261-ba32-5aa5c86903c3",
   "metadata": {},
   "outputs": [],
   "source": [
    "msft.plot()"
   ]
  },
  {
   "cell_type": "code",
   "execution_count": null,
   "id": "c7e50ae7-3e46-46ed-bf95-92a8e378c5c2",
   "metadata": {},
   "outputs": [],
   "source": [
    "mschg= msft.pct_change()\n",
    "mschg"
   ]
  },
  {
   "cell_type": "code",
   "execution_count": null,
   "id": "14b9a6af-5ac9-4386-b123-cfcd13e0e28f",
   "metadata": {},
   "outputs": [],
   "source": [
    "mschg.plot()"
   ]
  },
  {
   "cell_type": "code",
   "execution_count": null,
   "id": "c38a10bd-2c14-425e-a33e-5f8f862a04de",
   "metadata": {},
   "outputs": [],
   "source": [
    "msft.head()"
   ]
  },
  {
   "cell_type": "code",
   "execution_count": null,
   "id": "a0929ac0-d3fe-4bf1-9932-ec141723c24c",
   "metadata": {},
   "outputs": [],
   "source": []
  },
  {
   "cell_type": "code",
   "execution_count": null,
   "id": "6b069097-d17f-4626-92f5-4b329b55a432",
   "metadata": {},
   "outputs": [],
   "source": [
    "base_value = msft[\"close\"].iloc[0]\n",
    "msreturns=[]\n",
    "msreturns.append(None)\n",
    "for i in range(1, len(msft)):\n",
    "    current_value = msft[\"close\"].iloc[i]\n",
    "    current_return= (current_value-base_value)/base_value\n",
    "    msreturns.append(current_return)\n",
    "    "
   ]
  },
  {
   "cell_type": "code",
   "execution_count": null,
   "id": "c7719535-02e4-45af-a259-482a09c21a58",
   "metadata": {},
   "outputs": [],
   "source": [
    "len(msreturns)"
   ]
  },
  {
   "cell_type": "code",
   "execution_count": null,
   "id": "b3c55c90-9738-4c30-8401-5713b931d4c9",
   "metadata": {},
   "outputs": [],
   "source": [
    "len(msft)"
   ]
  },
  {
   "cell_type": "code",
   "execution_count": null,
   "id": "6f02d26d-3b54-48fc-8e90-a7e55db44aa8",
   "metadata": {},
   "outputs": [],
   "source": [
    "msft[\"CumReturn\"]=msreturns"
   ]
  },
  {
   "cell_type": "code",
   "execution_count": null,
   "id": "e6a696a7-17a3-4414-bb20-55646e1cdb0f",
   "metadata": {},
   "outputs": [],
   "source": [
    "msft.head()"
   ]
  },
  {
   "cell_type": "code",
   "execution_count": null,
   "id": "d89d0e8d-6ead-4e79-a546-6abed6924b07",
   "metadata": {},
   "outputs": [],
   "source": [
    "msft[\"CumReturn\"].plot()"
   ]
  },
  {
   "cell_type": "markdown",
   "id": "f30afed4-ddf1-4e96-bcfc-e0052c7171b1",
   "metadata": {},
   "source": [
    "#### Rolling Statistics"
   ]
  },
  {
   "cell_type": "code",
   "execution_count": null,
   "id": "9bfd2db8-916e-4df7-b945-3dd1e6fd5aa0",
   "metadata": {},
   "outputs": [],
   "source": [
    "msft=pd.read_csv('09-rolling-statistics-01/Resources/MSFT.csv',index_col='date') #Read the CSV into a DataFrame while both formatting and setting the date column as the index."
   ]
  },
  {
   "cell_type": "code",
   "execution_count": null,
   "id": "c78d4a22-6930-4ba3-96ba-45a17b284006",
   "metadata": {},
   "outputs": [],
   "source": [
    "msft"
   ]
  },
  {
   "cell_type": "code",
   "execution_count": null,
   "id": "e62acdc0-18a7-4c2e-8474-48002877f18c",
   "metadata": {},
   "outputs": [],
   "source": [
    "msft.drop(columns=['volume','open','high','low'], inplace=True)"
   ]
  },
  {
   "cell_type": "code",
   "execution_count": null,
   "id": "163c6336-b997-4d7e-a24d-9bcdb2ebf8ff",
   "metadata": {},
   "outputs": [],
   "source": [
    "msft.plot()"
   ]
  },
  {
   "cell_type": "code",
   "execution_count": null,
   "id": "a63e8c06-6cbf-4182-a357-2d8d264b1976",
   "metadata": {},
   "outputs": [],
   "source": [
    "msft.rolling(window=7).mean().plot()"
   ]
  },
  {
   "cell_type": "code",
   "execution_count": null,
   "id": "52a4c73a-f870-4e6a-b05b-e3a626beece6",
   "metadata": {},
   "outputs": [],
   "source": [
    "msft.rolling(window=7).std().plot()"
   ]
  },
  {
   "cell_type": "code",
   "execution_count": null,
   "id": "f33eb063-5574-4894-84ae-d97d04e3cc99",
   "metadata": {},
   "outputs": [],
   "source": [
    "msft.rolling(window=30).mean().plot()"
   ]
  },
  {
   "cell_type": "code",
   "execution_count": null,
   "id": "427aea83-9154-41bb-8585-2130c999e6bd",
   "metadata": {},
   "outputs": [],
   "source": [
    "msft.rolling(window=30).std().plot()"
   ]
  },
  {
   "cell_type": "code",
   "execution_count": null,
   "id": "178f6752-5f21-42d9-90ed-c1a1c7f4615e",
   "metadata": {},
   "outputs": [],
   "source": [
    "msft.rolling(window=180).mean().plot()"
   ]
  },
  {
   "cell_type": "code",
   "execution_count": null,
   "id": "366b4ed4-7566-4e3e-9906-6656c6467c88",
   "metadata": {},
   "outputs": [],
   "source": [
    "ax = msft.plot() #Overlay the plot for a 180 day rolling mean of MSFT on top of the daily closing prices of MSFT. Use the plot function with the ax parameter to overlay multiple plots.\n",
    "msft.rolling(window=180).mean().plot(ax=ax)\n",
    "ax.legend([\"MSFT\", \"MSFT 180 Day Mean\"])"
   ]
  },
  {
   "cell_type": "markdown",
   "id": "c9203c7b-f6a2-4ff9-aef2-cbb2c2541682",
   "metadata": {},
   "source": [
    "#### Concat"
   ]
  },
  {
   "cell_type": "code",
   "execution_count": null,
   "id": "f778f744-99f6-4764-9bc3-39fd5e6efa3c",
   "metadata": {},
   "outputs": [],
   "source": [
    "msft=pd.read_csv('10-concat-01/Resources/MSFT.csv')\n",
    "sp500=pd.read_csv('10-concat-01/Resources/SP500.csv')"
   ]
  },
  {
   "cell_type": "code",
   "execution_count": null,
   "id": "7fbbbe06-b275-4a97-b8ad-a6e33736d652",
   "metadata": {},
   "outputs": [],
   "source": [
    "msft.head()"
   ]
  },
  {
   "cell_type": "code",
   "execution_count": null,
   "id": "56a2e97c-6d61-441e-ae0c-689354913fa2",
   "metadata": {},
   "outputs": [],
   "source": [
    "sp500.head()"
   ]
  },
  {
   "cell_type": "code",
   "execution_count": null,
   "id": "0bd1df92-1aea-43e2-a355-15b829c07635",
   "metadata": {},
   "outputs": [],
   "source": [
    "mssp = pd.concat([msft,sp500], axis='columns', join='inner')"
   ]
  },
  {
   "cell_type": "code",
   "execution_count": null,
   "id": "e96453a9-8f77-480e-8b92-059d71ac15a8",
   "metadata": {},
   "outputs": [],
   "source": [
    "mssp"
   ]
  },
  {
   "cell_type": "code",
   "execution_count": null,
   "id": "d3eb369a-30b6-4955-a334-cd1e77111e5d",
   "metadata": {},
   "outputs": [],
   "source": [
    "msspout = pd.concat([msft, sp500], axis='rows', join='inner')"
   ]
  },
  {
   "cell_type": "code",
   "execution_count": null,
   "id": "2c4c7296-71a2-41e8-ac6d-4959f2fed0b4",
   "metadata": {},
   "outputs": [],
   "source": [
    "msspout"
   ]
  },
  {
   "cell_type": "markdown",
   "id": "062c16cf-850a-4f05-9c4e-af4ebe5fcbae",
   "metadata": {},
   "source": [
    "#### Correlation"
   ]
  },
  {
   "cell_type": "code",
   "execution_count": null,
   "id": "ee7e97c7-cdef-4f90-9b85-6f3fa05ca68d",
   "metadata": {},
   "outputs": [],
   "source": [
    "import seaborn as sns"
   ]
  },
  {
   "cell_type": "code",
   "execution_count": null,
   "id": "f7705af7-c155-4d8e-88d7-2eb6d831eb25",
   "metadata": {},
   "outputs": [],
   "source": [
    "msft=pd.read_csv('10-concat-01/Resources/MSFT.csv', index_col='date')\n",
    "sp500=pd.read_csv('10-concat-01/Resources/SP500.csv', index_col='date')"
   ]
  },
  {
   "cell_type": "code",
   "execution_count": null,
   "id": "704ac8ea-a3df-4bf7-846a-1c0e8f1a785c",
   "metadata": {},
   "outputs": [],
   "source": [
    "mssp = pd.concat([msft,sp500], axis='columns', join='inner')"
   ]
  },
  {
   "cell_type": "code",
   "execution_count": null,
   "id": "2cb94655-e347-41c9-a2aa-d5af56dd05d2",
   "metadata": {},
   "outputs": [],
   "source": [
    "mssp"
   ]
  },
  {
   "cell_type": "code",
   "execution_count": null,
   "id": "89b6f1db-336a-4f05-980b-d83410a6209f",
   "metadata": {},
   "outputs": [],
   "source": [
    "mssp.drop(columns=['volume','open','high','low'], inplace=True)"
   ]
  },
  {
   "cell_type": "code",
   "execution_count": null,
   "id": "475578dd-b286-4abc-bca5-853f5f4bfc23",
   "metadata": {},
   "outputs": [],
   "source": [
    "mssp.columns = ['MSFT', 'SP500'] #rename the columns"
   ]
  },
  {
   "cell_type": "code",
   "execution_count": null,
   "id": "ac6a80a3-8ed1-4d80-bf5a-5f6da4fc668c",
   "metadata": {},
   "outputs": [],
   "source": [
    "mssp"
   ]
  },
  {
   "cell_type": "code",
   "execution_count": null,
   "id": "60a33e35-d11d-47c6-9cc6-0d0b027ce433",
   "metadata": {},
   "outputs": [],
   "source": [
    "mssp.plot()"
   ]
  },
  {
   "cell_type": "code",
   "execution_count": null,
   "id": "46779fd2-760a-4a05-9757-6015528f9b49",
   "metadata": {},
   "outputs": [],
   "source": [
    "mssp.plot(kind='scatter', x='MSFT', y='SP500') #scatter plot"
   ]
  },
  {
   "cell_type": "code",
   "execution_count": null,
   "id": "b9badc25-52bc-4104-b724-f82a4625db05",
   "metadata": {},
   "outputs": [],
   "source": [
    "correlation=mssp.corr()"
   ]
  },
  {
   "cell_type": "code",
   "execution_count": null,
   "id": "3af0475a-38e5-4873-9405-254c298d9855",
   "metadata": {},
   "outputs": [],
   "source": [
    "sns.heatmap(correlation, vmin=-1, vmax=1)"
   ]
  },
  {
   "cell_type": "code",
   "execution_count": null,
   "id": "e6907bc1-cb18-4249-8076-3f581762b41e",
   "metadata": {},
   "outputs": [],
   "source": [
    "mssp_returns=mssp.pct_change()"
   ]
  },
  {
   "cell_type": "code",
   "execution_count": null,
   "id": "e5cfef68-d1ce-43b9-84d9-040e0154770e",
   "metadata": {},
   "outputs": [],
   "source": [
    "mssp_returns"
   ]
  },
  {
   "cell_type": "code",
   "execution_count": null,
   "id": "e9522484-7bac-4cee-9338-8f0aa21e1b85",
   "metadata": {},
   "outputs": [],
   "source": [
    "mssp_returns.plot(kind='scatter', x='MSFT', y='SP500')"
   ]
  },
  {
   "cell_type": "code",
   "execution_count": null,
   "id": "7e021fec-e8bd-4659-91f9-a2c3fa480dda",
   "metadata": {},
   "outputs": [],
   "source": [
    "mssp_returns.corr()"
   ]
  },
  {
   "cell_type": "code",
   "execution_count": null,
   "id": "81fe2ba1-5b1e-404c-9bbd-833aa7a07ff9",
   "metadata": {},
   "outputs": [],
   "source": [
    "sns.heatmap(mssp.corr(), vmin=-1, vmax=1)"
   ]
  },
  {
   "cell_type": "markdown",
   "id": "b1cb7fce-8b11-4779-8c57-9e3deab72359",
   "metadata": {},
   "source": [
    "#### Beta"
   ]
  },
  {
   "cell_type": "code",
   "execution_count": null,
   "id": "5ad11d3d-6da2-4395-aca0-0f600c95d92d",
   "metadata": {},
   "outputs": [],
   "source": [
    "import seaborn as sns\n",
    "msft=pd.read_csv('10-concat-01/Resources/MSFT.csv', index_col='date')\n",
    "sp500=pd.read_csv('10-concat-01/Resources/SP500.csv', index_col='date')"
   ]
  },
  {
   "cell_type": "code",
   "execution_count": null,
   "id": "32fc84a8-cdf8-487d-9440-541906c7070a",
   "metadata": {},
   "outputs": [],
   "source": [
    "mssp=pd.concat([msft,sp500],axis='columns', join='inner')\n",
    "mssp.drop(columns=['volume','open','high','low'], inplace=True)"
   ]
  },
  {
   "cell_type": "code",
   "execution_count": null,
   "id": "1444576d-80b6-4058-8ea2-e46fdf8fc6a3",
   "metadata": {},
   "outputs": [],
   "source": [
    "mssp.columns = ('MSFT','SP500')"
   ]
  },
  {
   "cell_type": "code",
   "execution_count": null,
   "id": "c034bb0a-2159-4e5b-a7bd-a7478e29eae4",
   "metadata": {},
   "outputs": [],
   "source": [
    "msspchg=mssp.pct_change()"
   ]
  },
  {
   "cell_type": "code",
   "execution_count": null,
   "id": "8018676c-4951-405c-94d8-6dab8e7a22df",
   "metadata": {},
   "outputs": [],
   "source": [
    "msspchg['MSFT'].cov(msspchg['SP500']) #covariance one variable by another"
   ]
  },
  {
   "cell_type": "code",
   "execution_count": null,
   "id": "eea15746-1c68-4ba5-a155-2e7ba014c5a1",
   "metadata": {},
   "outputs": [],
   "source": [
    "msspchg['SP500'].var() #variance of a variable"
   ]
  },
  {
   "cell_type": "code",
   "execution_count": null,
   "id": "23c95714-a0ea-4cac-a8e1-4ab29790a4de",
   "metadata": {},
   "outputs": [],
   "source": [
    "beta = (msspchg['MSFT'].cov(msspchg['SP500']))/msspchg['SP500'].var() #rolling covariance / variance"
   ]
  },
  {
   "cell_type": "code",
   "execution_count": null,
   "id": "3510d361-3080-43b7-b89c-640b52d3ffd9",
   "metadata": {},
   "outputs": [],
   "source": [
    "msspchg['MSFT'].rolling(window=30).cov(msspchg['SP500']).plot(figsize=(20, 10))"
   ]
  },
  {
   "cell_type": "code",
   "execution_count": null,
   "id": "f92def1f-6d4f-4ad6-88f0-2a474f96a0f2",
   "metadata": {},
   "outputs": [],
   "source": [
    "beta30=(msspchg['MSFT'].rolling(window=30).cov(msspchg['SP500']))/(msspchg['SP500'].rolling(window=30).var())"
   ]
  },
  {
   "cell_type": "code",
   "execution_count": null,
   "id": "4d326837-0981-4f5a-9b9a-ee1fb5e7c8ad",
   "metadata": {},
   "outputs": [],
   "source": [
    "sns.lmplot(x='SP500', y='MSFT', data=msspchg, aspect=1.5, fit_reg=True)"
   ]
  },
  {
   "cell_type": "code",
   "execution_count": null,
   "id": "1af2a749-9c54-4a75-8305-b8df5d533f6f",
   "metadata": {},
   "outputs": [],
   "source": []
  },
  {
   "cell_type": "markdown",
   "id": "b68a1207-6d98-4c48-bf8f-a5e1b40e8acd",
   "metadata": {},
   "source": [
    "#### Portfolio Returns"
   ]
  },
  {
   "cell_type": "code",
   "execution_count": null,
   "id": "86930c0d-c74f-4c13-94d5-448332d3ddf1",
   "metadata": {},
   "outputs": [],
   "source": [
    "import pandas as pd\n",
    "msft = pd.read_csv('13-portfolio-returns-01/Resources/MSFT.csv', index_col='date', parse_dates=True, infer_datetime_format=True) #read dates as dates, convert to date time format\n",
    "sp500 = pd.read_csv('13-portfolio-returns-01/Resources/SP500.csv', index_col='date', parse_dates=True, infer_datetime_format=True)"
   ]
  },
  {
   "cell_type": "code",
   "execution_count": null,
   "id": "9b33163e-0e93-49c5-a49f-38c2f14157fe",
   "metadata": {},
   "outputs": [],
   "source": [
    "prices = pd.concat([msft, sp500], axis='columns', join='inner')\n",
    "prices.sort_index(inplace=True)\n",
    "prices.head()"
   ]
  },
  {
   "cell_type": "code",
   "execution_count": null,
   "id": "5c8edf12-3fa1-450e-bc69-03e52b22d227",
   "metadata": {},
   "outputs": [],
   "source": [
    "prices.drop(columns=['volume','open','high','low'], inplace=True)\n",
    "prices.head()"
   ]
  },
  {
   "cell_type": "code",
   "execution_count": null,
   "id": "53676a37-83a5-4309-9e38-440970ffac75",
   "metadata": {},
   "outputs": [],
   "source": [
    "prices.columns = ('MSFT','S&P 500')\n",
    "returns = prices.pct_change()"
   ]
  },
  {
   "cell_type": "code",
   "execution_count": null,
   "id": "1e54acc2-cc72-4939-ab8f-b980517e6e49",
   "metadata": {},
   "outputs": [],
   "source": [
    "# Use the `dot` function to multiply the weights by each stock's daily return to get the portfolio daily return\n",
    "weights = [.60, .40]\n",
    "portfolio_returns = returns.dot(weights)"
   ]
  },
  {
   "cell_type": "code",
   "execution_count": null,
   "id": "3d829bee-343e-481d-8661-5daf68e5abe3",
   "metadata": {},
   "outputs": [],
   "source": [
    "portfolio_returns.plot()\n"
   ]
  },
  {
   "cell_type": "code",
   "execution_count": null,
   "id": "eb22fadd-58e8-4162-af0c-7a16bcb7b680",
   "metadata": {},
   "outputs": [],
   "source": [
    "portfolio_returns.cumprod()\n",
    "cum_returns = (1 + portfolio_returns).cumprod() - 1 #??????"
   ]
  },
  {
   "cell_type": "code",
   "execution_count": null,
   "id": "6233f363-5ec3-4e03-987a-7d81744d630b",
   "metadata": {},
   "outputs": [],
   "source": []
  },
  {
   "cell_type": "code",
   "execution_count": null,
   "id": "e8cc50cd-0cfa-4e73-829b-24a8acb89018",
   "metadata": {},
   "outputs": [],
   "source": [
    "cum_returns.plot()"
   ]
  },
  {
   "cell_type": "code",
   "execution_count": null,
   "id": "4d876a9e-17f2-4eaa-865a-1682b5664768",
   "metadata": {},
   "outputs": [],
   "source": []
  },
  {
   "cell_type": "markdown",
   "id": "d045fbe0-1883-4af3-a730-d1a62616988a",
   "metadata": {},
   "source": [
    "### CULMINATION 1"
   ]
  },
  {
   "cell_type": "code",
   "execution_count": 2,
   "id": "a19fd7bf-29de-4020-abca-f3a73f794994",
   "metadata": {},
   "outputs": [],
   "source": [
    "import pandas as pd\n",
    "\n",
    "bac=pd.read_csv('14-culmination-01/Resources/BAC.csv', parse_dates=True, infer_datetime_format=True)"
   ]
  },
  {
   "cell_type": "code",
   "execution_count": 3,
   "id": "3367baaa-739c-400d-96f2-4ea7b5a1d1c3",
   "metadata": {},
   "outputs": [
    {
     "data": {
      "text/plain": [
       "Date         251\n",
       "Open         251\n",
       "High         251\n",
       "Low          251\n",
       "Close        251\n",
       "Adj Close    251\n",
       "Volume       251\n",
       "dtype: int64"
      ]
     },
     "execution_count": 3,
     "metadata": {},
     "output_type": "execute_result"
    }
   ],
   "source": [
    "bac.count() # count rows"
   ]
  },
  {
   "cell_type": "code",
   "execution_count": 4,
   "id": "6b65a450-3f94-45e7-8213-2073dc06d6c6",
   "metadata": {},
   "outputs": [
    {
     "data": {
      "text/html": [
       "<div>\n",
       "<style scoped>\n",
       "    .dataframe tbody tr th:only-of-type {\n",
       "        vertical-align: middle;\n",
       "    }\n",
       "\n",
       "    .dataframe tbody tr th {\n",
       "        vertical-align: top;\n",
       "    }\n",
       "\n",
       "    .dataframe thead th {\n",
       "        text-align: right;\n",
       "    }\n",
       "</style>\n",
       "<table border=\"1\" class=\"dataframe\">\n",
       "  <thead>\n",
       "    <tr style=\"text-align: right;\">\n",
       "      <th></th>\n",
       "      <th>Date</th>\n",
       "      <th>Open</th>\n",
       "      <th>High</th>\n",
       "      <th>Low</th>\n",
       "      <th>Close</th>\n",
       "      <th>Adj Close</th>\n",
       "      <th>Volume</th>\n",
       "    </tr>\n",
       "  </thead>\n",
       "  <tbody>\n",
       "    <tr>\n",
       "      <th>0</th>\n",
       "      <td>2017-01-03</td>\n",
       "      <td>22.600000</td>\n",
       "      <td>22.680000</td>\n",
       "      <td>22.200001</td>\n",
       "      <td>22.530001</td>\n",
       "      <td>22.006727</td>\n",
       "      <td>99298100</td>\n",
       "    </tr>\n",
       "    <tr>\n",
       "      <th>1</th>\n",
       "      <td>2017-01-04</td>\n",
       "      <td>22.719999</td>\n",
       "      <td>22.959999</td>\n",
       "      <td>22.600000</td>\n",
       "      <td>22.950001</td>\n",
       "      <td>22.416971</td>\n",
       "      <td>76875100</td>\n",
       "    </tr>\n",
       "    <tr>\n",
       "      <th>2</th>\n",
       "      <td>2017-01-05</td>\n",
       "      <td>22.820000</td>\n",
       "      <td>22.930000</td>\n",
       "      <td>22.350000</td>\n",
       "      <td>22.680000</td>\n",
       "      <td>22.153240</td>\n",
       "      <td>86826400</td>\n",
       "    </tr>\n",
       "    <tr>\n",
       "      <th>3</th>\n",
       "      <td>2017-01-06</td>\n",
       "      <td>22.780001</td>\n",
       "      <td>22.850000</td>\n",
       "      <td>22.559999</td>\n",
       "      <td>22.680000</td>\n",
       "      <td>22.153240</td>\n",
       "      <td>66281500</td>\n",
       "    </tr>\n",
       "    <tr>\n",
       "      <th>4</th>\n",
       "      <td>2017-01-09</td>\n",
       "      <td>22.510000</td>\n",
       "      <td>22.709999</td>\n",
       "      <td>22.400000</td>\n",
       "      <td>22.549999</td>\n",
       "      <td>22.026258</td>\n",
       "      <td>75744700</td>\n",
       "    </tr>\n",
       "  </tbody>\n",
       "</table>\n",
       "</div>"
      ],
      "text/plain": [
       "         Date       Open       High        Low      Close  Adj Close    Volume\n",
       "0  2017-01-03  22.600000  22.680000  22.200001  22.530001  22.006727  99298100\n",
       "1  2017-01-04  22.719999  22.959999  22.600000  22.950001  22.416971  76875100\n",
       "2  2017-01-05  22.820000  22.930000  22.350000  22.680000  22.153240  86826400\n",
       "3  2017-01-06  22.780001  22.850000  22.559999  22.680000  22.153240  66281500\n",
       "4  2017-01-09  22.510000  22.709999  22.400000  22.549999  22.026258  75744700"
      ]
     },
     "execution_count": 4,
     "metadata": {},
     "output_type": "execute_result"
    }
   ],
   "source": [
    "bac.head()"
   ]
  },
  {
   "cell_type": "code",
   "execution_count": 5,
   "id": "b1716c9a-6fe4-447f-a5e8-7101de1d132d",
   "metadata": {},
   "outputs": [
    {
     "data": {
      "text/plain": [
       "'2017-01-03'"
      ]
     },
     "execution_count": 5,
     "metadata": {},
     "output_type": "execute_result"
    }
   ],
   "source": [
    "bac['Date'].min()"
   ]
  },
  {
   "cell_type": "code",
   "execution_count": 6,
   "id": "92c8cf67-a056-47ab-9d61-4b0202b1127c",
   "metadata": {},
   "outputs": [
    {
     "data": {
      "text/plain": [
       "'2017-12-29'"
      ]
     },
     "execution_count": 6,
     "metadata": {},
     "output_type": "execute_result"
    }
   ],
   "source": [
    "bac['Date'].max()"
   ]
  },
  {
   "cell_type": "code",
   "execution_count": 7,
   "id": "fbde178b-2276-4544-b70a-ede81184fe3a",
   "metadata": {},
   "outputs": [],
   "source": [
    "bac.set_index('Date', inplace=True) # set date as index"
   ]
  },
  {
   "cell_type": "code",
   "execution_count": 8,
   "id": "6e9533a1-69d8-403f-8915-05d444f6ca59",
   "metadata": {},
   "outputs": [
    {
     "data": {
      "text/html": [
       "<div>\n",
       "<style scoped>\n",
       "    .dataframe tbody tr th:only-of-type {\n",
       "        vertical-align: middle;\n",
       "    }\n",
       "\n",
       "    .dataframe tbody tr th {\n",
       "        vertical-align: top;\n",
       "    }\n",
       "\n",
       "    .dataframe thead th {\n",
       "        text-align: right;\n",
       "    }\n",
       "</style>\n",
       "<table border=\"1\" class=\"dataframe\">\n",
       "  <thead>\n",
       "    <tr style=\"text-align: right;\">\n",
       "      <th></th>\n",
       "      <th>Open</th>\n",
       "      <th>High</th>\n",
       "      <th>Low</th>\n",
       "      <th>Close</th>\n",
       "      <th>Adj Close</th>\n",
       "      <th>Volume</th>\n",
       "    </tr>\n",
       "    <tr>\n",
       "      <th>Date</th>\n",
       "      <th></th>\n",
       "      <th></th>\n",
       "      <th></th>\n",
       "      <th></th>\n",
       "      <th></th>\n",
       "      <th></th>\n",
       "    </tr>\n",
       "  </thead>\n",
       "  <tbody>\n",
       "    <tr>\n",
       "      <th>2017-01-03</th>\n",
       "      <td>22.600000</td>\n",
       "      <td>22.680000</td>\n",
       "      <td>22.200001</td>\n",
       "      <td>22.530001</td>\n",
       "      <td>22.006727</td>\n",
       "      <td>99298100</td>\n",
       "    </tr>\n",
       "    <tr>\n",
       "      <th>2017-01-04</th>\n",
       "      <td>22.719999</td>\n",
       "      <td>22.959999</td>\n",
       "      <td>22.600000</td>\n",
       "      <td>22.950001</td>\n",
       "      <td>22.416971</td>\n",
       "      <td>76875100</td>\n",
       "    </tr>\n",
       "    <tr>\n",
       "      <th>2017-01-05</th>\n",
       "      <td>22.820000</td>\n",
       "      <td>22.930000</td>\n",
       "      <td>22.350000</td>\n",
       "      <td>22.680000</td>\n",
       "      <td>22.153240</td>\n",
       "      <td>86826400</td>\n",
       "    </tr>\n",
       "    <tr>\n",
       "      <th>2017-01-06</th>\n",
       "      <td>22.780001</td>\n",
       "      <td>22.850000</td>\n",
       "      <td>22.559999</td>\n",
       "      <td>22.680000</td>\n",
       "      <td>22.153240</td>\n",
       "      <td>66281500</td>\n",
       "    </tr>\n",
       "    <tr>\n",
       "      <th>2017-01-09</th>\n",
       "      <td>22.510000</td>\n",
       "      <td>22.709999</td>\n",
       "      <td>22.400000</td>\n",
       "      <td>22.549999</td>\n",
       "      <td>22.026258</td>\n",
       "      <td>75744700</td>\n",
       "    </tr>\n",
       "  </tbody>\n",
       "</table>\n",
       "</div>"
      ],
      "text/plain": [
       "                 Open       High        Low      Close  Adj Close    Volume\n",
       "Date                                                                       \n",
       "2017-01-03  22.600000  22.680000  22.200001  22.530001  22.006727  99298100\n",
       "2017-01-04  22.719999  22.959999  22.600000  22.950001  22.416971  76875100\n",
       "2017-01-05  22.820000  22.930000  22.350000  22.680000  22.153240  86826400\n",
       "2017-01-06  22.780001  22.850000  22.559999  22.680000  22.153240  66281500\n",
       "2017-01-09  22.510000  22.709999  22.400000  22.549999  22.026258  75744700"
      ]
     },
     "execution_count": 8,
     "metadata": {},
     "output_type": "execute_result"
    }
   ],
   "source": [
    "bac.head()"
   ]
  },
  {
   "cell_type": "code",
   "execution_count": 9,
   "id": "039d00d4-6738-48fe-9f90-6439ff2d4fc0",
   "metadata": {},
   "outputs": [],
   "source": [
    "six_month_bac = bac.loc['2017-01-03':'2017-06-03', :]"
   ]
  },
  {
   "cell_type": "code",
   "execution_count": 10,
   "id": "59469d2d-75f5-4f72-b687-7f4d611b7b82",
   "metadata": {},
   "outputs": [
    {
     "data": {
      "text/html": [
       "<div>\n",
       "<style scoped>\n",
       "    .dataframe tbody tr th:only-of-type {\n",
       "        vertical-align: middle;\n",
       "    }\n",
       "\n",
       "    .dataframe tbody tr th {\n",
       "        vertical-align: top;\n",
       "    }\n",
       "\n",
       "    .dataframe thead th {\n",
       "        text-align: right;\n",
       "    }\n",
       "</style>\n",
       "<table border=\"1\" class=\"dataframe\">\n",
       "  <thead>\n",
       "    <tr style=\"text-align: right;\">\n",
       "      <th></th>\n",
       "      <th>Open</th>\n",
       "      <th>High</th>\n",
       "      <th>Low</th>\n",
       "      <th>Close</th>\n",
       "      <th>Adj Close</th>\n",
       "      <th>Volume</th>\n",
       "    </tr>\n",
       "    <tr>\n",
       "      <th>Date</th>\n",
       "      <th></th>\n",
       "      <th></th>\n",
       "      <th></th>\n",
       "      <th></th>\n",
       "      <th></th>\n",
       "      <th></th>\n",
       "    </tr>\n",
       "  </thead>\n",
       "  <tbody>\n",
       "    <tr>\n",
       "      <th>2017-01-03</th>\n",
       "      <td>22.600000</td>\n",
       "      <td>22.680000</td>\n",
       "      <td>22.200001</td>\n",
       "      <td>22.530001</td>\n",
       "      <td>22.006727</td>\n",
       "      <td>99298100</td>\n",
       "    </tr>\n",
       "    <tr>\n",
       "      <th>2017-01-04</th>\n",
       "      <td>22.719999</td>\n",
       "      <td>22.959999</td>\n",
       "      <td>22.600000</td>\n",
       "      <td>22.950001</td>\n",
       "      <td>22.416971</td>\n",
       "      <td>76875100</td>\n",
       "    </tr>\n",
       "    <tr>\n",
       "      <th>2017-01-05</th>\n",
       "      <td>22.820000</td>\n",
       "      <td>22.930000</td>\n",
       "      <td>22.350000</td>\n",
       "      <td>22.680000</td>\n",
       "      <td>22.153240</td>\n",
       "      <td>86826400</td>\n",
       "    </tr>\n",
       "    <tr>\n",
       "      <th>2017-01-06</th>\n",
       "      <td>22.780001</td>\n",
       "      <td>22.850000</td>\n",
       "      <td>22.559999</td>\n",
       "      <td>22.680000</td>\n",
       "      <td>22.153240</td>\n",
       "      <td>66281500</td>\n",
       "    </tr>\n",
       "    <tr>\n",
       "      <th>2017-01-09</th>\n",
       "      <td>22.510000</td>\n",
       "      <td>22.709999</td>\n",
       "      <td>22.400000</td>\n",
       "      <td>22.549999</td>\n",
       "      <td>22.026258</td>\n",
       "      <td>75744700</td>\n",
       "    </tr>\n",
       "  </tbody>\n",
       "</table>\n",
       "</div>"
      ],
      "text/plain": [
       "                 Open       High        Low      Close  Adj Close    Volume\n",
       "Date                                                                       \n",
       "2017-01-03  22.600000  22.680000  22.200001  22.530001  22.006727  99298100\n",
       "2017-01-04  22.719999  22.959999  22.600000  22.950001  22.416971  76875100\n",
       "2017-01-05  22.820000  22.930000  22.350000  22.680000  22.153240  86826400\n",
       "2017-01-06  22.780001  22.850000  22.559999  22.680000  22.153240  66281500\n",
       "2017-01-09  22.510000  22.709999  22.400000  22.549999  22.026258  75744700"
      ]
     },
     "execution_count": 10,
     "metadata": {},
     "output_type": "execute_result"
    }
   ],
   "source": [
    "six_month_bac.head()"
   ]
  },
  {
   "cell_type": "code",
   "execution_count": null,
   "id": "b8239872-0914-4b08-9339-6996f066531c",
   "metadata": {},
   "outputs": [],
   "source": [
    "six_month_bac.drop(columns=['Volume','Open','High','Low', 'Close'], inplace=True)\n"
   ]
  },
  {
   "cell_type": "code",
   "execution_count": 12,
   "id": "62294a67-35c1-4745-bddf-50fcd2bceaa3",
   "metadata": {},
   "outputs": [
    {
     "data": {
      "text/plain": [
       "<AxesSubplot:xlabel='Date'>"
      ]
     },
     "execution_count": 12,
     "metadata": {},
     "output_type": "execute_result"
    },
    {
     "data": {
      "image/png": "[encoded data removed]",
      "text/plain": [
       "<Figure size 432x288 with 1 Axes>"
      ]
     },
     "metadata": {
      "needs_background": "light"
     },
     "output_type": "display_data"
    }
   ],
   "source": [
    "six_month_bac.pct_change().plot()"
   ]
  },
  {
   "cell_type": "code",
   "execution_count": null,
   "id": "fcebf2b6-09bf-4477-a060-42723a0bc0a4",
   "metadata": {},
   "outputs": [],
   "source": []
  },
  {
   "cell_type": "markdown",
   "id": "239fa3b9-53ea-4aa8-a823-1fbde965e22f",
   "metadata": {},
   "source": [
    "### CULIMNATION 2"
   ]
  },
  {
   "cell_type": "code",
   "execution_count": 31,
   "id": "6c3e1751-dfcc-4942-bff9-a591ec6e8d4f",
   "metadata": {},
   "outputs": [],
   "source": [
    "got = pd.read_csv('15-culmination-02/Resources/game_of_thrones.csv')"
   ]
  },
  {
   "cell_type": "code",
   "execution_count": 32,
   "id": "3696ce7c-421a-4a92-820b-d9039a1b3d6d",
   "metadata": {},
   "outputs": [
    {
     "data": {
      "text/html": [
       "<div>\n",
       "<style scoped>\n",
       "    .dataframe tbody tr th:only-of-type {\n",
       "        vertical-align: middle;\n",
       "    }\n",
       "\n",
       "    .dataframe tbody tr th {\n",
       "        vertical-align: top;\n",
       "    }\n",
       "\n",
       "    .dataframe thead th {\n",
       "        text-align: right;\n",
       "    }\n",
       "</style>\n",
       "<table border=\"1\" class=\"dataframe\">\n",
       "  <thead>\n",
       "    <tr style=\"text-align: right;\">\n",
       "      <th></th>\n",
       "      <th>Name</th>\n",
       "      <th>Allegiances</th>\n",
       "      <th>Death Year</th>\n",
       "      <th>Book of Death</th>\n",
       "      <th>Death Chapter</th>\n",
       "      <th>Book Intro Chapter</th>\n",
       "      <th>Gender</th>\n",
       "      <th>Nobility</th>\n",
       "      <th>GoT</th>\n",
       "      <th>CoK</th>\n",
       "      <th>SoS</th>\n",
       "      <th>FfC</th>\n",
       "      <th>DwD</th>\n",
       "    </tr>\n",
       "  </thead>\n",
       "  <tbody>\n",
       "    <tr>\n",
       "      <th>0</th>\n",
       "      <td>Addam Marbrand</td>\n",
       "      <td>Lannister</td>\n",
       "      <td>NaN</td>\n",
       "      <td>NaN</td>\n",
       "      <td>NaN</td>\n",
       "      <td>56.0</td>\n",
       "      <td>1</td>\n",
       "      <td>1</td>\n",
       "      <td>1</td>\n",
       "      <td>1</td>\n",
       "      <td>1</td>\n",
       "      <td>1</td>\n",
       "      <td>0</td>\n",
       "    </tr>\n",
       "    <tr>\n",
       "      <th>1</th>\n",
       "      <td>Aegon Frey (Jinglebell)</td>\n",
       "      <td>None</td>\n",
       "      <td>299.0</td>\n",
       "      <td>3.0</td>\n",
       "      <td>51.0</td>\n",
       "      <td>49.0</td>\n",
       "      <td>1</td>\n",
       "      <td>1</td>\n",
       "      <td>0</td>\n",
       "      <td>0</td>\n",
       "      <td>1</td>\n",
       "      <td>0</td>\n",
       "      <td>0</td>\n",
       "    </tr>\n",
       "    <tr>\n",
       "      <th>2</th>\n",
       "      <td>Aegon Targaryen</td>\n",
       "      <td>House Targaryen</td>\n",
       "      <td>NaN</td>\n",
       "      <td>NaN</td>\n",
       "      <td>NaN</td>\n",
       "      <td>5.0</td>\n",
       "      <td>1</td>\n",
       "      <td>1</td>\n",
       "      <td>0</td>\n",
       "      <td>0</td>\n",
       "      <td>0</td>\n",
       "      <td>0</td>\n",
       "      <td>1</td>\n",
       "    </tr>\n",
       "    <tr>\n",
       "      <th>3</th>\n",
       "      <td>Adrack Humble</td>\n",
       "      <td>House Greyjoy</td>\n",
       "      <td>300.0</td>\n",
       "      <td>5.0</td>\n",
       "      <td>20.0</td>\n",
       "      <td>20.0</td>\n",
       "      <td>1</td>\n",
       "      <td>1</td>\n",
       "      <td>0</td>\n",
       "      <td>0</td>\n",
       "      <td>0</td>\n",
       "      <td>0</td>\n",
       "      <td>1</td>\n",
       "    </tr>\n",
       "    <tr>\n",
       "      <th>4</th>\n",
       "      <td>Aemon Costayne</td>\n",
       "      <td>Lannister</td>\n",
       "      <td>NaN</td>\n",
       "      <td>NaN</td>\n",
       "      <td>NaN</td>\n",
       "      <td>NaN</td>\n",
       "      <td>1</td>\n",
       "      <td>1</td>\n",
       "      <td>0</td>\n",
       "      <td>0</td>\n",
       "      <td>1</td>\n",
       "      <td>0</td>\n",
       "      <td>0</td>\n",
       "    </tr>\n",
       "  </tbody>\n",
       "</table>\n",
       "</div>"
      ],
      "text/plain": [
       "                      Name      Allegiances  Death Year  Book of Death  \\\n",
       "0           Addam Marbrand        Lannister         NaN            NaN   \n",
       "1  Aegon Frey (Jinglebell)             None       299.0            3.0   \n",
       "2          Aegon Targaryen  House Targaryen         NaN            NaN   \n",
       "3            Adrack Humble    House Greyjoy       300.0            5.0   \n",
       "4           Aemon Costayne        Lannister         NaN            NaN   \n",
       "\n",
       "   Death Chapter  Book Intro Chapter  Gender  Nobility  GoT  CoK  SoS  FfC  \\\n",
       "0            NaN                56.0       1         1    1    1    1    1   \n",
       "1           51.0                49.0       1         1    0    0    1    0   \n",
       "2            NaN                 5.0       1         1    0    0    0    0   \n",
       "3           20.0                20.0       1         1    0    0    0    0   \n",
       "4            NaN                 NaN       1         1    0    0    1    0   \n",
       "\n",
       "   DwD  \n",
       "0    0  \n",
       "1    0  \n",
       "2    1  \n",
       "3    1  \n",
       "4    0  "
      ]
     },
     "execution_count": 32,
     "metadata": {},
     "output_type": "execute_result"
    }
   ],
   "source": [
    "got.head()"
   ]
  },
  {
   "cell_type": "code",
   "execution_count": 33,
   "id": "697d7a0f-8e6e-4959-843f-b25a3d0aa5bc",
   "metadata": {},
   "outputs": [
    {
     "data": {
      "text/plain": [
       "array(['Lannister', 'None', 'House Targaryen', 'House Greyjoy',\n",
       "       'Baratheon', \"Night's Watch\", 'Arryn', 'House Stark',\n",
       "       'House Tyrell', 'Tyrell', 'Stark', 'Greyjoy', 'House Lannister',\n",
       "       'Martell', 'House Martell', 'Wildling', 'Targaryen', 'House Arryn',\n",
       "       'House Tully', 'Tully', 'House Baratheon'], dtype=object)"
      ]
     },
     "execution_count": 33,
     "metadata": {},
     "output_type": "execute_result"
    }
   ],
   "source": [
    "got['Allegiances'].unique()"
   ]
  },
  {
   "cell_type": "code",
   "execution_count": 34,
   "id": "da3141f3-12ca-455b-b7a0-8bcf90106693",
   "metadata": {},
   "outputs": [],
   "source": [
    "name_got = got[['Allegiances', 'Name']] #double brtacket to select"
   ]
  },
  {
   "cell_type": "code",
   "execution_count": 35,
   "id": "158a2b59-dd48-42d8-81a6-160dbb3d2b51",
   "metadata": {},
   "outputs": [
    {
     "data": {
      "text/html": [
       "<div>\n",
       "<style scoped>\n",
       "    .dataframe tbody tr th:only-of-type {\n",
       "        vertical-align: middle;\n",
       "    }\n",
       "\n",
       "    .dataframe tbody tr th {\n",
       "        vertical-align: top;\n",
       "    }\n",
       "\n",
       "    .dataframe thead th {\n",
       "        text-align: right;\n",
       "    }\n",
       "</style>\n",
       "<table border=\"1\" class=\"dataframe\">\n",
       "  <thead>\n",
       "    <tr style=\"text-align: right;\">\n",
       "      <th></th>\n",
       "      <th>Allegiances</th>\n",
       "      <th>Name</th>\n",
       "    </tr>\n",
       "  </thead>\n",
       "  <tbody>\n",
       "    <tr>\n",
       "      <th>0</th>\n",
       "      <td>Lannister</td>\n",
       "      <td>Addam Marbrand</td>\n",
       "    </tr>\n",
       "    <tr>\n",
       "      <th>1</th>\n",
       "      <td>None</td>\n",
       "      <td>Aegon Frey (Jinglebell)</td>\n",
       "    </tr>\n",
       "    <tr>\n",
       "      <th>2</th>\n",
       "      <td>House Targaryen</td>\n",
       "      <td>Aegon Targaryen</td>\n",
       "    </tr>\n",
       "    <tr>\n",
       "      <th>3</th>\n",
       "      <td>House Greyjoy</td>\n",
       "      <td>Adrack Humble</td>\n",
       "    </tr>\n",
       "    <tr>\n",
       "      <th>4</th>\n",
       "      <td>Lannister</td>\n",
       "      <td>Aemon Costayne</td>\n",
       "    </tr>\n",
       "  </tbody>\n",
       "</table>\n",
       "</div>"
      ],
      "text/plain": [
       "       Allegiances                     Name\n",
       "0        Lannister           Addam Marbrand\n",
       "1             None  Aegon Frey (Jinglebell)\n",
       "2  House Targaryen          Aegon Targaryen\n",
       "3    House Greyjoy            Adrack Humble\n",
       "4        Lannister           Aemon Costayne"
      ]
     },
     "execution_count": 35,
     "metadata": {},
     "output_type": "execute_result"
    }
   ],
   "source": [
    "name_got.head()"
   ]
  },
  {
   "cell_type": "code",
   "execution_count": 41,
   "id": "71184f53-5b70-4593-af08-6de0e71fa3a6",
   "metadata": {},
   "outputs": [],
   "source": [
    "got_houses= name_got.groupby(['Allegiances']).count()"
   ]
  },
  {
   "cell_type": "code",
   "execution_count": 42,
   "id": "8a91026b-2274-4f8b-9a3f-6a063bc76948",
   "metadata": {},
   "outputs": [
    {
     "data": {
      "text/html": [
       "<div>\n",
       "<style scoped>\n",
       "    .dataframe tbody tr th:only-of-type {\n",
       "        vertical-align: middle;\n",
       "    }\n",
       "\n",
       "    .dataframe tbody tr th {\n",
       "        vertical-align: top;\n",
       "    }\n",
       "\n",
       "    .dataframe thead th {\n",
       "        text-align: right;\n",
       "    }\n",
       "</style>\n",
       "<table border=\"1\" class=\"dataframe\">\n",
       "  <thead>\n",
       "    <tr style=\"text-align: right;\">\n",
       "      <th></th>\n",
       "      <th>Name</th>\n",
       "    </tr>\n",
       "    <tr>\n",
       "      <th>Allegiances</th>\n",
       "      <th></th>\n",
       "    </tr>\n",
       "  </thead>\n",
       "  <tbody>\n",
       "    <tr>\n",
       "      <th>Arryn</th>\n",
       "      <td>23</td>\n",
       "    </tr>\n",
       "    <tr>\n",
       "      <th>Baratheon</th>\n",
       "      <td>56</td>\n",
       "    </tr>\n",
       "    <tr>\n",
       "      <th>Greyjoy</th>\n",
       "      <td>51</td>\n",
       "    </tr>\n",
       "    <tr>\n",
       "      <th>House Arryn</th>\n",
       "      <td>7</td>\n",
       "    </tr>\n",
       "    <tr>\n",
       "      <th>House Baratheon</th>\n",
       "      <td>8</td>\n",
       "    </tr>\n",
       "    <tr>\n",
       "      <th>House Greyjoy</th>\n",
       "      <td>24</td>\n",
       "    </tr>\n",
       "    <tr>\n",
       "      <th>House Lannister</th>\n",
       "      <td>21</td>\n",
       "    </tr>\n",
       "    <tr>\n",
       "      <th>House Martell</th>\n",
       "      <td>12</td>\n",
       "    </tr>\n",
       "    <tr>\n",
       "      <th>House Stark</th>\n",
       "      <td>35</td>\n",
       "    </tr>\n",
       "    <tr>\n",
       "      <th>House Targaryen</th>\n",
       "      <td>19</td>\n",
       "    </tr>\n",
       "    <tr>\n",
       "      <th>House Tully</th>\n",
       "      <td>8</td>\n",
       "    </tr>\n",
       "    <tr>\n",
       "      <th>House Tyrell</th>\n",
       "      <td>11</td>\n",
       "    </tr>\n",
       "    <tr>\n",
       "      <th>Lannister</th>\n",
       "      <td>81</td>\n",
       "    </tr>\n",
       "    <tr>\n",
       "      <th>Martell</th>\n",
       "      <td>25</td>\n",
       "    </tr>\n",
       "    <tr>\n",
       "      <th>Night's Watch</th>\n",
       "      <td>116</td>\n",
       "    </tr>\n",
       "    <tr>\n",
       "      <th>None</th>\n",
       "      <td>253</td>\n",
       "    </tr>\n",
       "    <tr>\n",
       "      <th>Stark</th>\n",
       "      <td>73</td>\n",
       "    </tr>\n",
       "    <tr>\n",
       "      <th>Targaryen</th>\n",
       "      <td>17</td>\n",
       "    </tr>\n",
       "    <tr>\n",
       "      <th>Tully</th>\n",
       "      <td>22</td>\n",
       "    </tr>\n",
       "    <tr>\n",
       "      <th>Tyrell</th>\n",
       "      <td>15</td>\n",
       "    </tr>\n",
       "    <tr>\n",
       "      <th>Wildling</th>\n",
       "      <td>40</td>\n",
       "    </tr>\n",
       "  </tbody>\n",
       "</table>\n",
       "</div>"
      ],
      "text/plain": [
       "                 Name\n",
       "Allegiances          \n",
       "Arryn              23\n",
       "Baratheon          56\n",
       "Greyjoy            51\n",
       "House Arryn         7\n",
       "House Baratheon     8\n",
       "House Greyjoy      24\n",
       "House Lannister    21\n",
       "House Martell      12\n",
       "House Stark        35\n",
       "House Targaryen    19\n",
       "House Tully         8\n",
       "House Tyrell       11\n",
       "Lannister          81\n",
       "Martell            25\n",
       "Night's Watch     116\n",
       "None              253\n",
       "Stark              73\n",
       "Targaryen          17\n",
       "Tully              22\n",
       "Tyrell             15\n",
       "Wildling           40"
      ]
     },
     "execution_count": 42,
     "metadata": {},
     "output_type": "execute_result"
    }
   ],
   "source": [
    "got_houses"
   ]
  },
  {
   "cell_type": "code",
   "execution_count": 43,
   "id": "df267604-476b-472f-a55b-325b2ffe4ffb",
   "metadata": {},
   "outputs": [],
   "source": [
    "got_houses.columns = ['Members']"
   ]
  },
  {
   "cell_type": "code",
   "execution_count": 44,
   "id": "d883743b-d234-46c2-ad96-494e8d0b6e2c",
   "metadata": {},
   "outputs": [
    {
     "data": {
      "text/html": [
       "<div>\n",
       "<style scoped>\n",
       "    .dataframe tbody tr th:only-of-type {\n",
       "        vertical-align: middle;\n",
       "    }\n",
       "\n",
       "    .dataframe tbody tr th {\n",
       "        vertical-align: top;\n",
       "    }\n",
       "\n",
       "    .dataframe thead th {\n",
       "        text-align: right;\n",
       "    }\n",
       "</style>\n",
       "<table border=\"1\" class=\"dataframe\">\n",
       "  <thead>\n",
       "    <tr style=\"text-align: right;\">\n",
       "      <th></th>\n",
       "      <th>Members</th>\n",
       "    </tr>\n",
       "    <tr>\n",
       "      <th>Allegiances</th>\n",
       "      <th></th>\n",
       "    </tr>\n",
       "  </thead>\n",
       "  <tbody>\n",
       "    <tr>\n",
       "      <th>Arryn</th>\n",
       "      <td>23</td>\n",
       "    </tr>\n",
       "    <tr>\n",
       "      <th>Baratheon</th>\n",
       "      <td>56</td>\n",
       "    </tr>\n",
       "    <tr>\n",
       "      <th>Greyjoy</th>\n",
       "      <td>51</td>\n",
       "    </tr>\n",
       "    <tr>\n",
       "      <th>House Arryn</th>\n",
       "      <td>7</td>\n",
       "    </tr>\n",
       "    <tr>\n",
       "      <th>House Baratheon</th>\n",
       "      <td>8</td>\n",
       "    </tr>\n",
       "  </tbody>\n",
       "</table>\n",
       "</div>"
      ],
      "text/plain": [
       "                 Members\n",
       "Allegiances             \n",
       "Arryn                 23\n",
       "Baratheon             56\n",
       "Greyjoy               51\n",
       "House Arryn            7\n",
       "House Baratheon        8"
      ]
     },
     "execution_count": 44,
     "metadata": {},
     "output_type": "execute_result"
    }
   ],
   "source": [
    "got_houses.head()"
   ]
  },
  {
   "cell_type": "code",
   "execution_count": 50,
   "id": "4a11a064-0815-460a-9848-684411df98c7",
   "metadata": {},
   "outputs": [],
   "source": [
    "got_houses.sort_values(['Members'], ascending=False, inplace=True)"
   ]
  },
  {
   "cell_type": "code",
   "execution_count": 51,
   "id": "44e1b7a9-da77-472d-81c1-9e510f1cef4f",
   "metadata": {},
   "outputs": [
    {
     "data": {
      "text/html": [
       "<div>\n",
       "<style scoped>\n",
       "    .dataframe tbody tr th:only-of-type {\n",
       "        vertical-align: middle;\n",
       "    }\n",
       "\n",
       "    .dataframe tbody tr th {\n",
       "        vertical-align: top;\n",
       "    }\n",
       "\n",
       "    .dataframe thead th {\n",
       "        text-align: right;\n",
       "    }\n",
       "</style>\n",
       "<table border=\"1\" class=\"dataframe\">\n",
       "  <thead>\n",
       "    <tr style=\"text-align: right;\">\n",
       "      <th></th>\n",
       "      <th>Members</th>\n",
       "    </tr>\n",
       "    <tr>\n",
       "      <th>Allegiances</th>\n",
       "      <th></th>\n",
       "    </tr>\n",
       "  </thead>\n",
       "  <tbody>\n",
       "    <tr>\n",
       "      <th>None</th>\n",
       "      <td>253</td>\n",
       "    </tr>\n",
       "    <tr>\n",
       "      <th>Night's Watch</th>\n",
       "      <td>116</td>\n",
       "    </tr>\n",
       "    <tr>\n",
       "      <th>Lannister</th>\n",
       "      <td>81</td>\n",
       "    </tr>\n",
       "    <tr>\n",
       "      <th>Stark</th>\n",
       "      <td>73</td>\n",
       "    </tr>\n",
       "    <tr>\n",
       "      <th>Baratheon</th>\n",
       "      <td>56</td>\n",
       "    </tr>\n",
       "    <tr>\n",
       "      <th>Greyjoy</th>\n",
       "      <td>51</td>\n",
       "    </tr>\n",
       "    <tr>\n",
       "      <th>Wildling</th>\n",
       "      <td>40</td>\n",
       "    </tr>\n",
       "    <tr>\n",
       "      <th>House Stark</th>\n",
       "      <td>35</td>\n",
       "    </tr>\n",
       "    <tr>\n",
       "      <th>Martell</th>\n",
       "      <td>25</td>\n",
       "    </tr>\n",
       "    <tr>\n",
       "      <th>House Greyjoy</th>\n",
       "      <td>24</td>\n",
       "    </tr>\n",
       "    <tr>\n",
       "      <th>Arryn</th>\n",
       "      <td>23</td>\n",
       "    </tr>\n",
       "    <tr>\n",
       "      <th>Tully</th>\n",
       "      <td>22</td>\n",
       "    </tr>\n",
       "    <tr>\n",
       "      <th>House Lannister</th>\n",
       "      <td>21</td>\n",
       "    </tr>\n",
       "    <tr>\n",
       "      <th>House Targaryen</th>\n",
       "      <td>19</td>\n",
       "    </tr>\n",
       "    <tr>\n",
       "      <th>Targaryen</th>\n",
       "      <td>17</td>\n",
       "    </tr>\n",
       "    <tr>\n",
       "      <th>Tyrell</th>\n",
       "      <td>15</td>\n",
       "    </tr>\n",
       "    <tr>\n",
       "      <th>House Martell</th>\n",
       "      <td>12</td>\n",
       "    </tr>\n",
       "    <tr>\n",
       "      <th>House Tyrell</th>\n",
       "      <td>11</td>\n",
       "    </tr>\n",
       "    <tr>\n",
       "      <th>House Baratheon</th>\n",
       "      <td>8</td>\n",
       "    </tr>\n",
       "    <tr>\n",
       "      <th>House Tully</th>\n",
       "      <td>8</td>\n",
       "    </tr>\n",
       "    <tr>\n",
       "      <th>House Arryn</th>\n",
       "      <td>7</td>\n",
       "    </tr>\n",
       "  </tbody>\n",
       "</table>\n",
       "</div>"
      ],
      "text/plain": [
       "                 Members\n",
       "Allegiances             \n",
       "None                 253\n",
       "Night's Watch        116\n",
       "Lannister             81\n",
       "Stark                 73\n",
       "Baratheon             56\n",
       "Greyjoy               51\n",
       "Wildling              40\n",
       "House Stark           35\n",
       "Martell               25\n",
       "House Greyjoy         24\n",
       "Arryn                 23\n",
       "Tully                 22\n",
       "House Lannister       21\n",
       "House Targaryen       19\n",
       "Targaryen             17\n",
       "Tyrell                15\n",
       "House Martell         12\n",
       "House Tyrell          11\n",
       "House Baratheon        8\n",
       "House Tully            8\n",
       "House Arryn            7"
      ]
     },
     "execution_count": 51,
     "metadata": {},
     "output_type": "execute_result"
    }
   ],
   "source": [
    "got_houses"
   ]
  },
  {
   "cell_type": "code",
   "execution_count": null,
   "id": "48b848cf-11a0-4d4a-9e8b-1a06cff122d7",
   "metadata": {},
   "outputs": [],
   "source": []
  }
 ],
 "metadata": {
  "kernelspec": {
   "display_name": "Python 3",
   "language": "python",
   "name": "python3"
  },
  "language_info": {
   "codemirror_mode": {
    "name": "ipython",
    "version": 3
   },
   "file_extension": ".py",
   "mimetype": "text/x-python",
   "name": "python",
   "nbconvert_exporter": "python",
   "pygments_lexer": "ipython3",
   "version": "3.7.10"
  }
 },
 "nbformat": 4,
 "nbformat_minor": 5
}
