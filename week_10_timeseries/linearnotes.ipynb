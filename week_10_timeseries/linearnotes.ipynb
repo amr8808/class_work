{
 "cells": [
  {
   "cell_type": "markdown",
   "id": "718c2f54",
   "metadata": {},
   "source": [
    "#### Linear Regression\n",
    "\n",
    "- y = mx +b"
   ]
  },
  {
   "cell_type": "markdown",
   "id": "e807a95d",
   "metadata": {},
   "source": [
    "#### Model Evaluation\n",
    "\n",
    "- How do I make sure my model works?\n",
    "    - model is used to observe trends and predict\n",
    "    \n",
    "- split all data into 3 main sets\n",
    "    - Training\n",
    "        - ~70-80% of data\n",
    "    - Validation\n",
    "        - ~10-15% of data\n",
    "    - Testing\n",
    "        - ~10-15% of data  \n",
    "    \n",
    "- static phenomena\n",
    "    - 1000 samples of a cancer detection data set\n",
    "        - assign a random number between 0-100\n",
    "            - if rand </= 70 'training'\n",
    "            - elif rand >70 and < 85 'validation'\n",
    "            - elif rand >85 'test\n",
    "            \n",
    "     x_test_df = features/inputvector\n",
    "     y_test_df = ground truth or target variable\n",
    "             -model.predict(x_val_df) = y_pred_val_df\n",
    "     \n",
    "- time phenomena \n",
    "\n",
    "\n",
    "    "
   ]
  },
  {
   "cell_type": "code",
   "execution_count": null,
   "id": "1b368842",
   "metadata": {},
   "outputs": [],
   "source": []
  }
 ],
 "metadata": {
  "kernelspec": {
   "display_name": "Python [conda env:pyvizenv] *",
   "language": "python",
   "name": "conda-env-pyvizenv-py"
  },
  "language_info": {
   "codemirror_mode": {
    "name": "ipython",
    "version": 3
   },
   "file_extension": ".py",
   "mimetype": "text/x-python",
   "name": "python",
   "nbconvert_exporter": "python",
   "pygments_lexer": "ipython3",
   "version": "3.7.10"
  }
 },
 "nbformat": 4,
 "nbformat_minor": 5
}
