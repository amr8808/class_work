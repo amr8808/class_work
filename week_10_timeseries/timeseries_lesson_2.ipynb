{
 "cells": [
  {
   "cell_type": "markdown",
   "id": "4e260b40",
   "metadata": {},
   "source": [
    "#### Time Series Models\n",
    "\n",
    "- Examples of **non**-time series models\n",
    "    - is cat is dog\n",
    "    - face recognition\n",
    "- Examples of time series mondels (dependent on ***WHEN*** happen)\n",
    "    - weather forecasting\n",
    "    - price prediction\n",
    "    - demand forecasting\n",
    "    - inventory\n",
    "    - supply chain \n",
    "\n",
    "- Stationarity \n",
    "    - nice properties \n",
    "    - easy to model\n",
    "    - only need the mu and sigma to describe them {mu = mean and sigma = standard deviation)\n",
    "    - only need ***first two moments of expectation*** to characterize and model the process\n",
    "- Stationarity\n",
    "    - no\n",
    "    \n"
   ]
  },
  {
   "cell_type": "markdown",
   "id": "dd5012fa",
   "metadata": {},
   "source": []
  },
  {
   "cell_type": "code",
   "execution_count": null,
   "id": "3b4d667a",
   "metadata": {},
   "outputs": [],
   "source": []
  }
 ],
 "metadata": {
  "kernelspec": {
   "display_name": "Python [conda env:pyvizenv] *",
   "language": "python",
   "name": "conda-env-pyvizenv-py"
  },
  "language_info": {
   "codemirror_mode": {
    "name": "ipython",
    "version": 3
   },
   "file_extension": ".py",
   "mimetype": "text/x-python",
   "name": "python",
   "nbconvert_exporter": "python",
   "pygments_lexer": "ipython3",
   "version": "3.7.10"
  }
 },
 "nbformat": 4,
 "nbformat_minor": 5
}
