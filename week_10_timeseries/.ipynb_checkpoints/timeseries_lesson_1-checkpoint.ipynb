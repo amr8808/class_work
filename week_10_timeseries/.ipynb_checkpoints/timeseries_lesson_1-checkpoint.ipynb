{
 "cells": [
  {
   "cell_type": "markdown",
   "id": "a93f956c",
   "metadata": {},
   "source": [
    "## Time Series\n",
    "\n",
    "- Machine learning:\n",
    "    - supervised:\n",
    "        - Label or Target upon which the model can learn\n",
    "            - pbad (predicting default) outcome is 1 or 0\n",
    "            - classification can be binary (yes/no) or multiclassed (object detection)\n",
    "            - is cat is dog: provide examples of cat and dog\n",
    "            - `what is the function or equation that takes x vector and transforms it into y?`\n",
    "            - `h(x)=y`\n",
    "        \n",
    "    - unsupervised:\n",
    "        - no label, no target from which the model can learn\n",
    "        - distribution based\n",
    "            - anomaly detection: closer to the mean, more likely a part of the distribution, farther from the mean, more likely an anomaly          \n",
    "            "
   ]
  },
  {
   "cell_type": "markdown",
   "id": "2a441fdc",
   "metadata": {},
   "source": [
    "## Time Series Decomposition\n",
    "\n",
    "- 4 main components:\n",
    "    1. **Tt - Trend** exists when there ***IS*** a persisent increasing or decreeasing in the direction of the >data>\n",
    "    2. **Ct - Cyclical** represents repeated but NON-periodic fluctuations at time t\n",
    "    3. **St - Seasonality or Seasonal Variation** occurs over a fixed and known period.\n",
    "    4. **It - Irregular Component** results from short term fluctuations in a series which are not systematic and in some instances not predictable, e.g. uncharacteristic weather patterns\n",
    "    \n",
    "- Additive representation of a signal (Yt is any signal)\n",
    "    - Yt = Tt + Ct + St + It\n",
    "- Multiplicative representation of a signal (Yt is any signal)\n",
    "    - Yt = Tt * Ct * St * It"
   ]
  },
  {
   "cell_type": "markdown",
   "id": "8b982f54",
   "metadata": {},
   "source": [
    "## Time Series Decomposition\n",
    "\n",
    "- Metrics that we can extract from the signal\n",
    "    - Simple moving average\n",
    "        - moving average with window size = 7 takes current and previous 7 datapoints --> take average --> get result\n",
    "        - remove seasonality (noise) create smoother curve\n",
    "    - Exponentially weighted moving average: e^-x or e^x\n",
    "        - weight more recent data points higer than older ones.\n",
    "            - less lag, more weight - exponential scale\n",
    "    - Half life: how quickly an exponential function decays\n",
    "        - shorter half life = faster decay\n",
    "        - longer half life = slower decay\n",
    "    - Hodrick-Prescott Filter\n",
    "        - capture trend by minimizing local fluctuations\n",
    "            - mathematical function to separate short term flux such as the ones that occur daily from long term trends\n",
    "        - suggests to break the signal into trend and non-trend components\n",
    "            - {Time Series signal { Trend, Periodicity, Noise\n",
    "            - Time series signal - periodicity - noise\n",
    "        - if we neglect the noise:\n",
    "            - trend = time series signal - periodicity\n"
   ]
  },
  {
   "cell_type": "markdown",
   "id": "2bac3c6e",
   "metadata": {},
   "source": [
    "## Autocorrelation\n",
    "\n",
    "- How closely are current values correlated to past values?\n",
    "    - high autocorrelation: easily predictable with past trend\n",
    "        - moving average with window size = 7 takes current and previous 7 datapoints --> take average --> get result\n",
    "        - remove seasonality (noise) create smoother curve\n",
    "    - low autocorrelation: ***delta function***\n",
    "        - no trend/random walk/brownian motion (looks like pulse) previous points don't tell me anything"
   ]
  },
  {
   "cell_type": "code",
   "execution_count": null,
   "id": "7fb8a0e3",
   "metadata": {},
   "outputs": [],
   "source": []
  }
 ],
 "metadata": {
  "kernelspec": {
   "display_name": "Python [conda env:pyvizenv] *",
   "language": "python",
   "name": "conda-env-pyvizenv-py"
  },
  "language_info": {
   "codemirror_mode": {
    "name": "ipython",
    "version": 3
   },
   "file_extension": ".py",
   "mimetype": "text/x-python",
   "name": "python",
   "nbconvert_exporter": "python",
   "pygments_lexer": "ipython3",
   "version": "3.7.10"
  }
 },
 "nbformat": 4,
 "nbformat_minor": 5
}
