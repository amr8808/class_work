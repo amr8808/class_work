{
 "cells": [
  {
   "cell_type": "code",
   "execution_count": 11,
   "id": "3260aa36",
   "metadata": {},
   "outputs": [
    {
     "name": "stdout",
     "output_type": "stream",
     "text": [
      "the last word is world with length 5\n"
     ]
    }
   ],
   "source": [
    "s = 'hello world'\n",
    "ls = s.split(' ')\n",
    "last = ls[-1]\n",
    "lenlas = len(last)\n",
    "print (f'the last word is {last} with length {lenlas}')"
   ]
  },
  {
   "cell_type": "code",
   "execution_count": null,
   "id": "08c5023b",
   "metadata": {},
   "outputs": [],
   "source": []
  }
 ],
 "metadata": {
  "kernelspec": {
   "display_name": "Python [conda env:.conda-myenv]",
   "language": "python",
   "name": "conda-env-.conda-myenv-py"
  },
  "language_info": {
   "codemirror_mode": {
    "name": "ipython",
    "version": 3
   },
   "file_extension": ".py",
   "mimetype": "text/x-python",
   "name": "python",
   "nbconvert_exporter": "python",
   "pygments_lexer": "ipython3",
   "version": "3.7.9"
  }
 },
 "nbformat": 4,
 "nbformat_minor": 5
}
