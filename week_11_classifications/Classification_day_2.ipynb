{
 "cells": [
  {
   "cell_type": "markdown",
   "id": "ec7cc977",
   "metadata": {},
   "source": [
    "#### Trees and Ensemble Learning\n",
    "\n",
    "- Classification is supervised machine learning.\n",
    "    - for supervised learning tasks generally fall under a regression or classification problem.\n",
    "        - regression: predict a value on a continuum\n",
    "        - classification: identify an object??\n",
    "        \n",
    "     - tree based are more performant on categorical variables"
   ]
  },
  {
   "cell_type": "code",
   "execution_count": null,
   "id": "05e2da56",
   "metadata": {},
   "outputs": [],
   "source": []
  }
 ],
 "metadata": {
  "kernelspec": {
   "display_name": "Python [conda env:pyvizenv] *",
   "language": "python",
   "name": "conda-env-pyvizenv-py"
  },
  "language_info": {
   "codemirror_mode": {
    "name": "ipython",
    "version": 3
   },
   "file_extension": ".py",
   "mimetype": "text/x-python",
   "name": "python",
   "nbconvert_exporter": "python",
   "pygments_lexer": "ipython3",
   "version": "3.7.10"
  }
 },
 "nbformat": 4,
 "nbformat_minor": 5
}
