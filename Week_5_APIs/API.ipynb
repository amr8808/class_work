{
 "cells": [
  {
   "cell_type": "markdown",
   "id": "23b7d7bf-5b3d-4483-9f81-8d4fd113a6b8",
   "metadata": {},
   "source": [
    "## API & SDK Work"
   ]
  },
  {
   "cell_type": "markdown",
   "id": "3b52d0bb-f612-4733-a633-a6c728f9a899",
   "metadata": {},
   "source": [
    "#### API "
   ]
  },
  {
   "cell_type": "code",
   "execution_count": 25,
   "id": "6c0bab98-d662-4797-89fd-d40097184b80",
   "metadata": {},
   "outputs": [
    {
     "name": "stderr",
     "output_type": "stream",
     "text": [
      "ERROR: Invalid requirement: '#install'\n"
     ]
    }
   ],
   "source": [
    "!pip install python-dotenv #install dotenv"
   ]
  },
  {
   "cell_type": "code",
   "execution_count": 26,
   "id": "77b45980-c5f0-43eb-867a-ad97dbb1ab90",
   "metadata": {},
   "outputs": [],
   "source": [
    "from dotenv import load_dotenv #retrieve env values"
   ]
  },
  {
   "cell_type": "code",
   "execution_count": 27,
   "id": "f0aa1bb2-4df1-4cb8-8bbd-91ea5de060bc",
   "metadata": {},
   "outputs": [],
   "source": [
    "import os #connect to terminal"
   ]
  },
  {
   "cell_type": "code",
   "execution_count": 28,
   "id": "10c9ed21-12ee-45d6-b8bd-ef38bd6a4b9f",
   "metadata": {},
   "outputs": [
    {
     "data": {
      "text/plain": [
       "True"
      ]
     },
     "execution_count": 28,
     "metadata": {},
     "output_type": "execute_result"
    }
   ],
   "source": [
    "load_dotenv() #true means it worked"
   ]
  },
  {
   "cell_type": "code",
   "execution_count": 29,
   "id": "e95989d7-faf2-44fd-8477-c0330cb2a11a",
   "metadata": {},
   "outputs": [],
   "source": [
    "api_key = os.getenv('QUANDL_API_KEY') #retrieve given key and store as variable"
   ]
  },
  {
   "cell_type": "code",
   "execution_count": 30,
   "id": "b6f87ceb-3a38-43ff-8ee4-9d762aaa8239",
   "metadata": {},
   "outputs": [
    {
     "data": {
      "text/plain": [
       "'https://www.quandl.com/api/v3/datasets/WIKI/AAPL.json?api_key=__uNsgUst2sJDX4YXhxC'"
      ]
     },
     "execution_count": 30,
     "metadata": {},
     "output_type": "execute_result"
    }
   ],
   "source": [
    "import requests #python library to connect to url\n",
    "\n",
    "ticker = 'AAPL'\n",
    "#request_url = \"https://www.quandl.com/api/v3/datasets/WIKI/MSFT.json?api_key=\" #find in API documentation\n",
    "request_url = \"https://www.quandl.com/api/v3/datasets/WIKI/{}.json?api_key=\".format(ticker) #puts value in curly bracket\n",
    "request_url = request_url + api_key\n",
    "request_url\n",
    "\n",
    "\n",
    "# response_data = requests.get(request_url)"
   ]
  },
  {
   "cell_type": "code",
   "execution_count": null,
   "id": "14d9b023-bcaa-495b-9ce0-bdbcd4956181",
   "metadata": {},
   "outputs": [],
   "source": [
    "response_data = requests.get(request_url)\n",
    "response_data.content #returns json "
   ]
  },
  {
   "cell_type": "code",
   "execution_count": null,
   "id": "84789927-672f-49fc-9051-b6b19a73d3ef",
   "metadata": {},
   "outputs": [],
   "source": [
    "response_data_json = requests.get(request_url).json() #returns json file indented\n",
    "response_data_json"
   ]
  },
  {
   "cell_type": "code",
   "execution_count": null,
   "id": "8d17c3b5-e4af-4aa9-a714-909172bd9362",
   "metadata": {},
   "outputs": [],
   "source": []
  },
  {
   "cell_type": "markdown",
   "id": "934cdc2c-b296-4a38-990d-85a7f41c2dcf",
   "metadata": {},
   "source": [
    "#### SDK"
   ]
  },
  {
   "cell_type": "code",
   "execution_count": 33,
   "id": "1fc18e5a-39b5-4f33-a78d-e8020f0d72a5",
   "metadata": {},
   "outputs": [
    {
     "data": {
      "text/plain": [
       "True"
      ]
     },
     "execution_count": 33,
     "metadata": {},
     "output_type": "execute_result"
    }
   ],
   "source": [
    "#initial import\n",
    "import os\n",
    "import requests\n",
    "import pandas as pd\n",
    "from dotenv import load_dotenv\n",
    "import alpaca_trade_api as tradeapi\n",
    "load_dotenv()"
   ]
  },
  {
   "cell_type": "code",
   "execution_count": 34,
   "id": "d79d6644-72cd-47e9-baf7-f595d292fda9",
   "metadata": {},
   "outputs": [],
   "source": [
    "alpaca_api_key = os.getenv('ALPACA_API_KEY')\n",
    "alpaca_secret_key = os.getenv('ALPACA_SECRET_KEY')"
   ]
  },
  {
   "cell_type": "code",
   "execution_count": null,
   "id": "36111399-b25a-4364-9dcc-80bf1d892594",
   "metadata": {},
   "outputs": [],
   "source": []
  },
  {
   "cell_type": "code",
   "execution_count": 35,
   "id": "5c72fd36-e018-4156-8722-4b6fbc61ee9c",
   "metadata": {},
   "outputs": [],
   "source": [
    "# Create the Alpaca API object\n",
    "alpaca = tradeapi.REST(\n",
    "    alpaca_api_key,\n",
    "    alpaca_secret_key,\n",
    "    api_version=\"v2\")"
   ]
  },
  {
   "cell_type": "code",
   "execution_count": 36,
   "id": "b69c290e-a222-4c38-afbe-745722e06529",
   "metadata": {},
   "outputs": [],
   "source": [
    "# Format current date as ISO format\n",
    "today = pd.Timestamp(\"2021-09-15\", tz=\"America/New_York\").isoformat()\n",
    "end_date = pd.Timestamp('2021-09-20', tz=\"America/New_York\").isoformat()\n",
    "start_date = pd.Timestamp('2017-07-14', tz=\"America/New_York\").isoformat()"
   ]
  },
  {
   "cell_type": "code",
   "execution_count": 37,
   "id": "e3bb0e46-26e7-4682-869d-4f80e50241d6",
   "metadata": {},
   "outputs": [],
   "source": [
    "tickers = [\"FB\", \"TWTR\", 'MSFT']\n",
    "timeframe = '1D' #check alpaca documentation"
   ]
  },
  {
   "cell_type": "code",
   "execution_count": 38,
   "id": "793f82af-5b59-4a5a-94f1-2e7b4212a16a",
   "metadata": {},
   "outputs": [
    {
     "data": {
      "text/html": [
       "<div>\n",
       "<style scoped>\n",
       "    .dataframe tbody tr th:only-of-type {\n",
       "        vertical-align: middle;\n",
       "    }\n",
       "\n",
       "    .dataframe tbody tr th {\n",
       "        vertical-align: top;\n",
       "    }\n",
       "\n",
       "    .dataframe thead tr th {\n",
       "        text-align: left;\n",
       "    }\n",
       "\n",
       "    .dataframe thead tr:last-of-type th {\n",
       "        text-align: right;\n",
       "    }\n",
       "</style>\n",
       "<table border=\"1\" class=\"dataframe\">\n",
       "  <thead>\n",
       "    <tr>\n",
       "      <th></th>\n",
       "      <th colspan=\"5\" halign=\"left\">FB</th>\n",
       "      <th colspan=\"5\" halign=\"left\">MSFT</th>\n",
       "      <th colspan=\"5\" halign=\"left\">TWTR</th>\n",
       "    </tr>\n",
       "    <tr>\n",
       "      <th></th>\n",
       "      <th>open</th>\n",
       "      <th>high</th>\n",
       "      <th>low</th>\n",
       "      <th>close</th>\n",
       "      <th>volume</th>\n",
       "      <th>open</th>\n",
       "      <th>high</th>\n",
       "      <th>low</th>\n",
       "      <th>close</th>\n",
       "      <th>volume</th>\n",
       "      <th>open</th>\n",
       "      <th>high</th>\n",
       "      <th>low</th>\n",
       "      <th>close</th>\n",
       "      <th>volume</th>\n",
       "    </tr>\n",
       "    <tr>\n",
       "      <th>time</th>\n",
       "      <th></th>\n",
       "      <th></th>\n",
       "      <th></th>\n",
       "      <th></th>\n",
       "      <th></th>\n",
       "      <th></th>\n",
       "      <th></th>\n",
       "      <th></th>\n",
       "      <th></th>\n",
       "      <th></th>\n",
       "      <th></th>\n",
       "      <th></th>\n",
       "      <th></th>\n",
       "      <th></th>\n",
       "      <th></th>\n",
       "    </tr>\n",
       "  </thead>\n",
       "  <tbody>\n",
       "    <tr>\n",
       "      <th>2021-04-29 00:00:00-04:00</th>\n",
       "      <td>330.17</td>\n",
       "      <td>331.81</td>\n",
       "      <td>321.61</td>\n",
       "      <td>329.51</td>\n",
       "      <td>52346724</td>\n",
       "      <td>255.50</td>\n",
       "      <td>256.10</td>\n",
       "      <td>249.00</td>\n",
       "      <td>252.4600</td>\n",
       "      <td>36861606</td>\n",
       "      <td>66.98</td>\n",
       "      <td>67.05</td>\n",
       "      <td>63.9850</td>\n",
       "      <td>65.0900</td>\n",
       "      <td>21329697</td>\n",
       "    </tr>\n",
       "    <tr>\n",
       "      <th>2021-04-30 00:00:00-04:00</th>\n",
       "      <td>326.18</td>\n",
       "      <td>329.82</td>\n",
       "      <td>324.50</td>\n",
       "      <td>325.25</td>\n",
       "      <td>22944241</td>\n",
       "      <td>249.74</td>\n",
       "      <td>253.08</td>\n",
       "      <td>249.60</td>\n",
       "      <td>252.2700</td>\n",
       "      <td>25046626</td>\n",
       "      <td>56.04</td>\n",
       "      <td>57.63</td>\n",
       "      <td>55.0500</td>\n",
       "      <td>55.2200</td>\n",
       "      <td>81659560</td>\n",
       "    </tr>\n",
       "    <tr>\n",
       "      <th>2021-05-03 00:00:00-04:00</th>\n",
       "      <td>326.17</td>\n",
       "      <td>328.55</td>\n",
       "      <td>321.84</td>\n",
       "      <td>322.60</td>\n",
       "      <td>16636436</td>\n",
       "      <td>253.39</td>\n",
       "      <td>254.35</td>\n",
       "      <td>251.12</td>\n",
       "      <td>251.8801</td>\n",
       "      <td>16462636</td>\n",
       "      <td>55.52</td>\n",
       "      <td>55.55</td>\n",
       "      <td>52.6700</td>\n",
       "      <td>54.6066</td>\n",
       "      <td>75397792</td>\n",
       "    </tr>\n",
       "    <tr>\n",
       "      <th>2021-05-04 00:00:00-04:00</th>\n",
       "      <td>320.02</td>\n",
       "      <td>322.19</td>\n",
       "      <td>313.12</td>\n",
       "      <td>318.47</td>\n",
       "      <td>21014602</td>\n",
       "      <td>250.97</td>\n",
       "      <td>251.21</td>\n",
       "      <td>245.76</td>\n",
       "      <td>247.8900</td>\n",
       "      <td>25849106</td>\n",
       "      <td>55.24</td>\n",
       "      <td>55.72</td>\n",
       "      <td>53.1600</td>\n",
       "      <td>54.4200</td>\n",
       "      <td>27959433</td>\n",
       "    </tr>\n",
       "    <tr>\n",
       "      <th>2021-05-05 00:00:00-04:00</th>\n",
       "      <td>318.17</td>\n",
       "      <td>321.06</td>\n",
       "      <td>314.49</td>\n",
       "      <td>315.02</td>\n",
       "      <td>13467994</td>\n",
       "      <td>248.98</td>\n",
       "      <td>249.50</td>\n",
       "      <td>245.82</td>\n",
       "      <td>246.5100</td>\n",
       "      <td>17888246</td>\n",
       "      <td>54.96</td>\n",
       "      <td>54.97</td>\n",
       "      <td>53.3154</td>\n",
       "      <td>53.5800</td>\n",
       "      <td>16411399</td>\n",
       "    </tr>\n",
       "  </tbody>\n",
       "</table>\n",
       "</div>"
      ],
      "text/plain": [
       "                               FB                                      MSFT  \\\n",
       "                             open    high     low   close    volume    open   \n",
       "time                                                                          \n",
       "2021-04-29 00:00:00-04:00  330.17  331.81  321.61  329.51  52346724  255.50   \n",
       "2021-04-30 00:00:00-04:00  326.18  329.82  324.50  325.25  22944241  249.74   \n",
       "2021-05-03 00:00:00-04:00  326.17  328.55  321.84  322.60  16636436  253.39   \n",
       "2021-05-04 00:00:00-04:00  320.02  322.19  313.12  318.47  21014602  250.97   \n",
       "2021-05-05 00:00:00-04:00  318.17  321.06  314.49  315.02  13467994  248.98   \n",
       "\n",
       "                                                                TWTR         \\\n",
       "                             high     low     close    volume   open   high   \n",
       "time                                                                          \n",
       "2021-04-29 00:00:00-04:00  256.10  249.00  252.4600  36861606  66.98  67.05   \n",
       "2021-04-30 00:00:00-04:00  253.08  249.60  252.2700  25046626  56.04  57.63   \n",
       "2021-05-03 00:00:00-04:00  254.35  251.12  251.8801  16462636  55.52  55.55   \n",
       "2021-05-04 00:00:00-04:00  251.21  245.76  247.8900  25849106  55.24  55.72   \n",
       "2021-05-05 00:00:00-04:00  249.50  245.82  246.5100  17888246  54.96  54.97   \n",
       "\n",
       "                                                       \n",
       "                               low    close    volume  \n",
       "time                                                   \n",
       "2021-04-29 00:00:00-04:00  63.9850  65.0900  21329697  \n",
       "2021-04-30 00:00:00-04:00  55.0500  55.2200  81659560  \n",
       "2021-05-03 00:00:00-04:00  52.6700  54.6066  75397792  \n",
       "2021-05-04 00:00:00-04:00  53.1600  54.4200  27959433  \n",
       "2021-05-05 00:00:00-04:00  53.3154  53.5800  16411399  "
      ]
     },
     "execution_count": 38,
     "metadata": {},
     "output_type": "execute_result"
    }
   ],
   "source": [
    "# Get current closing prices for FB and TWTR\n",
    "df_portfolio = alpaca.get_barset(\n",
    "    tickers,\n",
    "    timeframe,\n",
    "    start = start_date,\n",
    "    end = end_date\n",
    ").df\n",
    "\n",
    "# Display sample data\n",
    "df_portfolio.head()"
   ]
  },
  {
   "cell_type": "code",
   "execution_count": 39,
   "id": "2996bf72-0bc0-4a82-b460-d9075c5c4ea9",
   "metadata": {},
   "outputs": [],
   "source": [
    "df_closing_prices = pd.DataFrame()"
   ]
  },
  {
   "cell_type": "code",
   "execution_count": 41,
   "id": "1d5bce2e-903e-4ee1-bb90-626daa9ef70a",
   "metadata": {},
   "outputs": [],
   "source": [
    "df_closing_prices['FB'] = df_portfolio['FB']['close']\n",
    "df_closing_prices['TWTR'] = df_portfolio['TWTR']['close']"
   ]
  },
  {
   "cell_type": "code",
   "execution_count": 42,
   "id": "99ba7ad7-4337-42f7-b713-8486aed2884b",
   "metadata": {},
   "outputs": [
    {
     "data": {
      "text/html": [
       "<div>\n",
       "<style scoped>\n",
       "    .dataframe tbody tr th:only-of-type {\n",
       "        vertical-align: middle;\n",
       "    }\n",
       "\n",
       "    .dataframe tbody tr th {\n",
       "        vertical-align: top;\n",
       "    }\n",
       "\n",
       "    .dataframe thead th {\n",
       "        text-align: right;\n",
       "    }\n",
       "</style>\n",
       "<table border=\"1\" class=\"dataframe\">\n",
       "  <thead>\n",
       "    <tr style=\"text-align: right;\">\n",
       "      <th></th>\n",
       "      <th>FB</th>\n",
       "      <th>TWTR</th>\n",
       "    </tr>\n",
       "    <tr>\n",
       "      <th>time</th>\n",
       "      <th></th>\n",
       "      <th></th>\n",
       "    </tr>\n",
       "  </thead>\n",
       "  <tbody>\n",
       "    <tr>\n",
       "      <th>2021-04-29 00:00:00-04:00</th>\n",
       "      <td>329.51</td>\n",
       "      <td>65.0900</td>\n",
       "    </tr>\n",
       "    <tr>\n",
       "      <th>2021-04-30 00:00:00-04:00</th>\n",
       "      <td>325.25</td>\n",
       "      <td>55.2200</td>\n",
       "    </tr>\n",
       "    <tr>\n",
       "      <th>2021-05-03 00:00:00-04:00</th>\n",
       "      <td>322.60</td>\n",
       "      <td>54.6066</td>\n",
       "    </tr>\n",
       "    <tr>\n",
       "      <th>2021-05-04 00:00:00-04:00</th>\n",
       "      <td>318.47</td>\n",
       "      <td>54.4200</td>\n",
       "    </tr>\n",
       "    <tr>\n",
       "      <th>2021-05-05 00:00:00-04:00</th>\n",
       "      <td>315.02</td>\n",
       "      <td>53.5800</td>\n",
       "    </tr>\n",
       "  </tbody>\n",
       "</table>\n",
       "</div>"
      ],
      "text/plain": [
       "                               FB     TWTR\n",
       "time                                      \n",
       "2021-04-29 00:00:00-04:00  329.51  65.0900\n",
       "2021-04-30 00:00:00-04:00  325.25  55.2200\n",
       "2021-05-03 00:00:00-04:00  322.60  54.6066\n",
       "2021-05-04 00:00:00-04:00  318.47  54.4200\n",
       "2021-05-05 00:00:00-04:00  315.02  53.5800"
      ]
     },
     "execution_count": 42,
     "metadata": {},
     "output_type": "execute_result"
    }
   ],
   "source": [
    "df_closing_prices.head()"
   ]
  },
  {
   "cell_type": "code",
   "execution_count": 43,
   "id": "6cbfa186-e1a3-4e68-aade-53ad64d70a91",
   "metadata": {},
   "outputs": [
    {
     "data": {
      "text/html": [
       "<div>\n",
       "<style scoped>\n",
       "    .dataframe tbody tr th:only-of-type {\n",
       "        vertical-align: middle;\n",
       "    }\n",
       "\n",
       "    .dataframe tbody tr th {\n",
       "        vertical-align: top;\n",
       "    }\n",
       "\n",
       "    .dataframe thead th {\n",
       "        text-align: right;\n",
       "    }\n",
       "</style>\n",
       "<table border=\"1\" class=\"dataframe\">\n",
       "  <thead>\n",
       "    <tr style=\"text-align: right;\">\n",
       "      <th></th>\n",
       "      <th>FB</th>\n",
       "      <th>TWTR</th>\n",
       "    </tr>\n",
       "  </thead>\n",
       "  <tbody>\n",
       "    <tr>\n",
       "      <th>2021-04-29</th>\n",
       "      <td>329.51</td>\n",
       "      <td>65.0900</td>\n",
       "    </tr>\n",
       "    <tr>\n",
       "      <th>2021-04-30</th>\n",
       "      <td>325.25</td>\n",
       "      <td>55.2200</td>\n",
       "    </tr>\n",
       "    <tr>\n",
       "      <th>2021-05-03</th>\n",
       "      <td>322.60</td>\n",
       "      <td>54.6066</td>\n",
       "    </tr>\n",
       "    <tr>\n",
       "      <th>2021-05-04</th>\n",
       "      <td>318.47</td>\n",
       "      <td>54.4200</td>\n",
       "    </tr>\n",
       "    <tr>\n",
       "      <th>2021-05-05</th>\n",
       "      <td>315.02</td>\n",
       "      <td>53.5800</td>\n",
       "    </tr>\n",
       "  </tbody>\n",
       "</table>\n",
       "</div>"
      ],
      "text/plain": [
       "                FB     TWTR\n",
       "2021-04-29  329.51  65.0900\n",
       "2021-04-30  325.25  55.2200\n",
       "2021-05-03  322.60  54.6066\n",
       "2021-05-04  318.47  54.4200\n",
       "2021-05-05  315.02  53.5800"
      ]
     },
     "execution_count": 43,
     "metadata": {},
     "output_type": "execute_result"
    }
   ],
   "source": [
    "df_closing_prices.index = df_closing_prices.index.date\n",
    "df_closing_prices.head()"
   ]
  },
  {
   "cell_type": "markdown",
   "id": "40aef2d2-9a6c-4f48-94f1-753919644ee0",
   "metadata": {
    "tags": []
   },
   "source": [
    "### Investment Value Exercise"
   ]
  },
  {
   "cell_type": "code",
   "execution_count": 118,
   "id": "7ffec798-fccc-40cd-8c99-0880a10fc5c2",
   "metadata": {},
   "outputs": [],
   "source": [
    "portfolio = pd.DataFrame()\n",
    "tickers = ['MSFT', 'AAPL']"
   ]
  },
  {
   "cell_type": "code",
   "execution_count": 119,
   "id": "34e053a6-6ef0-4a06-aa56-973a709d6b89",
   "metadata": {},
   "outputs": [],
   "source": [
    "portfolio['Ticker'] = ['MSFT', 'AAPL']\n",
    "portfolio['Shares'] = [200, 320]"
   ]
  },
  {
   "cell_type": "code",
   "execution_count": 120,
   "id": "655945b3-66c3-4ef7-ac85-392f7b0a4da3",
   "metadata": {},
   "outputs": [],
   "source": [
    "portfolio.index = portfolio['Ticker']"
   ]
  },
  {
   "cell_type": "code",
   "execution_count": 121,
   "id": "e5860b37-cf0f-451b-bcbb-66a0ceb2a0c3",
   "metadata": {},
   "outputs": [
    {
     "data": {
      "text/html": [
       "<div>\n",
       "<style scoped>\n",
       "    .dataframe tbody tr th:only-of-type {\n",
       "        vertical-align: middle;\n",
       "    }\n",
       "\n",
       "    .dataframe tbody tr th {\n",
       "        vertical-align: top;\n",
       "    }\n",
       "\n",
       "    .dataframe thead th {\n",
       "        text-align: right;\n",
       "    }\n",
       "</style>\n",
       "<table border=\"1\" class=\"dataframe\">\n",
       "  <thead>\n",
       "    <tr style=\"text-align: right;\">\n",
       "      <th></th>\n",
       "      <th>Ticker</th>\n",
       "      <th>Shares</th>\n",
       "    </tr>\n",
       "    <tr>\n",
       "      <th>Ticker</th>\n",
       "      <th></th>\n",
       "      <th></th>\n",
       "    </tr>\n",
       "  </thead>\n",
       "  <tbody>\n",
       "    <tr>\n",
       "      <th>MSFT</th>\n",
       "      <td>MSFT</td>\n",
       "      <td>200</td>\n",
       "    </tr>\n",
       "    <tr>\n",
       "      <th>AAPL</th>\n",
       "      <td>AAPL</td>\n",
       "      <td>320</td>\n",
       "    </tr>\n",
       "  </tbody>\n",
       "</table>\n",
       "</div>"
      ],
      "text/plain": [
       "       Ticker  Shares\n",
       "Ticker               \n",
       "MSFT     MSFT     200\n",
       "AAPL     AAPL     320"
      ]
     },
     "execution_count": 121,
     "metadata": {},
     "output_type": "execute_result"
    }
   ],
   "source": [
    "portfolio.head()"
   ]
  },
  {
   "cell_type": "code",
   "execution_count": 122,
   "id": "b0bb67c0-2fbd-4ba0-82e2-ac10b037f937",
   "metadata": {},
   "outputs": [],
   "source": [
    "portfolio.drop(columns=['Ticker'], inplace=True)"
   ]
  },
  {
   "cell_type": "code",
   "execution_count": 123,
   "id": "e1ca3c19-8578-43bd-b0e8-82571deb060e",
   "metadata": {},
   "outputs": [],
   "source": [
    "alpaca = tradeapi.REST(\n",
    "    os.getenv('ALPACA_API_KEY'),\n",
    "    os.getenv('ALPACA_SECRET_KEY'),\n",
    "    api_version=\"v2\")"
   ]
  },
  {
   "cell_type": "code",
   "execution_count": 124,
   "id": "ccf5e7fe-68a1-4ac5-8062-a14100a2035e",
   "metadata": {},
   "outputs": [],
   "source": [
    "today = pd.Timestamp(\"2021-09-20\", tz=\"America/New_York\").isoformat()\n",
    "timeframe='1D'\n",
    "\n",
    "prices = alpaca.get_barset(\n",
    "    tickers,\n",
    "    timeframe,\n",
    "    start = today,\n",
    "    end = today\n",
    ").df\n",
    "prices.index = prices.index.date"
   ]
  },
  {
   "cell_type": "code",
   "execution_count": 125,
   "id": "0f62501f-6fee-4742-8461-a6e058f0b8a0",
   "metadata": {},
   "outputs": [
    {
     "data": {
      "text/html": [
       "<div>\n",
       "<style scoped>\n",
       "    .dataframe tbody tr th:only-of-type {\n",
       "        vertical-align: middle;\n",
       "    }\n",
       "\n",
       "    .dataframe tbody tr th {\n",
       "        vertical-align: top;\n",
       "    }\n",
       "\n",
       "    .dataframe thead tr th {\n",
       "        text-align: left;\n",
       "    }\n",
       "</style>\n",
       "<table border=\"1\" class=\"dataframe\">\n",
       "  <thead>\n",
       "    <tr>\n",
       "      <th></th>\n",
       "      <th colspan=\"5\" halign=\"left\">AAPL</th>\n",
       "      <th colspan=\"5\" halign=\"left\">MSFT</th>\n",
       "    </tr>\n",
       "    <tr>\n",
       "      <th></th>\n",
       "      <th>open</th>\n",
       "      <th>high</th>\n",
       "      <th>low</th>\n",
       "      <th>close</th>\n",
       "      <th>volume</th>\n",
       "      <th>open</th>\n",
       "      <th>high</th>\n",
       "      <th>low</th>\n",
       "      <th>close</th>\n",
       "      <th>volume</th>\n",
       "    </tr>\n",
       "  </thead>\n",
       "  <tbody>\n",
       "    <tr>\n",
       "      <th>2021-09-20</th>\n",
       "      <td>143.86</td>\n",
       "      <td>144.84</td>\n",
       "      <td>141.27</td>\n",
       "      <td>142.97</td>\n",
       "      <td>104053339</td>\n",
       "      <td>296.33</td>\n",
       "      <td>298.72</td>\n",
       "      <td>289.52</td>\n",
       "      <td>294.26</td>\n",
       "      <td>30460159</td>\n",
       "    </tr>\n",
       "  </tbody>\n",
       "</table>\n",
       "</div>"
      ],
      "text/plain": [
       "              AAPL                                       MSFT                  \\\n",
       "              open    high     low   close     volume    open    high     low   \n",
       "2021-09-20  143.86  144.84  141.27  142.97  104053339  296.33  298.72  289.52   \n",
       "\n",
       "                              \n",
       "             close    volume  \n",
       "2021-09-20  294.26  30460159  "
      ]
     },
     "execution_count": 125,
     "metadata": {},
     "output_type": "execute_result"
    }
   ],
   "source": [
    "prices.head()"
   ]
  },
  {
   "cell_type": "code",
   "execution_count": null,
   "id": "c79d2de7-2ca5-487b-908f-05563c0b348d",
   "metadata": {},
   "outputs": [],
   "source": []
  },
  {
   "cell_type": "code",
   "execution_count": 126,
   "id": "ffe182c2-1de7-49b1-918f-7b3b6c626481",
   "metadata": {},
   "outputs": [],
   "source": [
    "values = []\n",
    "def current_value(ticker):\n",
    "    value = float(prices[ticker]['close'])*float(portfolio.loc[ticker]['Shares'])\n",
    "    values.append(value)\n",
    "    print(f'The value of the {ticker} stonk is:    ${value}')"
   ]
  },
  {
   "cell_type": "code",
   "execution_count": 127,
   "id": "24bd7ff5-c741-49c6-8a4f-640afd97e98e",
   "metadata": {},
   "outputs": [
    {
     "name": "stdout",
     "output_type": "stream",
     "text": [
      "The value of the AAPL stonk is:    $45750.4\n"
     ]
    }
   ],
   "source": [
    "current_value('AAPL')"
   ]
  },
  {
   "cell_type": "code",
   "execution_count": 128,
   "id": "fa3b3310-c8b9-4760-8840-0c79c11d32f0",
   "metadata": {},
   "outputs": [
    {
     "name": "stdout",
     "output_type": "stream",
     "text": [
      "The value of the MSFT stonk is:    $58852.0\n"
     ]
    }
   ],
   "source": [
    "current_value('MSFT')"
   ]
  },
  {
   "cell_type": "code",
   "execution_count": 129,
   "id": "263306a0-a5fd-4f6f-b893-d171ecd8c21d",
   "metadata": {},
   "outputs": [],
   "source": [
    "portfolio['Value'] = values"
   ]
  },
  {
   "cell_type": "code",
   "execution_count": 141,
   "id": "20f8baac-44d4-4c8c-bc8e-7d10377d9f3d",
   "metadata": {},
   "outputs": [
    {
     "data": {
      "text/plain": [
       "<AxesSubplot:title={'center':'Value of Stonk Holdings'}, ylabel='Value'>"
      ]
     },
     "execution_count": 141,
     "metadata": {},
     "output_type": "execute_result"
    },
    {
     "data": {
      "image/png": "[encoded data removed]",
      "text/plain": [
       "<Figure size 432x288 with 1 Axes>"
      ]
     },
     "metadata": {},
     "output_type": "display_data"
    }
   ],
   "source": [
    "portfolio_values.plot.pie(y='Value', title='Value of Stonk Holdings')"
   ]
  },
  {
   "cell_type": "code",
   "execution_count": 142,
   "id": "f1534070-bef4-4c40-aba3-1c5312c646f5",
   "metadata": {},
   "outputs": [
    {
     "data": {
      "text/plain": [
       "<AxesSubplot:title={'center':'Value of Stonk Holdings'}, xlabel='Ticker'>"
      ]
     },
     "execution_count": 142,
     "metadata": {},
     "output_type": "execute_result"
    },
    {
     "data": {
      "image/png": "[encoded data removed]",
      "text/plain": [
       "<Figure size 432x288 with 1 Axes>"
      ]
     },
     "metadata": {
      "needs_background": "light"
     },
     "output_type": "display_data"
    }
   ],
   "source": [
    "portfolio_values.plot.bar(y='Value', title='Value of Stonk Holdings')"
   ]
  },
  {
   "cell_type": "code",
   "execution_count": null,
   "id": "8de5d824-0cd3-4ccc-ad29-36481c666219",
   "metadata": {},
   "outputs": [],
   "source": []
  },
  {
   "cell_type": "code",
   "execution_count": null,
   "id": "6c4ca420-8a6f-4f02-9d67-e67248470476",
   "metadata": {},
   "outputs": [],
   "source": []
  }
 ],
 "metadata": {
  "kernelspec": {
   "display_name": "Python 3 (ipykernel)",
   "language": "python",
   "name": "python3"
  },
  "language_info": {
   "codemirror_mode": {
    "name": "ipython",
    "version": 3
   },
   "file_extension": ".py",
   "mimetype": "text/x-python",
   "name": "python",
   "nbconvert_exporter": "python",
   "pygments_lexer": "ipython3",
   "version": "3.8.8"
  }
 },
 "nbformat": 4,
 "nbformat_minor": 5
}
