{
 "cells": [
  {
   "cell_type": "code",
   "execution_count": 18,
   "id": "3488b3e3-bf55-4764-9e1f-eef3872ae0b0",
   "metadata": {},
   "outputs": [
    {
     "data": {
      "text/plain": [
       "True"
      ]
     },
     "execution_count": 18,
     "metadata": {},
     "output_type": "execute_result"
    }
   ],
   "source": [
    "import os\n",
    "import requests\n",
    "import pandas as pd\n",
    "from dotenv import load_dotenv\n",
    "import alpaca_trade_api as tradeapi\n",
    "load_dotenv()"
   ]
  },
  {
   "cell_type": "code",
   "execution_count": 19,
   "id": "2259018f-685c-4f58-b515-f8f75a821156",
   "metadata": {},
   "outputs": [],
   "source": [
    "portfolio = pd.DataFrame()\n",
    "tickers = ['MSFT', 'AAPL']"
   ]
  },
  {
   "cell_type": "code",
   "execution_count": 20,
   "id": "2db3c4e6-76b8-4829-875c-59bf89330d42",
   "metadata": {},
   "outputs": [],
   "source": [
    "portfolio['Ticker'] = ['MSFT', 'AAPL']\n",
    "portfolio['Shares'] = [200, 320]"
   ]
  },
  {
   "cell_type": "code",
   "execution_count": 21,
   "id": "ec313c4c-219d-4375-bed2-7294a2f21f35",
   "metadata": {},
   "outputs": [],
   "source": [
    "portfolio.index = portfolio['Ticker']"
   ]
  },
  {
   "cell_type": "code",
   "execution_count": 22,
   "id": "f12d21d8-5fee-4c96-ae7e-ec40a0da40e4",
   "metadata": {},
   "outputs": [
    {
     "data": {
      "text/html": [
       "<div>\n",
       "<style scoped>\n",
       "    .dataframe tbody tr th:only-of-type {\n",
       "        vertical-align: middle;\n",
       "    }\n",
       "\n",
       "    .dataframe tbody tr th {\n",
       "        vertical-align: top;\n",
       "    }\n",
       "\n",
       "    .dataframe thead th {\n",
       "        text-align: right;\n",
       "    }\n",
       "</style>\n",
       "<table border=\"1\" class=\"dataframe\">\n",
       "  <thead>\n",
       "    <tr style=\"text-align: right;\">\n",
       "      <th></th>\n",
       "      <th>Ticker</th>\n",
       "      <th>Shares</th>\n",
       "    </tr>\n",
       "    <tr>\n",
       "      <th>Ticker</th>\n",
       "      <th></th>\n",
       "      <th></th>\n",
       "    </tr>\n",
       "  </thead>\n",
       "  <tbody>\n",
       "    <tr>\n",
       "      <th>MSFT</th>\n",
       "      <td>MSFT</td>\n",
       "      <td>200</td>\n",
       "    </tr>\n",
       "    <tr>\n",
       "      <th>AAPL</th>\n",
       "      <td>AAPL</td>\n",
       "      <td>320</td>\n",
       "    </tr>\n",
       "  </tbody>\n",
       "</table>\n",
       "</div>"
      ],
      "text/plain": [
       "       Ticker  Shares\n",
       "Ticker               \n",
       "MSFT     MSFT     200\n",
       "AAPL     AAPL     320"
      ]
     },
     "execution_count": 22,
     "metadata": {},
     "output_type": "execute_result"
    }
   ],
   "source": [
    "portfolio.head()"
   ]
  },
  {
   "cell_type": "code",
   "execution_count": 23,
   "id": "80162fc8-005f-4415-b3e2-8396d0f28b04",
   "metadata": {},
   "outputs": [],
   "source": [
    "portfolio.drop(columns=['Ticker'], inplace=True)"
   ]
  },
  {
   "cell_type": "code",
   "execution_count": 24,
   "id": "7b97ed4b-9725-4fe7-b9dd-5d93c11f8189",
   "metadata": {},
   "outputs": [],
   "source": [
    "alpaca = tradeapi.REST(\n",
    "    os.getenv('ALPACA_API_KEY'),\n",
    "    os.getenv('ALPACA_SECRET_KEY'),\n",
    "    api_version=\"v2\")"
   ]
  },
  {
   "cell_type": "code",
   "execution_count": 25,
   "id": "ecc5db62-8463-475e-b019-590db1204758",
   "metadata": {},
   "outputs": [],
   "source": [
    "today = pd.Timestamp(\"2021-09-20\", tz=\"America/New_York\").isoformat()\n",
    "timeframe='1D'\n",
    "\n",
    "prices = alpaca.get_barset(\n",
    "    tickers,\n",
    "    timeframe,\n",
    "    start = today,\n",
    "    end = today\n",
    ").df\n",
    "prices.index = prices.index.date"
   ]
  },
  {
   "cell_type": "code",
   "execution_count": 26,
   "id": "aef4710e-444e-47d6-87ed-2e6bd29aa58b",
   "metadata": {},
   "outputs": [
    {
     "data": {
      "text/html": [
       "<div>\n",
       "<style scoped>\n",
       "    .dataframe tbody tr th:only-of-type {\n",
       "        vertical-align: middle;\n",
       "    }\n",
       "\n",
       "    .dataframe tbody tr th {\n",
       "        vertical-align: top;\n",
       "    }\n",
       "\n",
       "    .dataframe thead tr th {\n",
       "        text-align: left;\n",
       "    }\n",
       "</style>\n",
       "<table border=\"1\" class=\"dataframe\">\n",
       "  <thead>\n",
       "    <tr>\n",
       "      <th></th>\n",
       "      <th colspan=\"5\" halign=\"left\">AAPL</th>\n",
       "      <th colspan=\"5\" halign=\"left\">MSFT</th>\n",
       "    </tr>\n",
       "    <tr>\n",
       "      <th></th>\n",
       "      <th>open</th>\n",
       "      <th>high</th>\n",
       "      <th>low</th>\n",
       "      <th>close</th>\n",
       "      <th>volume</th>\n",
       "      <th>open</th>\n",
       "      <th>high</th>\n",
       "      <th>low</th>\n",
       "      <th>close</th>\n",
       "      <th>volume</th>\n",
       "    </tr>\n",
       "  </thead>\n",
       "  <tbody>\n",
       "    <tr>\n",
       "      <th>2021-09-20</th>\n",
       "      <td>143.86</td>\n",
       "      <td>144.84</td>\n",
       "      <td>141.27</td>\n",
       "      <td>142.97</td>\n",
       "      <td>104053339</td>\n",
       "      <td>296.33</td>\n",
       "      <td>298.72</td>\n",
       "      <td>289.52</td>\n",
       "      <td>294.26</td>\n",
       "      <td>30460159</td>\n",
       "    </tr>\n",
       "  </tbody>\n",
       "</table>\n",
       "</div>"
      ],
      "text/plain": [
       "              AAPL                                       MSFT                  \\\n",
       "              open    high     low   close     volume    open    high     low   \n",
       "2021-09-20  143.86  144.84  141.27  142.97  104053339  296.33  298.72  289.52   \n",
       "\n",
       "                              \n",
       "             close    volume  \n",
       "2021-09-20  294.26  30460159  "
      ]
     },
     "execution_count": 26,
     "metadata": {},
     "output_type": "execute_result"
    }
   ],
   "source": [
    "prices.head()"
   ]
  },
  {
   "cell_type": "code",
   "execution_count": null,
   "id": "773b903d-0db7-40bd-9ca4-57d8da5dbf16",
   "metadata": {},
   "outputs": [],
   "source": []
  },
  {
   "cell_type": "code",
   "execution_count": 27,
   "id": "eb00c81f-1cd9-4667-b2fe-51e82e71be34",
   "metadata": {},
   "outputs": [],
   "source": [
    "values = []\n",
    "def current_value(ticker):\n",
    "    value = float(prices[ticker]['close'])*float(portfolio.loc[ticker]['Shares'])\n",
    "    values.append(value)\n",
    "    print(f'The value of the {ticker} stonk is:    ${value}')"
   ]
  },
  {
   "cell_type": "code",
   "execution_count": 28,
   "id": "f8aaf45a-0bb0-4c1a-96ac-7f2ad1f5087b",
   "metadata": {},
   "outputs": [
    {
     "name": "stdout",
     "output_type": "stream",
     "text": [
      "The value of the AAPL stonk is:    $45750.4\n"
     ]
    }
   ],
   "source": [
    "current_value('AAPL')"
   ]
  },
  {
   "cell_type": "code",
   "execution_count": 29,
   "id": "48025cd9-f22f-4cf3-acc6-1a5a25dcdf38",
   "metadata": {},
   "outputs": [
    {
     "name": "stdout",
     "output_type": "stream",
     "text": [
      "The value of the MSFT stonk is:    $58852.0\n"
     ]
    }
   ],
   "source": [
    "current_value('MSFT')"
   ]
  },
  {
   "cell_type": "code",
   "execution_count": 30,
   "id": "c9b11bde-25ca-42d2-a9ae-12d72947b35e",
   "metadata": {},
   "outputs": [],
   "source": [
    "portfolio['Value'] = values"
   ]
  },
  {
   "cell_type": "code",
   "execution_count": null,
   "id": "57444829-f94b-49f9-a0ef-b25ea60a840b",
   "metadata": {},
   "outputs": [],
   "source": []
  },
  {
   "cell_type": "code",
   "execution_count": 34,
   "id": "f47216e9-e1b9-4505-99af-9b6a53fd2619",
   "metadata": {},
   "outputs": [
    {
     "data": {
      "text/plain": [
       "<AxesSubplot:title={'center':'Value of Stonk Holdings'}, ylabel='Value'>"
      ]
     },
     "execution_count": 34,
     "metadata": {},
     "output_type": "execute_result"
    },
    {
     "data": {
      "image/png": "[encoded data removed]",
      "text/plain": [
       "<Figure size 432x288 with 1 Axes>"
      ]
     },
     "metadata": {},
     "output_type": "display_data"
    }
   ],
   "source": [
    "portfolio_values.plot.pie(y='Value', title='Value of Stonk Holdings')"
   ]
  },
  {
   "cell_type": "code",
   "execution_count": 35,
   "id": "7c001841-0dd8-46f5-9b16-f8cda6664540",
   "metadata": {},
   "outputs": [
    {
     "data": {
      "text/plain": [
       "<AxesSubplot:title={'center':'Value of Stonk Holdings'}, xlabel='Ticker'>"
      ]
     },
     "execution_count": 35,
     "metadata": {},
     "output_type": "execute_result"
    },
    {
     "data": {
      "image/png": "[encoded data removed]",
      "text/plain": [
       "<Figure size 432x288 with 1 Axes>"
      ]
     },
     "metadata": {
      "needs_background": "light"
     },
     "output_type": "display_data"
    }
   ],
   "source": [
    "portfolio_values.plot.bar(y='Value', title='Value of Stonk Holdings')"
   ]
  },
  {
   "cell_type": "code",
   "execution_count": null,
   "id": "d4fb3fb8-6fc4-4bc7-8104-c779939265a0",
   "metadata": {},
   "outputs": [],
   "source": []
  },
  {
   "cell_type": "code",
   "execution_count": null,
   "id": "b14efe07-479e-4041-9e5c-ec47eba60604",
   "metadata": {},
   "outputs": [],
   "source": []
  },
  {
   "cell_type": "code",
   "execution_count": null,
   "id": "b208c3d7-a209-4117-b7bf-1f463488d775",
   "metadata": {},
   "outputs": [],
   "source": []
  }
 ],
 "metadata": {
  "kernelspec": {
   "display_name": "Python 3 (ipykernel)",
   "language": "python",
   "name": "python3"
  },
  "language_info": {
   "codemirror_mode": {
    "name": "ipython",
    "version": 3
   },
   "file_extension": ".py",
   "mimetype": "text/x-python",
   "name": "python",
   "nbconvert_exporter": "python",
   "pygments_lexer": "ipython3",
   "version": "3.8.8"
  }
 },
 "nbformat": 4,
 "nbformat_minor": 5
}
