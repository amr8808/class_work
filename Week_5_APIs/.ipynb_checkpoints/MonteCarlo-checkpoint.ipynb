{
 "cells": [
  {
   "cell_type": "markdown",
   "id": "a5b20975-0580-4ae4-9478-c868c38ea53e",
   "metadata": {},
   "source": [
    "## Monte Carlo"
   ]
  },
  {
   "cell_type": "code",
   "execution_count": 21,
   "id": "9bcbc497-74eb-4bde-89c2-f32973298c6f",
   "metadata": {},
   "outputs": [
    {
     "data": {
      "text/plain": [
       "True"
      ]
     },
     "execution_count": 21,
     "metadata": {},
     "output_type": "execute_result"
    }
   ],
   "source": [
    "import os\n",
    "import requests\n",
    "import pandas as pd\n",
    "from dotenv import load_dotenv\n",
    "import alpaca_trade_api as tradeapi\n",
    "load_dotenv()"
   ]
  },
  {
   "cell_type": "code",
   "execution_count": 22,
   "id": "48d90bc7-63b4-4b75-9eda-aa91e97908c1",
   "metadata": {},
   "outputs": [],
   "source": [
    "alpaca = tradeapi.REST(\n",
    "    os.getenv('ALPACA_API_KEY'),\n",
    "    os.getenv('ALPACA_SECRET_KEY'),\n",
    "    api_version=\"v2\")\n"
   ]
  },
  {
   "cell_type": "code",
   "execution_count": 25,
   "id": "74863043-320f-4b3a-bee6-fbfc14cc7b9e",
   "metadata": {},
   "outputs": [],
   "source": [
    "timeframe='1D'\n",
    "start_date = pd.Timestamp(\"2019-05-01\", tz=\"America/New_York\").isoformat()\n",
    "end_date = pd.Timestamp(\"2020-05-01\", tz=\"America/New_York\").isoformat()\n",
    "\n",
    "tickers = ['SPY', 'LUV', 'DIS', 'AAPL', 'SBUX', 'WORK']\n",
    "\n",
    "prices = alpaca.get_barset(\n",
    "    tickers,\n",
    "    timeframe,\n",
    "    start = start_date,\n",
    "    end = end_date\n",
    ").df"
   ]
  },
  {
   "cell_type": "code",
   "execution_count": 26,
   "id": "dff444a4-edff-4fd8-a47b-3c52133fd63f",
   "metadata": {},
   "outputs": [
    {
     "data": {
      "text/html": [
       "<div>\n",
       "<style scoped>\n",
       "    .dataframe tbody tr th:only-of-type {\n",
       "        vertical-align: middle;\n",
       "    }\n",
       "\n",
       "    .dataframe tbody tr th {\n",
       "        vertical-align: top;\n",
       "    }\n",
       "\n",
       "    .dataframe thead tr th {\n",
       "        text-align: left;\n",
       "    }\n",
       "\n",
       "    .dataframe thead tr:last-of-type th {\n",
       "        text-align: right;\n",
       "    }\n",
       "</style>\n",
       "<table border=\"1\" class=\"dataframe\">\n",
       "  <thead>\n",
       "    <tr>\n",
       "      <th></th>\n",
       "      <th colspan=\"5\" halign=\"left\">AAPL</th>\n",
       "      <th colspan=\"5\" halign=\"left\">DIS</th>\n",
       "      <th>...</th>\n",
       "      <th colspan=\"5\" halign=\"left\">SPY</th>\n",
       "      <th colspan=\"5\" halign=\"left\">WORK</th>\n",
       "    </tr>\n",
       "    <tr>\n",
       "      <th></th>\n",
       "      <th>open</th>\n",
       "      <th>high</th>\n",
       "      <th>low</th>\n",
       "      <th>close</th>\n",
       "      <th>volume</th>\n",
       "      <th>open</th>\n",
       "      <th>high</th>\n",
       "      <th>low</th>\n",
       "      <th>close</th>\n",
       "      <th>volume</th>\n",
       "      <th>...</th>\n",
       "      <th>open</th>\n",
       "      <th>high</th>\n",
       "      <th>low</th>\n",
       "      <th>close</th>\n",
       "      <th>volume</th>\n",
       "      <th>open</th>\n",
       "      <th>high</th>\n",
       "      <th>low</th>\n",
       "      <th>close</th>\n",
       "      <th>volume</th>\n",
       "    </tr>\n",
       "    <tr>\n",
       "      <th>time</th>\n",
       "      <th></th>\n",
       "      <th></th>\n",
       "      <th></th>\n",
       "      <th></th>\n",
       "      <th></th>\n",
       "      <th></th>\n",
       "      <th></th>\n",
       "      <th></th>\n",
       "      <th></th>\n",
       "      <th></th>\n",
       "      <th></th>\n",
       "      <th></th>\n",
       "      <th></th>\n",
       "      <th></th>\n",
       "      <th></th>\n",
       "      <th></th>\n",
       "      <th></th>\n",
       "      <th></th>\n",
       "      <th></th>\n",
       "      <th></th>\n",
       "      <th></th>\n",
       "    </tr>\n",
       "  </thead>\n",
       "  <tbody>\n",
       "    <tr>\n",
       "      <th>2019-12-09 00:00:00-05:00</th>\n",
       "      <td>270.00</td>\n",
       "      <td>270.8000</td>\n",
       "      <td>264.910</td>\n",
       "      <td>266.92</td>\n",
       "      <td>27858494</td>\n",
       "      <td>147.96</td>\n",
       "      <td>148.515</td>\n",
       "      <td>145.40</td>\n",
       "      <td>146.18</td>\n",
       "      <td>7654938</td>\n",
       "      <td>...</td>\n",
       "      <td>314.44</td>\n",
       "      <td>315.18</td>\n",
       "      <td>313.800</td>\n",
       "      <td>313.87</td>\n",
       "      <td>28676682</td>\n",
       "      <td>22.39</td>\n",
       "      <td>23.0700</td>\n",
       "      <td>22.29</td>\n",
       "      <td>22.99</td>\n",
       "      <td>8921960</td>\n",
       "    </tr>\n",
       "    <tr>\n",
       "      <th>2019-12-10 00:00:00-05:00</th>\n",
       "      <td>268.60</td>\n",
       "      <td>270.0700</td>\n",
       "      <td>265.860</td>\n",
       "      <td>268.62</td>\n",
       "      <td>20404044</td>\n",
       "      <td>145.26</td>\n",
       "      <td>146.850</td>\n",
       "      <td>145.05</td>\n",
       "      <td>146.09</td>\n",
       "      <td>5636650</td>\n",
       "      <td>...</td>\n",
       "      <td>313.82</td>\n",
       "      <td>314.55</td>\n",
       "      <td>312.810</td>\n",
       "      <td>313.55</td>\n",
       "      <td>40282469</td>\n",
       "      <td>22.52</td>\n",
       "      <td>22.9100</td>\n",
       "      <td>22.12</td>\n",
       "      <td>22.23</td>\n",
       "      <td>9812041</td>\n",
       "    </tr>\n",
       "    <tr>\n",
       "      <th>2019-12-11 00:00:00-05:00</th>\n",
       "      <td>268.81</td>\n",
       "      <td>271.1000</td>\n",
       "      <td>268.500</td>\n",
       "      <td>270.74</td>\n",
       "      <td>17110774</td>\n",
       "      <td>147.39</td>\n",
       "      <td>147.890</td>\n",
       "      <td>146.76</td>\n",
       "      <td>147.56</td>\n",
       "      <td>5667823</td>\n",
       "      <td>...</td>\n",
       "      <td>314.03</td>\n",
       "      <td>314.70</td>\n",
       "      <td>313.595</td>\n",
       "      <td>314.41</td>\n",
       "      <td>40711586</td>\n",
       "      <td>21.75</td>\n",
       "      <td>21.9500</td>\n",
       "      <td>20.59</td>\n",
       "      <td>20.75</td>\n",
       "      <td>20970465</td>\n",
       "    </tr>\n",
       "    <tr>\n",
       "      <th>2019-12-12 00:00:00-05:00</th>\n",
       "      <td>267.79</td>\n",
       "      <td>272.5599</td>\n",
       "      <td>267.321</td>\n",
       "      <td>271.46</td>\n",
       "      <td>30907462</td>\n",
       "      <td>147.92</td>\n",
       "      <td>148.930</td>\n",
       "      <td>147.25</td>\n",
       "      <td>147.76</td>\n",
       "      <td>6060372</td>\n",
       "      <td>...</td>\n",
       "      <td>314.43</td>\n",
       "      <td>317.99</td>\n",
       "      <td>314.170</td>\n",
       "      <td>317.14</td>\n",
       "      <td>78481712</td>\n",
       "      <td>20.81</td>\n",
       "      <td>20.9700</td>\n",
       "      <td>20.20</td>\n",
       "      <td>20.90</td>\n",
       "      <td>10273602</td>\n",
       "    </tr>\n",
       "    <tr>\n",
       "      <th>2019-12-13 00:00:00-05:00</th>\n",
       "      <td>271.46</td>\n",
       "      <td>275.3000</td>\n",
       "      <td>270.930</td>\n",
       "      <td>275.26</td>\n",
       "      <td>29835265</td>\n",
       "      <td>147.43</td>\n",
       "      <td>147.800</td>\n",
       "      <td>146.31</td>\n",
       "      <td>146.37</td>\n",
       "      <td>6792646</td>\n",
       "      <td>...</td>\n",
       "      <td>316.87</td>\n",
       "      <td>318.67</td>\n",
       "      <td>316.020</td>\n",
       "      <td>317.28</td>\n",
       "      <td>64520010</td>\n",
       "      <td>20.92</td>\n",
       "      <td>21.4492</td>\n",
       "      <td>20.67</td>\n",
       "      <td>21.38</td>\n",
       "      <td>7551212</td>\n",
       "    </tr>\n",
       "  </tbody>\n",
       "</table>\n",
       "<p>5 rows × 30 columns</p>\n",
       "</div>"
      ],
      "text/plain": [
       "                             AAPL                                       \\\n",
       "                             open      high      low   close    volume   \n",
       "time                                                                     \n",
       "2019-12-09 00:00:00-05:00  270.00  270.8000  264.910  266.92  27858494   \n",
       "2019-12-10 00:00:00-05:00  268.60  270.0700  265.860  268.62  20404044   \n",
       "2019-12-11 00:00:00-05:00  268.81  271.1000  268.500  270.74  17110774   \n",
       "2019-12-12 00:00:00-05:00  267.79  272.5599  267.321  271.46  30907462   \n",
       "2019-12-13 00:00:00-05:00  271.46  275.3000  270.930  275.26  29835265   \n",
       "\n",
       "                              DIS                                    ...  \\\n",
       "                             open     high     low   close   volume  ...   \n",
       "time                                                                 ...   \n",
       "2019-12-09 00:00:00-05:00  147.96  148.515  145.40  146.18  7654938  ...   \n",
       "2019-12-10 00:00:00-05:00  145.26  146.850  145.05  146.09  5636650  ...   \n",
       "2019-12-11 00:00:00-05:00  147.39  147.890  146.76  147.56  5667823  ...   \n",
       "2019-12-12 00:00:00-05:00  147.92  148.930  147.25  147.76  6060372  ...   \n",
       "2019-12-13 00:00:00-05:00  147.43  147.800  146.31  146.37  6792646  ...   \n",
       "\n",
       "                              SPY                                      WORK  \\\n",
       "                             open    high      low   close    volume   open   \n",
       "time                                                                          \n",
       "2019-12-09 00:00:00-05:00  314.44  315.18  313.800  313.87  28676682  22.39   \n",
       "2019-12-10 00:00:00-05:00  313.82  314.55  312.810  313.55  40282469  22.52   \n",
       "2019-12-11 00:00:00-05:00  314.03  314.70  313.595  314.41  40711586  21.75   \n",
       "2019-12-12 00:00:00-05:00  314.43  317.99  314.170  317.14  78481712  20.81   \n",
       "2019-12-13 00:00:00-05:00  316.87  318.67  316.020  317.28  64520010  20.92   \n",
       "\n",
       "                                                            \n",
       "                              high    low  close    volume  \n",
       "time                                                        \n",
       "2019-12-09 00:00:00-05:00  23.0700  22.29  22.99   8921960  \n",
       "2019-12-10 00:00:00-05:00  22.9100  22.12  22.23   9812041  \n",
       "2019-12-11 00:00:00-05:00  21.9500  20.59  20.75  20970465  \n",
       "2019-12-12 00:00:00-05:00  20.9700  20.20  20.90  10273602  \n",
       "2019-12-13 00:00:00-05:00  21.4492  20.67  21.38   7551212  \n",
       "\n",
       "[5 rows x 30 columns]"
      ]
     },
     "execution_count": 26,
     "metadata": {},
     "output_type": "execute_result"
    }
   ],
   "source": [
    "prices.head()"
   ]
  },
  {
   "cell_type": "code",
   "execution_count": 27,
   "id": "362a0a54-bc60-4d0b-b75b-8f95650b7978",
   "metadata": {},
   "outputs": [],
   "source": [
    "closing_prices =pd.DataFrame()"
   ]
  },
  {
   "cell_type": "code",
   "execution_count": 32,
   "id": "dd22f21a-b40b-4d34-b56d-3169bad97048",
   "metadata": {},
   "outputs": [
    {
     "data": {
      "text/html": [
       "<div>\n",
       "<style scoped>\n",
       "    .dataframe tbody tr th:only-of-type {\n",
       "        vertical-align: middle;\n",
       "    }\n",
       "\n",
       "    .dataframe tbody tr th {\n",
       "        vertical-align: top;\n",
       "    }\n",
       "\n",
       "    .dataframe thead th {\n",
       "        text-align: right;\n",
       "    }\n",
       "</style>\n",
       "<table border=\"1\" class=\"dataframe\">\n",
       "  <thead>\n",
       "    <tr style=\"text-align: right;\">\n",
       "      <th></th>\n",
       "      <th>AAPL</th>\n",
       "      <th>SPY</th>\n",
       "      <th>LUV</th>\n",
       "      <th>DIS</th>\n",
       "      <th>SBUX</th>\n",
       "      <th>WORK</th>\n",
       "    </tr>\n",
       "    <tr>\n",
       "      <th>time</th>\n",
       "      <th></th>\n",
       "      <th></th>\n",
       "      <th></th>\n",
       "      <th></th>\n",
       "      <th></th>\n",
       "      <th></th>\n",
       "    </tr>\n",
       "  </thead>\n",
       "  <tbody>\n",
       "    <tr>\n",
       "      <th>2019-12-09 00:00:00-05:00</th>\n",
       "      <td>266.92</td>\n",
       "      <td>313.87</td>\n",
       "      <td>55.459</td>\n",
       "      <td>146.18</td>\n",
       "      <td>86.290</td>\n",
       "      <td>22.99</td>\n",
       "    </tr>\n",
       "    <tr>\n",
       "      <th>2019-12-10 00:00:00-05:00</th>\n",
       "      <td>268.62</td>\n",
       "      <td>313.55</td>\n",
       "      <td>54.920</td>\n",
       "      <td>146.09</td>\n",
       "      <td>86.060</td>\n",
       "      <td>22.23</td>\n",
       "    </tr>\n",
       "    <tr>\n",
       "      <th>2019-12-11 00:00:00-05:00</th>\n",
       "      <td>270.74</td>\n",
       "      <td>314.41</td>\n",
       "      <td>53.980</td>\n",
       "      <td>147.56</td>\n",
       "      <td>86.590</td>\n",
       "      <td>20.75</td>\n",
       "    </tr>\n",
       "    <tr>\n",
       "      <th>2019-12-12 00:00:00-05:00</th>\n",
       "      <td>271.46</td>\n",
       "      <td>317.14</td>\n",
       "      <td>54.480</td>\n",
       "      <td>147.76</td>\n",
       "      <td>88.220</td>\n",
       "      <td>20.90</td>\n",
       "    </tr>\n",
       "    <tr>\n",
       "      <th>2019-12-13 00:00:00-05:00</th>\n",
       "      <td>275.26</td>\n",
       "      <td>317.28</td>\n",
       "      <td>54.140</td>\n",
       "      <td>146.37</td>\n",
       "      <td>88.685</td>\n",
       "      <td>21.38</td>\n",
       "    </tr>\n",
       "  </tbody>\n",
       "</table>\n",
       "</div>"
      ],
      "text/plain": [
       "                             AAPL     SPY     LUV     DIS    SBUX   WORK\n",
       "time                                                                    \n",
       "2019-12-09 00:00:00-05:00  266.92  313.87  55.459  146.18  86.290  22.99\n",
       "2019-12-10 00:00:00-05:00  268.62  313.55  54.920  146.09  86.060  22.23\n",
       "2019-12-11 00:00:00-05:00  270.74  314.41  53.980  147.56  86.590  20.75\n",
       "2019-12-12 00:00:00-05:00  271.46  317.14  54.480  147.76  88.220  20.90\n",
       "2019-12-13 00:00:00-05:00  275.26  317.28  54.140  146.37  88.685  21.38"
      ]
     },
     "execution_count": 32,
     "metadata": {},
     "output_type": "execute_result"
    }
   ],
   "source": [
    "# Fetch the closing prices for all the tickers\n",
    "for ticker in tickers:\n",
    "    closing_prices[ticker] = prices[ticker]['close']\n",
    "closing_prices.head()"
   ]
  },
  {
   "cell_type": "code",
   "execution_count": 33,
   "id": "ece9bb5e-ba22-4efd-a4b3-22ce304dd8b8",
   "metadata": {},
   "outputs": [],
   "source": [
    "# Drop the time component of the date\n",
    "closing_prices.index = closing_prices.index.date"
   ]
  },
  {
   "cell_type": "code",
   "execution_count": 35,
   "id": "9f0354a4-f5bc-47d6-8c90-95ed65ae3cab",
   "metadata": {},
   "outputs": [],
   "source": [
    "closing_returns = closing_prices.pct_change()"
   ]
  },
  {
   "cell_type": "code",
   "execution_count": 37,
   "id": "9282a644-dd8f-418a-afa3-3175da95b9de",
   "metadata": {},
   "outputs": [
    {
     "data": {
      "text/plain": [
       "<AxesSubplot:ylabel='Frequency'>"
      ]
     },
     "execution_count": 37,
     "metadata": {},
     "output_type": "execute_result"
    },
    {
     "data": {
      "image/png": "[encoded data removed]",
      "text/plain": [
       "<Figure size 432x288 with 1 Axes>"
      ]
     },
     "metadata": {
      "needs_background": "light"
     },
     "output_type": "display_data"
    }
   ],
   "source": [
    "closing_returns.plot.hist(alpha=.5)"
   ]
  },
  {
   "cell_type": "code",
   "execution_count": 38,
   "id": "95041e05-73ce-452c-8189-37c30d63c589",
   "metadata": {},
   "outputs": [
    {
     "data": {
      "text/plain": [
       "<AxesSubplot:ylabel='Density'>"
      ]
     },
     "execution_count": 38,
     "metadata": {},
     "output_type": "execute_result"
    },
    {
     "data": {
      "image/png": "[encoded data removed]",
      "text/plain": [
       "<Figure size 432x288 with 1 Axes>"
      ]
     },
     "metadata": {
      "needs_background": "light"
     },
     "output_type": "display_data"
    }
   ],
   "source": [
    "closing_returns.plot.density()"
   ]
  },
  {
   "cell_type": "code",
   "execution_count": null,
   "id": "809b6269-191c-4ff3-9bcd-030dd4826e83",
   "metadata": {},
   "outputs": [],
   "source": []
  }
 ],
 "metadata": {
  "kernelspec": {
   "display_name": "Python 3 (ipykernel)",
   "language": "python",
   "name": "python3"
  },
  "language_info": {
   "codemirror_mode": {
    "name": "ipython",
    "version": 3
   },
   "file_extension": ".py",
   "mimetype": "text/x-python",
   "name": "python",
   "nbconvert_exporter": "python",
   "pygments_lexer": "ipython3",
   "version": "3.8.8"
  }
 },
 "nbformat": 4,
 "nbformat_minor": 5
}
