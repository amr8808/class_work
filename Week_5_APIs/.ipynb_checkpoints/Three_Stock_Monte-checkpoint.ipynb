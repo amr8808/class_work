{
 "cells": [
  {
   "cell_type": "markdown",
   "metadata": {},
   "source": [
    "## Three Stock Monte\n",
    "\n",
    "This exercise tests your ability to retrieve stock price data using the Alpaca API and simulate multiple portfolio compositions using Monte Carlo Simulation."
   ]
  },
  {
   "cell_type": "markdown",
   "metadata": {},
   "source": [
    "### Import Dependencies"
   ]
  },
  {
   "cell_type": "code",
   "execution_count": 6,
   "metadata": {
    "tags": []
   },
   "outputs": [],
   "source": [
    "# Import libraries and dependencies\n",
    "import os\n",
    "import pandas as pd\n",
    "import alpaca_trade_api as tradeapi\n",
    "import numpy as np\n",
    "from MCForecastTools import MCSimulation"
   ]
  },
  {
   "cell_type": "code",
   "execution_count": 7,
   "metadata": {},
   "outputs": [
    {
     "data": {
      "text/plain": [
       "True"
      ]
     },
     "execution_count": 7,
     "metadata": {},
     "output_type": "execute_result"
    }
   ],
   "source": [
    "# Load .env enviroment variables\n",
    "from dotenv import load_dotenv\n",
    "load_dotenv()"
   ]
  },
  {
   "cell_type": "code",
   "execution_count": 8,
   "metadata": {
    "tags": []
   },
   "outputs": [],
   "source": [
    "# Set Alpaca API key and secret\n",
    "alpaca_api_key = os.getenv(\"ALPACA_API_KEY\")\n",
    "alpaca_secret_key = os.getenv(\"ALPACA_SECRET_KEY\")\n",
    "\n",
    "alpaca = tradeapi.REST(\n",
    "    alpaca_api_key,\n",
    "    alpaca_secret_key,\n",
    "    api_version = \"v2\"\n",
    ")"
   ]
  },
  {
   "cell_type": "markdown",
   "metadata": {},
   "source": [
    "### Get Past 5 Year's Worth of Stock Price Data via Alpaca API Call"
   ]
  },
  {
   "cell_type": "code",
   "execution_count": 10,
   "metadata": {},
   "outputs": [
    {
     "data": {
      "text/html": [
       "<div>\n",
       "<style scoped>\n",
       "    .dataframe tbody tr th:only-of-type {\n",
       "        vertical-align: middle;\n",
       "    }\n",
       "\n",
       "    .dataframe tbody tr th {\n",
       "        vertical-align: top;\n",
       "    }\n",
       "\n",
       "    .dataframe thead tr th {\n",
       "        text-align: left;\n",
       "    }\n",
       "\n",
       "    .dataframe thead tr:last-of-type th {\n",
       "        text-align: right;\n",
       "    }\n",
       "</style>\n",
       "<table border=\"1\" class=\"dataframe\">\n",
       "  <thead>\n",
       "    <tr>\n",
       "      <th></th>\n",
       "      <th colspan=\"5\" halign=\"left\">NKE</th>\n",
       "      <th colspan=\"5\" halign=\"left\">T</th>\n",
       "      <th colspan=\"5\" halign=\"left\">XOM</th>\n",
       "    </tr>\n",
       "    <tr>\n",
       "      <th></th>\n",
       "      <th>open</th>\n",
       "      <th>high</th>\n",
       "      <th>low</th>\n",
       "      <th>close</th>\n",
       "      <th>volume</th>\n",
       "      <th>open</th>\n",
       "      <th>high</th>\n",
       "      <th>low</th>\n",
       "      <th>close</th>\n",
       "      <th>volume</th>\n",
       "      <th>open</th>\n",
       "      <th>high</th>\n",
       "      <th>low</th>\n",
       "      <th>close</th>\n",
       "      <th>volume</th>\n",
       "    </tr>\n",
       "    <tr>\n",
       "      <th>time</th>\n",
       "      <th></th>\n",
       "      <th></th>\n",
       "      <th></th>\n",
       "      <th></th>\n",
       "      <th></th>\n",
       "      <th></th>\n",
       "      <th></th>\n",
       "      <th></th>\n",
       "      <th></th>\n",
       "      <th></th>\n",
       "      <th></th>\n",
       "      <th></th>\n",
       "      <th></th>\n",
       "      <th></th>\n",
       "      <th></th>\n",
       "    </tr>\n",
       "  </thead>\n",
       "  <tbody>\n",
       "    <tr>\n",
       "      <th>2019-12-09 00:00:00-05:00</th>\n",
       "      <td>97.02</td>\n",
       "      <td>97.630</td>\n",
       "      <td>96.160</td>\n",
       "      <td>96.62</td>\n",
       "      <td>4279199</td>\n",
       "      <td>38.12</td>\n",
       "      <td>38.43</td>\n",
       "      <td>38.030</td>\n",
       "      <td>38.040</td>\n",
       "      <td>14154699</td>\n",
       "      <td>69.08</td>\n",
       "      <td>69.97</td>\n",
       "      <td>69.02</td>\n",
       "      <td>69.66</td>\n",
       "      <td>9517065</td>\n",
       "    </tr>\n",
       "    <tr>\n",
       "      <th>2019-12-10 00:00:00-05:00</th>\n",
       "      <td>96.76</td>\n",
       "      <td>97.590</td>\n",
       "      <td>96.630</td>\n",
       "      <td>97.01</td>\n",
       "      <td>3511472</td>\n",
       "      <td>38.07</td>\n",
       "      <td>38.27</td>\n",
       "      <td>37.820</td>\n",
       "      <td>38.065</td>\n",
       "      <td>15573920</td>\n",
       "      <td>69.66</td>\n",
       "      <td>70.15</td>\n",
       "      <td>68.70</td>\n",
       "      <td>69.06</td>\n",
       "      <td>12660419</td>\n",
       "    </tr>\n",
       "    <tr>\n",
       "      <th>2019-12-11 00:00:00-05:00</th>\n",
       "      <td>96.90</td>\n",
       "      <td>97.320</td>\n",
       "      <td>96.650</td>\n",
       "      <td>97.16</td>\n",
       "      <td>3090237</td>\n",
       "      <td>38.02</td>\n",
       "      <td>38.25</td>\n",
       "      <td>38.000</td>\n",
       "      <td>38.170</td>\n",
       "      <td>15392941</td>\n",
       "      <td>68.74</td>\n",
       "      <td>69.76</td>\n",
       "      <td>68.67</td>\n",
       "      <td>68.95</td>\n",
       "      <td>10866871</td>\n",
       "    </tr>\n",
       "    <tr>\n",
       "      <th>2019-12-12 00:00:00-05:00</th>\n",
       "      <td>97.32</td>\n",
       "      <td>98.180</td>\n",
       "      <td>96.900</td>\n",
       "      <td>97.70</td>\n",
       "      <td>3780965</td>\n",
       "      <td>38.20</td>\n",
       "      <td>38.57</td>\n",
       "      <td>38.200</td>\n",
       "      <td>38.350</td>\n",
       "      <td>19654948</td>\n",
       "      <td>68.96</td>\n",
       "      <td>70.38</td>\n",
       "      <td>68.90</td>\n",
       "      <td>70.35</td>\n",
       "      <td>13653796</td>\n",
       "    </tr>\n",
       "    <tr>\n",
       "      <th>2019-12-13 00:00:00-05:00</th>\n",
       "      <td>97.43</td>\n",
       "      <td>98.290</td>\n",
       "      <td>96.910</td>\n",
       "      <td>97.77</td>\n",
       "      <td>4273117</td>\n",
       "      <td>38.21</td>\n",
       "      <td>38.28</td>\n",
       "      <td>37.950</td>\n",
       "      <td>38.245</td>\n",
       "      <td>17764283</td>\n",
       "      <td>70.48</td>\n",
       "      <td>70.54</td>\n",
       "      <td>69.12</td>\n",
       "      <td>69.22</td>\n",
       "      <td>10247029</td>\n",
       "    </tr>\n",
       "    <tr>\n",
       "      <th>...</th>\n",
       "      <td>...</td>\n",
       "      <td>...</td>\n",
       "      <td>...</td>\n",
       "      <td>...</td>\n",
       "      <td>...</td>\n",
       "      <td>...</td>\n",
       "      <td>...</td>\n",
       "      <td>...</td>\n",
       "      <td>...</td>\n",
       "      <td>...</td>\n",
       "      <td>...</td>\n",
       "      <td>...</td>\n",
       "      <td>...</td>\n",
       "      <td>...</td>\n",
       "      <td>...</td>\n",
       "    </tr>\n",
       "    <tr>\n",
       "      <th>2020-04-27 00:00:00-04:00</th>\n",
       "      <td>88.38</td>\n",
       "      <td>89.870</td>\n",
       "      <td>87.310</td>\n",
       "      <td>89.33</td>\n",
       "      <td>6204274</td>\n",
       "      <td>29.99</td>\n",
       "      <td>30.68</td>\n",
       "      <td>29.740</td>\n",
       "      <td>30.540</td>\n",
       "      <td>58376488</td>\n",
       "      <td>43.59</td>\n",
       "      <td>44.32</td>\n",
       "      <td>42.23</td>\n",
       "      <td>43.92</td>\n",
       "      <td>26955553</td>\n",
       "    </tr>\n",
       "    <tr>\n",
       "      <th>2020-04-28 00:00:00-04:00</th>\n",
       "      <td>90.55</td>\n",
       "      <td>90.710</td>\n",
       "      <td>88.630</td>\n",
       "      <td>88.81</td>\n",
       "      <td>4483633</td>\n",
       "      <td>31.00</td>\n",
       "      <td>31.12</td>\n",
       "      <td>30.615</td>\n",
       "      <td>30.650</td>\n",
       "      <td>55107142</td>\n",
       "      <td>44.37</td>\n",
       "      <td>45.39</td>\n",
       "      <td>44.11</td>\n",
       "      <td>44.98</td>\n",
       "      <td>24393001</td>\n",
       "    </tr>\n",
       "    <tr>\n",
       "      <th>2020-04-29 00:00:00-04:00</th>\n",
       "      <td>90.00</td>\n",
       "      <td>91.390</td>\n",
       "      <td>87.830</td>\n",
       "      <td>88.04</td>\n",
       "      <td>7944474</td>\n",
       "      <td>31.13</td>\n",
       "      <td>31.87</td>\n",
       "      <td>31.070</td>\n",
       "      <td>31.440</td>\n",
       "      <td>57547301</td>\n",
       "      <td>46.26</td>\n",
       "      <td>47.60</td>\n",
       "      <td>46.16</td>\n",
       "      <td>47.48</td>\n",
       "      <td>26882843</td>\n",
       "    </tr>\n",
       "    <tr>\n",
       "      <th>2020-04-30 00:00:00-04:00</th>\n",
       "      <td>87.00</td>\n",
       "      <td>88.000</td>\n",
       "      <td>86.505</td>\n",
       "      <td>87.18</td>\n",
       "      <td>6528373</td>\n",
       "      <td>31.00</td>\n",
       "      <td>31.05</td>\n",
       "      <td>30.280</td>\n",
       "      <td>30.450</td>\n",
       "      <td>63467447</td>\n",
       "      <td>47.68</td>\n",
       "      <td>47.68</td>\n",
       "      <td>45.77</td>\n",
       "      <td>46.40</td>\n",
       "      <td>28454300</td>\n",
       "    </tr>\n",
       "    <tr>\n",
       "      <th>2020-05-01 00:00:00-04:00</th>\n",
       "      <td>85.67</td>\n",
       "      <td>86.105</td>\n",
       "      <td>84.810</td>\n",
       "      <td>85.54</td>\n",
       "      <td>5357539</td>\n",
       "      <td>30.77</td>\n",
       "      <td>30.79</td>\n",
       "      <td>29.750</td>\n",
       "      <td>29.900</td>\n",
       "      <td>69100348</td>\n",
       "      <td>45.63</td>\n",
       "      <td>46.39</td>\n",
       "      <td>43.00</td>\n",
       "      <td>43.17</td>\n",
       "      <td>32688912</td>\n",
       "    </tr>\n",
       "  </tbody>\n",
       "</table>\n",
       "<p>100 rows × 15 columns</p>\n",
       "</div>"
      ],
      "text/plain": [
       "                             NKE                                      T  \\\n",
       "                            open    high     low  close   volume   open   \n",
       "time                                                                      \n",
       "2019-12-09 00:00:00-05:00  97.02  97.630  96.160  96.62  4279199  38.12   \n",
       "2019-12-10 00:00:00-05:00  96.76  97.590  96.630  97.01  3511472  38.07   \n",
       "2019-12-11 00:00:00-05:00  96.90  97.320  96.650  97.16  3090237  38.02   \n",
       "2019-12-12 00:00:00-05:00  97.32  98.180  96.900  97.70  3780965  38.20   \n",
       "2019-12-13 00:00:00-05:00  97.43  98.290  96.910  97.77  4273117  38.21   \n",
       "...                          ...     ...     ...    ...      ...    ...   \n",
       "2020-04-27 00:00:00-04:00  88.38  89.870  87.310  89.33  6204274  29.99   \n",
       "2020-04-28 00:00:00-04:00  90.55  90.710  88.630  88.81  4483633  31.00   \n",
       "2020-04-29 00:00:00-04:00  90.00  91.390  87.830  88.04  7944474  31.13   \n",
       "2020-04-30 00:00:00-04:00  87.00  88.000  86.505  87.18  6528373  31.00   \n",
       "2020-05-01 00:00:00-04:00  85.67  86.105  84.810  85.54  5357539  30.77   \n",
       "\n",
       "                                                              XOM         \\\n",
       "                            high     low   close    volume   open   high   \n",
       "time                                                                       \n",
       "2019-12-09 00:00:00-05:00  38.43  38.030  38.040  14154699  69.08  69.97   \n",
       "2019-12-10 00:00:00-05:00  38.27  37.820  38.065  15573920  69.66  70.15   \n",
       "2019-12-11 00:00:00-05:00  38.25  38.000  38.170  15392941  68.74  69.76   \n",
       "2019-12-12 00:00:00-05:00  38.57  38.200  38.350  19654948  68.96  70.38   \n",
       "2019-12-13 00:00:00-05:00  38.28  37.950  38.245  17764283  70.48  70.54   \n",
       "...                          ...     ...     ...       ...    ...    ...   \n",
       "2020-04-27 00:00:00-04:00  30.68  29.740  30.540  58376488  43.59  44.32   \n",
       "2020-04-28 00:00:00-04:00  31.12  30.615  30.650  55107142  44.37  45.39   \n",
       "2020-04-29 00:00:00-04:00  31.87  31.070  31.440  57547301  46.26  47.60   \n",
       "2020-04-30 00:00:00-04:00  31.05  30.280  30.450  63467447  47.68  47.68   \n",
       "2020-05-01 00:00:00-04:00  30.79  29.750  29.900  69100348  45.63  46.39   \n",
       "\n",
       "                                                   \n",
       "                             low  close    volume  \n",
       "time                                               \n",
       "2019-12-09 00:00:00-05:00  69.02  69.66   9517065  \n",
       "2019-12-10 00:00:00-05:00  68.70  69.06  12660419  \n",
       "2019-12-11 00:00:00-05:00  68.67  68.95  10866871  \n",
       "2019-12-12 00:00:00-05:00  68.90  70.35  13653796  \n",
       "2019-12-13 00:00:00-05:00  69.12  69.22  10247029  \n",
       "...                          ...    ...       ...  \n",
       "2020-04-27 00:00:00-04:00  42.23  43.92  26955553  \n",
       "2020-04-28 00:00:00-04:00  44.11  44.98  24393001  \n",
       "2020-04-29 00:00:00-04:00  46.16  47.48  26882843  \n",
       "2020-04-30 00:00:00-04:00  45.77  46.40  28454300  \n",
       "2020-05-01 00:00:00-04:00  43.00  43.17  32688912  \n",
       "\n",
       "[100 rows x 15 columns]"
      ]
     },
     "execution_count": 10,
     "metadata": {},
     "output_type": "execute_result"
    }
   ],
   "source": [
    "# Set timeframe to '1D'\n",
    "timeframe = \"1D\"\n",
    "\n",
    "# Set start and end datetimes between now and 5 years ago.\n",
    "start_date = pd.Timestamp(\"2015-05-01\", tz=\"America/New_York\").isoformat()\n",
    "end_date = pd.Timestamp(\"2020-05-01\", tz=\"America/New_York\").isoformat()\n",
    "\n",
    "# Set the ticker information\n",
    "tickers = [\"T\",\"NKE\",\"XOM\"]\n",
    "\n",
    "# Get 5 year's worth of historical price data\n",
    "df_ticker = alpaca.get_barset(\n",
    "    tickers,\n",
    "    timeframe,\n",
    "    start = start_date,\n",
    "    end = end_date\n",
    ").df\n",
    "\n",
    "# Display sample data\n",
    "df_ticker.sort_index()"
   ]
  },
  {
   "cell_type": "markdown",
   "metadata": {},
   "source": [
    "### Simulate five year portfolio growth with evenly-distributed stock investments"
   ]
  },
  {
   "cell_type": "code",
   "execution_count": null,
   "metadata": {},
   "outputs": [],
   "source": [
    "# Configure a Monte Carlo simulation to forecast five years cumulative returns\n",
    "MC_fiveyear = MCSimulation(\n",
    "    portfolio_data = df_ticker,\n",
    "    weights = [.333, .333, .333],\n",
    "    num_simulation = 1000,\n",
    "    num_trading_days = 252*5\n",
    ")\n"
   ]
  },
  {
   "cell_type": "code",
   "execution_count": null,
   "metadata": {},
   "outputs": [],
   "source": [
    "# Print the simulation input data\n",
    "MC_fiveyear.portfolio_data.head()"
   ]
  },
  {
   "cell_type": "code",
   "execution_count": null,
   "metadata": {},
   "outputs": [],
   "source": []
  },
  {
   "cell_type": "code",
   "execution_count": null,
   "metadata": {},
   "outputs": [],
   "source": [
    "# Run a Monte Carlo simulation to forecast five years cumulative returns\n",
    "MC_fiveyear.calc_cumulative_return()"
   ]
  },
  {
   "cell_type": "code",
   "execution_count": null,
   "metadata": {},
   "outputs": [],
   "source": [
    "# Plot simulation outcomes\n",
    "line_plot = MC_fiveyear.plot_simulation()\n"
   ]
  },
  {
   "cell_type": "code",
   "execution_count": null,
   "metadata": {},
   "outputs": [],
   "source": [
    "# Plot probability distribution and confidence intervals\n",
    "# YOUR CODE HERE!"
   ]
  },
  {
   "cell_type": "code",
   "execution_count": null,
   "metadata": {},
   "outputs": [],
   "source": [
    "# Fetch summary statistics from the Monte Carlo simulation results\n",
    "# YOUR CODE HERE!\n",
    "\n",
    "# Print summary statistics\n",
    "print(even_tbl)"
   ]
  },
  {
   "cell_type": "code",
   "execution_count": null,
   "metadata": {},
   "outputs": [],
   "source": [
    "# Use the lower and upper `95%` confidence intervals to calculate the range of the possible outcomes of our $15,000 investments stocks\n",
    "# YOUR CODE HERE!\n",
    "\n",
    "# Print results\n",
    "# YOUR CODE HERE!"
   ]
  },
  {
   "cell_type": "markdown",
   "metadata": {},
   "source": [
    "### Simulate five year portfolio growth with 60% AT&T stock"
   ]
  },
  {
   "cell_type": "code",
   "execution_count": null,
   "metadata": {},
   "outputs": [],
   "source": [
    "# Configure a Monte Carlo simulation to forecast five years cumulative returns with 60% AT&T stock\n",
    "# YOUR CODE HERE!\n",
    "\n",
    "# Print the simulation input data\n",
    "MC_att.portfolio_data.head()"
   ]
  },
  {
   "cell_type": "code",
   "execution_count": null,
   "metadata": {},
   "outputs": [],
   "source": [
    "# Run a Monte Carlo simulation to forecast five years cumulative returns with 60% AT&T stock\n",
    "# YOUR CODE HERE!"
   ]
  },
  {
   "cell_type": "code",
   "execution_count": null,
   "metadata": {},
   "outputs": [],
   "source": [
    "# Plot simulation outcomes\n",
    "# YOUR CODE HERE!"
   ]
  },
  {
   "cell_type": "code",
   "execution_count": null,
   "metadata": {},
   "outputs": [],
   "source": [
    "# Plot probability distribution and confidence intervals\n",
    "# YOUR CODE HERE!"
   ]
  },
  {
   "cell_type": "code",
   "execution_count": null,
   "metadata": {},
   "outputs": [],
   "source": [
    "# Fetch summary statistics from the Monte Carlo simulation results\n",
    "# YOUR CODE HERE!\n",
    "\n",
    "# Print summary statistics\n",
    "print(att_tbl)"
   ]
  },
  {
   "cell_type": "code",
   "execution_count": null,
   "metadata": {},
   "outputs": [],
   "source": [
    "# Use the lower and upper `95%` confidence intervals to calculate the range of the possible outcomes of our $15,000 investments\n",
    "# YOUR CODE HERE!\n",
    "\n",
    "# Print results\n",
    "# YOUR CODE HERE!"
   ]
  },
  {
   "cell_type": "markdown",
   "metadata": {},
   "source": [
    "### Simulate five year portfolio growth with 60% Nike stock"
   ]
  },
  {
   "cell_type": "code",
   "execution_count": null,
   "metadata": {},
   "outputs": [],
   "source": [
    "# Configure a Monte Carlo simulation to forecast five years cumulative returns with 60% Nike stock\n",
    "# YOUR CODE HERE!\n",
    "\n",
    "# Printing the simulation input data\n",
    "MC_nike.portfolio_data.head()"
   ]
  },
  {
   "cell_type": "code",
   "execution_count": null,
   "metadata": {},
   "outputs": [],
   "source": [
    "# Run a Monte Carlo simulation to forecast five years cumulative returns with 60% Nike stock\n",
    "# YOUR CODE HERE!"
   ]
  },
  {
   "cell_type": "code",
   "execution_count": null,
   "metadata": {},
   "outputs": [],
   "source": [
    "# Plot simulation outcomes\n",
    "# YOUR CODE HERE!"
   ]
  },
  {
   "cell_type": "code",
   "execution_count": null,
   "metadata": {},
   "outputs": [],
   "source": [
    "# Plot probability distribution and confidence intervals\n",
    "# YOUR CODE HERE!"
   ]
  },
  {
   "cell_type": "code",
   "execution_count": null,
   "metadata": {},
   "outputs": [],
   "source": [
    "# Fetch summary statistics from the Monte Carlo simulation results\n",
    "# YOUR CODE HERE!\n",
    "\n",
    "# Print summary statistics\n",
    "print(nike_tbl)"
   ]
  },
  {
   "cell_type": "code",
   "execution_count": null,
   "metadata": {},
   "outputs": [],
   "source": [
    "# Use the lower and upper `95%` confidence intervals to calculate the range of the possible outcomes of our $15,000 investments\n",
    "# YOUR CODE HERE!\n",
    "\n",
    "# Print results\n",
    "# YOUR CODE HERE!"
   ]
  },
  {
   "cell_type": "markdown",
   "metadata": {},
   "source": [
    "### Simulate five year portfolio growth with 60% Exxon stock"
   ]
  },
  {
   "cell_type": "code",
   "execution_count": null,
   "metadata": {},
   "outputs": [],
   "source": [
    "# Configuring a Monte Carlo simulation to forecast five years cumulative returns\n",
    "# YOUR CODE HERE!\n",
    "\n",
    "# Printing the simulation input data\n",
    "MC_exxon.portfolio_data"
   ]
  },
  {
   "cell_type": "code",
   "execution_count": null,
   "metadata": {},
   "outputs": [],
   "source": [
    "# Run a Monte Carlo simulation to forecast five years cumulative returns with 60% Exxon stock\n",
    "# YOUR CODE HERE!"
   ]
  },
  {
   "cell_type": "code",
   "execution_count": null,
   "metadata": {},
   "outputs": [],
   "source": [
    "# Plot simulation outcomes\n",
    "# YOUR CODE HERE!"
   ]
  },
  {
   "cell_type": "code",
   "execution_count": null,
   "metadata": {},
   "outputs": [],
   "source": [
    "# Plot probability distribution and confidence intervals\n",
    "# YOUR CODE HERE!"
   ]
  },
  {
   "cell_type": "code",
   "execution_count": null,
   "metadata": {},
   "outputs": [],
   "source": [
    "# Fetch summary statistics from the Monte Carlo simulation results\n",
    "# YOUR CODE HERE!\n",
    "\n",
    "# Print summary statistics\n",
    "print(exxon_tbl)"
   ]
  },
  {
   "cell_type": "code",
   "execution_count": null,
   "metadata": {},
   "outputs": [],
   "source": [
    "# Use the lower and upper `95%` confidence intervals to calculate the range of the possible outcomes of our $15,000 investments\n",
    "# YOUR CODE HERE!\n",
    "\n",
    "# Print results\n",
    "# YOUR CODE HERE!"
   ]
  },
  {
   "cell_type": "markdown",
   "metadata": {},
   "source": [
    "### Summarize findings across all 4 simulations"
   ]
  },
  {
   "cell_type": "markdown",
   "metadata": {},
   "source": [
    "YOUR ANSWER HERE!"
   ]
  }
 ],
 "metadata": {
  "kernel_info": {
   "name": "python3"
  },
  "kernelspec": {
   "display_name": "Python 3 (ipykernel)",
   "language": "python",
   "name": "python3"
  },
  "language_info": {
   "codemirror_mode": {
    "name": "ipython",
    "version": 3
   },
   "file_extension": ".py",
   "mimetype": "text/x-python",
   "name": "python",
   "nbconvert_exporter": "python",
   "pygments_lexer": "ipython3",
   "version": "3.8.8"
  },
  "nteract": {
   "version": "0.12.3"
  }
 },
 "nbformat": 4,
 "nbformat_minor": 4
}
